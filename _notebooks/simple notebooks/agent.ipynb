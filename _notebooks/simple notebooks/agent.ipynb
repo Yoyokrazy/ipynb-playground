{
 "cells": [
  {
   "cell_type": "code",
   "execution_count": null,
   "id": "d5468abe",
   "metadata": {},
   "outputs": [],
   "source": [
    "# Importing necessary libraries\n",
    "import math\n",
    "import os\n",
    "import sys"
   ]
  },
  {
   "cell_type": "code",
   "execution_count": null,
   "id": "44db291e",
   "metadata": {},
   "outputs": [],
   "source": [
    "# Defining variables\n",
    "a = 10\n",
    "b = 20\n",
    "c = a + b\n",
    "print(f'Addition of {{a}} and {{b}} gives {{c}}')"
   ]
  },
  {
   "cell_type": "code",
   "execution_count": null,
   "id": "a75626b2",
   "metadata": {},
   "outputs": [],
   "source": [
    "# Defining a function\n",
    "def greet(name):\n",
    "    return f'Hello, {name}!'\n",
    "\n",
    "print(greet('World'))"
   ]
  },
  {
   "cell_type": "code",
   "execution_count": null,
   "id": "0ab21436",
   "metadata": {},
   "outputs": [],
   "source": [
    "# Using loops\n",
    "for i in range(5):\n",
    "    print(i)"
   ]
  },
  {
   "cell_type": "code",
   "execution_count": null,
   "id": "dfb15f76",
   "metadata": {},
   "outputs": [],
   "source": [
    "# Using conditionals\n",
    "if a > b:\n",
    "    print(f'{a} is greater than {b}')\n",
    "else:\n",
    "    print(f'{a} is not greater than {b}')"
   ]
  }
 ],
 "metadata": {
  "language_info": {
   "name": "python"
  }
 },
 "nbformat": 4,
 "nbformat_minor": 5
}