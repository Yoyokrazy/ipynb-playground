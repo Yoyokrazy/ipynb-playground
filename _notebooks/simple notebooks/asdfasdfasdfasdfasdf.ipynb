{
 "cells": [
  {
   "cell_type": "markdown",
   "metadata": {},
   "source": [
    "# Fibonacci Sequence Generator\n",
    "\n",
    "This notebook demonstrates how to generate the Fibonacci sequence using Python."
   ]
  },
  {
   "cell_type": "code",
   "execution_count": null,
   "metadata": {},
   "outputs": [],
   "source": [
    "# Fibonacci sequence - first 10 iterations\n",
    "def fibonacci(n):\n",
    "    fib_sequence = [0, 1]\n",
    "\n",
    "    for i in range(2, n):\n",
    "        fib_sequence.append(fib_sequence[i-1] + fib_sequence[i-2])\n",
    "\n",
    "    return fib_sequence\n",
    "\n",
    "# Generate first 10 Fibonacci numbers\n",
    "fib_nums = fibonacci(10)\n",
    "\n",
    "# Print the sequence\n",
    "print(\"Fibonacci Sequence (10 iterations):\")\n",
    "print(fib_nums)"
   ]
  }
 ],
 "metadata": {
  "language_info": {
   "name": "python"
  }
 },
 "nbformat": 4,
 "nbformat_minor": 2
}
