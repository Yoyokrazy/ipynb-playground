{
    "cells": [
     {
      "cell_type": "markdown",
      "metadata": {},
      "source": [
       "# Header 1\n",
       "## Header 2\n",
       "### Header 3"
      ]
     },
     {
      "cell_type": "code",
      "execution_count": null,
      "metadata": {},
      "outputs": [],
      "source": [
       "print(\"Hello World\")"
      ]
     },
     {
      "cell_type": "markdown",
      "metadata": {},
      "source": [
       "# Header 1\n",
       "## Header 2\n",
       "### Header 3"
      ]
     },
     {
      "cell_type": "markdown",
      "metadata": {},
      "source": [
       "# Header 1\n",
       "## Header 2\n",
       "### Header 3"
      ]
     },
     {
      "cell_type": "markdown",
      "metadata": {},
      "source": [
       "# Header 1\n",
       "## Header 2\n",
       "### Header 3"
      ]
     },
     {
      "cell_type": "markdown",
      "metadata": {},
      "source": [
       "# Header 1\n",
       "## Header 2\n",
       "### Header 3"
      ]
     },
     {
      "cell_type": "markdown",
      "metadata": {},
      "source": [
       "# Header 1\n",
       "## Header 2\n",
       "### Header 3"
      ]
     },
     {
      "cell_type": "markdown",
      "metadata": {},
      "source": [
       "# Header 1\n",
       "## Header 2\n",
       "### Header 3"
      ]
     },
     {
      "cell_type": "markdown",
      "metadata": {},
      "source": [
       "# Header 1\n",
       "## Header 2\n",
       "### Header 3"
      ]
     },
     {
      "cell_type": "markdown",
      "metadata": {},
      "source": [
       "# Header 1\n",
       "## Header 2\n",
       "### Header 3"
      ]
     },
     {
      "cell_type": "markdown",
      "metadata": {},
      "source": [
       "# Header 1\n",
       "## Header 2\n",
       "### Header 3"
      ]
     },
     {
      "cell_type": "markdown",
      "metadata": {},
      "source": [
       "# Header 1\n",
       "## Header 2\n",
       "### Header 3"
      ]
     },
     {
      "cell_type": "markdown",
      "metadata": {},
      "source": [
       "# Header 1\n",
       "## Header 2\n",
       "### Header 3"
      ]
     },
     {
      "cell_type": "markdown",
      "metadata": {},
      "source": [
       "# Header 1\n",
       "## Header 2\n",
       "### Header 3"
      ]
     },
     {
      "cell_type": "markdown",
      "metadata": {},
      "source": [
       "# Header 1\n",
       "## Header 2\n",
       "### Header 3"
      ]
     },
     {
      "cell_type": "markdown",
      "metadata": {},
      "source": [
       "# Header 1\n",
       "## Header 2\n",
       "### Header 3"
      ]
     },
     {
      "cell_type": "markdown",
      "metadata": {},
      "source": [
       "# Header 1\n",
       "## Header 2\n",
       "### Header 3"
      ]
     },
     {
      "cell_type": "markdown",
      "metadata": {},
      "source": [
       "# Header 1\n",
       "## Header 2\n",
       "### Header 3"
      ]
     },
     {
      "cell_type": "markdown",
      "metadata": {},
      "source": [
       "# Header 1\n",
       "## Header 2\n",
       "### Header 3"
      ]
     },
     {
      "cell_type": "markdown",
      "metadata": {},
      "source": [
       "# Header 1\n",
       "## Header 2\n",
       "### Header 3"
      ]
     },
     {
      "cell_type": "markdown",
      "metadata": {},
      "source": [
       "# Header 1\n",
       "## Header 2\n",
       "### Header 3"
      ]
     },
     {
      "cell_type": "markdown",
      "metadata": {},
      "source": [
       "# Header 1\n",
       "## Header 2\n",
       "### Header 3"
      ]
     },
     {
      "cell_type": "markdown",
      "metadata": {},
      "source": [
       "# Header 1\n",
       "## Header 2\n",
       "### Header 3"
      ]
     },
     {
      "cell_type": "markdown",
      "metadata": {},
      "source": [
       "# Header 1\n",
       "## Header 2\n",
       "### Header 3"
      ]
     },
     {
      "cell_type": "markdown",
      "metadata": {},
      "source": [
       "# Header 1\n",
       "## Header 2\n",
       "### Header 3"
      ]
     },
     {
      "cell_type": "markdown",
      "metadata": {},
      "source": [
       "# Header 1\n",
       "## Header 2\n",
       "### Header 3"
      ]
     },
     {
      "cell_type": "markdown",
      "metadata": {},
      "source": [
       "# Header 1\n",
       "## Header 2\n",
       "### Header 3"
      ]
     },
     {
      "cell_type": "markdown",
      "metadata": {},
      "source": [
       "# Header 1\n",
       "## Header 2\n",
       "### Header 3"
      ]
     },
     {
      "cell_type": "markdown",
      "metadata": {},
      "source": [
       "# Header 1\n",
       "## Header 2\n",
       "### Header 3"
      ]
     },
     {
      "cell_type": "markdown",
      "metadata": {},
      "source": [
       "# Header 1\n",
       "## Header 2\n",
       "### Header 3"
      ]
     },
     {
      "cell_type": "markdown",
      "metadata": {},
      "source": [
       "# Header 1\n",
       "## Header 2\n",
       "### Header 3"
      ]
     },
     {
      "cell_type": "markdown",
      "metadata": {},
      "source": [
       "# Header 1\n",
       "## Header 2\n",
       "### Header 3"
      ]
     },
     {
      "cell_type": "markdown",
      "metadata": {},
      "source": [
       "# Header 1\n",
       "## Header 2\n",
       "### Header 3"
      ]
     },
     {
      "cell_type": "markdown",
      "metadata": {},
      "source": [
       "# Header 1\n",
       "## Header 2\n",
       "### Header 3"
      ]
     },
     {
      "cell_type": "markdown",
      "metadata": {},
      "source": [
       "# Header 1\n",
       "## Header 2\n",
       "### Header 3"
      ]
     },
     {
      "cell_type": "markdown",
      "metadata": {},
      "source": [
       "# Header 1\n",
       "## Header 2\n",
       "### Header 3"
      ]
     },
     {
      "cell_type": "markdown",
      "metadata": {},
      "source": [
       "# Header 1\n",
       "## Header 2\n",
       "### Header 3"
      ]
     },
     {
      "cell_type": "markdown",
      "metadata": {},
      "source": [
       "# Header 1\n",
       "## Header 2\n",
       "### Header 3"
      ]
     },
     {
      "cell_type": "markdown",
      "metadata": {},
      "source": [
       "# Header 1\n",
       "## Header 2\n",
       "### Header 3"
      ]
     },
     {
      "cell_type": "markdown",
      "metadata": {},
      "source": [
       "# Header 1\n",
       "## Header 2\n",
       "### Header 3"
      ]
     },
     {
      "cell_type": "markdown",
      "metadata": {},
      "source": [
       "# Header 1\n",
       "## Header 2\n",
       "### Header 3"
      ]
     },
     {
      "cell_type": "markdown",
      "metadata": {},
      "source": [
       "# Header 1\n",
       "## Header 2\n",
       "### Header 3"
      ]
     },
     {
      "cell_type": "markdown",
      "metadata": {},
      "source": [
       "# Header 1\n",
       "## Header 2\n",
       "### Header 3"
      ]
     },
     {
      "cell_type": "markdown",
      "metadata": {},
      "source": [
       "# Header 1\n",
       "## Header 2\n",
       "### Header 3"
      ]
     },
     {
      "cell_type": "markdown",
      "metadata": {},
      "source": [
       "# Header 1\n",
       "## Header 2\n",
       "### Header 3"
      ]
     },
     {
      "cell_type": "markdown",
      "metadata": {},
      "source": [
       "# Header 1\n",
       "## Header 2\n",
       "### Header 3"
      ]
     },
     {
      "cell_type": "markdown",
      "metadata": {},
      "source": [
       "# Header 1\n",
       "## Header 2\n",
       "### Header 3"
      ]
     },
     {
      "cell_type": "markdown",
      "metadata": {},
      "source": [
       "# Header 1\n",
       "## Header 2\n",
       "### Header 3"
      ]
     },
     {
      "cell_type": "markdown",
      "metadata": {},
      "source": [
       "# Header 1\n",
       "## Header 2\n",
       "### Header 3"
      ]
     },
     {
      "cell_type": "markdown",
      "metadata": {},
      "source": [
       "# Header 1\n",
       "## Header 2\n",
       "### Header 3"
      ]
     },
     {
      "cell_type": "markdown",
      "metadata": {},
      "source": [
       "# Header 1\n",
       "## Header 2\n",
       "### Header 3"
      ]
     },
     {
      "cell_type": "markdown",
      "metadata": {},
      "source": [
       "# Header 1\n",
       "## Header 2\n",
       "### Header 3"
      ]
     },
     {
      "cell_type": "markdown",
      "metadata": {},
      "source": [
       "# Header 1\n",
       "## Header 2\n",
       "### Header 3"
      ]
     },
     {
      "cell_type": "markdown",
      "metadata": {},
      "source": [
       "# Header 1\n",
       "## Header 2\n",
       "### Header 3"
      ]
     },
     {
      "cell_type": "markdown",
      "metadata": {},
      "source": [
       "# Header 1\n",
       "## Header 2\n",
       "### Header 3"
      ]
     },
     {
      "cell_type": "markdown",
      "metadata": {},
      "source": [
       "# Header 1\n",
       "## Header 2\n",
       "### Header 3"
      ]
     },
     {
      "cell_type": "markdown",
      "metadata": {},
      "source": [
       "# Header 1\n",
       "## Header 2\n",
       "### Header 3"
      ]
     },
     {
      "cell_type": "markdown",
      "metadata": {},
      "source": [
       "# Header 1\n",
       "## Header 2\n",
       "### Header 3"
      ]
     },
     {
      "cell_type": "markdown",
      "metadata": {},
      "source": [
       "# Header 1\n",
       "## Header 2\n",
       "### Header 3"
      ]
     },
     {
      "cell_type": "markdown",
      "metadata": {},
      "source": [
       "# Header 1\n",
       "## Header 2\n",
       "### Header 3"
      ]
     },
     {
      "cell_type": "markdown",
      "metadata": {},
      "source": [
       "# Header 1\n",
       "## Header 2\n",
       "### Header 3"
      ]
     },
     {
      "cell_type": "markdown",
      "metadata": {},
      "source": [
       "# Header 1\n",
       "## Header 2\n",
       "### Header 3"
      ]
     },
     {
      "cell_type": "markdown",
      "metadata": {},
      "source": [
       "# Header 1\n",
       "## Header 2\n",
       "### Header 3"
      ]
     },
     {
      "cell_type": "markdown",
      "metadata": {},
      "source": [
       "# Header 1\n",
       "## Header 2\n",
       "### Header 3"
      ]
     },
     {
      "cell_type": "markdown",
      "metadata": {},
      "source": [
       "# Header 1\n",
       "## Header 2\n",
       "### Header 3"
      ]
     },
     {
      "cell_type": "markdown",
      "metadata": {},
      "source": [
       "# Header 1\n",
       "## Header 2\n",
       "### Header 3"
      ]
     },
     {
      "cell_type": "markdown",
      "metadata": {},
      "source": [
       "# Header 1\n",
       "## Header 2\n",
       "### Header 3"
      ]
     },
     {
      "cell_type": "markdown",
      "metadata": {},
      "source": [
       "# Header 1\n",
       "## Header 2\n",
       "### Header 3"
      ]
     },
     {
      "cell_type": "markdown",
      "metadata": {},
      "source": [
       "# Header 1\n",
       "## Header 2\n",
       "### Header 3"
      ]
     },
     {
      "cell_type": "markdown",
      "metadata": {},
      "source": [
       "# Header 1\n",
       "## Header 2\n",
       "### Header 3"
      ]
     },
     {
      "cell_type": "markdown",
      "metadata": {},
      "source": [
       "# Header 1\n",
       "## Header 2\n",
       "### Header 3"
      ]
     },
     {
      "cell_type": "markdown",
      "metadata": {},
      "source": [
       "# Header 1\n",
       "## Header 2\n",
       "### Header 3"
      ]
     },
     {
      "cell_type": "markdown",
      "metadata": {},
      "source": [
       "# Header 1\n",
       "## Header 2\n",
       "### Header 3"
      ]
     },
     {
      "cell_type": "markdown",
      "metadata": {},
      "source": [
       "# Header 1\n",
       "## Header 2\n",
       "### Header 3"
      ]
     },
     {
      "cell_type": "markdown",
      "metadata": {},
      "source": [
       "# Header 1\n",
       "## Header 2\n",
       "### Header 3"
      ]
     },
     {
      "cell_type": "markdown",
      "metadata": {},
      "source": [
       "# Header 1\n",
       "## Header 2\n",
       "### Header 3"
      ]
     },
     {
      "cell_type": "markdown",
      "metadata": {},
      "source": [
       "# Header 1\n",
       "## Header 2\n",
       "### Header 3"
      ]
     },
     {
      "cell_type": "markdown",
      "metadata": {},
      "source": [
       "# Header 1\n",
       "## Header 2\n",
       "### Header 3"
      ]
     },
     {
      "cell_type": "markdown",
      "metadata": {},
      "source": [
       "# Header 1\n",
       "## Header 2\n",
       "### Header 3"
      ]
     },
     {
      "cell_type": "markdown",
      "metadata": {},
      "source": [
       "# Header 1\n",
       "## Header 2\n",
       "### Header 3"
      ]
     },
     {
      "cell_type": "markdown",
      "metadata": {},
      "source": [
       "# Header 1\n",
       "## Header 2\n",
       "### Header 3"
      ]
     },
     {
      "cell_type": "markdown",
      "metadata": {},
      "source": [
       "# Header 1\n",
       "## Header 2\n",
       "### Header 3"
      ]
     },
     {
      "cell_type": "markdown",
      "metadata": {},
      "source": [
       "# Header 1\n",
       "## Header 2\n",
       "### Header 3"
      ]
     },
     {
      "cell_type": "markdown",
      "metadata": {},
      "source": [
       "# Header 1\n",
       "## Header 2\n",
       "### Header 3"
      ]
     },
     {
      "cell_type": "markdown",
      "metadata": {},
      "source": [
       "# Header 1\n",
       "## Header 2\n",
       "### Header 3"
      ]
     },
     {
      "cell_type": "markdown",
      "metadata": {},
      "source": [
       "# Header 1\n",
       "## Header 2\n",
       "### Header 3"
      ]
     },
     {
      "cell_type": "markdown",
      "metadata": {},
      "source": [
       "# Header 1\n",
       "## Header 2\n",
       "### Header 3"
      ]
     },
     {
      "cell_type": "markdown",
      "metadata": {},
      "source": [
       "# Header 1\n",
       "## Header 2\n",
       "### Header 3"
      ]
     },
     {
      "cell_type": "markdown",
      "metadata": {},
      "source": [
       "# Header 1\n",
       "## Header 2\n",
       "### Header 3"
      ]
     },
     {
      "cell_type": "markdown",
      "metadata": {},
      "source": [
       "# Header 1\n",
       "## Header 2\n",
       "### Header 3"
      ]
     },
     {
      "cell_type": "markdown",
      "metadata": {},
      "source": [
       "# Header 1\n",
       "## Header 2\n",
       "### Header 3"
      ]
     },
     {
      "cell_type": "markdown",
      "metadata": {},
      "source": [
       "# Header 1\n",
       "## Header 2\n",
       "### Header 3"
      ]
     },
     {
      "cell_type": "markdown",
      "metadata": {},
      "source": [
       "# Header 1\n",
       "## Header 2\n",
       "### Header 3"
      ]
     },
     {
      "cell_type": "markdown",
      "metadata": {},
      "source": [
       "# Header 1\n",
       "## Header 2\n",
       "### Header 3"
      ]
     },
     {
      "cell_type": "markdown",
      "metadata": {},
      "source": [
       "# Header 1\n",
       "## Header 2\n",
       "### Header 3"
      ]
     },
     {
      "cell_type": "markdown",
      "metadata": {},
      "source": [
       "# Header 1\n",
       "## Header 2\n",
       "### Header 3"
      ]
     },
     {
      "cell_type": "markdown",
      "metadata": {},
      "source": [
       "# Header 1\n",
       "## Header 2\n",
       "### Header 3"
      ]
     },
     {
      "cell_type": "markdown",
      "metadata": {},
      "source": [
       "# Header 1\n",
       "## Header 2\n",
       "### Header 3"
      ]
     },
     {
      "cell_type": "markdown",
      "metadata": {},
      "source": [
       "# Header 1\n",
       "## Header 2\n",
       "### Header 3"
      ]
     },
     {
      "cell_type": "markdown",
      "metadata": {},
      "source": [
       "# Header 1\n",
       "## Header 2\n",
       "### Header 3"
      ]
     },
     {
      "cell_type": "markdown",
      "metadata": {},
      "source": [
       "# Header 1\n",
       "## Header 2\n",
       "### Header 3"
      ]
     },
     {
      "cell_type": "markdown",
      "metadata": {},
      "source": [
       "# Header 1\n",
       "## Header 2\n",
       "### Header 3"
      ]
     },
     {
      "cell_type": "markdown",
      "metadata": {},
      "source": [
       "# Header 1\n",
       "## Header 2\n",
       "### Header 3"
      ]
     },
     {
      "cell_type": "markdown",
      "metadata": {},
      "source": [
       "# Header 1\n",
       "## Header 2\n",
       "### Header 3"
      ]
     },
     {
      "cell_type": "markdown",
      "metadata": {},
      "source": [
       "# Header 1\n",
       "## Header 2\n",
       "### Header 3"
      ]
     },
     {
      "cell_type": "markdown",
      "metadata": {},
      "source": [
       "# Header 1\n",
       "## Header 2\n",
       "### Header 3"
      ]
     },
     {
      "cell_type": "markdown",
      "metadata": {},
      "source": [
       "# Header 1\n",
       "## Header 2\n",
       "### Header 3"
      ]
     },
     {
      "cell_type": "markdown",
      "metadata": {},
      "source": [
       "# Header 1\n",
       "## Header 2\n",
       "### Header 3"
      ]
     },
     {
      "cell_type": "markdown",
      "metadata": {},
      "source": [
       "# Header 1\n",
       "## Header 2\n",
       "### Header 3"
      ]
     },
     {
      "cell_type": "markdown",
      "metadata": {},
      "source": [
       "# Header 1\n",
       "## Header 2\n",
       "### Header 3"
      ]
     },
     {
      "cell_type": "markdown",
      "metadata": {},
      "source": [
       "# Header 1\n",
       "## Header 2\n",
       "### Header 3"
      ]
     },
     {
      "cell_type": "markdown",
      "metadata": {},
      "source": [
       "# Header 1\n",
       "## Header 2\n",
       "### Header 3"
      ]
     },
     {
      "cell_type": "markdown",
      "metadata": {},
      "source": [
       "# Header 1\n",
       "## Header 2\n",
       "### Header 3"
      ]
     },
     {
      "cell_type": "markdown",
      "metadata": {},
      "source": [
       "# Header 1\n",
       "## Header 2\n",
       "### Header 3"
      ]
     },
     {
      "cell_type": "markdown",
      "metadata": {},
      "source": [
       "# Header 1\n",
       "## Header 2\n",
       "### Header 3"
      ]
     },
     {
      "cell_type": "markdown",
      "metadata": {},
      "source": [
       "# Header 1\n",
       "## Header 2\n",
       "### Header 3"
      ]
     },
     {
      "cell_type": "markdown",
      "metadata": {},
      "source": [
       "# Header 1\n",
       "## Header 2\n",
       "### Header 3"
      ]
     },
     {
      "cell_type": "markdown",
      "metadata": {},
      "source": [
       "# Header 1\n",
       "## Header 2\n",
       "### Header 3"
      ]
     },
     {
      "cell_type": "markdown",
      "metadata": {},
      "source": [
       "# Header 1\n",
       "## Header 2\n",
       "### Header 3"
      ]
     },
     {
      "cell_type": "markdown",
      "metadata": {},
      "source": [
       "# Header 1\n",
       "## Header 2\n",
       "### Header 3"
      ]
     },
     {
      "cell_type": "markdown",
      "metadata": {},
      "source": [
       "# Header 1\n",
       "## Header 2\n",
       "### Header 3"
      ]
     },
     {
      "cell_type": "markdown",
      "metadata": {},
      "source": [
       "# Header 1\n",
       "## Header 2\n",
       "### Header 3"
      ]
     },
     {
      "cell_type": "markdown",
      "metadata": {},
      "source": [
       "# Header 1\n",
       "## Header 2\n",
       "### Header 3"
      ]
     },
     {
      "cell_type": "markdown",
      "metadata": {},
      "source": [
       "# Header 1\n",
       "## Header 2\n",
       "### Header 3"
      ]
     },
     {
      "cell_type": "markdown",
      "metadata": {},
      "source": [
       "# Header 1\n",
       "## Header 2\n",
       "### Header 3"
      ]
     },
     {
      "cell_type": "markdown",
      "metadata": {},
      "source": [
       "# Header 1\n",
       "## Header 2\n",
       "### Header 3"
      ]
     },
     {
      "cell_type": "markdown",
      "metadata": {},
      "source": [
       "# Header 1\n",
       "## Header 2\n",
       "### Header 3"
      ]
     },
     {
      "cell_type": "markdown",
      "metadata": {},
      "source": [
       "# Header 1\n",
       "## Header 2\n",
       "### Header 3"
      ]
     },
     {
      "cell_type": "markdown",
      "metadata": {},
      "source": [
       "# Header 1\n",
       "## Header 2\n",
       "### Header 3"
      ]
     },
     {
      "cell_type": "markdown",
      "metadata": {},
      "source": [
       "# Header 1\n",
       "## Header 2\n",
       "### Header 3"
      ]
     },
     {
      "cell_type": "markdown",
      "metadata": {},
      "source": [
       "# Header 1\n",
       "## Header 2\n",
       "### Header 3"
      ]
     },
     {
      "cell_type": "markdown",
      "metadata": {},
      "source": [
       "# Header 1\n",
       "## Header 2\n",
       "### Header 3"
      ]
     },
     {
      "cell_type": "markdown",
      "metadata": {},
      "source": [
       "# Header 1\n",
       "## Header 2\n",
       "### Header 3"
      ]
     },
     {
      "cell_type": "markdown",
      "metadata": {},
      "source": [
       "# Header 1\n",
       "## Header 2\n",
       "### Header 3"
      ]
     },
     {
      "cell_type": "markdown",
      "metadata": {},
      "source": [
       "# Header 1\n",
       "## Header 2\n",
       "### Header 3"
      ]
     },
     {
      "cell_type": "markdown",
      "metadata": {},
      "source": [
       "# Header 1\n",
       "## Header 2\n",
       "### Header 3"
      ]
     },
     {
      "cell_type": "markdown",
      "metadata": {},
      "source": [
       "# Header 1\n",
       "## Header 2\n",
       "### Header 3"
      ]
     },
     {
      "cell_type": "markdown",
      "metadata": {},
      "source": [
       "# Header 1\n",
       "## Header 2\n",
       "### Header 3"
      ]
     },
     {
      "cell_type": "markdown",
      "metadata": {},
      "source": [
       "# Header 1\n",
       "## Header 2\n",
       "### Header 3"
      ]
     },
     {
      "cell_type": "markdown",
      "metadata": {},
      "source": [
       "# Header 1\n",
       "## Header 2\n",
       "### Header 3"
      ]
     },
     {
      "cell_type": "markdown",
      "metadata": {},
      "source": [
       "# Header 1\n",
       "## Header 2\n",
       "### Header 3"
      ]
     },
     {
      "cell_type": "markdown",
      "metadata": {},
      "source": [
       "# Header 1\n",
       "## Header 2\n",
       "### Header 3"
      ]
     },
     {
      "cell_type": "markdown",
      "metadata": {},
      "source": [
       "# Header 1\n",
       "## Header 2\n",
       "### Header 3"
      ]
     },
     {
      "cell_type": "markdown",
      "metadata": {},
      "source": [
       "# Header 1\n",
       "## Header 2\n",
       "### Header 3"
      ]
     },
     {
      "cell_type": "markdown",
      "metadata": {},
      "source": [
       "# Header 1\n",
       "## Header 2\n",
       "### Header 3"
      ]
     },
     {
      "cell_type": "markdown",
      "metadata": {},
      "source": [
       "# Header 1\n",
       "## Header 2\n",
       "### Header 3"
      ]
     },
     {
      "cell_type": "markdown",
      "metadata": {},
      "source": [
       "# Header 1\n",
       "## Header 2\n",
       "### Header 3"
      ]
     },
     {
      "cell_type": "markdown",
      "metadata": {},
      "source": [
       "# Header 1\n",
       "## Header 2\n",
       "### Header 3"
      ]
     },
     {
      "cell_type": "markdown",
      "metadata": {},
      "source": [
       "# Header 1\n",
       "## Header 2\n",
       "### Header 3"
      ]
     },
     {
      "cell_type": "markdown",
      "metadata": {},
      "source": [
       "# Header 1\n",
       "## Header 2\n",
       "### Header 3"
      ]
     },
     {
      "cell_type": "markdown",
      "metadata": {},
      "source": [
       "# Header 1\n",
       "## Header 2\n",
       "### Header 3"
      ]
     },
     {
      "cell_type": "markdown",
      "metadata": {},
      "source": [
       "# Header 1\n",
       "## Header 2\n",
       "### Header 3"
      ]
     },
     {
      "cell_type": "markdown",
      "metadata": {},
      "source": [
       "# Header 1\n",
       "## Header 2\n",
       "### Header 3"
      ]
     },
     {
      "cell_type": "markdown",
      "metadata": {},
      "source": [
       "# Header 1\n",
       "## Header 2\n",
       "### Header 3"
      ]
     },
     {
      "cell_type": "markdown",
      "metadata": {},
      "source": [
       "# Header 1\n",
       "## Header 2\n",
       "### Header 3"
      ]
     },
     {
      "cell_type": "markdown",
      "metadata": {},
      "source": [
       "# Header 1\n",
       "## Header 2\n",
       "### Header 3"
      ]
     },
     {
      "cell_type": "markdown",
      "metadata": {},
      "source": [
       "# Header 1\n",
       "## Header 2\n",
       "### Header 3"
      ]
     },
     {
      "cell_type": "markdown",
      "metadata": {},
      "source": [
       "# Header 1\n",
       "## Header 2\n",
       "### Header 3"
      ]
     },
     {
      "cell_type": "markdown",
      "metadata": {},
      "source": [
       "# Header 1\n",
       "## Header 2\n",
       "### Header 3"
      ]
     },
     {
      "cell_type": "markdown",
      "metadata": {},
      "source": [
       "# Header 1\n",
       "## Header 2\n",
       "### Header 3"
      ]
     },
     {
      "cell_type": "markdown",
      "metadata": {},
      "source": [
       "# Header 1\n",
       "## Header 2\n",
       "### Header 3"
      ]
     },
     {
      "cell_type": "markdown",
      "metadata": {},
      "source": [
       "# Header 1\n",
       "## Header 2\n",
       "### Header 3"
      ]
     },
     {
      "cell_type": "markdown",
      "metadata": {},
      "source": [
       "# Header 1\n",
       "## Header 2\n",
       "### Header 3"
      ]
     },
     {
      "cell_type": "markdown",
      "metadata": {},
      "source": [
       "# Header 1\n",
       "## Header 2\n",
       "### Header 3"
      ]
     },
     {
      "cell_type": "markdown",
      "metadata": {},
      "source": [
       "# Header 1\n",
       "## Header 2\n",
       "### Header 3"
      ]
     },
     {
      "cell_type": "markdown",
      "metadata": {},
      "source": [
       "# Header 1\n",
       "## Header 2\n",
       "### Header 3"
      ]
     },
     {
      "cell_type": "markdown",
      "metadata": {},
      "source": [
       "# Header 1\n",
       "## Header 2\n",
       "### Header 3"
      ]
     },
     {
      "cell_type": "markdown",
      "metadata": {},
      "source": [
       "# Header 1\n",
       "## Header 2\n",
       "### Header 3"
      ]
     },
     {
      "cell_type": "markdown",
      "metadata": {},
      "source": [
       "# Header 1\n",
       "## Header 2\n",
       "### Header 3"
      ]
     },
     {
      "cell_type": "markdown",
      "metadata": {},
      "source": [
       "# Header 1\n",
       "## Header 2\n",
       "### Header 3"
      ]
     },
     {
      "cell_type": "markdown",
      "metadata": {},
      "source": [
       "# Header 1\n",
       "## Header 2\n",
       "### Header 3"
      ]
     },
     {
      "cell_type": "markdown",
      "metadata": {},
      "source": [
       "# Header 1\n",
       "## Header 2\n",
       "### Header 3"
      ]
     },
     {
      "cell_type": "markdown",
      "metadata": {},
      "source": [
       "# Header 1\n",
       "## Header 2\n",
       "### Header 3"
      ]
     },
     {
      "cell_type": "markdown",
      "metadata": {},
      "source": [
       "# Header 1\n",
       "## Header 2\n",
       "### Header 3"
      ]
     },
     {
      "cell_type": "markdown",
      "metadata": {},
      "source": [
       "# Header 1\n",
       "## Header 2\n",
       "### Header 3"
      ]
     },
     {
      "cell_type": "markdown",
      "metadata": {},
      "source": [
       "# Header 1\n",
       "## Header 2\n",
       "### Header 3"
      ]
     },
     {
      "cell_type": "markdown",
      "metadata": {},
      "source": [
       "# Header 1\n",
       "## Header 2\n",
       "### Header 3"
      ]
     },
     {
      "cell_type": "markdown",
      "metadata": {},
      "source": [
       "# Header 1\n",
       "## Header 2\n",
       "### Header 3"
      ]
     },
     {
      "cell_type": "markdown",
      "metadata": {},
      "source": [
       "# Header 1\n",
       "## Header 2\n",
       "### Header 3"
      ]
     },
     {
      "cell_type": "markdown",
      "metadata": {},
      "source": [
       "# Header 1\n",
       "## Header 2\n",
       "### Header 3"
      ]
     },
     {
      "cell_type": "markdown",
      "metadata": {},
      "source": [
       "# Header 1\n",
       "## Header 2\n",
       "### Header 3"
      ]
     },
     {
      "cell_type": "markdown",
      "metadata": {},
      "source": [
       "# Header 1\n",
       "## Header 2\n",
       "### Header 3"
      ]
     },
     {
      "cell_type": "markdown",
      "metadata": {},
      "source": [
       "# Header 1\n",
       "## Header 2\n",
       "### Header 3"
      ]
     },
     {
      "cell_type": "markdown",
      "metadata": {},
      "source": [
       "# Header 1\n",
       "## Header 2\n",
       "### Header 3"
      ]
     },
     {
      "cell_type": "markdown",
      "metadata": {},
      "source": [
       "# Header 1\n",
       "## Header 2\n",
       "### Header 3"
      ]
     },
     {
      "cell_type": "markdown",
      "metadata": {},
      "source": [
       "# Header 1\n",
       "## Header 2\n",
       "### Header 3"
      ]
     },
     {
      "cell_type": "markdown",
      "metadata": {},
      "source": [
       "# Header 1\n",
       "## Header 2\n",
       "### Header 3"
      ]
     },
     {
      "cell_type": "markdown",
      "metadata": {},
      "source": [
       "# Header 1\n",
       "## Header 2\n",
       "### Header 3"
      ]
     },
     {
      "cell_type": "markdown",
      "metadata": {},
      "source": [
       "# Header 1\n",
       "## Header 2\n",
       "### Header 3"
      ]
     },
     {
      "cell_type": "markdown",
      "metadata": {},
      "source": [
       "# Header 1\n",
       "## Header 2\n",
       "### Header 3"
      ]
     },
     {
      "cell_type": "markdown",
      "metadata": {},
      "source": [
       "# Header 1\n",
       "## Header 2\n",
       "### Header 3"
      ]
     },
     {
      "cell_type": "markdown",
      "metadata": {},
      "source": [
       "# Header 1\n",
       "## Header 2\n",
       "### Header 3"
      ]
     },
     {
      "cell_type": "markdown",
      "metadata": {},
      "source": [
       "# Header 1\n",
       "## Header 2\n",
       "### Header 3"
      ]
     },
     {
      "cell_type": "markdown",
      "metadata": {},
      "source": [
       "# Header 1\n",
       "## Header 2\n",
       "### Header 3"
      ]
     },
     {
      "cell_type": "markdown",
      "metadata": {},
      "source": [
       "# Header 1\n",
       "## Header 2\n",
       "### Header 3"
      ]
     },
     {
      "cell_type": "markdown",
      "metadata": {},
      "source": [
       "# Header 1\n",
       "## Header 2\n",
       "### Header 3"
      ]
     },
     {
      "cell_type": "markdown",
      "metadata": {},
      "source": [
       "# Header 1\n",
       "## Header 2\n",
       "### Header 3"
      ]
     },
     {
      "cell_type": "markdown",
      "metadata": {},
      "source": [
       "# Header 1\n",
       "## Header 2\n",
       "### Header 3"
      ]
     },
     {
      "cell_type": "markdown",
      "metadata": {},
      "source": [
       "# Header 1\n",
       "## Header 2\n",
       "### Header 3"
      ]
     },
     {
      "cell_type": "markdown",
      "metadata": {},
      "source": [
       "# Header 1\n",
       "## Header 2\n",
       "### Header 3"
      ]
     },
     {
      "cell_type": "markdown",
      "metadata": {},
      "source": [
       "# Header 1\n",
       "## Header 2\n",
       "### Header 3"
      ]
     },
     {
      "cell_type": "markdown",
      "metadata": {},
      "source": [
       "# Header 1\n",
       "## Header 2\n",
       "### Header 3"
      ]
     },
     {
      "cell_type": "markdown",
      "metadata": {},
      "source": [
       "# Header 1\n",
       "## Header 2\n",
       "### Header 3"
      ]
     },
     {
      "cell_type": "markdown",
      "metadata": {},
      "source": [
       "# Header 1\n",
       "## Header 2\n",
       "### Header 3"
      ]
     },
     {
      "cell_type": "markdown",
      "metadata": {},
      "source": [
       "# Header 1\n",
       "## Header 2\n",
       "### Header 3"
      ]
     },
     {
      "cell_type": "markdown",
      "metadata": {},
      "source": [
       "# Header 1\n",
       "## Header 2\n",
       "### Header 3"
      ]
     },
     {
      "cell_type": "markdown",
      "metadata": {},
      "source": [
       "# Header 1\n",
       "## Header 2\n",
       "### Header 3"
      ]
     },
     {
      "cell_type": "markdown",
      "metadata": {},
      "source": [
       "# Header 1\n",
       "## Header 2\n",
       "### Header 3"
      ]
     },
     {
      "cell_type": "markdown",
      "metadata": {},
      "source": [
       "# Header 1\n",
       "## Header 2\n",
       "### Header 3"
      ]
     },
     {
      "cell_type": "markdown",
      "metadata": {},
      "source": [
       "# Header 1\n",
       "## Header 2\n",
       "### Header 3"
      ]
     },
     {
      "cell_type": "markdown",
      "metadata": {},
      "source": [
       "# Header 1\n",
       "## Header 2\n",
       "### Header 3"
      ]
     },
     {
      "cell_type": "markdown",
      "metadata": {},
      "source": [
       "# Header 1\n",
       "## Header 2\n",
       "### Header 3"
      ]
     },
     {
      "cell_type": "markdown",
      "metadata": {},
      "source": [
       "# Header 1\n",
       "## Header 2\n",
       "### Header 3"
      ]
     },
     {
      "cell_type": "markdown",
      "metadata": {},
      "source": [
       "# Header 1\n",
       "## Header 2\n",
       "### Header 3"
      ]
     },
     {
      "cell_type": "markdown",
      "metadata": {},
      "source": [
       "# Header 1\n",
       "## Header 2\n",
       "### Header 3"
      ]
     },
     {
      "cell_type": "markdown",
      "metadata": {},
      "source": [
       "# Header 1\n",
       "## Header 2\n",
       "### Header 3"
      ]
     },
     {
      "cell_type": "markdown",
      "metadata": {},
      "source": [
       "# Header 1\n",
       "## Header 2\n",
       "### Header 3"
      ]
     },
     {
      "cell_type": "markdown",
      "metadata": {},
      "source": [
       "# Header 1\n",
       "## Header 2\n",
       "### Header 3"
      ]
     },
     {
      "cell_type": "markdown",
      "metadata": {},
      "source": [
       "# Header 1\n",
       "## Header 2\n",
       "### Header 3"
      ]
     },
     {
      "cell_type": "markdown",
      "metadata": {},
      "source": [
       "# Header 1\n",
       "## Header 2\n",
       "### Header 3"
      ]
     },
     {
      "cell_type": "markdown",
      "metadata": {},
      "source": [
       "# Header 1\n",
       "## Header 2\n",
       "### Header 3"
      ]
     },
     {
      "cell_type": "markdown",
      "metadata": {},
      "source": [
       "# Header 1\n",
       "## Header 2\n",
       "### Header 3"
      ]
     },
     {
      "cell_type": "markdown",
      "metadata": {},
      "source": [
       "# Header 1\n",
       "## Header 2\n",
       "### Header 3"
      ]
     },
     {
      "cell_type": "markdown",
      "metadata": {},
      "source": [
       "# Header 1\n",
       "## Header 2\n",
       "### Header 3"
      ]
     },
     {
      "cell_type": "markdown",
      "metadata": {},
      "source": [
       "# Header 1\n",
       "## Header 2\n",
       "### Header 3"
      ]
     },
     {
      "cell_type": "markdown",
      "metadata": {},
      "source": [
       "# Header 1\n",
       "## Header 2\n",
       "### Header 3"
      ]
     },
     {
      "cell_type": "markdown",
      "metadata": {},
      "source": [
       "# Header 1\n",
       "## Header 2\n",
       "### Header 3"
      ]
     },
     {
      "cell_type": "markdown",
      "metadata": {},
      "source": [
       "# Header 1\n",
       "## Header 2\n",
       "### Header 3"
      ]
     },
     {
      "cell_type": "markdown",
      "metadata": {},
      "source": [
       "# Header 1\n",
       "## Header 2\n",
       "### Header 3"
      ]
     },
     {
      "cell_type": "markdown",
      "metadata": {},
      "source": [
       "# Header 1\n",
       "## Header 2\n",
       "### Header 3"
      ]
     },
     {
      "cell_type": "markdown",
      "metadata": {},
      "source": [
       "# Header 1\n",
       "## Header 2\n",
       "### Header 3"
      ]
     },
     {
      "cell_type": "markdown",
      "metadata": {},
      "source": [
       "# Header 1\n",
       "## Header 2\n",
       "### Header 3"
      ]
     },
     {
      "cell_type": "markdown",
      "metadata": {},
      "source": [
       "# Header 1\n",
       "## Header 2\n",
       "### Header 3"
      ]
     },
     {
      "cell_type": "markdown",
      "metadata": {},
      "source": [
       "# Header 1\n",
       "## Header 2\n",
       "### Header 3"
      ]
     },
     {
      "cell_type": "markdown",
      "metadata": {},
      "source": [
       "# Header 1\n",
       "## Header 2\n",
       "### Header 3"
      ]
     },
     {
      "cell_type": "markdown",
      "metadata": {},
      "source": [
       "# Header 1\n",
       "## Header 2\n",
       "### Header 3"
      ]
     },
     {
      "cell_type": "markdown",
      "metadata": {},
      "source": [
       "# Header 1\n",
       "## Header 2\n",
       "### Header 3"
      ]
     },
     {
      "cell_type": "markdown",
      "metadata": {},
      "source": [
       "# Header 1\n",
       "## Header 2\n",
       "### Header 3"
      ]
     },
     {
      "cell_type": "markdown",
      "metadata": {},
      "source": [
       "# Header 1\n",
       "## Header 2\n",
       "### Header 3"
      ]
     },
     {
      "cell_type": "markdown",
      "metadata": {},
      "source": [
       "# Header 1\n",
       "## Header 2\n",
       "### Header 3"
      ]
     },
     {
      "cell_type": "markdown",
      "metadata": {},
      "source": [
       "# Header 1\n",
       "## Header 2\n",
       "### Header 3"
      ]
     },
     {
      "cell_type": "markdown",
      "metadata": {},
      "source": [
       "# Header 1\n",
       "## Header 2\n",
       "### Header 3"
      ]
     },
     {
      "cell_type": "markdown",
      "metadata": {},
      "source": [
       "# Header 1\n",
       "## Header 2\n",
       "### Header 3"
      ]
     },
     {
      "cell_type": "markdown",
      "metadata": {},
      "source": [
       "# Header 1\n",
       "## Header 2\n",
       "### Header 3"
      ]
     },
     {
      "cell_type": "markdown",
      "metadata": {},
      "source": [
       "# Header 1\n",
       "## Header 2\n",
       "### Header 3"
      ]
     },
     {
      "cell_type": "markdown",
      "metadata": {},
      "source": [
       "# Header 1\n",
       "## Header 2\n",
       "### Header 3"
      ]
     },
     {
      "cell_type": "markdown",
      "metadata": {},
      "source": [
       "# Header 1\n",
       "## Header 2\n",
       "### Header 3"
      ]
     },
     {
      "cell_type": "markdown",
      "metadata": {},
      "source": [
       "# Header 1\n",
       "## Header 2\n",
       "### Header 3"
      ]
     },
     {
      "cell_type": "markdown",
      "metadata": {},
      "source": [
       "# Header 1\n",
       "## Header 2\n",
       "### Header 3"
      ]
     },
     {
      "cell_type": "markdown",
      "metadata": {},
      "source": [
       "# Header 1\n",
       "## Header 2\n",
       "### Header 3"
      ]
     },
     {
      "cell_type": "markdown",
      "metadata": {},
      "source": [
       "# Header 1\n",
       "## Header 2\n",
       "### Header 3"
      ]
     },
     {
      "cell_type": "markdown",
      "metadata": {},
      "source": [
       "# Header 1\n",
       "## Header 2\n",
       "### Header 3"
      ]
     },
     {
      "cell_type": "markdown",
      "metadata": {},
      "source": [
       "# Header 1\n",
       "## Header 2\n",
       "### Header 3"
      ]
     },
     {
      "cell_type": "markdown",
      "metadata": {},
      "source": [
       "# Header 1\n",
       "## Header 2\n",
       "### Header 3"
      ]
     },
     {
      "cell_type": "markdown",
      "metadata": {},
      "source": [
       "# Header 1\n",
       "## Header 2\n",
       "### Header 3"
      ]
     },
     {
      "cell_type": "markdown",
      "metadata": {},
      "source": [
       "# Header 1\n",
       "## Header 2\n",
       "### Header 3"
      ]
     },
     {
      "cell_type": "markdown",
      "metadata": {},
      "source": [
       "# Header 1\n",
       "## Header 2\n",
       "### Header 3"
      ]
     },
     {
      "cell_type": "markdown",
      "metadata": {},
      "source": [
       "# Header 1\n",
       "## Header 2\n",
       "### Header 3"
      ]
     },
     {
      "cell_type": "markdown",
      "metadata": {},
      "source": [
       "# Header 1\n",
       "## Header 2\n",
       "### Header 3"
      ]
     },
     {
      "cell_type": "markdown",
      "metadata": {},
      "source": [
       "# Header 1\n",
       "## Header 2\n",
       "### Header 3"
      ]
     },
     {
      "cell_type": "markdown",
      "metadata": {},
      "source": [
       "# Header 1\n",
       "## Header 2\n",
       "### Header 3"
      ]
     },
     {
      "cell_type": "markdown",
      "metadata": {},
      "source": [
       "# Header 1\n",
       "## Header 2\n",
       "### Header 3"
      ]
     },
     {
      "cell_type": "markdown",
      "metadata": {},
      "source": [
       "# Header 1\n",
       "## Header 2\n",
       "### Header 3"
      ]
     },
     {
      "cell_type": "markdown",
      "metadata": {},
      "source": [
       "# Header 1\n",
       "## Header 2\n",
       "### Header 3"
      ]
     },
     {
      "cell_type": "markdown",
      "metadata": {},
      "source": [
       "# Header 1\n",
       "## Header 2\n",
       "### Header 3"
      ]
     },
     {
      "cell_type": "markdown",
      "metadata": {},
      "source": [
       "# Header 1\n",
       "## Header 2\n",
       "### Header 3"
      ]
     },
     {
      "cell_type": "markdown",
      "metadata": {},
      "source": [
       "# Header 1\n",
       "## Header 2\n",
       "### Header 3"
      ]
     },
     {
      "cell_type": "markdown",
      "metadata": {},
      "source": [
       "# Header 1\n",
       "## Header 2\n",
       "### Header 3"
      ]
     },
     {
      "cell_type": "markdown",
      "metadata": {},
      "source": [
       "# Header 1\n",
       "## Header 2\n",
       "### Header 3"
      ]
     },
     {
      "cell_type": "markdown",
      "metadata": {},
      "source": [
       "# Header 1\n",
       "## Header 2\n",
       "### Header 3"
      ]
     },
     {
      "cell_type": "markdown",
      "metadata": {},
      "source": [
       "# Header 1\n",
       "## Header 2\n",
       "### Header 3"
      ]
     },
     {
      "cell_type": "markdown",
      "metadata": {},
      "source": [
       "# Header 1\n",
       "## Header 2\n",
       "### Header 3"
      ]
     },
     {
      "cell_type": "markdown",
      "metadata": {},
      "source": [
       "# Header 1\n",
       "## Header 2\n",
       "### Header 3"
      ]
     },
     {
      "cell_type": "markdown",
      "metadata": {},
      "source": [
       "# Header 1\n",
       "## Header 2\n",
       "### Header 3"
      ]
     },
     {
      "cell_type": "markdown",
      "metadata": {},
      "source": [
       "# Header 1\n",
       "## Header 2\n",
       "### Header 3"
      ]
     },
     {
      "cell_type": "code",
      "execution_count": null,
      "metadata": {},
      "outputs": [],
      "source": [
       "print(\"Hello World\")"
      ]
     },
     {
      "cell_type": "code",
      "execution_count": null,
      "metadata": {},
      "outputs": [],
      "source": [
       "print(\"Hello World\")"
      ]
     },
     {
      "cell_type": "code",
      "execution_count": null,
      "metadata": {},
      "outputs": [],
      "source": [
       "print(\"Hello World\")"
      ]
     },
     {
      "cell_type": "code",
      "execution_count": null,
      "metadata": {},
      "outputs": [],
      "source": [
       "print(\"Hello World\")"
      ]
     },
     {
      "cell_type": "code",
      "execution_count": null,
      "metadata": {},
      "outputs": [],
      "source": [
       "print(\"Hello World\")"
      ]
     },
     {
      "cell_type": "code",
      "execution_count": null,
      "metadata": {},
      "outputs": [],
      "source": [
       "print(\"Hello World\")"
      ]
     },
     {
      "cell_type": "code",
      "execution_count": null,
      "metadata": {},
      "outputs": [],
      "source": [
       "print(\"Hello World\")"
      ]
     },
     {
      "cell_type": "code",
      "execution_count": null,
      "metadata": {},
      "outputs": [],
      "source": [
       "print(\"Hello World\")"
      ]
     },
     {
      "cell_type": "code",
      "execution_count": null,
      "metadata": {},
      "outputs": [],
      "source": [
       "print(\"Hello World\")"
      ]
     },
     {
      "cell_type": "code",
      "execution_count": null,
      "metadata": {},
      "outputs": [],
      "source": [
       "print(\"Hello World\")"
      ]
     },
     {
      "cell_type": "code",
      "execution_count": null,
      "metadata": {},
      "outputs": [],
      "source": [
       "print(\"Hello World\")"
      ]
     },
     {
      "cell_type": "code",
      "execution_count": null,
      "metadata": {},
      "outputs": [],
      "source": [
       "print(\"Hello World\")"
      ]
     },
     {
      "cell_type": "code",
      "execution_count": null,
      "metadata": {},
      "outputs": [],
      "source": [
       "print(\"Hello World\")"
      ]
     },
     {
      "cell_type": "code",
      "execution_count": null,
      "metadata": {},
      "outputs": [],
      "source": [
       "print(\"Hello World\")"
      ]
     },
     {
      "cell_type": "code",
      "execution_count": null,
      "metadata": {},
      "outputs": [],
      "source": [
       "print(\"Hello World\")"
      ]
     },
     {
      "cell_type": "code",
      "execution_count": null,
      "metadata": {},
      "outputs": [],
      "source": [
       "print(\"Hello World\")"
      ]
     },
     {
      "cell_type": "code",
      "execution_count": null,
      "metadata": {},
      "outputs": [],
      "source": [
       "print(\"Hello World\")"
      ]
     },
     {
      "cell_type": "code",
      "execution_count": null,
      "metadata": {},
      "outputs": [],
      "source": [
       "print(\"Hello World\")"
      ]
     },
     {
      "cell_type": "code",
      "execution_count": null,
      "metadata": {},
      "outputs": [],
      "source": [
       "print(\"Hello World\")"
      ]
     },
     {
      "cell_type": "code",
      "execution_count": null,
      "metadata": {},
      "outputs": [],
      "source": [
       "print(\"Hello World\")"
      ]
     },
     {
      "cell_type": "code",
      "execution_count": null,
      "metadata": {},
      "outputs": [],
      "source": [
       "print(\"Hello World\")"
      ]
     },
     {
      "cell_type": "code",
      "execution_count": null,
      "metadata": {},
      "outputs": [],
      "source": [
       "print(\"Hello World\")"
      ]
     },
     {
      "cell_type": "code",
      "execution_count": null,
      "metadata": {},
      "outputs": [],
      "source": [
       "print(\"Hello World\")"
      ]
     },
     {
      "cell_type": "code",
      "execution_count": null,
      "metadata": {},
      "outputs": [],
      "source": [
       "print(\"Hello World\")"
      ]
     },
     {
      "cell_type": "code",
      "execution_count": null,
      "metadata": {},
      "outputs": [],
      "source": [
       "print(\"Hello World\")"
      ]
     },
     {
      "cell_type": "code",
      "execution_count": null,
      "metadata": {},
      "outputs": [],
      "source": [
       "print(\"Hello World\")"
      ]
     },
     {
      "cell_type": "code",
      "execution_count": null,
      "metadata": {},
      "outputs": [],
      "source": [
       "print(\"Hello World\")"
      ]
     },
     {
      "cell_type": "code",
      "execution_count": null,
      "metadata": {},
      "outputs": [],
      "source": [
       "print(\"Hello World\")"
      ]
     },
     {
      "cell_type": "code",
      "execution_count": null,
      "metadata": {},
      "outputs": [],
      "source": [
       "print(\"Hello World\")"
      ]
     },
     {
      "cell_type": "code",
      "execution_count": null,
      "metadata": {},
      "outputs": [],
      "source": [
       "print(\"Hello World\")"
      ]
     },
     {
      "cell_type": "code",
      "execution_count": null,
      "metadata": {},
      "outputs": [],
      "source": [
       "print(\"Hello World\")"
      ]
     },
     {
      "cell_type": "code",
      "execution_count": null,
      "metadata": {},
      "outputs": [],
      "source": [
       "print(\"Hello World\")"
      ]
     },
     {
      "cell_type": "code",
      "execution_count": null,
      "metadata": {},
      "outputs": [],
      "source": [
       "print(\"Hello World\")"
      ]
     },
     {
      "cell_type": "code",
      "execution_count": null,
      "metadata": {},
      "outputs": [],
      "source": [
       "print(\"Hello World\")"
      ]
     },
     {
      "cell_type": "code",
      "execution_count": null,
      "metadata": {},
      "outputs": [],
      "source": [
       "print(\"Hello World\")"
      ]
     },
     {
      "cell_type": "code",
      "execution_count": null,
      "metadata": {},
      "outputs": [],
      "source": [
       "print(\"Hello World\")"
      ]
     },
     {
      "cell_type": "code",
      "execution_count": null,
      "metadata": {},
      "outputs": [],
      "source": [
       "print(\"Hello World\")"
      ]
     },
     {
      "cell_type": "code",
      "execution_count": null,
      "metadata": {},
      "outputs": [],
      "source": [
       "print(\"Hello World\")"
      ]
     },
     {
      "cell_type": "code",
      "execution_count": null,
      "metadata": {},
      "outputs": [],
      "source": [
       "print(\"Hello World\")"
      ]
     },
     {
      "cell_type": "code",
      "execution_count": null,
      "metadata": {},
      "outputs": [],
      "source": [
       "print(\"Hello World\")"
      ]
     },
     {
      "cell_type": "code",
      "execution_count": null,
      "metadata": {},
      "outputs": [],
      "source": [
       "print(\"Hello World\")"
      ]
     },
     {
      "cell_type": "code",
      "execution_count": null,
      "metadata": {},
      "outputs": [],
      "source": [
       "print(\"Hello World\")"
      ]
     },
     {
      "cell_type": "code",
      "execution_count": null,
      "metadata": {},
      "outputs": [],
      "source": [
       "print(\"Hello World\")"
      ]
     },
     {
      "cell_type": "code",
      "execution_count": null,
      "metadata": {},
      "outputs": [],
      "source": [
       "print(\"Hello World\")"
      ]
     },
     {
      "cell_type": "code",
      "execution_count": null,
      "metadata": {},
      "outputs": [],
      "source": [
       "print(\"Hello World\")"
      ]
     },
     {
      "cell_type": "code",
      "execution_count": null,
      "metadata": {},
      "outputs": [],
      "source": [
       "print(\"Hello World\")"
      ]
     },
     {
      "cell_type": "code",
      "execution_count": null,
      "metadata": {},
      "outputs": [],
      "source": [
       "print(\"Hello World\")"
      ]
     },
     {
      "cell_type": "code",
      "execution_count": null,
      "metadata": {},
      "outputs": [],
      "source": [
       "print(\"Hello World\")"
      ]
     },
     {
      "cell_type": "code",
      "execution_count": null,
      "metadata": {},
      "outputs": [],
      "source": [
       "print(\"Hello World\")"
      ]
     },
     {
      "cell_type": "code",
      "execution_count": null,
      "metadata": {},
      "outputs": [],
      "source": [
       "print(\"Hello World\")"
      ]
     },
     {
      "cell_type": "code",
      "execution_count": null,
      "metadata": {},
      "outputs": [],
      "source": [
       "print(\"Hello World\")"
      ]
     },
     {
      "cell_type": "code",
      "execution_count": null,
      "metadata": {},
      "outputs": [],
      "source": [
       "print(\"Hello World\")"
      ]
     },
     {
      "cell_type": "code",
      "execution_count": null,
      "metadata": {},
      "outputs": [],
      "source": [
       "print(\"Hello World\")"
      ]
     },
     {
      "cell_type": "code",
      "execution_count": null,
      "metadata": {},
      "outputs": [],
      "source": [
       "print(\"Hello World\")"
      ]
     },
     {
      "cell_type": "code",
      "execution_count": null,
      "metadata": {},
      "outputs": [],
      "source": [
       "print(\"Hello World\")"
      ]
     },
     {
      "cell_type": "code",
      "execution_count": null,
      "metadata": {},
      "outputs": [],
      "source": [
       "print(\"Hello World\")"
      ]
     },
     {
      "cell_type": "code",
      "execution_count": null,
      "metadata": {},
      "outputs": [],
      "source": [
       "print(\"Hello World\")"
      ]
     },
     {
      "cell_type": "code",
      "execution_count": null,
      "metadata": {},
      "outputs": [],
      "source": [
       "print(\"Hello World\")"
      ]
     },
     {
      "cell_type": "code",
      "execution_count": null,
      "metadata": {},
      "outputs": [],
      "source": [
       "print(\"Hello World\")"
      ]
     },
     {
      "cell_type": "code",
      "execution_count": null,
      "metadata": {},
      "outputs": [],
      "source": [
       "print(\"Hello World\")"
      ]
     },
     {
      "cell_type": "code",
      "execution_count": null,
      "metadata": {},
      "outputs": [],
      "source": [
       "print(\"Hello World\")"
      ]
     },
     {
      "cell_type": "code",
      "execution_count": null,
      "metadata": {},
      "outputs": [],
      "source": [
       "print(\"Hello World\")"
      ]
     },
     {
      "cell_type": "code",
      "execution_count": null,
      "metadata": {},
      "outputs": [],
      "source": [
       "print(\"Hello World\")"
      ]
     },
     {
      "cell_type": "code",
      "execution_count": null,
      "metadata": {},
      "outputs": [],
      "source": [
       "print(\"Hello World\")"
      ]
     },
     {
      "cell_type": "code",
      "execution_count": null,
      "metadata": {},
      "outputs": [],
      "source": [
       "print(\"Hello World\")"
      ]
     },
     {
      "cell_type": "code",
      "execution_count": null,
      "metadata": {},
      "outputs": [],
      "source": [
       "print(\"Hello World\")"
      ]
     },
     {
      "cell_type": "code",
      "execution_count": null,
      "metadata": {},
      "outputs": [],
      "source": [
       "print(\"Hello World\")"
      ]
     },
     {
      "cell_type": "code",
      "execution_count": null,
      "metadata": {},
      "outputs": [],
      "source": [
       "print(\"Hello World\")"
      ]
     },
     {
      "cell_type": "code",
      "execution_count": null,
      "metadata": {},
      "outputs": [],
      "source": [
       "print(\"Hello World\")"
      ]
     },
     {
      "cell_type": "code",
      "execution_count": null,
      "metadata": {},
      "outputs": [],
      "source": [
       "print(\"Hello World\")"
      ]
     },
     {
      "cell_type": "code",
      "execution_count": null,
      "metadata": {},
      "outputs": [],
      "source": [
       "print(\"Hello World\")"
      ]
     },
     {
      "cell_type": "code",
      "execution_count": null,
      "metadata": {},
      "outputs": [],
      "source": [
       "print(\"Hello World\")"
      ]
     },
     {
      "cell_type": "code",
      "execution_count": null,
      "metadata": {},
      "outputs": [],
      "source": [
       "print(\"Hello World\")"
      ]
     },
     {
      "cell_type": "code",
      "execution_count": null,
      "metadata": {},
      "outputs": [],
      "source": [
       "print(\"Hello World\")"
      ]
     },
     {
      "cell_type": "code",
      "execution_count": null,
      "metadata": {},
      "outputs": [],
      "source": [
       "print(\"Hello World\")"
      ]
     },
     {
      "cell_type": "code",
      "execution_count": null,
      "metadata": {},
      "outputs": [],
      "source": [
       "print(\"Hello World\")"
      ]
     },
     {
      "cell_type": "code",
      "execution_count": null,
      "metadata": {},
      "outputs": [],
      "source": [
       "print(\"Hello World\")"
      ]
     },
     {
      "cell_type": "code",
      "execution_count": null,
      "metadata": {},
      "outputs": [],
      "source": [
       "print(\"Hello World\")"
      ]
     },
     {
      "cell_type": "code",
      "execution_count": null,
      "metadata": {},
      "outputs": [],
      "source": [
       "print(\"Hello World\")"
      ]
     },
     {
      "cell_type": "code",
      "execution_count": null,
      "metadata": {},
      "outputs": [],
      "source": [
       "print(\"Hello World\")"
      ]
     },
     {
      "cell_type": "code",
      "execution_count": null,
      "metadata": {},
      "outputs": [],
      "source": [
       "print(\"Hello World\")"
      ]
     },
     {
      "cell_type": "code",
      "execution_count": null,
      "metadata": {},
      "outputs": [],
      "source": [
       "print(\"Hello World\")"
      ]
     },
     {
      "cell_type": "code",
      "execution_count": null,
      "metadata": {},
      "outputs": [],
      "source": [
       "print(\"Hello World\")"
      ]
     },
     {
      "cell_type": "code",
      "execution_count": null,
      "metadata": {},
      "outputs": [],
      "source": [
       "print(\"Hello World\")"
      ]
     },
     {
      "cell_type": "code",
      "execution_count": null,
      "metadata": {},
      "outputs": [],
      "source": [
       "print(\"Hello World\")"
      ]
     },
     {
      "cell_type": "code",
      "execution_count": null,
      "metadata": {},
      "outputs": [],
      "source": [
       "print(\"Hello World\")"
      ]
     },
     {
      "cell_type": "code",
      "execution_count": null,
      "metadata": {},
      "outputs": [],
      "source": [
       "print(\"Hello World\")"
      ]
     },
     {
      "cell_type": "code",
      "execution_count": null,
      "metadata": {},
      "outputs": [],
      "source": [
       "print(\"Hello World\")"
      ]
     },
     {
      "cell_type": "code",
      "execution_count": null,
      "metadata": {},
      "outputs": [],
      "source": [
       "print(\"Hello World\")"
      ]
     },
     {
      "cell_type": "code",
      "execution_count": null,
      "metadata": {},
      "outputs": [],
      "source": [
       "print(\"Hello World\")"
      ]
     },
     {
      "cell_type": "code",
      "execution_count": null,
      "metadata": {},
      "outputs": [],
      "source": [
       "print(\"Hello World\")"
      ]
     },
     {
      "cell_type": "code",
      "execution_count": null,
      "metadata": {},
      "outputs": [],
      "source": [
       "print(\"Hello World\")"
      ]
     },
     {
      "cell_type": "code",
      "execution_count": null,
      "metadata": {},
      "outputs": [],
      "source": [
       "print(\"Hello World\")"
      ]
     },
     {
      "cell_type": "code",
      "execution_count": null,
      "metadata": {},
      "outputs": [],
      "source": [
       "print(\"Hello World\")"
      ]
     },
     {
      "cell_type": "code",
      "execution_count": null,
      "metadata": {},
      "outputs": [],
      "source": [
       "print(\"Hello World\")"
      ]
     },
     {
      "cell_type": "code",
      "execution_count": null,
      "metadata": {},
      "outputs": [],
      "source": [
       "print(\"Hello World\")"
      ]
     },
     {
      "cell_type": "code",
      "execution_count": null,
      "metadata": {},
      "outputs": [],
      "source": [
       "print(\"Hello World\")"
      ]
     },
     {
      "cell_type": "code",
      "execution_count": null,
      "metadata": {},
      "outputs": [],
      "source": [
       "print(\"Hello World\")"
      ]
     },
     {
      "cell_type": "code",
      "execution_count": null,
      "metadata": {},
      "outputs": [],
      "source": [
       "print(\"Hello World\")"
      ]
     },
     {
      "cell_type": "code",
      "execution_count": null,
      "metadata": {},
      "outputs": [],
      "source": [
       "print(\"Hello World\")"
      ]
     },
     {
      "cell_type": "code",
      "execution_count": null,
      "metadata": {},
      "outputs": [],
      "source": [
       "print(\"Hello World\")"
      ]
     },
     {
      "cell_type": "code",
      "execution_count": null,
      "metadata": {},
      "outputs": [],
      "source": [
       "print(\"Hello World\")"
      ]
     },
     {
      "cell_type": "code",
      "execution_count": null,
      "metadata": {},
      "outputs": [],
      "source": [
       "print(\"Hello World\")"
      ]
     },
     {
      "cell_type": "code",
      "execution_count": null,
      "metadata": {},
      "outputs": [],
      "source": [
       "print(\"Hello World\")"
      ]
     },
     {
      "cell_type": "code",
      "execution_count": null,
      "metadata": {},
      "outputs": [],
      "source": [
       "print(\"Hello World\")"
      ]
     },
     {
      "cell_type": "code",
      "execution_count": null,
      "metadata": {},
      "outputs": [],
      "source": [
       "print(\"Hello World\")"
      ]
     },
     {
      "cell_type": "code",
      "execution_count": null,
      "metadata": {},
      "outputs": [],
      "source": [
       "print(\"Hello World\")"
      ]
     },
     {
      "cell_type": "code",
      "execution_count": null,
      "metadata": {},
      "outputs": [],
      "source": [
       "print(\"Hello World\")"
      ]
     },
     {
      "cell_type": "code",
      "execution_count": null,
      "metadata": {},
      "outputs": [],
      "source": [
       "print(\"Hello World\")"
      ]
     },
     {
      "cell_type": "code",
      "execution_count": null,
      "metadata": {},
      "outputs": [],
      "source": [
       "print(\"Hello World\")"
      ]
     },
     {
      "cell_type": "code",
      "execution_count": null,
      "metadata": {},
      "outputs": [],
      "source": [
       "print(\"Hello World\")"
      ]
     },
     {
      "cell_type": "code",
      "execution_count": null,
      "metadata": {},
      "outputs": [],
      "source": [
       "print(\"Hello World\")"
      ]
     },
     {
      "cell_type": "code",
      "execution_count": null,
      "metadata": {},
      "outputs": [],
      "source": [
       "print(\"Hello World\")"
      ]
     },
     {
      "cell_type": "code",
      "execution_count": null,
      "metadata": {},
      "outputs": [],
      "source": [
       "print(\"Hello World\")"
      ]
     },
     {
      "cell_type": "code",
      "execution_count": null,
      "metadata": {},
      "outputs": [],
      "source": [
       "print(\"Hello World\")"
      ]
     },
     {
      "cell_type": "code",
      "execution_count": null,
      "metadata": {},
      "outputs": [],
      "source": [
       "print(\"Hello World\")"
      ]
     },
     {
      "cell_type": "code",
      "execution_count": null,
      "metadata": {},
      "outputs": [],
      "source": [
       "print(\"Hello World\")"
      ]
     },
     {
      "cell_type": "code",
      "execution_count": null,
      "metadata": {},
      "outputs": [],
      "source": [
       "print(\"Hello World\")"
      ]
     },
     {
      "cell_type": "code",
      "execution_count": null,
      "metadata": {},
      "outputs": [],
      "source": [
       "print(\"Hello World\")"
      ]
     },
     {
      "cell_type": "code",
      "execution_count": null,
      "metadata": {},
      "outputs": [],
      "source": [
       "print(\"Hello World\")"
      ]
     },
     {
      "cell_type": "code",
      "execution_count": null,
      "metadata": {},
      "outputs": [],
      "source": [
       "print(\"Hello World\")"
      ]
     },
     {
      "cell_type": "code",
      "execution_count": null,
      "metadata": {},
      "outputs": [],
      "source": [
       "print(\"Hello World\")"
      ]
     },
     {
      "cell_type": "code",
      "execution_count": null,
      "metadata": {},
      "outputs": [],
      "source": [
       "print(\"Hello World\")"
      ]
     },
     {
      "cell_type": "code",
      "execution_count": null,
      "metadata": {},
      "outputs": [],
      "source": [
       "print(\"Hello World\")"
      ]
     },
     {
      "cell_type": "code",
      "execution_count": null,
      "metadata": {},
      "outputs": [],
      "source": [
       "print(\"Hello World\")"
      ]
     },
     {
      "cell_type": "code",
      "execution_count": null,
      "metadata": {},
      "outputs": [],
      "source": [
       "print(\"Hello World\")"
      ]
     },
     {
      "cell_type": "code",
      "execution_count": null,
      "metadata": {},
      "outputs": [],
      "source": [
       "print(\"Hello World\")"
      ]
     },
     {
      "cell_type": "code",
      "execution_count": null,
      "metadata": {},
      "outputs": [],
      "source": [
       "print(\"Hello World\")"
      ]
     },
     {
      "cell_type": "code",
      "execution_count": null,
      "metadata": {},
      "outputs": [],
      "source": [
       "print(\"Hello World\")"
      ]
     },
     {
      "cell_type": "code",
      "execution_count": null,
      "metadata": {},
      "outputs": [],
      "source": [
       "print(\"Hello World\")"
      ]
     },
     {
      "cell_type": "code",
      "execution_count": null,
      "metadata": {},
      "outputs": [],
      "source": [
       "print(\"Hello World\")"
      ]
     },
     {
      "cell_type": "code",
      "execution_count": null,
      "metadata": {},
      "outputs": [],
      "source": [
       "print(\"Hello World\")"
      ]
     },
     {
      "cell_type": "code",
      "execution_count": null,
      "metadata": {},
      "outputs": [],
      "source": [
       "print(\"Hello World\")"
      ]
     },
     {
      "cell_type": "code",
      "execution_count": null,
      "metadata": {},
      "outputs": [],
      "source": [
       "print(\"Hello World\")"
      ]
     },
     {
      "cell_type": "code",
      "execution_count": null,
      "metadata": {},
      "outputs": [],
      "source": [
       "print(\"Hello World\")"
      ]
     },
     {
      "cell_type": "code",
      "execution_count": null,
      "metadata": {},
      "outputs": [],
      "source": [
       "print(\"Hello World\")"
      ]
     },
     {
      "cell_type": "code",
      "execution_count": null,
      "metadata": {},
      "outputs": [],
      "source": [
       "print(\"Hello World\")"
      ]
     },
     {
      "cell_type": "code",
      "execution_count": null,
      "metadata": {},
      "outputs": [],
      "source": [
       "print(\"Hello World\")"
      ]
     },
     {
      "cell_type": "code",
      "execution_count": null,
      "metadata": {},
      "outputs": [],
      "source": [
       "print(\"Hello World\")"
      ]
     },
     {
      "cell_type": "code",
      "execution_count": null,
      "metadata": {},
      "outputs": [],
      "source": [
       "print(\"Hello World\")"
      ]
     },
     {
      "cell_type": "code",
      "execution_count": null,
      "metadata": {},
      "outputs": [],
      "source": [
       "print(\"Hello World\")"
      ]
     },
     {
      "cell_type": "code",
      "execution_count": null,
      "metadata": {},
      "outputs": [],
      "source": [
       "print(\"Hello World\")"
      ]
     },
     {
      "cell_type": "code",
      "execution_count": null,
      "metadata": {},
      "outputs": [],
      "source": [
       "print(\"Hello World\")"
      ]
     },
     {
      "cell_type": "code",
      "execution_count": null,
      "metadata": {},
      "outputs": [],
      "source": [
       "print(\"Hello World\")"
      ]
     },
     {
      "cell_type": "code",
      "execution_count": null,
      "metadata": {},
      "outputs": [],
      "source": [
       "print(\"Hello World\")"
      ]
     },
     {
      "cell_type": "code",
      "execution_count": null,
      "metadata": {},
      "outputs": [],
      "source": [
       "print(\"Hello World\")"
      ]
     },
     {
      "cell_type": "code",
      "execution_count": null,
      "metadata": {},
      "outputs": [],
      "source": [
       "print(\"Hello World\")"
      ]
     },
     {
      "cell_type": "code",
      "execution_count": null,
      "metadata": {},
      "outputs": [],
      "source": [
       "print(\"Hello World\")"
      ]
     },
     {
      "cell_type": "code",
      "execution_count": null,
      "metadata": {},
      "outputs": [],
      "source": [
       "print(\"Hello World\")"
      ]
     },
     {
      "cell_type": "code",
      "execution_count": null,
      "metadata": {},
      "outputs": [],
      "source": [
       "print(\"Hello World\")"
      ]
     },
     {
      "cell_type": "code",
      "execution_count": null,
      "metadata": {},
      "outputs": [],
      "source": [
       "print(\"Hello World\")"
      ]
     },
     {
      "cell_type": "code",
      "execution_count": null,
      "metadata": {},
      "outputs": [],
      "source": [
       "print(\"Hello World\")"
      ]
     },
     {
      "cell_type": "code",
      "execution_count": null,
      "metadata": {},
      "outputs": [],
      "source": [
       "print(\"Hello World\")"
      ]
     },
     {
      "cell_type": "code",
      "execution_count": null,
      "metadata": {},
      "outputs": [],
      "source": [
       "print(\"Hello World\")"
      ]
     },
     {
      "cell_type": "code",
      "execution_count": null,
      "metadata": {},
      "outputs": [],
      "source": [
       "print(\"Hello World\")"
      ]
     },
     {
      "cell_type": "code",
      "execution_count": null,
      "metadata": {},
      "outputs": [],
      "source": [
       "print(\"Hello World\")"
      ]
     },
     {
      "cell_type": "code",
      "execution_count": null,
      "metadata": {},
      "outputs": [],
      "source": [
       "print(\"Hello World\")"
      ]
     },
     {
      "cell_type": "code",
      "execution_count": null,
      "metadata": {},
      "outputs": [],
      "source": [
       "print(\"Hello World\")"
      ]
     },
     {
      "cell_type": "code",
      "execution_count": null,
      "metadata": {},
      "outputs": [],
      "source": [
       "print(\"Hello World\")"
      ]
     },
     {
      "cell_type": "code",
      "execution_count": null,
      "metadata": {},
      "outputs": [],
      "source": [
       "print(\"Hello World\")"
      ]
     },
     {
      "cell_type": "code",
      "execution_count": null,
      "metadata": {},
      "outputs": [],
      "source": [
       "print(\"Hello World\")"
      ]
     },
     {
      "cell_type": "code",
      "execution_count": null,
      "metadata": {},
      "outputs": [],
      "source": [
       "print(\"Hello World\")"
      ]
     },
     {
      "cell_type": "code",
      "execution_count": null,
      "metadata": {},
      "outputs": [],
      "source": [
       "print(\"Hello World\")"
      ]
     },
     {
      "cell_type": "code",
      "execution_count": null,
      "metadata": {},
      "outputs": [],
      "source": [
       "print(\"Hello World\")"
      ]
     },
     {
      "cell_type": "code",
      "execution_count": null,
      "metadata": {},
      "outputs": [],
      "source": [
       "print(\"Hello World\")"
      ]
     },
     {
      "cell_type": "code",
      "execution_count": null,
      "metadata": {},
      "outputs": [],
      "source": [
       "print(\"Hello World\")"
      ]
     },
     {
      "cell_type": "code",
      "execution_count": null,
      "metadata": {},
      "outputs": [],
      "source": [
       "print(\"Hello World\")"
      ]
     },
     {
      "cell_type": "code",
      "execution_count": null,
      "metadata": {},
      "outputs": [],
      "source": [
       "print(\"Hello World\")"
      ]
     },
     {
      "cell_type": "code",
      "execution_count": null,
      "metadata": {},
      "outputs": [],
      "source": [
       "print(\"Hello World\")"
      ]
     },
     {
      "cell_type": "code",
      "execution_count": null,
      "metadata": {},
      "outputs": [],
      "source": [
       "print(\"Hello World\")"
      ]
     },
     {
      "cell_type": "code",
      "execution_count": null,
      "metadata": {},
      "outputs": [],
      "source": [
       "print(\"Hello World\")"
      ]
     },
     {
      "cell_type": "code",
      "execution_count": null,
      "metadata": {},
      "outputs": [],
      "source": [
       "print(\"Hello World\")"
      ]
     },
     {
      "cell_type": "code",
      "execution_count": null,
      "metadata": {},
      "outputs": [],
      "source": [
       "print(\"Hello World\")"
      ]
     },
     {
      "cell_type": "code",
      "execution_count": null,
      "metadata": {},
      "outputs": [],
      "source": [
       "print(\"Hello World\")"
      ]
     },
     {
      "cell_type": "code",
      "execution_count": null,
      "metadata": {},
      "outputs": [],
      "source": [
       "print(\"Hello World\")"
      ]
     },
     {
      "cell_type": "code",
      "execution_count": null,
      "metadata": {},
      "outputs": [],
      "source": [
       "print(\"Hello World\")"
      ]
     },
     {
      "cell_type": "code",
      "execution_count": null,
      "metadata": {},
      "outputs": [],
      "source": [
       "print(\"Hello World\")"
      ]
     },
     {
      "cell_type": "code",
      "execution_count": null,
      "metadata": {},
      "outputs": [],
      "source": [
       "print(\"Hello World\")"
      ]
     },
     {
      "cell_type": "code",
      "execution_count": null,
      "metadata": {},
      "outputs": [],
      "source": [
       "print(\"Hello World\")"
      ]
     },
     {
      "cell_type": "code",
      "execution_count": null,
      "metadata": {},
      "outputs": [],
      "source": [
       "print(\"Hello World\")"
      ]
     },
     {
      "cell_type": "code",
      "execution_count": null,
      "metadata": {},
      "outputs": [],
      "source": [
       "print(\"Hello World\")"
      ]
     },
     {
      "cell_type": "code",
      "execution_count": null,
      "metadata": {},
      "outputs": [],
      "source": [
       "print(\"Hello World\")"
      ]
     },
     {
      "cell_type": "code",
      "execution_count": null,
      "metadata": {},
      "outputs": [],
      "source": [
       "print(\"Hello World\")"
      ]
     },
     {
      "cell_type": "code",
      "execution_count": null,
      "metadata": {},
      "outputs": [],
      "source": [
       "print(\"Hello World\")"
      ]
     },
     {
      "cell_type": "code",
      "execution_count": null,
      "metadata": {},
      "outputs": [],
      "source": [
       "print(\"Hello World\")"
      ]
     },
     {
      "cell_type": "code",
      "execution_count": null,
      "metadata": {},
      "outputs": [],
      "source": [
       "print(\"Hello World\")"
      ]
     },
     {
      "cell_type": "code",
      "execution_count": null,
      "metadata": {},
      "outputs": [],
      "source": [
       "print(\"Hello World\")"
      ]
     },
     {
      "cell_type": "code",
      "execution_count": null,
      "metadata": {},
      "outputs": [],
      "source": [
       "print(\"Hello World\")"
      ]
     },
     {
      "cell_type": "code",
      "execution_count": null,
      "metadata": {},
      "outputs": [],
      "source": [
       "print(\"Hello World\")"
      ]
     },
     {
      "cell_type": "code",
      "execution_count": null,
      "metadata": {},
      "outputs": [],
      "source": [
       "print(\"Hello World\")"
      ]
     },
     {
      "cell_type": "code",
      "execution_count": null,
      "metadata": {},
      "outputs": [],
      "source": [
       "print(\"Hello World\")"
      ]
     },
     {
      "cell_type": "code",
      "execution_count": null,
      "metadata": {},
      "outputs": [],
      "source": [
       "print(\"Hello World\")"
      ]
     },
     {
      "cell_type": "code",
      "execution_count": null,
      "metadata": {},
      "outputs": [],
      "source": [
       "print(\"Hello World\")"
      ]
     },
     {
      "cell_type": "code",
      "execution_count": null,
      "metadata": {},
      "outputs": [],
      "source": [
       "print(\"Hello World\")"
      ]
     },
     {
      "cell_type": "code",
      "execution_count": null,
      "metadata": {},
      "outputs": [],
      "source": [
       "print(\"Hello World\")"
      ]
     },
     {
      "cell_type": "code",
      "execution_count": null,
      "metadata": {},
      "outputs": [],
      "source": [
       "print(\"Hello World\")"
      ]
     },
     {
      "cell_type": "code",
      "execution_count": null,
      "metadata": {},
      "outputs": [],
      "source": [
       "print(\"Hello World\")"
      ]
     },
     {
      "cell_type": "code",
      "execution_count": null,
      "metadata": {},
      "outputs": [],
      "source": [
       "print(\"Hello World\")"
      ]
     },
     {
      "cell_type": "code",
      "execution_count": null,
      "metadata": {},
      "outputs": [],
      "source": [
       "print(\"Hello World\")"
      ]
     },
     {
      "cell_type": "code",
      "execution_count": null,
      "metadata": {},
      "outputs": [],
      "source": [
       "print(\"Hello World\")"
      ]
     },
     {
      "cell_type": "code",
      "execution_count": null,
      "metadata": {},
      "outputs": [],
      "source": [
       "print(\"Hello World\")"
      ]
     },
     {
      "cell_type": "code",
      "execution_count": null,
      "metadata": {},
      "outputs": [],
      "source": [
       "print(\"Hello World\")"
      ]
     },
     {
      "cell_type": "code",
      "execution_count": null,
      "metadata": {},
      "outputs": [],
      "source": [
       "print(\"Hello World\")"
      ]
     },
     {
      "cell_type": "code",
      "execution_count": null,
      "metadata": {},
      "outputs": [],
      "source": [
       "print(\"Hello World\")"
      ]
     },
     {
      "cell_type": "code",
      "execution_count": null,
      "metadata": {},
      "outputs": [],
      "source": [
       "print(\"Hello World\")"
      ]
     },
     {
      "cell_type": "code",
      "execution_count": null,
      "metadata": {},
      "outputs": [],
      "source": [
       "print(\"Hello World\")"
      ]
     },
     {
      "cell_type": "code",
      "execution_count": null,
      "metadata": {},
      "outputs": [],
      "source": [
       "print(\"Hello World\")"
      ]
     },
     {
      "cell_type": "code",
      "execution_count": null,
      "metadata": {},
      "outputs": [],
      "source": [
       "print(\"Hello World\")"
      ]
     },
     {
      "cell_type": "code",
      "execution_count": null,
      "metadata": {},
      "outputs": [],
      "source": [
       "print(\"Hello World\")"
      ]
     },
     {
      "cell_type": "code",
      "execution_count": null,
      "metadata": {},
      "outputs": [],
      "source": [
       "print(\"Hello World\")"
      ]
     },
     {
      "cell_type": "code",
      "execution_count": null,
      "metadata": {},
      "outputs": [],
      "source": [
       "print(\"Hello World\")"
      ]
     },
     {
      "cell_type": "code",
      "execution_count": null,
      "metadata": {},
      "outputs": [],
      "source": [
       "print(\"Hello World\")"
      ]
     },
     {
      "cell_type": "code",
      "execution_count": null,
      "metadata": {},
      "outputs": [],
      "source": [
       "print(\"Hello World\")"
      ]
     },
     {
      "cell_type": "code",
      "execution_count": null,
      "metadata": {},
      "outputs": [],
      "source": [
       "print(\"Hello World\")"
      ]
     },
     {
      "cell_type": "code",
      "execution_count": null,
      "metadata": {},
      "outputs": [],
      "source": [
       "print(\"Hello World\")"
      ]
     },
     {
      "cell_type": "code",
      "execution_count": null,
      "metadata": {},
      "outputs": [],
      "source": [
       "print(\"Hello World\")"
      ]
     },
     {
      "cell_type": "code",
      "execution_count": null,
      "metadata": {},
      "outputs": [],
      "source": [
       "print(\"Hello World\")"
      ]
     },
     {
      "cell_type": "code",
      "execution_count": null,
      "metadata": {},
      "outputs": [],
      "source": [
       "print(\"Hello World\")"
      ]
     },
     {
      "cell_type": "code",
      "execution_count": null,
      "metadata": {},
      "outputs": [],
      "source": [
       "print(\"Hello World\")"
      ]
     },
     {
      "cell_type": "code",
      "execution_count": null,
      "metadata": {},
      "outputs": [],
      "source": [
       "print(\"Hello World\")"
      ]
     },
     {
      "cell_type": "code",
      "execution_count": null,
      "metadata": {},
      "outputs": [],
      "source": [
       "print(\"Hello World\")"
      ]
     },
     {
      "cell_type": "code",
      "execution_count": null,
      "metadata": {},
      "outputs": [],
      "source": [
       "print(\"Hello World\")"
      ]
     },
     {
      "cell_type": "code",
      "execution_count": null,
      "metadata": {},
      "outputs": [],
      "source": [
       "print(\"Hello World\")"
      ]
     },
     {
      "cell_type": "code",
      "execution_count": null,
      "metadata": {},
      "outputs": [],
      "source": [
       "print(\"Hello World\")"
      ]
     },
     {
      "cell_type": "code",
      "execution_count": null,
      "metadata": {},
      "outputs": [],
      "source": [
       "print(\"Hello World\")"
      ]
     },
     {
      "cell_type": "code",
      "execution_count": null,
      "metadata": {},
      "outputs": [],
      "source": [
       "print(\"Hello World\")"
      ]
     },
     {
      "cell_type": "code",
      "execution_count": null,
      "metadata": {},
      "outputs": [],
      "source": [
       "print(\"Hello World\")"
      ]
     },
     {
      "cell_type": "code",
      "execution_count": null,
      "metadata": {},
      "outputs": [],
      "source": [
       "print(\"Hello World\")"
      ]
     },
     {
      "cell_type": "code",
      "execution_count": null,
      "metadata": {},
      "outputs": [],
      "source": [
       "print(\"Hello World\")"
      ]
     },
     {
      "cell_type": "code",
      "execution_count": null,
      "metadata": {},
      "outputs": [],
      "source": [
       "print(\"Hello World\")"
      ]
     },
     {
      "cell_type": "code",
      "execution_count": null,
      "metadata": {},
      "outputs": [],
      "source": [
       "print(\"Hello World\")"
      ]
     },
     {
      "cell_type": "code",
      "execution_count": null,
      "metadata": {},
      "outputs": [],
      "source": [
       "print(\"Hello World\")"
      ]
     },
     {
      "cell_type": "code",
      "execution_count": null,
      "metadata": {},
      "outputs": [],
      "source": [
       "print(\"Hello World\")"
      ]
     },
     {
      "cell_type": "code",
      "execution_count": null,
      "metadata": {},
      "outputs": [],
      "source": [
       "print(\"Hello World\")"
      ]
     },
     {
      "cell_type": "code",
      "execution_count": null,
      "metadata": {},
      "outputs": [],
      "source": [
       "print(\"Hello World\")"
      ]
     },
     {
      "cell_type": "code",
      "execution_count": null,
      "metadata": {},
      "outputs": [],
      "source": [
       "print(\"Hello World\")"
      ]
     },
     {
      "cell_type": "code",
      "execution_count": null,
      "metadata": {},
      "outputs": [],
      "source": [
       "print(\"Hello World\")"
      ]
     },
     {
      "cell_type": "code",
      "execution_count": null,
      "metadata": {},
      "outputs": [],
      "source": [
       "print(\"Hello World\")"
      ]
     },
     {
      "cell_type": "code",
      "execution_count": null,
      "metadata": {},
      "outputs": [],
      "source": [
       "print(\"Hello World\")"
      ]
     },
     {
      "cell_type": "code",
      "execution_count": null,
      "metadata": {},
      "outputs": [],
      "source": [
       "print(\"Hello World\")"
      ]
     },
     {
      "cell_type": "code",
      "execution_count": null,
      "metadata": {},
      "outputs": [],
      "source": [
       "print(\"Hello World\")"
      ]
     },
     {
      "cell_type": "code",
      "execution_count": null,
      "metadata": {},
      "outputs": [],
      "source": [
       "print(\"Hello World\")"
      ]
     },
     {
      "cell_type": "code",
      "execution_count": null,
      "metadata": {},
      "outputs": [],
      "source": [
       "print(\"Hello World\")"
      ]
     },
     {
      "cell_type": "code",
      "execution_count": null,
      "metadata": {},
      "outputs": [],
      "source": [
       "print(\"Hello World\")"
      ]
     },
     {
      "cell_type": "code",
      "execution_count": null,
      "metadata": {},
      "outputs": [],
      "source": [
       "print(\"Hello World\")"
      ]
     },
     {
      "cell_type": "code",
      "execution_count": null,
      "metadata": {},
      "outputs": [],
      "source": [
       "print(\"Hello World\")"
      ]
     },
     {
      "cell_type": "code",
      "execution_count": null,
      "metadata": {},
      "outputs": [],
      "source": [
       "print(\"Hello World\")"
      ]
     },
     {
      "cell_type": "code",
      "execution_count": null,
      "metadata": {},
      "outputs": [],
      "source": [
       "print(\"Hello World\")"
      ]
     },
     {
      "cell_type": "code",
      "execution_count": null,
      "metadata": {},
      "outputs": [],
      "source": [
       "print(\"Hello World\")"
      ]
     },
     {
      "cell_type": "code",
      "execution_count": null,
      "metadata": {},
      "outputs": [],
      "source": [
       "print(\"Hello World\")"
      ]
     },
     {
      "cell_type": "code",
      "execution_count": null,
      "metadata": {},
      "outputs": [],
      "source": [
       "print(\"Hello World\")"
      ]
     },
     {
      "cell_type": "code",
      "execution_count": null,
      "metadata": {},
      "outputs": [],
      "source": [
       "print(\"Hello World\")"
      ]
     },
     {
      "cell_type": "code",
      "execution_count": null,
      "metadata": {},
      "outputs": [],
      "source": [
       "print(\"Hello World\")"
      ]
     },
     {
      "cell_type": "code",
      "execution_count": null,
      "metadata": {},
      "outputs": [],
      "source": [
       "print(\"Hello World\")"
      ]
     },
     {
      "cell_type": "code",
      "execution_count": null,
      "metadata": {},
      "outputs": [],
      "source": [
       "print(\"Hello World\")"
      ]
     },
     {
      "cell_type": "code",
      "execution_count": null,
      "metadata": {},
      "outputs": [],
      "source": [
       "print(\"Hello World\")"
      ]
     },
     {
      "cell_type": "code",
      "execution_count": null,
      "metadata": {},
      "outputs": [],
      "source": [
       "print(\"Hello World\")"
      ]
     },
     {
      "cell_type": "code",
      "execution_count": null,
      "metadata": {},
      "outputs": [],
      "source": [
       "print(\"Hello World\")"
      ]
     },
     {
      "cell_type": "code",
      "execution_count": null,
      "metadata": {},
      "outputs": [],
      "source": [
       "print(\"Hello World\")"
      ]
     },
     {
      "cell_type": "code",
      "execution_count": null,
      "metadata": {},
      "outputs": [],
      "source": [
       "print(\"Hello World\")"
      ]
     },
     {
      "cell_type": "code",
      "execution_count": null,
      "metadata": {},
      "outputs": [],
      "source": [
       "print(\"Hello World\")"
      ]
     },
     {
      "cell_type": "code",
      "execution_count": null,
      "metadata": {},
      "outputs": [],
      "source": [
       "print(\"Hello World\")"
      ]
     },
     {
      "cell_type": "code",
      "execution_count": null,
      "metadata": {},
      "outputs": [],
      "source": [
       "print(\"Hello World\")"
      ]
     },
     {
      "cell_type": "code",
      "execution_count": null,
      "metadata": {},
      "outputs": [],
      "source": [
       "print(\"Hello World\")"
      ]
     },
     {
      "cell_type": "code",
      "execution_count": null,
      "metadata": {},
      "outputs": [],
      "source": [
       "print(\"Hello World\")"
      ]
     },
     {
      "cell_type": "code",
      "execution_count": null,
      "metadata": {},
      "outputs": [],
      "source": [
       "print(\"Hello World\")"
      ]
     },
     {
      "cell_type": "code",
      "execution_count": null,
      "metadata": {},
      "outputs": [],
      "source": [
       "print(\"Hello World\")"
      ]
     },
     {
      "cell_type": "code",
      "execution_count": null,
      "metadata": {},
      "outputs": [],
      "source": [
       "print(\"Hello World\")"
      ]
     },
     {
      "cell_type": "code",
      "execution_count": null,
      "metadata": {},
      "outputs": [],
      "source": [
       "print(\"Hello World\")"
      ]
     },
     {
      "cell_type": "code",
      "execution_count": null,
      "metadata": {},
      "outputs": [],
      "source": [
       "print(\"Hello World\")"
      ]
     },
     {
      "cell_type": "code",
      "execution_count": null,
      "metadata": {},
      "outputs": [],
      "source": [
       "print(\"Hello World\")"
      ]
     },
     {
      "cell_type": "code",
      "execution_count": null,
      "metadata": {},
      "outputs": [],
      "source": [
       "print(\"Hello World\")"
      ]
     },
     {
      "cell_type": "code",
      "execution_count": null,
      "metadata": {},
      "outputs": [],
      "source": [
       "print(\"Hello World\")"
      ]
     },
     {
      "cell_type": "code",
      "execution_count": null,
      "metadata": {},
      "outputs": [],
      "source": [
       "print(\"Hello World\")"
      ]
     },
     {
      "cell_type": "code",
      "execution_count": null,
      "metadata": {},
      "outputs": [],
      "source": [
       "print(\"Hello World\")"
      ]
     },
     {
      "cell_type": "code",
      "execution_count": null,
      "metadata": {},
      "outputs": [],
      "source": [
       "print(\"Hello World\")"
      ]
     },
     {
      "cell_type": "code",
      "execution_count": null,
      "metadata": {},
      "outputs": [],
      "source": [
       "print(\"Hello World\")"
      ]
     },
     {
      "cell_type": "code",
      "execution_count": null,
      "metadata": {},
      "outputs": [],
      "source": [
       "print(\"Hello World\")"
      ]
     },
     {
      "cell_type": "code",
      "execution_count": null,
      "metadata": {},
      "outputs": [],
      "source": [
       "print(\"Hello World\")"
      ]
     },
     {
      "cell_type": "code",
      "execution_count": null,
      "metadata": {},
      "outputs": [],
      "source": [
       "print(\"Hello World\")"
      ]
     },
     {
      "cell_type": "code",
      "execution_count": null,
      "metadata": {},
      "outputs": [],
      "source": [
       "print(\"Hello World\")"
      ]
     },
     {
      "cell_type": "markdown",
      "metadata": {},
      "source": [
       "# Header 1\n",
       "## Header 2\n",
       "### Header 3\n",
       "#### Header 4\n",
       "##### Header 5\n",
       "Nupedia\n",
       "This article is about the predecessor of Wikipedia. For the online encyclopedia originally known as GNUpedia, see GNE (encyclopedia).\n",
       "Nupedia was an English-language online encyclopedia whose articles were written by volunteer contributors with appropriate subject matter expertise, reviewed by expert editors before publication, and licensed as free content. It was founded by Jimmy Wales and underwritten by Bomis, with Larry Sanger as editor-in-chief. Nupedia operated from October 1999[1][2] until September 2003. It is best known today as the predecessor of Wikipedia. Nupedia had a seven-step approval process to control content of articles before being posted, rather than live wiki-based updating. Nupedia was designed by a committee of experts who predefined the rules. It had only 21 articles in its first year,[a] compared with Wikipedia having 200 articles in the first month, and 18,000 in the first year.[3]\n",
       "\n",
       "Unlike Wikipedia, Nupedia was not a wiki; it was instead characterized by an extensive peer-review process, designed to make its articles of a quality comparable to that of professional encyclopedias. Nupedia wanted scholars (ideally with PhDs) to volunteer content.[4] Before it ceased operating, Nupedia produced 24 approved articles[5][6][7] that had completed its review process and another 150 articles were in progress.[8] Wales preferred Wikipedia's easier posting of articles, while Sanger preferred the peer-reviewed approach used by Nupedia[3] and later founded Citizendium in 2006 as an expert-reviewed alternative to Wikipedia.[9]\n",
       "\n",
       "History\n",
       "\n",
       "In October 1999,[10] Jimmy Wales began thinking about an online encyclopedia built by volunteers and, in January 2000, hired Larry Sanger to oversee its development.[2] The project officially went online on 9 March 2000.[11] By November 2000, however, only two full-length articles had been published.[12]\n",
       "\n",
       "From its beginning, Nupedia was a free content encyclopedia,[11] with Bomis intending to generate revenue from online ads on Nupedia.com.[12] Initially the project used a homegrown license, the Nupedia Open Content License. In January 2001, it switched to the GNU Free Documentation License at the urging of Richard Stallman and the Free Software Foundation.[13] Also in January 2001, Nupedia started Wikipedia as a side-project to allow collaboration on articles before entering the peer review process.[14] This attracted interest from both sides, as it provided the less bureaucratic structure favored by advocates of the GNE encyclopedia. As a result, GNE never really developed, and the threat of competition between the projects was averted. As Wikipedia grew and attracted contributors, it quickly developed a life of its own and began to function largely independently of Nupedia, although Sanger initially led activity on Wikipedia by virtue of his position as Nupedia's editor-in-chief.\n",
       "\n",
       "Besides leading to discontinuation of the GNE project, Wikipedia also led to the gradual demise of Nupedia. Due to the collapse of the internet economy at that time, Jimmy Wales decided to discontinue funding for a salaried editor-in-chief in December 2001,[2] and Sanger resigned from both projects shortly thereafter.[15] After Sanger's departure, Nupedia increasingly became an afterthought to Wikipedia; of the Nupedia articles that completed the review process, only two did so after 2001. As Nupedia dwindled into inactivity, the idea of converting it into a stable version of approved Wikipedia articles was occasionally broached, but never implemented. Nupedia's server crashed in September 2003.[16][17] Nupedia's encyclopedic content was assimilated into Wikipedia.[18]\n",
       "\n",
       "Editorial process\n",
       "\n",
       "Nupedia had a seven-step editorial process, consisting of:\n",
       "\n",
       "Assignment\n",
       "Finding a lead reviewer\n",
       "Lead review\n",
       "Open review\n",
       "Lead copyediting\n",
       "Open copyediting\n",
       "Final approval and markup\n",
       "Authors were expected to have expert knowledge (although the definition of expert allowed for a degree of flexibility, and it was acknowledged that some articles could be written by a good writer, rather than an expert per se)[19] and the editors approving articles for publication were expected \"to be true experts in their fields and (with few exceptions) [to] possess PhDs\".[20]\n",
       "\n",
       "Ruth Ifcher was someone Sanger depended upon and worked closely with on Nupedia's early policies and procedures. Ifcher, holding several higher degrees, was a computer programmer and former copy editor and agreed to be volunteer chief copy editor.[21]\n",
       "\n",
       "Software development\n",
       "\n",
       "Nupedia was powered by NupeCode collaborative software. NupeCode is free/open source software (released under the GNU General Public License) designed for large peer review projects. The code was available via Nupedia's CVS repository. One of the problems experienced by Nupedia during much of its existence was that the software lacked functionality. Much of the missing functionality had been mocked-up using underlined blocks of text which appeared to be hyperlinks, but actually were not.[citation needed]\n",
       "\n",
       "As part of the project, a new version of the original software (called \"NuNupedia\") was under development. NuNupedia was implemented for testing at SourceForge, but never reached a sufficient stage of development to replace the original software.[22]\n",
       "\n",
       "See also\n",
       "\n",
       "iconInternet portal\n",
       "List of online encyclopedias\n",
       "List of wikis\n",
       "Scholarpedia\n",
       "Encyclopedia Britannica\n",
       "Wikipedia:Nupedia and Wikipedia § Articles copied to Wikipedia\n",
       "Notes\n",
       "\n",
       "Wikipedia:Nupedia and Wikipedia § Articles copied to Wikipedia\n",
       "References\n",
       "\n",
       "\"Nupedia.com WHOIS, DNS, & DomainTools\". WHOIS. 2016. Archived from the original on 24 July 2017. Retrieved 6 March 2016.normal\n",
       "^ a b c Poe, Marshall (September 2006). \"Can thousands of Wikipedians be wrong? How an attempt to build an online encyclopedia touched off history's biggest experiment in collaborative knowledge\". The Hive. The Atlantic. Archived from the original on 26 October 2012. Retrieved 1 January 2007.normal\n",
       "^ a b Sanger, Larry (18 April 2005). \"The Early History of Nupedia and Wikipedia: A Memoir\". Slashdot. Archived from the original on 25 May 2009. Retrieved 26 May 2012.normal\n",
       "Lih, Andrew (2009). The Wikipedia Revolution: How a Bunch of Nobodies Created the World's Greatest Encyclopedia. London: Aurum. p. 38. ISBN 9781845134730. OCLC 280430641. His academic roots compelled Sanger to insist on one rigid requirement for his editors: a pedigree. \"We wish editors to be true experts in their fields and (with a few exceptions) possess Ph.Ds.\" read the Nupedia policy.normal\n",
       "Craig 2013, p. 84\n",
       "Ayers 2008\n",
       "Myers 2006, p. 163\n",
       "\"When Wikipedia was young: the early years\". VatorNews. 13 June 2017. Archived from the original on 26 December 2018. Retrieved 25 July 2018.normal\n",
       "\"Wikipedia founder forks Wikipedia\". Archived from the original on 26 December 2018. Retrieved 7 August 2018.normal\n",
       "\"NuPedia.com WHOIS, DNS, & Domain Info - DomainTools\". WHOIS. Archived from the original on 24 July 2017. Retrieved 6 July 2016.normal\n",
       "^ a b Gouthro, Liane (10 March 2000). \"Building the world's biggest encyclopedia\". PC World. Archived from the original on 19 July 2009. Retrieved 19 January 2008.normal\n",
       "^ a b Frauenfelder, Mark (21 November 2000). \"The next generation of online encyclopedias\". The Industry Standard/CNN. Archived from the original on 14 August 2004. Retrieved 14 February 2019.normal\n",
       "jwales (17 January 2001). \"Re:GNUPedia = Nupedia?\". GNUPedia Project Starting. Slashdot. Archived from the original on 26 June 2013. Retrieved 25 May 2008.normal\n",
       "Larry Sanger (10 January 2001). \"Let's make a wiki\". Nupedia-l mailing list. Internet Archive. Archived from the original on 14 April 2003.normal\n",
       "Sanger, Larry. \"My Resignation\". Wikipedia-L. Bomis, Inc. Archived from the original on 24 December 2019. Retrieved 24 December 2019.normal\n",
       "\"1 Nazis and Norms\". reagle.org. Archived from the original on 30 April 2020. Retrieved 25 April 2020.normal\n",
       "Reagle, p. 6\n",
       "Waters 2010, pp. 179–180\n",
       "\"Nupedia.com Editorial Policy Guidelines (Version 3.31)\". Nupedia. 16 November 2000. Archived from the original on 31 March 2001. Retrieved 3 June 2010. The rule of thumb an editor should bear in mind is: would an article on this topic be of significantly greater quality if it were written by an expert on the subject? If yes, we will require that the writer be an expert on the subject. If no, nonspecialists (who are good writers) are more than welcome.normal\n",
       "\"How to be an editor or peer reviewer for Nupedia\". Nupedia. Archived from the original on 10 April 2001. Retrieved 3 June 2010.normal\n",
       "Lih, Andrew (2009). The Wikipedia Revolution. New York: Hyperion. p. 37. ISBN 9781401303716.normal\n",
       "\"NuNupedia\". SourceForge. Archived from the original on 28 October 2018. Retrieved 16 February 2017.normal\n",
       "Further reading\n",
       "\n",
       "Larry Sanger, The Early History of Nupedia and Wikipedia: A Memoir Part 1 and Part 2. Slashdot, April 2005.\n",
       "Larry Sanger, \"Nupedia.com Statement of Editorial Policy, Version 2.1\", Printable Version dated 10 May 2000.\n",
       "Larry Sanger, \"Nupedia.com Statement of Editorial Policy, Version 3.2\", Printable Version dated 23 June 2000.\n",
       "External links\n",
       "\n",
       "Earlier versions of Nupedia (from the Internet Archive)\n",
       "v\n",
       "t\n",
       "e\n",
       "Wikipedia\n",
       "Overview\n",
       "(outline)\t\n",
       "Censorship\n",
       "Conflict-of-interest editing\n",
       "political editing incidents\n",
       "Criticism\n",
       "Biases\n",
       "gender\n",
       "geographical\n",
       "ideological\n",
       "racial\n",
       "Deletion of articles\n",
       "deletionism and inclusionism\n",
       "notability\n",
       "\"Ignore all rules\"\n",
       "MediaWiki\n",
       "Plagiarism\n",
       "Predictions of the project's end\n",
       "Reliability\n",
       "Fact-checking\n",
       "Citation needed\n",
       "Vandalism\n",
       "Community\n",
       "(Wikipedians)\t\n",
       "Administrators\n",
       "AfroCrowd\n",
       "Arbitration Committee\n",
       "Art+Feminism\n",
       "Bots\n",
       "Lsjbot\n",
       "Edit count\n",
       "List of Wikipedias\n",
       "The Signpost\n",
       "Wikimedian of the Year\n",
       "Wikipedian in residence\n",
       "WikiProject\n",
       "Women in Red\n",
       "Events\t\n",
       "Edit-a-thon\n",
       "WikiConference India\n",
       "Wiki Indaba\n",
       "WikiConference North America\n",
       "Wikimania\n",
       "Wiki Loves\t\n",
       "Earth\n",
       "Folklore\n",
       "Monuments\n",
       "Pride\n",
       "Science\n",
       "People\n",
       "(list)\t\n",
       "Esra'a Al Shafei\n",
       "Florence Devouard\n",
       "Sue Gardner\n",
       "James Heilman\n",
       "Maryana Iskander\n",
       "Dariusz Jemielniak\n",
       "Rebecca MacKinnon\n",
       "Katherine Maher\n",
       "Magnus Manske\n",
       "Ira Brad Matetsky\n",
       "Erik Möller\n",
       "Jason Moore\n",
       "Raju Narisetti\n",
       "Steven Pruitt\n",
       "Annie Rauwerda\n",
       "Larry Sanger\n",
       "María Sefidari\n",
       "Lisa Seitz-Gruwell\n",
       "Rosie Stephenson-Goodknight\n",
       "Lila Tretikov\n",
       "Jimmy Wales\n",
       "History\t\n",
       "Bomis\n",
       "Nupedia\n",
       "First edit\n",
       "Logo\n",
       "Internet Watch Foundation\n",
       "Scientology\n",
       "Hillsborough disaster Wikipedia posts\n",
       "VisualEditor\n",
       "#1Lib1Ref\n",
       "2021 Wikimedia Foundation actions on the Chinese Wikipedia\n",
       "Controversies\t\n",
       "Essjay controversy\n",
       "Henryk Batuta hoax\n",
       "Jar'Edo Wens hoax\n",
       "Seigenthaler biography incident\n",
       "Star Trek Into Darkness debate\n",
       "United States congressional staff edits\n",
       "Zhemao hoaxes\n",
       "Coverage\t\n",
       "American politics\n",
       "Donald Trump\n",
       "COVID-19 pandemic\n",
       "Death\n",
       "Israeli–Palestinian conflict\n",
       "Russian invasion of Ukraine\n",
       "Honors\t\n",
       "274301 Wikipedia\n",
       "Viola angustifolia\n",
       "Wikipedia Monument\n",
       "References\n",
       "and analysis\t\n",
       "Academic studies\n",
       "Bibliography\n",
       "Cultural\n",
       "Films\n",
       "Listen to Wikipedia\n",
       "Wikipediocracy\n",
       "Mobile\t\n",
       "Apps\n",
       "QRpedia\n",
       "Wapedia\n",
       "Wikipedia Zero\n",
       "WikiReader\n",
       "Wikiwand\n",
       "Content use\t\n",
       "DBpedia\n",
       "Depths of Wikipedia\n",
       "Google and Wikipedia\n",
       "Health information\n",
       "Kiwix\n",
       "Science information\n",
       "Wikimedia Enterprise\n",
       "Related\t\n",
       "The Iraq War: A Historiography of Wikipedia Changelogs\n",
       "LGBT and Wikipedia\n",
       "Magna Carta (An Embroidery)\n",
       "People imprisoned for editing Wikipedia\n",
       "Print Wikipedia\n",
       "Wiki rabbit hole\n",
       "Wikimedia Foundation\n",
       "Wikimedia movement\n",
       "Wikipedia for World Heritage\n",
       "Wikipedia in India\n",
       "Wikiracing\n",
       "List of online encyclopedias\n",
       "List of wikis\n",
       "\n",
       "###### Header 6\n",
       "####### Header 7\n",
       "######## Header 8"
      ]
     },
     {
      "cell_type": "code",
      "execution_count": null,
      "metadata": {},
      "outputs": [],
      "source": [
       "print(\"Hello World\")"
      ]
     },
     {
      "cell_type": "markdown",
      "metadata": {},
      "source": [
       "# Header 1\n",
       "## Header 2\n",
       "### Header 3\n",
       "#### Header 4\n",
       "##### Header 5\n",
       "Nupedia\n",
       "This article is about the predecessor of Wikipedia. For the online encyclopedia originally known as GNUpedia, see GNE (encyclopedia).\n",
       "Nupedia was an English-language online encyclopedia whose articles were written by volunteer contributors with appropriate subject matter expertise, reviewed by expert editors before publication, and licensed as free content. It was founded by Jimmy Wales and underwritten by Bomis, with Larry Sanger as editor-in-chief. Nupedia operated from October 1999[1][2] until September 2003. It is best known today as the predecessor of Wikipedia. Nupedia had a seven-step approval process to control content of articles before being posted, rather than live wiki-based updating. Nupedia was designed by a committee of experts who predefined the rules. It had only 21 articles in its first year,[a] compared with Wikipedia having 200 articles in the first month, and 18,000 in the first year.[3]\n",
       "\n",
       "Unlike Wikipedia, Nupedia was not a wiki; it was instead characterized by an extensive peer-review process, designed to make its articles of a quality comparable to that of professional encyclopedias. Nupedia wanted scholars (ideally with PhDs) to volunteer content.[4] Before it ceased operating, Nupedia produced 24 approved articles[5][6][7] that had completed its review process and another 150 articles were in progress.[8] Wales preferred Wikipedia's easier posting of articles, while Sanger preferred the peer-reviewed approach used by Nupedia[3] and later founded Citizendium in 2006 as an expert-reviewed alternative to Wikipedia.[9]\n",
       "\n",
       "History\n",
       "\n",
       "In October 1999,[10] Jimmy Wales began thinking about an online encyclopedia built by volunteers and, in January 2000, hired Larry Sanger to oversee its development.[2] The project officially went online on 9 March 2000.[11] By November 2000, however, only two full-length articles had been published.[12]\n",
       "\n",
       "From its beginning, Nupedia was a free content encyclopedia,[11] with Bomis intending to generate revenue from online ads on Nupedia.com.[12] Initially the project used a homegrown license, the Nupedia Open Content License. In January 2001, it switched to the GNU Free Documentation License at the urging of Richard Stallman and the Free Software Foundation.[13] Also in January 2001, Nupedia started Wikipedia as a side-project to allow collaboration on articles before entering the peer review process.[14] This attracted interest from both sides, as it provided the less bureaucratic structure favored by advocates of the GNE encyclopedia. As a result, GNE never really developed, and the threat of competition between the projects was averted. As Wikipedia grew and attracted contributors, it quickly developed a life of its own and began to function largely independently of Nupedia, although Sanger initially led activity on Wikipedia by virtue of his position as Nupedia's editor-in-chief.\n",
       "\n",
       "Besides leading to discontinuation of the GNE project, Wikipedia also led to the gradual demise of Nupedia. Due to the collapse of the internet economy at that time, Jimmy Wales decided to discontinue funding for a salaried editor-in-chief in December 2001,[2] and Sanger resigned from both projects shortly thereafter.[15] After Sanger's departure, Nupedia increasingly became an afterthought to Wikipedia; of the Nupedia articles that completed the review process, only two did so after 2001. As Nupedia dwindled into inactivity, the idea of converting it into a stable version of approved Wikipedia articles was occasionally broached, but never implemented. Nupedia's server crashed in September 2003.[16][17] Nupedia's encyclopedic content was assimilated into Wikipedia.[18]\n",
       "\n",
       "Editorial process\n",
       "\n",
       "Nupedia had a seven-step editorial process, consisting of:\n",
       "\n",
       "Assignment\n",
       "Finding a lead reviewer\n",
       "Lead review\n",
       "Open review\n",
       "Lead copyediting\n",
       "Open copyediting\n",
       "Final approval and markup\n",
       "Authors were expected to have expert knowledge (although the definition of expert allowed for a degree of flexibility, and it was acknowledged that some articles could be written by a good writer, rather than an expert per se)[19] and the editors approving articles for publication were expected \"to be true experts in their fields and (with few exceptions) [to] possess PhDs\".[20]\n",
       "\n",
       "Ruth Ifcher was someone Sanger depended upon and worked closely with on Nupedia's early policies and procedures. Ifcher, holding several higher degrees, was a computer programmer and former copy editor and agreed to be volunteer chief copy editor.[21]\n",
       "\n",
       "Software development\n",
       "\n",
       "Nupedia was powered by NupeCode collaborative software. NupeCode is free/open source software (released under the GNU General Public License) designed for large peer review projects. The code was available via Nupedia's CVS repository. One of the problems experienced by Nupedia during much of its existence was that the software lacked functionality. Much of the missing functionality had been mocked-up using underlined blocks of text which appeared to be hyperlinks, but actually were not.[citation needed]\n",
       "\n",
       "As part of the project, a new version of the original software (called \"NuNupedia\") was under development. NuNupedia was implemented for testing at SourceForge, but never reached a sufficient stage of development to replace the original software.[22]\n",
       "\n",
       "See also\n",
       "\n",
       "iconInternet portal\n",
       "List of online encyclopedias\n",
       "List of wikis\n",
       "Scholarpedia\n",
       "Encyclopedia Britannica\n",
       "Wikipedia:Nupedia and Wikipedia § Articles copied to Wikipedia\n",
       "Notes\n",
       "\n",
       "Wikipedia:Nupedia and Wikipedia § Articles copied to Wikipedia\n",
       "References\n",
       "\n",
       "\"Nupedia.com WHOIS, DNS, & DomainTools\". WHOIS. 2016. Archived from the original on 24 July 2017. Retrieved 6 March 2016.normal\n",
       "^ a b c Poe, Marshall (September 2006). \"Can thousands of Wikipedians be wrong? How an attempt to build an online encyclopedia touched off history's biggest experiment in collaborative knowledge\". The Hive. The Atlantic. Archived from the original on 26 October 2012. Retrieved 1 January 2007.normal\n",
       "^ a b Sanger, Larry (18 April 2005). \"The Early History of Nupedia and Wikipedia: A Memoir\". Slashdot. Archived from the original on 25 May 2009. Retrieved 26 May 2012.normal\n",
       "Lih, Andrew (2009). The Wikipedia Revolution: How a Bunch of Nobodies Created the World's Greatest Encyclopedia. London: Aurum. p. 38. ISBN 9781845134730. OCLC 280430641. His academic roots compelled Sanger to insist on one rigid requirement for his editors: a pedigree. \"We wish editors to be true experts in their fields and (with a few exceptions) possess Ph.Ds.\" read the Nupedia policy.normal\n",
       "Craig 2013, p. 84\n",
       "Ayers 2008\n",
       "Myers 2006, p. 163\n",
       "\"When Wikipedia was young: the early years\". VatorNews. 13 June 2017. Archived from the original on 26 December 2018. Retrieved 25 July 2018.normal\n",
       "\"Wikipedia founder forks Wikipedia\". Archived from the original on 26 December 2018. Retrieved 7 August 2018.normal\n",
       "\"NuPedia.com WHOIS, DNS, & Domain Info - DomainTools\". WHOIS. Archived from the original on 24 July 2017. Retrieved 6 July 2016.normal\n",
       "^ a b Gouthro, Liane (10 March 2000). \"Building the world's biggest encyclopedia\". PC World. Archived from the original on 19 July 2009. Retrieved 19 January 2008.normal\n",
       "^ a b Frauenfelder, Mark (21 November 2000). \"The next generation of online encyclopedias\". The Industry Standard/CNN. Archived from the original on 14 August 2004. Retrieved 14 February 2019.normal\n",
       "jwales (17 January 2001). \"Re:GNUPedia = Nupedia?\". GNUPedia Project Starting. Slashdot. Archived from the original on 26 June 2013. Retrieved 25 May 2008.normal\n",
       "Larry Sanger (10 January 2001). \"Let's make a wiki\". Nupedia-l mailing list. Internet Archive. Archived from the original on 14 April 2003.normal\n",
       "Sanger, Larry. \"My Resignation\". Wikipedia-L. Bomis, Inc. Archived from the original on 24 December 2019. Retrieved 24 December 2019.normal\n",
       "\"1 Nazis and Norms\". reagle.org. Archived from the original on 30 April 2020. Retrieved 25 April 2020.normal\n",
       "Reagle, p. 6\n",
       "Waters 2010, pp. 179–180\n",
       "\"Nupedia.com Editorial Policy Guidelines (Version 3.31)\". Nupedia. 16 November 2000. Archived from the original on 31 March 2001. Retrieved 3 June 2010. The rule of thumb an editor should bear in mind is: would an article on this topic be of significantly greater quality if it were written by an expert on the subject? If yes, we will require that the writer be an expert on the subject. If no, nonspecialists (who are good writers) are more than welcome.normal\n",
       "\"How to be an editor or peer reviewer for Nupedia\". Nupedia. Archived from the original on 10 April 2001. Retrieved 3 June 2010.normal\n",
       "Lih, Andrew (2009). The Wikipedia Revolution. New York: Hyperion. p. 37. ISBN 9781401303716.normal\n",
       "\"NuNupedia\". SourceForge. Archived from the original on 28 October 2018. Retrieved 16 February 2017.normal\n",
       "Further reading\n",
       "\n",
       "Larry Sanger, The Early History of Nupedia and Wikipedia: A Memoir Part 1 and Part 2. Slashdot, April 2005.\n",
       "Larry Sanger, \"Nupedia.com Statement of Editorial Policy, Version 2.1\", Printable Version dated 10 May 2000.\n",
       "Larry Sanger, \"Nupedia.com Statement of Editorial Policy, Version 3.2\", Printable Version dated 23 June 2000.\n",
       "External links\n",
       "\n",
       "Earlier versions of Nupedia (from the Internet Archive)\n",
       "v\n",
       "t\n",
       "e\n",
       "Wikipedia\n",
       "Overview\n",
       "(outline)\t\n",
       "Censorship\n",
       "Conflict-of-interest editing\n",
       "political editing incidents\n",
       "Criticism\n",
       "Biases\n",
       "gender\n",
       "geographical\n",
       "ideological\n",
       "racial\n",
       "Deletion of articles\n",
       "deletionism and inclusionism\n",
       "notability\n",
       "\"Ignore all rules\"\n",
       "MediaWiki\n",
       "Plagiarism\n",
       "Predictions of the project's end\n",
       "Reliability\n",
       "Fact-checking\n",
       "Citation needed\n",
       "Vandalism\n",
       "Community\n",
       "(Wikipedians)\t\n",
       "Administrators\n",
       "AfroCrowd\n",
       "Arbitration Committee\n",
       "Art+Feminism\n",
       "Bots\n",
       "Lsjbot\n",
       "Edit count\n",
       "List of Wikipedias\n",
       "The Signpost\n",
       "Wikimedian of the Year\n",
       "Wikipedian in residence\n",
       "WikiProject\n",
       "Women in Red\n",
       "Events\t\n",
       "Edit-a-thon\n",
       "WikiConference India\n",
       "Wiki Indaba\n",
       "WikiConference North America\n",
       "Wikimania\n",
       "Wiki Loves\t\n",
       "Earth\n",
       "Folklore\n",
       "Monuments\n",
       "Pride\n",
       "Science\n",
       "People\n",
       "(list)\t\n",
       "Esra'a Al Shafei\n",
       "Florence Devouard\n",
       "Sue Gardner\n",
       "James Heilman\n",
       "Maryana Iskander\n",
       "Dariusz Jemielniak\n",
       "Rebecca MacKinnon\n",
       "Katherine Maher\n",
       "Magnus Manske\n",
       "Ira Brad Matetsky\n",
       "Erik Möller\n",
       "Jason Moore\n",
       "Raju Narisetti\n",
       "Steven Pruitt\n",
       "Annie Rauwerda\n",
       "Larry Sanger\n",
       "María Sefidari\n",
       "Lisa Seitz-Gruwell\n",
       "Rosie Stephenson-Goodknight\n",
       "Lila Tretikov\n",
       "Jimmy Wales\n",
       "History\t\n",
       "Bomis\n",
       "Nupedia\n",
       "First edit\n",
       "Logo\n",
       "Internet Watch Foundation\n",
       "Scientology\n",
       "Hillsborough disaster Wikipedia posts\n",
       "VisualEditor\n",
       "#1Lib1Ref\n",
       "2021 Wikimedia Foundation actions on the Chinese Wikipedia\n",
       "Controversies\t\n",
       "Essjay controversy\n",
       "Henryk Batuta hoax\n",
       "Jar'Edo Wens hoax\n",
       "Seigenthaler biography incident\n",
       "Star Trek Into Darkness debate\n",
       "United States congressional staff edits\n",
       "Zhemao hoaxes\n",
       "Coverage\t\n",
       "American politics\n",
       "Donald Trump\n",
       "COVID-19 pandemic\n",
       "Death\n",
       "Israeli–Palestinian conflict\n",
       "Russian invasion of Ukraine\n",
       "Honors\t\n",
       "274301 Wikipedia\n",
       "Viola angustifolia\n",
       "Wikipedia Monument\n",
       "References\n",
       "and analysis\t\n",
       "Academic studies\n",
       "Bibliography\n",
       "Cultural\n",
       "Films\n",
       "Listen to Wikipedia\n",
       "Wikipediocracy\n",
       "Mobile\t\n",
       "Apps\n",
       "QRpedia\n",
       "Wapedia\n",
       "Wikipedia Zero\n",
       "WikiReader\n",
       "Wikiwand\n",
       "Content use\t\n",
       "DBpedia\n",
       "Depths of Wikipedia\n",
       "Google and Wikipedia\n",
       "Health information\n",
       "Kiwix\n",
       "Science information\n",
       "Wikimedia Enterprise\n",
       "Related\t\n",
       "The Iraq War: A Historiography of Wikipedia Changelogs\n",
       "LGBT and Wikipedia\n",
       "Magna Carta (An Embroidery)\n",
       "People imprisoned for editing Wikipedia\n",
       "Print Wikipedia\n",
       "Wiki rabbit hole\n",
       "Wikimedia Foundation\n",
       "Wikimedia movement\n",
       "Wikipedia for World Heritage\n",
       "Wikipedia in India\n",
       "Wikiracing\n",
       "List of online encyclopedias\n",
       "List of wikis\n",
       "\n",
       "###### Header 6\n",
       "####### Header 7\n",
       "######## Header 8"
      ]
     },
     {
      "cell_type": "code",
      "execution_count": null,
      "metadata": {},
      "outputs": [],
      "source": [
       "print(\"Hello World\")"
      ]
     },
     {
      "cell_type": "markdown",
      "metadata": {},
      "source": [
       "# Header 1\n",
       "## Header 2\n",
       "### Header 3\n",
       "#### Header 4\n",
       "##### Header 5\n",
       "Nupedia\n",
       "This article is about the predecessor of Wikipedia. For the online encyclopedia originally known as GNUpedia, see GNE (encyclopedia).\n",
       "Nupedia was an English-language online encyclopedia whose articles were written by volunteer contributors with appropriate subject matter expertise, reviewed by expert editors before publication, and licensed as free content. It was founded by Jimmy Wales and underwritten by Bomis, with Larry Sanger as editor-in-chief. Nupedia operated from October 1999[1][2] until September 2003. It is best known today as the predecessor of Wikipedia. Nupedia had a seven-step approval process to control content of articles before being posted, rather than live wiki-based updating. Nupedia was designed by a committee of experts who predefined the rules. It had only 21 articles in its first year,[a] compared with Wikipedia having 200 articles in the first month, and 18,000 in the first year.[3]\n",
       "\n",
       "Unlike Wikipedia, Nupedia was not a wiki; it was instead characterized by an extensive peer-review process, designed to make its articles of a quality comparable to that of professional encyclopedias. Nupedia wanted scholars (ideally with PhDs) to volunteer content.[4] Before it ceased operating, Nupedia produced 24 approved articles[5][6][7] that had completed its review process and another 150 articles were in progress.[8] Wales preferred Wikipedia's easier posting of articles, while Sanger preferred the peer-reviewed approach used by Nupedia[3] and later founded Citizendium in 2006 as an expert-reviewed alternative to Wikipedia.[9]\n",
       "\n",
       "History\n",
       "\n",
       "In October 1999,[10] Jimmy Wales began thinking about an online encyclopedia built by volunteers and, in January 2000, hired Larry Sanger to oversee its development.[2] The project officially went online on 9 March 2000.[11] By November 2000, however, only two full-length articles had been published.[12]\n",
       "\n",
       "From its beginning, Nupedia was a free content encyclopedia,[11] with Bomis intending to generate revenue from online ads on Nupedia.com.[12] Initially the project used a homegrown license, the Nupedia Open Content License. In January 2001, it switched to the GNU Free Documentation License at the urging of Richard Stallman and the Free Software Foundation.[13] Also in January 2001, Nupedia started Wikipedia as a side-project to allow collaboration on articles before entering the peer review process.[14] This attracted interest from both sides, as it provided the less bureaucratic structure favored by advocates of the GNE encyclopedia. As a result, GNE never really developed, and the threat of competition between the projects was averted. As Wikipedia grew and attracted contributors, it quickly developed a life of its own and began to function largely independently of Nupedia, although Sanger initially led activity on Wikipedia by virtue of his position as Nupedia's editor-in-chief.\n",
       "\n",
       "Besides leading to discontinuation of the GNE project, Wikipedia also led to the gradual demise of Nupedia. Due to the collapse of the internet economy at that time, Jimmy Wales decided to discontinue funding for a salaried editor-in-chief in December 2001,[2] and Sanger resigned from both projects shortly thereafter.[15] After Sanger's departure, Nupedia increasingly became an afterthought to Wikipedia; of the Nupedia articles that completed the review process, only two did so after 2001. As Nupedia dwindled into inactivity, the idea of converting it into a stable version of approved Wikipedia articles was occasionally broached, but never implemented. Nupedia's server crashed in September 2003.[16][17] Nupedia's encyclopedic content was assimilated into Wikipedia.[18]\n",
       "\n",
       "Editorial process\n",
       "\n",
       "Nupedia had a seven-step editorial process, consisting of:\n",
       "\n",
       "Assignment\n",
       "Finding a lead reviewer\n",
       "Lead review\n",
       "Open review\n",
       "Lead copyediting\n",
       "Open copyediting\n",
       "Final approval and markup\n",
       "Authors were expected to have expert knowledge (although the definition of expert allowed for a degree of flexibility, and it was acknowledged that some articles could be written by a good writer, rather than an expert per se)[19] and the editors approving articles for publication were expected \"to be true experts in their fields and (with few exceptions) [to] possess PhDs\".[20]\n",
       "\n",
       "Ruth Ifcher was someone Sanger depended upon and worked closely with on Nupedia's early policies and procedures. Ifcher, holding several higher degrees, was a computer programmer and former copy editor and agreed to be volunteer chief copy editor.[21]\n",
       "\n",
       "Software development\n",
       "\n",
       "Nupedia was powered by NupeCode collaborative software. NupeCode is free/open source software (released under the GNU General Public License) designed for large peer review projects. The code was available via Nupedia's CVS repository. One of the problems experienced by Nupedia during much of its existence was that the software lacked functionality. Much of the missing functionality had been mocked-up using underlined blocks of text which appeared to be hyperlinks, but actually were not.[citation needed]\n",
       "\n",
       "As part of the project, a new version of the original software (called \"NuNupedia\") was under development. NuNupedia was implemented for testing at SourceForge, but never reached a sufficient stage of development to replace the original software.[22]\n",
       "\n",
       "See also\n",
       "\n",
       "iconInternet portal\n",
       "List of online encyclopedias\n",
       "List of wikis\n",
       "Scholarpedia\n",
       "Encyclopedia Britannica\n",
       "Wikipedia:Nupedia and Wikipedia § Articles copied to Wikipedia\n",
       "Notes\n",
       "\n",
       "Wikipedia:Nupedia and Wikipedia § Articles copied to Wikipedia\n",
       "References\n",
       "\n",
       "\"Nupedia.com WHOIS, DNS, & DomainTools\". WHOIS. 2016. Archived from the original on 24 July 2017. Retrieved 6 March 2016.normal\n",
       "^ a b c Poe, Marshall (September 2006). \"Can thousands of Wikipedians be wrong? How an attempt to build an online encyclopedia touched off history's biggest experiment in collaborative knowledge\". The Hive. The Atlantic. Archived from the original on 26 October 2012. Retrieved 1 January 2007.normal\n",
       "^ a b Sanger, Larry (18 April 2005). \"The Early History of Nupedia and Wikipedia: A Memoir\". Slashdot. Archived from the original on 25 May 2009. Retrieved 26 May 2012.normal\n",
       "Lih, Andrew (2009). The Wikipedia Revolution: How a Bunch of Nobodies Created the World's Greatest Encyclopedia. London: Aurum. p. 38. ISBN 9781845134730. OCLC 280430641. His academic roots compelled Sanger to insist on one rigid requirement for his editors: a pedigree. \"We wish editors to be true experts in their fields and (with a few exceptions) possess Ph.Ds.\" read the Nupedia policy.normal\n",
       "Craig 2013, p. 84\n",
       "Ayers 2008\n",
       "Myers 2006, p. 163\n",
       "\"When Wikipedia was young: the early years\". VatorNews. 13 June 2017. Archived from the original on 26 December 2018. Retrieved 25 July 2018.normal\n",
       "\"Wikipedia founder forks Wikipedia\". Archived from the original on 26 December 2018. Retrieved 7 August 2018.normal\n",
       "\"NuPedia.com WHOIS, DNS, & Domain Info - DomainTools\". WHOIS. Archived from the original on 24 July 2017. Retrieved 6 July 2016.normal\n",
       "^ a b Gouthro, Liane (10 March 2000). \"Building the world's biggest encyclopedia\". PC World. Archived from the original on 19 July 2009. Retrieved 19 January 2008.normal\n",
       "^ a b Frauenfelder, Mark (21 November 2000). \"The next generation of online encyclopedias\". The Industry Standard/CNN. Archived from the original on 14 August 2004. Retrieved 14 February 2019.normal\n",
       "jwales (17 January 2001). \"Re:GNUPedia = Nupedia?\". GNUPedia Project Starting. Slashdot. Archived from the original on 26 June 2013. Retrieved 25 May 2008.normal\n",
       "Larry Sanger (10 January 2001). \"Let's make a wiki\". Nupedia-l mailing list. Internet Archive. Archived from the original on 14 April 2003.normal\n",
       "Sanger, Larry. \"My Resignation\". Wikipedia-L. Bomis, Inc. Archived from the original on 24 December 2019. Retrieved 24 December 2019.normal\n",
       "\"1 Nazis and Norms\". reagle.org. Archived from the original on 30 April 2020. Retrieved 25 April 2020.normal\n",
       "Reagle, p. 6\n",
       "Waters 2010, pp. 179–180\n",
       "\"Nupedia.com Editorial Policy Guidelines (Version 3.31)\". Nupedia. 16 November 2000. Archived from the original on 31 March 2001. Retrieved 3 June 2010. The rule of thumb an editor should bear in mind is: would an article on this topic be of significantly greater quality if it were written by an expert on the subject? If yes, we will require that the writer be an expert on the subject. If no, nonspecialists (who are good writers) are more than welcome.normal\n",
       "\"How to be an editor or peer reviewer for Nupedia\". Nupedia. Archived from the original on 10 April 2001. Retrieved 3 June 2010.normal\n",
       "Lih, Andrew (2009). The Wikipedia Revolution. New York: Hyperion. p. 37. ISBN 9781401303716.normal\n",
       "\"NuNupedia\". SourceForge. Archived from the original on 28 October 2018. Retrieved 16 February 2017.normal\n",
       "Further reading\n",
       "\n",
       "Larry Sanger, The Early History of Nupedia and Wikipedia: A Memoir Part 1 and Part 2. Slashdot, April 2005.\n",
       "Larry Sanger, \"Nupedia.com Statement of Editorial Policy, Version 2.1\", Printable Version dated 10 May 2000.\n",
       "Larry Sanger, \"Nupedia.com Statement of Editorial Policy, Version 3.2\", Printable Version dated 23 June 2000.\n",
       "External links\n",
       "\n",
       "Earlier versions of Nupedia (from the Internet Archive)\n",
       "v\n",
       "t\n",
       "e\n",
       "Wikipedia\n",
       "Overview\n",
       "(outline)\t\n",
       "Censorship\n",
       "Conflict-of-interest editing\n",
       "political editing incidents\n",
       "Criticism\n",
       "Biases\n",
       "gender\n",
       "geographical\n",
       "ideological\n",
       "racial\n",
       "Deletion of articles\n",
       "deletionism and inclusionism\n",
       "notability\n",
       "\"Ignore all rules\"\n",
       "MediaWiki\n",
       "Plagiarism\n",
       "Predictions of the project's end\n",
       "Reliability\n",
       "Fact-checking\n",
       "Citation needed\n",
       "Vandalism\n",
       "Community\n",
       "(Wikipedians)\t\n",
       "Administrators\n",
       "AfroCrowd\n",
       "Arbitration Committee\n",
       "Art+Feminism\n",
       "Bots\n",
       "Lsjbot\n",
       "Edit count\n",
       "List of Wikipedias\n",
       "The Signpost\n",
       "Wikimedian of the Year\n",
       "Wikipedian in residence\n",
       "WikiProject\n",
       "Women in Red\n",
       "Events\t\n",
       "Edit-a-thon\n",
       "WikiConference India\n",
       "Wiki Indaba\n",
       "WikiConference North America\n",
       "Wikimania\n",
       "Wiki Loves\t\n",
       "Earth\n",
       "Folklore\n",
       "Monuments\n",
       "Pride\n",
       "Science\n",
       "People\n",
       "(list)\t\n",
       "Esra'a Al Shafei\n",
       "Florence Devouard\n",
       "Sue Gardner\n",
       "James Heilman\n",
       "Maryana Iskander\n",
       "Dariusz Jemielniak\n",
       "Rebecca MacKinnon\n",
       "Katherine Maher\n",
       "Magnus Manske\n",
       "Ira Brad Matetsky\n",
       "Erik Möller\n",
       "Jason Moore\n",
       "Raju Narisetti\n",
       "Steven Pruitt\n",
       "Annie Rauwerda\n",
       "Larry Sanger\n",
       "María Sefidari\n",
       "Lisa Seitz-Gruwell\n",
       "Rosie Stephenson-Goodknight\n",
       "Lila Tretikov\n",
       "Jimmy Wales\n",
       "History\t\n",
       "Bomis\n",
       "Nupedia\n",
       "First edit\n",
       "Logo\n",
       "Internet Watch Foundation\n",
       "Scientology\n",
       "Hillsborough disaster Wikipedia posts\n",
       "VisualEditor\n",
       "#1Lib1Ref\n",
       "2021 Wikimedia Foundation actions on the Chinese Wikipedia\n",
       "Controversies\t\n",
       "Essjay controversy\n",
       "Henryk Batuta hoax\n",
       "Jar'Edo Wens hoax\n",
       "Seigenthaler biography incident\n",
       "Star Trek Into Darkness debate\n",
       "United States congressional staff edits\n",
       "Zhemao hoaxes\n",
       "Coverage\t\n",
       "American politics\n",
       "Donald Trump\n",
       "COVID-19 pandemic\n",
       "Death\n",
       "Israeli–Palestinian conflict\n",
       "Russian invasion of Ukraine\n",
       "Honors\t\n",
       "274301 Wikipedia\n",
       "Viola angustifolia\n",
       "Wikipedia Monument\n",
       "References\n",
       "and analysis\t\n",
       "Academic studies\n",
       "Bibliography\n",
       "Cultural\n",
       "Films\n",
       "Listen to Wikipedia\n",
       "Wikipediocracy\n",
       "Mobile\t\n",
       "Apps\n",
       "QRpedia\n",
       "Wapedia\n",
       "Wikipedia Zero\n",
       "WikiReader\n",
       "Wikiwand\n",
       "Content use\t\n",
       "DBpedia\n",
       "Depths of Wikipedia\n",
       "Google and Wikipedia\n",
       "Health information\n",
       "Kiwix\n",
       "Science information\n",
       "Wikimedia Enterprise\n",
       "Related\t\n",
       "The Iraq War: A Historiography of Wikipedia Changelogs\n",
       "LGBT and Wikipedia\n",
       "Magna Carta (An Embroidery)\n",
       "People imprisoned for editing Wikipedia\n",
       "Print Wikipedia\n",
       "Wiki rabbit hole\n",
       "Wikimedia Foundation\n",
       "Wikimedia movement\n",
       "Wikipedia for World Heritage\n",
       "Wikipedia in India\n",
       "Wikiracing\n",
       "List of online encyclopedias\n",
       "List of wikis\n",
       "\n",
       "###### Header 6\n",
       "####### Header 7\n",
       "######## Header 8"
      ]
     },
     {
      "cell_type": "markdown",
      "metadata": {},
      "source": [
       "# Header 1\n",
       "## Header 2\n",
       "### Header 3\n",
       "#### Header 4\n",
       "##### Header 5\n",
       "Nupedia\n",
       "This article is about the predecessor of Wikipedia. For the online encyclopedia originally known as GNUpedia, see GNE (encyclopedia).\n",
       "Nupedia was an English-language online encyclopedia whose articles were written by volunteer contributors with appropriate subject matter expertise, reviewed by expert editors before publication, and licensed as free content. It was founded by Jimmy Wales and underwritten by Bomis, with Larry Sanger as editor-in-chief. Nupedia operated from October 1999[1][2] until September 2003. It is best known today as the predecessor of Wikipedia. Nupedia had a seven-step approval process to control content of articles before being posted, rather than live wiki-based updating. Nupedia was designed by a committee of experts who predefined the rules. It had only 21 articles in its first year,[a] compared with Wikipedia having 200 articles in the first month, and 18,000 in the first year.[3]\n",
       "\n",
       "Unlike Wikipedia, Nupedia was not a wiki; it was instead characterized by an extensive peer-review process, designed to make its articles of a quality comparable to that of professional encyclopedias. Nupedia wanted scholars (ideally with PhDs) to volunteer content.[4] Before it ceased operating, Nupedia produced 24 approved articles[5][6][7] that had completed its review process and another 150 articles were in progress.[8] Wales preferred Wikipedia's easier posting of articles, while Sanger preferred the peer-reviewed approach used by Nupedia[3] and later founded Citizendium in 2006 as an expert-reviewed alternative to Wikipedia.[9]\n",
       "\n",
       "History\n",
       "\n",
       "In October 1999,[10] Jimmy Wales began thinking about an online encyclopedia built by volunteers and, in January 2000, hired Larry Sanger to oversee its development.[2] The project officially went online on 9 March 2000.[11] By November 2000, however, only two full-length articles had been published.[12]\n",
       "\n",
       "From its beginning, Nupedia was a free content encyclopedia,[11] with Bomis intending to generate revenue from online ads on Nupedia.com.[12] Initially the project used a homegrown license, the Nupedia Open Content License. In January 2001, it switched to the GNU Free Documentation License at the urging of Richard Stallman and the Free Software Foundation.[13] Also in January 2001, Nupedia started Wikipedia as a side-project to allow collaboration on articles before entering the peer review process.[14] This attracted interest from both sides, as it provided the less bureaucratic structure favored by advocates of the GNE encyclopedia. As a result, GNE never really developed, and the threat of competition between the projects was averted. As Wikipedia grew and attracted contributors, it quickly developed a life of its own and began to function largely independently of Nupedia, although Sanger initially led activity on Wikipedia by virtue of his position as Nupedia's editor-in-chief.\n",
       "\n",
       "Besides leading to discontinuation of the GNE project, Wikipedia also led to the gradual demise of Nupedia. Due to the collapse of the internet economy at that time, Jimmy Wales decided to discontinue funding for a salaried editor-in-chief in December 2001,[2] and Sanger resigned from both projects shortly thereafter.[15] After Sanger's departure, Nupedia increasingly became an afterthought to Wikipedia; of the Nupedia articles that completed the review process, only two did so after 2001. As Nupedia dwindled into inactivity, the idea of converting it into a stable version of approved Wikipedia articles was occasionally broached, but never implemented. Nupedia's server crashed in September 2003.[16][17] Nupedia's encyclopedic content was assimilated into Wikipedia.[18]\n",
       "\n",
       "Editorial process\n",
       "\n",
       "Nupedia had a seven-step editorial process, consisting of:\n",
       "\n",
       "Assignment\n",
       "Finding a lead reviewer\n",
       "Lead review\n",
       "Open review\n",
       "Lead copyediting\n",
       "Open copyediting\n",
       "Final approval and markup\n",
       "Authors were expected to have expert knowledge (although the definition of expert allowed for a degree of flexibility, and it was acknowledged that some articles could be written by a good writer, rather than an expert per se)[19] and the editors approving articles for publication were expected \"to be true experts in their fields and (with few exceptions) [to] possess PhDs\".[20]\n",
       "\n",
       "Ruth Ifcher was someone Sanger depended upon and worked closely with on Nupedia's early policies and procedures. Ifcher, holding several higher degrees, was a computer programmer and former copy editor and agreed to be volunteer chief copy editor.[21]\n",
       "\n",
       "Software development\n",
       "\n",
       "Nupedia was powered by NupeCode collaborative software. NupeCode is free/open source software (released under the GNU General Public License) designed for large peer review projects. The code was available via Nupedia's CVS repository. One of the problems experienced by Nupedia during much of its existence was that the software lacked functionality. Much of the missing functionality had been mocked-up using underlined blocks of text which appeared to be hyperlinks, but actually were not.[citation needed]\n",
       "\n",
       "As part of the project, a new version of the original software (called \"NuNupedia\") was under development. NuNupedia was implemented for testing at SourceForge, but never reached a sufficient stage of development to replace the original software.[22]\n",
       "\n",
       "See also\n",
       "\n",
       "iconInternet portal\n",
       "List of online encyclopedias\n",
       "List of wikis\n",
       "Scholarpedia\n",
       "Encyclopedia Britannica\n",
       "Wikipedia:Nupedia and Wikipedia § Articles copied to Wikipedia\n",
       "Notes\n",
       "\n",
       "Wikipedia:Nupedia and Wikipedia § Articles copied to Wikipedia\n",
       "References\n",
       "\n",
       "\"Nupedia.com WHOIS, DNS, & DomainTools\". WHOIS. 2016. Archived from the original on 24 July 2017. Retrieved 6 March 2016.normal\n",
       "^ a b c Poe, Marshall (September 2006). \"Can thousands of Wikipedians be wrong? How an attempt to build an online encyclopedia touched off history's biggest experiment in collaborative knowledge\". The Hive. The Atlantic. Archived from the original on 26 October 2012. Retrieved 1 January 2007.normal\n",
       "^ a b Sanger, Larry (18 April 2005). \"The Early History of Nupedia and Wikipedia: A Memoir\". Slashdot. Archived from the original on 25 May 2009. Retrieved 26 May 2012.normal\n",
       "Lih, Andrew (2009). The Wikipedia Revolution: How a Bunch of Nobodies Created the World's Greatest Encyclopedia. London: Aurum. p. 38. ISBN 9781845134730. OCLC 280430641. His academic roots compelled Sanger to insist on one rigid requirement for his editors: a pedigree. \"We wish editors to be true experts in their fields and (with a few exceptions) possess Ph.Ds.\" read the Nupedia policy.normal\n",
       "Craig 2013, p. 84\n",
       "Ayers 2008\n",
       "Myers 2006, p. 163\n",
       "\"When Wikipedia was young: the early years\". VatorNews. 13 June 2017. Archived from the original on 26 December 2018. Retrieved 25 July 2018.normal\n",
       "\"Wikipedia founder forks Wikipedia\". Archived from the original on 26 December 2018. Retrieved 7 August 2018.normal\n",
       "\"NuPedia.com WHOIS, DNS, & Domain Info - DomainTools\". WHOIS. Archived from the original on 24 July 2017. Retrieved 6 July 2016.normal\n",
       "^ a b Gouthro, Liane (10 March 2000). \"Building the world's biggest encyclopedia\". PC World. Archived from the original on 19 July 2009. Retrieved 19 January 2008.normal\n",
       "^ a b Frauenfelder, Mark (21 November 2000). \"The next generation of online encyclopedias\". The Industry Standard/CNN. Archived from the original on 14 August 2004. Retrieved 14 February 2019.normal\n",
       "jwales (17 January 2001). \"Re:GNUPedia = Nupedia?\". GNUPedia Project Starting. Slashdot. Archived from the original on 26 June 2013. Retrieved 25 May 2008.normal\n",
       "Larry Sanger (10 January 2001). \"Let's make a wiki\". Nupedia-l mailing list. Internet Archive. Archived from the original on 14 April 2003.normal\n",
       "Sanger, Larry. \"My Resignation\". Wikipedia-L. Bomis, Inc. Archived from the original on 24 December 2019. Retrieved 24 December 2019.normal\n",
       "\"1 Nazis and Norms\". reagle.org. Archived from the original on 30 April 2020. Retrieved 25 April 2020.normal\n",
       "Reagle, p. 6\n",
       "Waters 2010, pp. 179–180\n",
       "\"Nupedia.com Editorial Policy Guidelines (Version 3.31)\". Nupedia. 16 November 2000. Archived from the original on 31 March 2001. Retrieved 3 June 2010. The rule of thumb an editor should bear in mind is: would an article on this topic be of significantly greater quality if it were written by an expert on the subject? If yes, we will require that the writer be an expert on the subject. If no, nonspecialists (who are good writers) are more than welcome.normal\n",
       "\"How to be an editor or peer reviewer for Nupedia\". Nupedia. Archived from the original on 10 April 2001. Retrieved 3 June 2010.normal\n",
       "Lih, Andrew (2009). The Wikipedia Revolution. New York: Hyperion. p. 37. ISBN 9781401303716.normal\n",
       "\"NuNupedia\". SourceForge. Archived from the original on 28 October 2018. Retrieved 16 February 2017.normal\n",
       "Further reading\n",
       "\n",
       "Larry Sanger, The Early History of Nupedia and Wikipedia: A Memoir Part 1 and Part 2. Slashdot, April 2005.\n",
       "Larry Sanger, \"Nupedia.com Statement of Editorial Policy, Version 2.1\", Printable Version dated 10 May 2000.\n",
       "Larry Sanger, \"Nupedia.com Statement of Editorial Policy, Version 3.2\", Printable Version dated 23 June 2000.\n",
       "External links\n",
       "\n",
       "Earlier versions of Nupedia (from the Internet Archive)\n",
       "v\n",
       "t\n",
       "e\n",
       "Wikipedia\n",
       "Overview\n",
       "(outline)\t\n",
       "Censorship\n",
       "Conflict-of-interest editing\n",
       "political editing incidents\n",
       "Criticism\n",
       "Biases\n",
       "gender\n",
       "geographical\n",
       "ideological\n",
       "racial\n",
       "Deletion of articles\n",
       "deletionism and inclusionism\n",
       "notability\n",
       "\"Ignore all rules\"\n",
       "MediaWiki\n",
       "Plagiarism\n",
       "Predictions of the project's end\n",
       "Reliability\n",
       "Fact-checking\n",
       "Citation needed\n",
       "Vandalism\n",
       "Community\n",
       "(Wikipedians)\t\n",
       "Administrators\n",
       "AfroCrowd\n",
       "Arbitration Committee\n",
       "Art+Feminism\n",
       "Bots\n",
       "Lsjbot\n",
       "Edit count\n",
       "List of Wikipedias\n",
       "The Signpost\n",
       "Wikimedian of the Year\n",
       "Wikipedian in residence\n",
       "WikiProject\n",
       "Women in Red\n",
       "Events\t\n",
       "Edit-a-thon\n",
       "WikiConference India\n",
       "Wiki Indaba\n",
       "WikiConference North America\n",
       "Wikimania\n",
       "Wiki Loves\t\n",
       "Earth\n",
       "Folklore\n",
       "Monuments\n",
       "Pride\n",
       "Science\n",
       "People\n",
       "(list)\t\n",
       "Esra'a Al Shafei\n",
       "Florence Devouard\n",
       "Sue Gardner\n",
       "James Heilman\n",
       "Maryana Iskander\n",
       "Dariusz Jemielniak\n",
       "Rebecca MacKinnon\n",
       "Katherine Maher\n",
       "Magnus Manske\n",
       "Ira Brad Matetsky\n",
       "Erik Möller\n",
       "Jason Moore\n",
       "Raju Narisetti\n",
       "Steven Pruitt\n",
       "Annie Rauwerda\n",
       "Larry Sanger\n",
       "María Sefidari\n",
       "Lisa Seitz-Gruwell\n",
       "Rosie Stephenson-Goodknight\n",
       "Lila Tretikov\n",
       "Jimmy Wales\n",
       "History\t\n",
       "Bomis\n",
       "Nupedia\n",
       "First edit\n",
       "Logo\n",
       "Internet Watch Foundation\n",
       "Scientology\n",
       "Hillsborough disaster Wikipedia posts\n",
       "VisualEditor\n",
       "#1Lib1Ref\n",
       "2021 Wikimedia Foundation actions on the Chinese Wikipedia\n",
       "Controversies\t\n",
       "Essjay controversy\n",
       "Henryk Batuta hoax\n",
       "Jar'Edo Wens hoax\n",
       "Seigenthaler biography incident\n",
       "Star Trek Into Darkness debate\n",
       "United States congressional staff edits\n",
       "Zhemao hoaxes\n",
       "Coverage\t\n",
       "American politics\n",
       "Donald Trump\n",
       "COVID-19 pandemic\n",
       "Death\n",
       "Israeli–Palestinian conflict\n",
       "Russian invasion of Ukraine\n",
       "Honors\t\n",
       "274301 Wikipedia\n",
       "Viola angustifolia\n",
       "Wikipedia Monument\n",
       "References\n",
       "and analysis\t\n",
       "Academic studies\n",
       "Bibliography\n",
       "Cultural\n",
       "Films\n",
       "Listen to Wikipedia\n",
       "Wikipediocracy\n",
       "Mobile\t\n",
       "Apps\n",
       "QRpedia\n",
       "Wapedia\n",
       "Wikipedia Zero\n",
       "WikiReader\n",
       "Wikiwand\n",
       "Content use\t\n",
       "DBpedia\n",
       "Depths of Wikipedia\n",
       "Google and Wikipedia\n",
       "Health information\n",
       "Kiwix\n",
       "Science information\n",
       "Wikimedia Enterprise\n",
       "Related\t\n",
       "The Iraq War: A Historiography of Wikipedia Changelogs\n",
       "LGBT and Wikipedia\n",
       "Magna Carta (An Embroidery)\n",
       "People imprisoned for editing Wikipedia\n",
       "Print Wikipedia\n",
       "Wiki rabbit hole\n",
       "Wikimedia Foundation\n",
       "Wikimedia movement\n",
       "Wikipedia for World Heritage\n",
       "Wikipedia in India\n",
       "Wikiracing\n",
       "List of online encyclopedias\n",
       "List of wikis\n",
       "\n",
       "###### Header 6\n",
       "####### Header 7\n",
       "######## Header 8"
      ]
     },
     {
      "cell_type": "markdown",
      "metadata": {},
      "source": [
       "# Header 1\n",
       "## Header 2\n",
       "### Header 3\n",
       "#### Header 4\n",
       "##### Header 5\n",
       "Nupedia\n",
       "This article is about the predecessor of Wikipedia. For the online encyclopedia originally known as GNUpedia, see GNE (encyclopedia).\n",
       "Nupedia was an English-language online encyclopedia whose articles were written by volunteer contributors with appropriate subject matter expertise, reviewed by expert editors before publication, and licensed as free content. It was founded by Jimmy Wales and underwritten by Bomis, with Larry Sanger as editor-in-chief. Nupedia operated from October 1999[1][2] until September 2003. It is best known today as the predecessor of Wikipedia. Nupedia had a seven-step approval process to control content of articles before being posted, rather than live wiki-based updating. Nupedia was designed by a committee of experts who predefined the rules. It had only 21 articles in its first year,[a] compared with Wikipedia having 200 articles in the first month, and 18,000 in the first year.[3]\n",
       "\n",
       "Unlike Wikipedia, Nupedia was not a wiki; it was instead characterized by an extensive peer-review process, designed to make its articles of a quality comparable to that of professional encyclopedias. Nupedia wanted scholars (ideally with PhDs) to volunteer content.[4] Before it ceased operating, Nupedia produced 24 approved articles[5][6][7] that had completed its review process and another 150 articles were in progress.[8] Wales preferred Wikipedia's easier posting of articles, while Sanger preferred the peer-reviewed approach used by Nupedia[3] and later founded Citizendium in 2006 as an expert-reviewed alternative to Wikipedia.[9]\n",
       "\n",
       "History\n",
       "\n",
       "In October 1999,[10] Jimmy Wales began thinking about an online encyclopedia built by volunteers and, in January 2000, hired Larry Sanger to oversee its development.[2] The project officially went online on 9 March 2000.[11] By November 2000, however, only two full-length articles had been published.[12]\n",
       "\n",
       "From its beginning, Nupedia was a free content encyclopedia,[11] with Bomis intending to generate revenue from online ads on Nupedia.com.[12] Initially the project used a homegrown license, the Nupedia Open Content License. In January 2001, it switched to the GNU Free Documentation License at the urging of Richard Stallman and the Free Software Foundation.[13] Also in January 2001, Nupedia started Wikipedia as a side-project to allow collaboration on articles before entering the peer review process.[14] This attracted interest from both sides, as it provided the less bureaucratic structure favored by advocates of the GNE encyclopedia. As a result, GNE never really developed, and the threat of competition between the projects was averted. As Wikipedia grew and attracted contributors, it quickly developed a life of its own and began to function largely independently of Nupedia, although Sanger initially led activity on Wikipedia by virtue of his position as Nupedia's editor-in-chief.\n",
       "\n",
       "Besides leading to discontinuation of the GNE project, Wikipedia also led to the gradual demise of Nupedia. Due to the collapse of the internet economy at that time, Jimmy Wales decided to discontinue funding for a salaried editor-in-chief in December 2001,[2] and Sanger resigned from both projects shortly thereafter.[15] After Sanger's departure, Nupedia increasingly became an afterthought to Wikipedia; of the Nupedia articles that completed the review process, only two did so after 2001. As Nupedia dwindled into inactivity, the idea of converting it into a stable version of approved Wikipedia articles was occasionally broached, but never implemented. Nupedia's server crashed in September 2003.[16][17] Nupedia's encyclopedic content was assimilated into Wikipedia.[18]\n",
       "\n",
       "Editorial process\n",
       "\n",
       "Nupedia had a seven-step editorial process, consisting of:\n",
       "\n",
       "Assignment\n",
       "Finding a lead reviewer\n",
       "Lead review\n",
       "Open review\n",
       "Lead copyediting\n",
       "Open copyediting\n",
       "Final approval and markup\n",
       "Authors were expected to have expert knowledge (although the definition of expert allowed for a degree of flexibility, and it was acknowledged that some articles could be written by a good writer, rather than an expert per se)[19] and the editors approving articles for publication were expected \"to be true experts in their fields and (with few exceptions) [to] possess PhDs\".[20]\n",
       "\n",
       "Ruth Ifcher was someone Sanger depended upon and worked closely with on Nupedia's early policies and procedures. Ifcher, holding several higher degrees, was a computer programmer and former copy editor and agreed to be volunteer chief copy editor.[21]\n",
       "\n",
       "Software development\n",
       "\n",
       "Nupedia was powered by NupeCode collaborative software. NupeCode is free/open source software (released under the GNU General Public License) designed for large peer review projects. The code was available via Nupedia's CVS repository. One of the problems experienced by Nupedia during much of its existence was that the software lacked functionality. Much of the missing functionality had been mocked-up using underlined blocks of text which appeared to be hyperlinks, but actually were not.[citation needed]\n",
       "\n",
       "As part of the project, a new version of the original software (called \"NuNupedia\") was under development. NuNupedia was implemented for testing at SourceForge, but never reached a sufficient stage of development to replace the original software.[22]\n",
       "\n",
       "See also\n",
       "\n",
       "iconInternet portal\n",
       "List of online encyclopedias\n",
       "List of wikis\n",
       "Scholarpedia\n",
       "Encyclopedia Britannica\n",
       "Wikipedia:Nupedia and Wikipedia § Articles copied to Wikipedia\n",
       "Notes\n",
       "\n",
       "Wikipedia:Nupedia and Wikipedia § Articles copied to Wikipedia\n",
       "References\n",
       "\n",
       "\"Nupedia.com WHOIS, DNS, & DomainTools\". WHOIS. 2016. Archived from the original on 24 July 2017. Retrieved 6 March 2016.normal\n",
       "^ a b c Poe, Marshall (September 2006). \"Can thousands of Wikipedians be wrong? How an attempt to build an online encyclopedia touched off history's biggest experiment in collaborative knowledge\". The Hive. The Atlantic. Archived from the original on 26 October 2012. Retrieved 1 January 2007.normal\n",
       "^ a b Sanger, Larry (18 April 2005). \"The Early History of Nupedia and Wikipedia: A Memoir\". Slashdot. Archived from the original on 25 May 2009. Retrieved 26 May 2012.normal\n",
       "Lih, Andrew (2009). The Wikipedia Revolution: How a Bunch of Nobodies Created the World's Greatest Encyclopedia. London: Aurum. p. 38. ISBN 9781845134730. OCLC 280430641. His academic roots compelled Sanger to insist on one rigid requirement for his editors: a pedigree. \"We wish editors to be true experts in their fields and (with a few exceptions) possess Ph.Ds.\" read the Nupedia policy.normal\n",
       "Craig 2013, p. 84\n",
       "Ayers 2008\n",
       "Myers 2006, p. 163\n",
       "\"When Wikipedia was young: the early years\". VatorNews. 13 June 2017. Archived from the original on 26 December 2018. Retrieved 25 July 2018.normal\n",
       "\"Wikipedia founder forks Wikipedia\". Archived from the original on 26 December 2018. Retrieved 7 August 2018.normal\n",
       "\"NuPedia.com WHOIS, DNS, & Domain Info - DomainTools\". WHOIS. Archived from the original on 24 July 2017. Retrieved 6 July 2016.normal\n",
       "^ a b Gouthro, Liane (10 March 2000). \"Building the world's biggest encyclopedia\". PC World. Archived from the original on 19 July 2009. Retrieved 19 January 2008.normal\n",
       "^ a b Frauenfelder, Mark (21 November 2000). \"The next generation of online encyclopedias\". The Industry Standard/CNN. Archived from the original on 14 August 2004. Retrieved 14 February 2019.normal\n",
       "jwales (17 January 2001). \"Re:GNUPedia = Nupedia?\". GNUPedia Project Starting. Slashdot. Archived from the original on 26 June 2013. Retrieved 25 May 2008.normal\n",
       "Larry Sanger (10 January 2001). \"Let's make a wiki\". Nupedia-l mailing list. Internet Archive. Archived from the original on 14 April 2003.normal\n",
       "Sanger, Larry. \"My Resignation\". Wikipedia-L. Bomis, Inc. Archived from the original on 24 December 2019. Retrieved 24 December 2019.normal\n",
       "\"1 Nazis and Norms\". reagle.org. Archived from the original on 30 April 2020. Retrieved 25 April 2020.normal\n",
       "Reagle, p. 6\n",
       "Waters 2010, pp. 179–180\n",
       "\"Nupedia.com Editorial Policy Guidelines (Version 3.31)\". Nupedia. 16 November 2000. Archived from the original on 31 March 2001. Retrieved 3 June 2010. The rule of thumb an editor should bear in mind is: would an article on this topic be of significantly greater quality if it were written by an expert on the subject? If yes, we will require that the writer be an expert on the subject. If no, nonspecialists (who are good writers) are more than welcome.normal\n",
       "\"How to be an editor or peer reviewer for Nupedia\". Nupedia. Archived from the original on 10 April 2001. Retrieved 3 June 2010.normal\n",
       "Lih, Andrew (2009). The Wikipedia Revolution. New York: Hyperion. p. 37. ISBN 9781401303716.normal\n",
       "\"NuNupedia\". SourceForge. Archived from the original on 28 October 2018. Retrieved 16 February 2017.normal\n",
       "Further reading\n",
       "\n",
       "Larry Sanger, The Early History of Nupedia and Wikipedia: A Memoir Part 1 and Part 2. Slashdot, April 2005.\n",
       "Larry Sanger, \"Nupedia.com Statement of Editorial Policy, Version 2.1\", Printable Version dated 10 May 2000.\n",
       "Larry Sanger, \"Nupedia.com Statement of Editorial Policy, Version 3.2\", Printable Version dated 23 June 2000.\n",
       "External links\n",
       "\n",
       "Earlier versions of Nupedia (from the Internet Archive)\n",
       "v\n",
       "t\n",
       "e\n",
       "Wikipedia\n",
       "Overview\n",
       "(outline)\t\n",
       "Censorship\n",
       "Conflict-of-interest editing\n",
       "political editing incidents\n",
       "Criticism\n",
       "Biases\n",
       "gender\n",
       "geographical\n",
       "ideological\n",
       "racial\n",
       "Deletion of articles\n",
       "deletionism and inclusionism\n",
       "notability\n",
       "\"Ignore all rules\"\n",
       "MediaWiki\n",
       "Plagiarism\n",
       "Predictions of the project's end\n",
       "Reliability\n",
       "Fact-checking\n",
       "Citation needed\n",
       "Vandalism\n",
       "Community\n",
       "(Wikipedians)\t\n",
       "Administrators\n",
       "AfroCrowd\n",
       "Arbitration Committee\n",
       "Art+Feminism\n",
       "Bots\n",
       "Lsjbot\n",
       "Edit count\n",
       "List of Wikipedias\n",
       "The Signpost\n",
       "Wikimedian of the Year\n",
       "Wikipedian in residence\n",
       "WikiProject\n",
       "Women in Red\n",
       "Events\t\n",
       "Edit-a-thon\n",
       "WikiConference India\n",
       "Wiki Indaba\n",
       "WikiConference North America\n",
       "Wikimania\n",
       "Wiki Loves\t\n",
       "Earth\n",
       "Folklore\n",
       "Monuments\n",
       "Pride\n",
       "Science\n",
       "People\n",
       "(list)\t\n",
       "Esra'a Al Shafei\n",
       "Florence Devouard\n",
       "Sue Gardner\n",
       "James Heilman\n",
       "Maryana Iskander\n",
       "Dariusz Jemielniak\n",
       "Rebecca MacKinnon\n",
       "Katherine Maher\n",
       "Magnus Manske\n",
       "Ira Brad Matetsky\n",
       "Erik Möller\n",
       "Jason Moore\n",
       "Raju Narisetti\n",
       "Steven Pruitt\n",
       "Annie Rauwerda\n",
       "Larry Sanger\n",
       "María Sefidari\n",
       "Lisa Seitz-Gruwell\n",
       "Rosie Stephenson-Goodknight\n",
       "Lila Tretikov\n",
       "Jimmy Wales\n",
       "History\t\n",
       "Bomis\n",
       "Nupedia\n",
       "First edit\n",
       "Logo\n",
       "Internet Watch Foundation\n",
       "Scientology\n",
       "Hillsborough disaster Wikipedia posts\n",
       "VisualEditor\n",
       "#1Lib1Ref\n",
       "2021 Wikimedia Foundation actions on the Chinese Wikipedia\n",
       "Controversies\t\n",
       "Essjay controversy\n",
       "Henryk Batuta hoax\n",
       "Jar'Edo Wens hoax\n",
       "Seigenthaler biography incident\n",
       "Star Trek Into Darkness debate\n",
       "United States congressional staff edits\n",
       "Zhemao hoaxes\n",
       "Coverage\t\n",
       "American politics\n",
       "Donald Trump\n",
       "COVID-19 pandemic\n",
       "Death\n",
       "Israeli–Palestinian conflict\n",
       "Russian invasion of Ukraine\n",
       "Honors\t\n",
       "274301 Wikipedia\n",
       "Viola angustifolia\n",
       "Wikipedia Monument\n",
       "References\n",
       "and analysis\t\n",
       "Academic studies\n",
       "Bibliography\n",
       "Cultural\n",
       "Films\n",
       "Listen to Wikipedia\n",
       "Wikipediocracy\n",
       "Mobile\t\n",
       "Apps\n",
       "QRpedia\n",
       "Wapedia\n",
       "Wikipedia Zero\n",
       "WikiReader\n",
       "Wikiwand\n",
       "Content use\t\n",
       "DBpedia\n",
       "Depths of Wikipedia\n",
       "Google and Wikipedia\n",
       "Health information\n",
       "Kiwix\n",
       "Science information\n",
       "Wikimedia Enterprise\n",
       "Related\t\n",
       "The Iraq War: A Historiography of Wikipedia Changelogs\n",
       "LGBT and Wikipedia\n",
       "Magna Carta (An Embroidery)\n",
       "People imprisoned for editing Wikipedia\n",
       "Print Wikipedia\n",
       "Wiki rabbit hole\n",
       "Wikimedia Foundation\n",
       "Wikimedia movement\n",
       "Wikipedia for World Heritage\n",
       "Wikipedia in India\n",
       "Wikiracing\n",
       "List of online encyclopedias\n",
       "List of wikis\n",
       "\n",
       "###### Header 6\n",
       "####### Header 7\n",
       "######## Header 8"
      ]
     },
     {
      "cell_type": "markdown",
      "metadata": {},
      "source": [
       "# Header 1\n",
       "## Header 2\n",
       "### Header 3\n",
       "#### Header 4\n",
       "##### Header 5\n",
       "Nupedia\n",
       "This article is about the predecessor of Wikipedia. For the online encyclopedia originally known as GNUpedia, see GNE (encyclopedia).\n",
       "Nupedia was an English-language online encyclopedia whose articles were written by volunteer contributors with appropriate subject matter expertise, reviewed by expert editors before publication, and licensed as free content. It was founded by Jimmy Wales and underwritten by Bomis, with Larry Sanger as editor-in-chief. Nupedia operated from October 1999[1][2] until September 2003. It is best known today as the predecessor of Wikipedia. Nupedia had a seven-step approval process to control content of articles before being posted, rather than live wiki-based updating. Nupedia was designed by a committee of experts who predefined the rules. It had only 21 articles in its first year,[a] compared with Wikipedia having 200 articles in the first month, and 18,000 in the first year.[3]\n",
       "\n",
       "Unlike Wikipedia, Nupedia was not a wiki; it was instead characterized by an extensive peer-review process, designed to make its articles of a quality comparable to that of professional encyclopedias. Nupedia wanted scholars (ideally with PhDs) to volunteer content.[4] Before it ceased operating, Nupedia produced 24 approved articles[5][6][7] that had completed its review process and another 150 articles were in progress.[8] Wales preferred Wikipedia's easier posting of articles, while Sanger preferred the peer-reviewed approach used by Nupedia[3] and later founded Citizendium in 2006 as an expert-reviewed alternative to Wikipedia.[9]\n",
       "\n",
       "History\n",
       "\n",
       "In October 1999,[10] Jimmy Wales began thinking about an online encyclopedia built by volunteers and, in January 2000, hired Larry Sanger to oversee its development.[2] The project officially went online on 9 March 2000.[11] By November 2000, however, only two full-length articles had been published.[12]\n",
       "\n",
       "From its beginning, Nupedia was a free content encyclopedia,[11] with Bomis intending to generate revenue from online ads on Nupedia.com.[12] Initially the project used a homegrown license, the Nupedia Open Content License. In January 2001, it switched to the GNU Free Documentation License at the urging of Richard Stallman and the Free Software Foundation.[13] Also in January 2001, Nupedia started Wikipedia as a side-project to allow collaboration on articles before entering the peer review process.[14] This attracted interest from both sides, as it provided the less bureaucratic structure favored by advocates of the GNE encyclopedia. As a result, GNE never really developed, and the threat of competition between the projects was averted. As Wikipedia grew and attracted contributors, it quickly developed a life of its own and began to function largely independently of Nupedia, although Sanger initially led activity on Wikipedia by virtue of his position as Nupedia's editor-in-chief.\n",
       "\n",
       "Besides leading to discontinuation of the GNE project, Wikipedia also led to the gradual demise of Nupedia. Due to the collapse of the internet economy at that time, Jimmy Wales decided to discontinue funding for a salaried editor-in-chief in December 2001,[2] and Sanger resigned from both projects shortly thereafter.[15] After Sanger's departure, Nupedia increasingly became an afterthought to Wikipedia; of the Nupedia articles that completed the review process, only two did so after 2001. As Nupedia dwindled into inactivity, the idea of converting it into a stable version of approved Wikipedia articles was occasionally broached, but never implemented. Nupedia's server crashed in September 2003.[16][17] Nupedia's encyclopedic content was assimilated into Wikipedia.[18]\n",
       "\n",
       "Editorial process\n",
       "\n",
       "Nupedia had a seven-step editorial process, consisting of:\n",
       "\n",
       "Assignment\n",
       "Finding a lead reviewer\n",
       "Lead review\n",
       "Open review\n",
       "Lead copyediting\n",
       "Open copyediting\n",
       "Final approval and markup\n",
       "Authors were expected to have expert knowledge (although the definition of expert allowed for a degree of flexibility, and it was acknowledged that some articles could be written by a good writer, rather than an expert per se)[19] and the editors approving articles for publication were expected \"to be true experts in their fields and (with few exceptions) [to] possess PhDs\".[20]\n",
       "\n",
       "Ruth Ifcher was someone Sanger depended upon and worked closely with on Nupedia's early policies and procedures. Ifcher, holding several higher degrees, was a computer programmer and former copy editor and agreed to be volunteer chief copy editor.[21]\n",
       "\n",
       "Software development\n",
       "\n",
       "Nupedia was powered by NupeCode collaborative software. NupeCode is free/open source software (released under the GNU General Public License) designed for large peer review projects. The code was available via Nupedia's CVS repository. One of the problems experienced by Nupedia during much of its existence was that the software lacked functionality. Much of the missing functionality had been mocked-up using underlined blocks of text which appeared to be hyperlinks, but actually were not.[citation needed]\n",
       "\n",
       "As part of the project, a new version of the original software (called \"NuNupedia\") was under development. NuNupedia was implemented for testing at SourceForge, but never reached a sufficient stage of development to replace the original software.[22]\n",
       "\n",
       "See also\n",
       "\n",
       "iconInternet portal\n",
       "List of online encyclopedias\n",
       "List of wikis\n",
       "Scholarpedia\n",
       "Encyclopedia Britannica\n",
       "Wikipedia:Nupedia and Wikipedia § Articles copied to Wikipedia\n",
       "Notes\n",
       "\n",
       "Wikipedia:Nupedia and Wikipedia § Articles copied to Wikipedia\n",
       "References\n",
       "\n",
       "\"Nupedia.com WHOIS, DNS, & DomainTools\". WHOIS. 2016. Archived from the original on 24 July 2017. Retrieved 6 March 2016.normal\n",
       "^ a b c Poe, Marshall (September 2006). \"Can thousands of Wikipedians be wrong? How an attempt to build an online encyclopedia touched off history's biggest experiment in collaborative knowledge\". The Hive. The Atlantic. Archived from the original on 26 October 2012. Retrieved 1 January 2007.normal\n",
       "^ a b Sanger, Larry (18 April 2005). \"The Early History of Nupedia and Wikipedia: A Memoir\". Slashdot. Archived from the original on 25 May 2009. Retrieved 26 May 2012.normal\n",
       "Lih, Andrew (2009). The Wikipedia Revolution: How a Bunch of Nobodies Created the World's Greatest Encyclopedia. London: Aurum. p. 38. ISBN 9781845134730. OCLC 280430641. His academic roots compelled Sanger to insist on one rigid requirement for his editors: a pedigree. \"We wish editors to be true experts in their fields and (with a few exceptions) possess Ph.Ds.\" read the Nupedia policy.normal\n",
       "Craig 2013, p. 84\n",
       "Ayers 2008\n",
       "Myers 2006, p. 163\n",
       "\"When Wikipedia was young: the early years\". VatorNews. 13 June 2017. Archived from the original on 26 December 2018. Retrieved 25 July 2018.normal\n",
       "\"Wikipedia founder forks Wikipedia\". Archived from the original on 26 December 2018. Retrieved 7 August 2018.normal\n",
       "\"NuPedia.com WHOIS, DNS, & Domain Info - DomainTools\". WHOIS. Archived from the original on 24 July 2017. Retrieved 6 July 2016.normal\n",
       "^ a b Gouthro, Liane (10 March 2000). \"Building the world's biggest encyclopedia\". PC World. Archived from the original on 19 July 2009. Retrieved 19 January 2008.normal\n",
       "^ a b Frauenfelder, Mark (21 November 2000). \"The next generation of online encyclopedias\". The Industry Standard/CNN. Archived from the original on 14 August 2004. Retrieved 14 February 2019.normal\n",
       "jwales (17 January 2001). \"Re:GNUPedia = Nupedia?\". GNUPedia Project Starting. Slashdot. Archived from the original on 26 June 2013. Retrieved 25 May 2008.normal\n",
       "Larry Sanger (10 January 2001). \"Let's make a wiki\". Nupedia-l mailing list. Internet Archive. Archived from the original on 14 April 2003.normal\n",
       "Sanger, Larry. \"My Resignation\". Wikipedia-L. Bomis, Inc. Archived from the original on 24 December 2019. Retrieved 24 December 2019.normal\n",
       "\"1 Nazis and Norms\". reagle.org. Archived from the original on 30 April 2020. Retrieved 25 April 2020.normal\n",
       "Reagle, p. 6\n",
       "Waters 2010, pp. 179–180\n",
       "\"Nupedia.com Editorial Policy Guidelines (Version 3.31)\". Nupedia. 16 November 2000. Archived from the original on 31 March 2001. Retrieved 3 June 2010. The rule of thumb an editor should bear in mind is: would an article on this topic be of significantly greater quality if it were written by an expert on the subject? If yes, we will require that the writer be an expert on the subject. If no, nonspecialists (who are good writers) are more than welcome.normal\n",
       "\"How to be an editor or peer reviewer for Nupedia\". Nupedia. Archived from the original on 10 April 2001. Retrieved 3 June 2010.normal\n",
       "Lih, Andrew (2009). The Wikipedia Revolution. New York: Hyperion. p. 37. ISBN 9781401303716.normal\n",
       "\"NuNupedia\". SourceForge. Archived from the original on 28 October 2018. Retrieved 16 February 2017.normal\n",
       "Further reading\n",
       "\n",
       "Larry Sanger, The Early History of Nupedia and Wikipedia: A Memoir Part 1 and Part 2. Slashdot, April 2005.\n",
       "Larry Sanger, \"Nupedia.com Statement of Editorial Policy, Version 2.1\", Printable Version dated 10 May 2000.\n",
       "Larry Sanger, \"Nupedia.com Statement of Editorial Policy, Version 3.2\", Printable Version dated 23 June 2000.\n",
       "External links\n",
       "\n",
       "Earlier versions of Nupedia (from the Internet Archive)\n",
       "v\n",
       "t\n",
       "e\n",
       "Wikipedia\n",
       "Overview\n",
       "(outline)\t\n",
       "Censorship\n",
       "Conflict-of-interest editing\n",
       "political editing incidents\n",
       "Criticism\n",
       "Biases\n",
       "gender\n",
       "geographical\n",
       "ideological\n",
       "racial\n",
       "Deletion of articles\n",
       "deletionism and inclusionism\n",
       "notability\n",
       "\"Ignore all rules\"\n",
       "MediaWiki\n",
       "Plagiarism\n",
       "Predictions of the project's end\n",
       "Reliability\n",
       "Fact-checking\n",
       "Citation needed\n",
       "Vandalism\n",
       "Community\n",
       "(Wikipedians)\t\n",
       "Administrators\n",
       "AfroCrowd\n",
       "Arbitration Committee\n",
       "Art+Feminism\n",
       "Bots\n",
       "Lsjbot\n",
       "Edit count\n",
       "List of Wikipedias\n",
       "The Signpost\n",
       "Wikimedian of the Year\n",
       "Wikipedian in residence\n",
       "WikiProject\n",
       "Women in Red\n",
       "Events\t\n",
       "Edit-a-thon\n",
       "WikiConference India\n",
       "Wiki Indaba\n",
       "WikiConference North America\n",
       "Wikimania\n",
       "Wiki Loves\t\n",
       "Earth\n",
       "Folklore\n",
       "Monuments\n",
       "Pride\n",
       "Science\n",
       "People\n",
       "(list)\t\n",
       "Esra'a Al Shafei\n",
       "Florence Devouard\n",
       "Sue Gardner\n",
       "James Heilman\n",
       "Maryana Iskander\n",
       "Dariusz Jemielniak\n",
       "Rebecca MacKinnon\n",
       "Katherine Maher\n",
       "Magnus Manske\n",
       "Ira Brad Matetsky\n",
       "Erik Möller\n",
       "Jason Moore\n",
       "Raju Narisetti\n",
       "Steven Pruitt\n",
       "Annie Rauwerda\n",
       "Larry Sanger\n",
       "María Sefidari\n",
       "Lisa Seitz-Gruwell\n",
       "Rosie Stephenson-Goodknight\n",
       "Lila Tretikov\n",
       "Jimmy Wales\n",
       "History\t\n",
       "Bomis\n",
       "Nupedia\n",
       "First edit\n",
       "Logo\n",
       "Internet Watch Foundation\n",
       "Scientology\n",
       "Hillsborough disaster Wikipedia posts\n",
       "VisualEditor\n",
       "#1Lib1Ref\n",
       "2021 Wikimedia Foundation actions on the Chinese Wikipedia\n",
       "Controversies\t\n",
       "Essjay controversy\n",
       "Henryk Batuta hoax\n",
       "Jar'Edo Wens hoax\n",
       "Seigenthaler biography incident\n",
       "Star Trek Into Darkness debate\n",
       "United States congressional staff edits\n",
       "Zhemao hoaxes\n",
       "Coverage\t\n",
       "American politics\n",
       "Donald Trump\n",
       "COVID-19 pandemic\n",
       "Death\n",
       "Israeli–Palestinian conflict\n",
       "Russian invasion of Ukraine\n",
       "Honors\t\n",
       "274301 Wikipedia\n",
       "Viola angustifolia\n",
       "Wikipedia Monument\n",
       "References\n",
       "and analysis\t\n",
       "Academic studies\n",
       "Bibliography\n",
       "Cultural\n",
       "Films\n",
       "Listen to Wikipedia\n",
       "Wikipediocracy\n",
       "Mobile\t\n",
       "Apps\n",
       "QRpedia\n",
       "Wapedia\n",
       "Wikipedia Zero\n",
       "WikiReader\n",
       "Wikiwand\n",
       "Content use\t\n",
       "DBpedia\n",
       "Depths of Wikipedia\n",
       "Google and Wikipedia\n",
       "Health information\n",
       "Kiwix\n",
       "Science information\n",
       "Wikimedia Enterprise\n",
       "Related\t\n",
       "The Iraq War: A Historiography of Wikipedia Changelogs\n",
       "LGBT and Wikipedia\n",
       "Magna Carta (An Embroidery)\n",
       "People imprisoned for editing Wikipedia\n",
       "Print Wikipedia\n",
       "Wiki rabbit hole\n",
       "Wikimedia Foundation\n",
       "Wikimedia movement\n",
       "Wikipedia for World Heritage\n",
       "Wikipedia in India\n",
       "Wikiracing\n",
       "List of online encyclopedias\n",
       "List of wikis\n",
       "\n",
       "###### Header 6\n",
       "####### Header 7\n",
       "######## Header 8"
      ]
     },
     {
      "cell_type": "markdown",
      "metadata": {},
      "source": [
       "# Header 1\n",
       "## Header 2\n",
       "### Header 3\n",
       "#### Header 4\n",
       "##### Header 5\n",
       "Nupedia\n",
       "This article is about the predecessor of Wikipedia. For the online encyclopedia originally known as GNUpedia, see GNE (encyclopedia).\n",
       "Nupedia was an English-language online encyclopedia whose articles were written by volunteer contributors with appropriate subject matter expertise, reviewed by expert editors before publication, and licensed as free content. It was founded by Jimmy Wales and underwritten by Bomis, with Larry Sanger as editor-in-chief. Nupedia operated from October 1999[1][2] until September 2003. It is best known today as the predecessor of Wikipedia. Nupedia had a seven-step approval process to control content of articles before being posted, rather than live wiki-based updating. Nupedia was designed by a committee of experts who predefined the rules. It had only 21 articles in its first year,[a] compared with Wikipedia having 200 articles in the first month, and 18,000 in the first year.[3]\n",
       "\n",
       "Unlike Wikipedia, Nupedia was not a wiki; it was instead characterized by an extensive peer-review process, designed to make its articles of a quality comparable to that of professional encyclopedias. Nupedia wanted scholars (ideally with PhDs) to volunteer content.[4] Before it ceased operating, Nupedia produced 24 approved articles[5][6][7] that had completed its review process and another 150 articles were in progress.[8] Wales preferred Wikipedia's easier posting of articles, while Sanger preferred the peer-reviewed approach used by Nupedia[3] and later founded Citizendium in 2006 as an expert-reviewed alternative to Wikipedia.[9]\n",
       "\n",
       "History\n",
       "\n",
       "In October 1999,[10] Jimmy Wales began thinking about an online encyclopedia built by volunteers and, in January 2000, hired Larry Sanger to oversee its development.[2] The project officially went online on 9 March 2000.[11] By November 2000, however, only two full-length articles had been published.[12]\n",
       "\n",
       "From its beginning, Nupedia was a free content encyclopedia,[11] with Bomis intending to generate revenue from online ads on Nupedia.com.[12] Initially the project used a homegrown license, the Nupedia Open Content License. In January 2001, it switched to the GNU Free Documentation License at the urging of Richard Stallman and the Free Software Foundation.[13] Also in January 2001, Nupedia started Wikipedia as a side-project to allow collaboration on articles before entering the peer review process.[14] This attracted interest from both sides, as it provided the less bureaucratic structure favored by advocates of the GNE encyclopedia. As a result, GNE never really developed, and the threat of competition between the projects was averted. As Wikipedia grew and attracted contributors, it quickly developed a life of its own and began to function largely independently of Nupedia, although Sanger initially led activity on Wikipedia by virtue of his position as Nupedia's editor-in-chief.\n",
       "\n",
       "Besides leading to discontinuation of the GNE project, Wikipedia also led to the gradual demise of Nupedia. Due to the collapse of the internet economy at that time, Jimmy Wales decided to discontinue funding for a salaried editor-in-chief in December 2001,[2] and Sanger resigned from both projects shortly thereafter.[15] After Sanger's departure, Nupedia increasingly became an afterthought to Wikipedia; of the Nupedia articles that completed the review process, only two did so after 2001. As Nupedia dwindled into inactivity, the idea of converting it into a stable version of approved Wikipedia articles was occasionally broached, but never implemented. Nupedia's server crashed in September 2003.[16][17] Nupedia's encyclopedic content was assimilated into Wikipedia.[18]\n",
       "\n",
       "Editorial process\n",
       "\n",
       "Nupedia had a seven-step editorial process, consisting of:\n",
       "\n",
       "Assignment\n",
       "Finding a lead reviewer\n",
       "Lead review\n",
       "Open review\n",
       "Lead copyediting\n",
       "Open copyediting\n",
       "Final approval and markup\n",
       "Authors were expected to have expert knowledge (although the definition of expert allowed for a degree of flexibility, and it was acknowledged that some articles could be written by a good writer, rather than an expert per se)[19] and the editors approving articles for publication were expected \"to be true experts in their fields and (with few exceptions) [to] possess PhDs\".[20]\n",
       "\n",
       "Ruth Ifcher was someone Sanger depended upon and worked closely with on Nupedia's early policies and procedures. Ifcher, holding several higher degrees, was a computer programmer and former copy editor and agreed to be volunteer chief copy editor.[21]\n",
       "\n",
       "Software development\n",
       "\n",
       "Nupedia was powered by NupeCode collaborative software. NupeCode is free/open source software (released under the GNU General Public License) designed for large peer review projects. The code was available via Nupedia's CVS repository. One of the problems experienced by Nupedia during much of its existence was that the software lacked functionality. Much of the missing functionality had been mocked-up using underlined blocks of text which appeared to be hyperlinks, but actually were not.[citation needed]\n",
       "\n",
       "As part of the project, a new version of the original software (called \"NuNupedia\") was under development. NuNupedia was implemented for testing at SourceForge, but never reached a sufficient stage of development to replace the original software.[22]\n",
       "\n",
       "See also\n",
       "\n",
       "iconInternet portal\n",
       "List of online encyclopedias\n",
       "List of wikis\n",
       "Scholarpedia\n",
       "Encyclopedia Britannica\n",
       "Wikipedia:Nupedia and Wikipedia § Articles copied to Wikipedia\n",
       "Notes\n",
       "\n",
       "Wikipedia:Nupedia and Wikipedia § Articles copied to Wikipedia\n",
       "References\n",
       "\n",
       "\"Nupedia.com WHOIS, DNS, & DomainTools\". WHOIS. 2016. Archived from the original on 24 July 2017. Retrieved 6 March 2016.normal\n",
       "^ a b c Poe, Marshall (September 2006). \"Can thousands of Wikipedians be wrong? How an attempt to build an online encyclopedia touched off history's biggest experiment in collaborative knowledge\". The Hive. The Atlantic. Archived from the original on 26 October 2012. Retrieved 1 January 2007.normal\n",
       "^ a b Sanger, Larry (18 April 2005). \"The Early History of Nupedia and Wikipedia: A Memoir\". Slashdot. Archived from the original on 25 May 2009. Retrieved 26 May 2012.normal\n",
       "Lih, Andrew (2009). The Wikipedia Revolution: How a Bunch of Nobodies Created the World's Greatest Encyclopedia. London: Aurum. p. 38. ISBN 9781845134730. OCLC 280430641. His academic roots compelled Sanger to insist on one rigid requirement for his editors: a pedigree. \"We wish editors to be true experts in their fields and (with a few exceptions) possess Ph.Ds.\" read the Nupedia policy.normal\n",
       "Craig 2013, p. 84\n",
       "Ayers 2008\n",
       "Myers 2006, p. 163\n",
       "\"When Wikipedia was young: the early years\". VatorNews. 13 June 2017. Archived from the original on 26 December 2018. Retrieved 25 July 2018.normal\n",
       "\"Wikipedia founder forks Wikipedia\". Archived from the original on 26 December 2018. Retrieved 7 August 2018.normal\n",
       "\"NuPedia.com WHOIS, DNS, & Domain Info - DomainTools\". WHOIS. Archived from the original on 24 July 2017. Retrieved 6 July 2016.normal\n",
       "^ a b Gouthro, Liane (10 March 2000). \"Building the world's biggest encyclopedia\". PC World. Archived from the original on 19 July 2009. Retrieved 19 January 2008.normal\n",
       "^ a b Frauenfelder, Mark (21 November 2000). \"The next generation of online encyclopedias\". The Industry Standard/CNN. Archived from the original on 14 August 2004. Retrieved 14 February 2019.normal\n",
       "jwales (17 January 2001). \"Re:GNUPedia = Nupedia?\". GNUPedia Project Starting. Slashdot. Archived from the original on 26 June 2013. Retrieved 25 May 2008.normal\n",
       "Larry Sanger (10 January 2001). \"Let's make a wiki\". Nupedia-l mailing list. Internet Archive. Archived from the original on 14 April 2003.normal\n",
       "Sanger, Larry. \"My Resignation\". Wikipedia-L. Bomis, Inc. Archived from the original on 24 December 2019. Retrieved 24 December 2019.normal\n",
       "\"1 Nazis and Norms\". reagle.org. Archived from the original on 30 April 2020. Retrieved 25 April 2020.normal\n",
       "Reagle, p. 6\n",
       "Waters 2010, pp. 179–180\n",
       "\"Nupedia.com Editorial Policy Guidelines (Version 3.31)\". Nupedia. 16 November 2000. Archived from the original on 31 March 2001. Retrieved 3 June 2010. The rule of thumb an editor should bear in mind is: would an article on this topic be of significantly greater quality if it were written by an expert on the subject? If yes, we will require that the writer be an expert on the subject. If no, nonspecialists (who are good writers) are more than welcome.normal\n",
       "\"How to be an editor or peer reviewer for Nupedia\". Nupedia. Archived from the original on 10 April 2001. Retrieved 3 June 2010.normal\n",
       "Lih, Andrew (2009). The Wikipedia Revolution. New York: Hyperion. p. 37. ISBN 9781401303716.normal\n",
       "\"NuNupedia\". SourceForge. Archived from the original on 28 October 2018. Retrieved 16 February 2017.normal\n",
       "Further reading\n",
       "\n",
       "Larry Sanger, The Early History of Nupedia and Wikipedia: A Memoir Part 1 and Part 2. Slashdot, April 2005.\n",
       "Larry Sanger, \"Nupedia.com Statement of Editorial Policy, Version 2.1\", Printable Version dated 10 May 2000.\n",
       "Larry Sanger, \"Nupedia.com Statement of Editorial Policy, Version 3.2\", Printable Version dated 23 June 2000.\n",
       "External links\n",
       "\n",
       "Earlier versions of Nupedia (from the Internet Archive)\n",
       "v\n",
       "t\n",
       "e\n",
       "Wikipedia\n",
       "Overview\n",
       "(outline)\t\n",
       "Censorship\n",
       "Conflict-of-interest editing\n",
       "political editing incidents\n",
       "Criticism\n",
       "Biases\n",
       "gender\n",
       "geographical\n",
       "ideological\n",
       "racial\n",
       "Deletion of articles\n",
       "deletionism and inclusionism\n",
       "notability\n",
       "\"Ignore all rules\"\n",
       "MediaWiki\n",
       "Plagiarism\n",
       "Predictions of the project's end\n",
       "Reliability\n",
       "Fact-checking\n",
       "Citation needed\n",
       "Vandalism\n",
       "Community\n",
       "(Wikipedians)\t\n",
       "Administrators\n",
       "AfroCrowd\n",
       "Arbitration Committee\n",
       "Art+Feminism\n",
       "Bots\n",
       "Lsjbot\n",
       "Edit count\n",
       "List of Wikipedias\n",
       "The Signpost\n",
       "Wikimedian of the Year\n",
       "Wikipedian in residence\n",
       "WikiProject\n",
       "Women in Red\n",
       "Events\t\n",
       "Edit-a-thon\n",
       "WikiConference India\n",
       "Wiki Indaba\n",
       "WikiConference North America\n",
       "Wikimania\n",
       "Wiki Loves\t\n",
       "Earth\n",
       "Folklore\n",
       "Monuments\n",
       "Pride\n",
       "Science\n",
       "People\n",
       "(list)\t\n",
       "Esra'a Al Shafei\n",
       "Florence Devouard\n",
       "Sue Gardner\n",
       "James Heilman\n",
       "Maryana Iskander\n",
       "Dariusz Jemielniak\n",
       "Rebecca MacKinnon\n",
       "Katherine Maher\n",
       "Magnus Manske\n",
       "Ira Brad Matetsky\n",
       "Erik Möller\n",
       "Jason Moore\n",
       "Raju Narisetti\n",
       "Steven Pruitt\n",
       "Annie Rauwerda\n",
       "Larry Sanger\n",
       "María Sefidari\n",
       "Lisa Seitz-Gruwell\n",
       "Rosie Stephenson-Goodknight\n",
       "Lila Tretikov\n",
       "Jimmy Wales\n",
       "History\t\n",
       "Bomis\n",
       "Nupedia\n",
       "First edit\n",
       "Logo\n",
       "Internet Watch Foundation\n",
       "Scientology\n",
       "Hillsborough disaster Wikipedia posts\n",
       "VisualEditor\n",
       "#1Lib1Ref\n",
       "2021 Wikimedia Foundation actions on the Chinese Wikipedia\n",
       "Controversies\t\n",
       "Essjay controversy\n",
       "Henryk Batuta hoax\n",
       "Jar'Edo Wens hoax\n",
       "Seigenthaler biography incident\n",
       "Star Trek Into Darkness debate\n",
       "United States congressional staff edits\n",
       "Zhemao hoaxes\n",
       "Coverage\t\n",
       "American politics\n",
       "Donald Trump\n",
       "COVID-19 pandemic\n",
       "Death\n",
       "Israeli–Palestinian conflict\n",
       "Russian invasion of Ukraine\n",
       "Honors\t\n",
       "274301 Wikipedia\n",
       "Viola angustifolia\n",
       "Wikipedia Monument\n",
       "References\n",
       "and analysis\t\n",
       "Academic studies\n",
       "Bibliography\n",
       "Cultural\n",
       "Films\n",
       "Listen to Wikipedia\n",
       "Wikipediocracy\n",
       "Mobile\t\n",
       "Apps\n",
       "QRpedia\n",
       "Wapedia\n",
       "Wikipedia Zero\n",
       "WikiReader\n",
       "Wikiwand\n",
       "Content use\t\n",
       "DBpedia\n",
       "Depths of Wikipedia\n",
       "Google and Wikipedia\n",
       "Health information\n",
       "Kiwix\n",
       "Science information\n",
       "Wikimedia Enterprise\n",
       "Related\t\n",
       "The Iraq War: A Historiography of Wikipedia Changelogs\n",
       "LGBT and Wikipedia\n",
       "Magna Carta (An Embroidery)\n",
       "People imprisoned for editing Wikipedia\n",
       "Print Wikipedia\n",
       "Wiki rabbit hole\n",
       "Wikimedia Foundation\n",
       "Wikimedia movement\n",
       "Wikipedia for World Heritage\n",
       "Wikipedia in India\n",
       "Wikiracing\n",
       "List of online encyclopedias\n",
       "List of wikis\n",
       "\n",
       "###### Header 6\n",
       "####### Header 7\n",
       "######## Header 8"
      ]
     },
     {
      "cell_type": "markdown",
      "metadata": {},
      "source": [
       "# Header 1\n",
       "## Header 2\n",
       "### Header 3\n",
       "#### Header 4\n",
       "##### Header 5\n",
       "Nupedia\n",
       "This article is about the predecessor of Wikipedia. For the online encyclopedia originally known as GNUpedia, see GNE (encyclopedia).\n",
       "Nupedia was an English-language online encyclopedia whose articles were written by volunteer contributors with appropriate subject matter expertise, reviewed by expert editors before publication, and licensed as free content. It was founded by Jimmy Wales and underwritten by Bomis, with Larry Sanger as editor-in-chief. Nupedia operated from October 1999[1][2] until September 2003. It is best known today as the predecessor of Wikipedia. Nupedia had a seven-step approval process to control content of articles before being posted, rather than live wiki-based updating. Nupedia was designed by a committee of experts who predefined the rules. It had only 21 articles in its first year,[a] compared with Wikipedia having 200 articles in the first month, and 18,000 in the first year.[3]\n",
       "\n",
       "Unlike Wikipedia, Nupedia was not a wiki; it was instead characterized by an extensive peer-review process, designed to make its articles of a quality comparable to that of professional encyclopedias. Nupedia wanted scholars (ideally with PhDs) to volunteer content.[4] Before it ceased operating, Nupedia produced 24 approved articles[5][6][7] that had completed its review process and another 150 articles were in progress.[8] Wales preferred Wikipedia's easier posting of articles, while Sanger preferred the peer-reviewed approach used by Nupedia[3] and later founded Citizendium in 2006 as an expert-reviewed alternative to Wikipedia.[9]\n",
       "\n",
       "History\n",
       "\n",
       "In October 1999,[10] Jimmy Wales began thinking about an online encyclopedia built by volunteers and, in January 2000, hired Larry Sanger to oversee its development.[2] The project officially went online on 9 March 2000.[11] By November 2000, however, only two full-length articles had been published.[12]\n",
       "\n",
       "From its beginning, Nupedia was a free content encyclopedia,[11] with Bomis intending to generate revenue from online ads on Nupedia.com.[12] Initially the project used a homegrown license, the Nupedia Open Content License. In January 2001, it switched to the GNU Free Documentation License at the urging of Richard Stallman and the Free Software Foundation.[13] Also in January 2001, Nupedia started Wikipedia as a side-project to allow collaboration on articles before entering the peer review process.[14] This attracted interest from both sides, as it provided the less bureaucratic structure favored by advocates of the GNE encyclopedia. As a result, GNE never really developed, and the threat of competition between the projects was averted. As Wikipedia grew and attracted contributors, it quickly developed a life of its own and began to function largely independently of Nupedia, although Sanger initially led activity on Wikipedia by virtue of his position as Nupedia's editor-in-chief.\n",
       "\n",
       "Besides leading to discontinuation of the GNE project, Wikipedia also led to the gradual demise of Nupedia. Due to the collapse of the internet economy at that time, Jimmy Wales decided to discontinue funding for a salaried editor-in-chief in December 2001,[2] and Sanger resigned from both projects shortly thereafter.[15] After Sanger's departure, Nupedia increasingly became an afterthought to Wikipedia; of the Nupedia articles that completed the review process, only two did so after 2001. As Nupedia dwindled into inactivity, the idea of converting it into a stable version of approved Wikipedia articles was occasionally broached, but never implemented. Nupedia's server crashed in September 2003.[16][17] Nupedia's encyclopedic content was assimilated into Wikipedia.[18]\n",
       "\n",
       "Editorial process\n",
       "\n",
       "Nupedia had a seven-step editorial process, consisting of:\n",
       "\n",
       "Assignment\n",
       "Finding a lead reviewer\n",
       "Lead review\n",
       "Open review\n",
       "Lead copyediting\n",
       "Open copyediting\n",
       "Final approval and markup\n",
       "Authors were expected to have expert knowledge (although the definition of expert allowed for a degree of flexibility, and it was acknowledged that some articles could be written by a good writer, rather than an expert per se)[19] and the editors approving articles for publication were expected \"to be true experts in their fields and (with few exceptions) [to] possess PhDs\".[20]\n",
       "\n",
       "Ruth Ifcher was someone Sanger depended upon and worked closely with on Nupedia's early policies and procedures. Ifcher, holding several higher degrees, was a computer programmer and former copy editor and agreed to be volunteer chief copy editor.[21]\n",
       "\n",
       "Software development\n",
       "\n",
       "Nupedia was powered by NupeCode collaborative software. NupeCode is free/open source software (released under the GNU General Public License) designed for large peer review projects. The code was available via Nupedia's CVS repository. One of the problems experienced by Nupedia during much of its existence was that the software lacked functionality. Much of the missing functionality had been mocked-up using underlined blocks of text which appeared to be hyperlinks, but actually were not.[citation needed]\n",
       "\n",
       "As part of the project, a new version of the original software (called \"NuNupedia\") was under development. NuNupedia was implemented for testing at SourceForge, but never reached a sufficient stage of development to replace the original software.[22]\n",
       "\n",
       "See also\n",
       "\n",
       "iconInternet portal\n",
       "List of online encyclopedias\n",
       "List of wikis\n",
       "Scholarpedia\n",
       "Encyclopedia Britannica\n",
       "Wikipedia:Nupedia and Wikipedia § Articles copied to Wikipedia\n",
       "Notes\n",
       "\n",
       "Wikipedia:Nupedia and Wikipedia § Articles copied to Wikipedia\n",
       "References\n",
       "\n",
       "\"Nupedia.com WHOIS, DNS, & DomainTools\". WHOIS. 2016. Archived from the original on 24 July 2017. Retrieved 6 March 2016.normal\n",
       "^ a b c Poe, Marshall (September 2006). \"Can thousands of Wikipedians be wrong? How an attempt to build an online encyclopedia touched off history's biggest experiment in collaborative knowledge\". The Hive. The Atlantic. Archived from the original on 26 October 2012. Retrieved 1 January 2007.normal\n",
       "^ a b Sanger, Larry (18 April 2005). \"The Early History of Nupedia and Wikipedia: A Memoir\". Slashdot. Archived from the original on 25 May 2009. Retrieved 26 May 2012.normal\n",
       "Lih, Andrew (2009). The Wikipedia Revolution: How a Bunch of Nobodies Created the World's Greatest Encyclopedia. London: Aurum. p. 38. ISBN 9781845134730. OCLC 280430641. His academic roots compelled Sanger to insist on one rigid requirement for his editors: a pedigree. \"We wish editors to be true experts in their fields and (with a few exceptions) possess Ph.Ds.\" read the Nupedia policy.normal\n",
       "Craig 2013, p. 84\n",
       "Ayers 2008\n",
       "Myers 2006, p. 163\n",
       "\"When Wikipedia was young: the early years\". VatorNews. 13 June 2017. Archived from the original on 26 December 2018. Retrieved 25 July 2018.normal\n",
       "\"Wikipedia founder forks Wikipedia\". Archived from the original on 26 December 2018. Retrieved 7 August 2018.normal\n",
       "\"NuPedia.com WHOIS, DNS, & Domain Info - DomainTools\". WHOIS. Archived from the original on 24 July 2017. Retrieved 6 July 2016.normal\n",
       "^ a b Gouthro, Liane (10 March 2000). \"Building the world's biggest encyclopedia\". PC World. Archived from the original on 19 July 2009. Retrieved 19 January 2008.normal\n",
       "^ a b Frauenfelder, Mark (21 November 2000). \"The next generation of online encyclopedias\". The Industry Standard/CNN. Archived from the original on 14 August 2004. Retrieved 14 February 2019.normal\n",
       "jwales (17 January 2001). \"Re:GNUPedia = Nupedia?\". GNUPedia Project Starting. Slashdot. Archived from the original on 26 June 2013. Retrieved 25 May 2008.normal\n",
       "Larry Sanger (10 January 2001). \"Let's make a wiki\". Nupedia-l mailing list. Internet Archive. Archived from the original on 14 April 2003.normal\n",
       "Sanger, Larry. \"My Resignation\". Wikipedia-L. Bomis, Inc. Archived from the original on 24 December 2019. Retrieved 24 December 2019.normal\n",
       "\"1 Nazis and Norms\". reagle.org. Archived from the original on 30 April 2020. Retrieved 25 April 2020.normal\n",
       "Reagle, p. 6\n",
       "Waters 2010, pp. 179–180\n",
       "\"Nupedia.com Editorial Policy Guidelines (Version 3.31)\". Nupedia. 16 November 2000. Archived from the original on 31 March 2001. Retrieved 3 June 2010. The rule of thumb an editor should bear in mind is: would an article on this topic be of significantly greater quality if it were written by an expert on the subject? If yes, we will require that the writer be an expert on the subject. If no, nonspecialists (who are good writers) are more than welcome.normal\n",
       "\"How to be an editor or peer reviewer for Nupedia\". Nupedia. Archived from the original on 10 April 2001. Retrieved 3 June 2010.normal\n",
       "Lih, Andrew (2009). The Wikipedia Revolution. New York: Hyperion. p. 37. ISBN 9781401303716.normal\n",
       "\"NuNupedia\". SourceForge. Archived from the original on 28 October 2018. Retrieved 16 February 2017.normal\n",
       "Further reading\n",
       "\n",
       "Larry Sanger, The Early History of Nupedia and Wikipedia: A Memoir Part 1 and Part 2. Slashdot, April 2005.\n",
       "Larry Sanger, \"Nupedia.com Statement of Editorial Policy, Version 2.1\", Printable Version dated 10 May 2000.\n",
       "Larry Sanger, \"Nupedia.com Statement of Editorial Policy, Version 3.2\", Printable Version dated 23 June 2000.\n",
       "External links\n",
       "\n",
       "Earlier versions of Nupedia (from the Internet Archive)\n",
       "v\n",
       "t\n",
       "e\n",
       "Wikipedia\n",
       "Overview\n",
       "(outline)\t\n",
       "Censorship\n",
       "Conflict-of-interest editing\n",
       "political editing incidents\n",
       "Criticism\n",
       "Biases\n",
       "gender\n",
       "geographical\n",
       "ideological\n",
       "racial\n",
       "Deletion of articles\n",
       "deletionism and inclusionism\n",
       "notability\n",
       "\"Ignore all rules\"\n",
       "MediaWiki\n",
       "Plagiarism\n",
       "Predictions of the project's end\n",
       "Reliability\n",
       "Fact-checking\n",
       "Citation needed\n",
       "Vandalism\n",
       "Community\n",
       "(Wikipedians)\t\n",
       "Administrators\n",
       "AfroCrowd\n",
       "Arbitration Committee\n",
       "Art+Feminism\n",
       "Bots\n",
       "Lsjbot\n",
       "Edit count\n",
       "List of Wikipedias\n",
       "The Signpost\n",
       "Wikimedian of the Year\n",
       "Wikipedian in residence\n",
       "WikiProject\n",
       "Women in Red\n",
       "Events\t\n",
       "Edit-a-thon\n",
       "WikiConference India\n",
       "Wiki Indaba\n",
       "WikiConference North America\n",
       "Wikimania\n",
       "Wiki Loves\t\n",
       "Earth\n",
       "Folklore\n",
       "Monuments\n",
       "Pride\n",
       "Science\n",
       "People\n",
       "(list)\t\n",
       "Esra'a Al Shafei\n",
       "Florence Devouard\n",
       "Sue Gardner\n",
       "James Heilman\n",
       "Maryana Iskander\n",
       "Dariusz Jemielniak\n",
       "Rebecca MacKinnon\n",
       "Katherine Maher\n",
       "Magnus Manske\n",
       "Ira Brad Matetsky\n",
       "Erik Möller\n",
       "Jason Moore\n",
       "Raju Narisetti\n",
       "Steven Pruitt\n",
       "Annie Rauwerda\n",
       "Larry Sanger\n",
       "María Sefidari\n",
       "Lisa Seitz-Gruwell\n",
       "Rosie Stephenson-Goodknight\n",
       "Lila Tretikov\n",
       "Jimmy Wales\n",
       "History\t\n",
       "Bomis\n",
       "Nupedia\n",
       "First edit\n",
       "Logo\n",
       "Internet Watch Foundation\n",
       "Scientology\n",
       "Hillsborough disaster Wikipedia posts\n",
       "VisualEditor\n",
       "#1Lib1Ref\n",
       "2021 Wikimedia Foundation actions on the Chinese Wikipedia\n",
       "Controversies\t\n",
       "Essjay controversy\n",
       "Henryk Batuta hoax\n",
       "Jar'Edo Wens hoax\n",
       "Seigenthaler biography incident\n",
       "Star Trek Into Darkness debate\n",
       "United States congressional staff edits\n",
       "Zhemao hoaxes\n",
       "Coverage\t\n",
       "American politics\n",
       "Donald Trump\n",
       "COVID-19 pandemic\n",
       "Death\n",
       "Israeli–Palestinian conflict\n",
       "Russian invasion of Ukraine\n",
       "Honors\t\n",
       "274301 Wikipedia\n",
       "Viola angustifolia\n",
       "Wikipedia Monument\n",
       "References\n",
       "and analysis\t\n",
       "Academic studies\n",
       "Bibliography\n",
       "Cultural\n",
       "Films\n",
       "Listen to Wikipedia\n",
       "Wikipediocracy\n",
       "Mobile\t\n",
       "Apps\n",
       "QRpedia\n",
       "Wapedia\n",
       "Wikipedia Zero\n",
       "WikiReader\n",
       "Wikiwand\n",
       "Content use\t\n",
       "DBpedia\n",
       "Depths of Wikipedia\n",
       "Google and Wikipedia\n",
       "Health information\n",
       "Kiwix\n",
       "Science information\n",
       "Wikimedia Enterprise\n",
       "Related\t\n",
       "The Iraq War: A Historiography of Wikipedia Changelogs\n",
       "LGBT and Wikipedia\n",
       "Magna Carta (An Embroidery)\n",
       "People imprisoned for editing Wikipedia\n",
       "Print Wikipedia\n",
       "Wiki rabbit hole\n",
       "Wikimedia Foundation\n",
       "Wikimedia movement\n",
       "Wikipedia for World Heritage\n",
       "Wikipedia in India\n",
       "Wikiracing\n",
       "List of online encyclopedias\n",
       "List of wikis\n",
       "\n",
       "###### Header 6\n",
       "####### Header 7\n",
       "######## Header 8"
      ]
     },
     {
      "cell_type": "markdown",
      "metadata": {},
      "source": [
       "# Header 1\n",
       "## Header 2\n",
       "### Header 3\n",
       "#### Header 4\n",
       "##### Header 5\n",
       "Nupedia\n",
       "This article is about the predecessor of Wikipedia. For the online encyclopedia originally known as GNUpedia, see GNE (encyclopedia).\n",
       "Nupedia was an English-language online encyclopedia whose articles were written by volunteer contributors with appropriate subject matter expertise, reviewed by expert editors before publication, and licensed as free content. It was founded by Jimmy Wales and underwritten by Bomis, with Larry Sanger as editor-in-chief. Nupedia operated from October 1999[1][2] until September 2003. It is best known today as the predecessor of Wikipedia. Nupedia had a seven-step approval process to control content of articles before being posted, rather than live wiki-based updating. Nupedia was designed by a committee of experts who predefined the rules. It had only 21 articles in its first year,[a] compared with Wikipedia having 200 articles in the first month, and 18,000 in the first year.[3]\n",
       "\n",
       "Unlike Wikipedia, Nupedia was not a wiki; it was instead characterized by an extensive peer-review process, designed to make its articles of a quality comparable to that of professional encyclopedias. Nupedia wanted scholars (ideally with PhDs) to volunteer content.[4] Before it ceased operating, Nupedia produced 24 approved articles[5][6][7] that had completed its review process and another 150 articles were in progress.[8] Wales preferred Wikipedia's easier posting of articles, while Sanger preferred the peer-reviewed approach used by Nupedia[3] and later founded Citizendium in 2006 as an expert-reviewed alternative to Wikipedia.[9]\n",
       "\n",
       "History\n",
       "\n",
       "In October 1999,[10] Jimmy Wales began thinking about an online encyclopedia built by volunteers and, in January 2000, hired Larry Sanger to oversee its development.[2] The project officially went online on 9 March 2000.[11] By November 2000, however, only two full-length articles had been published.[12]\n",
       "\n",
       "From its beginning, Nupedia was a free content encyclopedia,[11] with Bomis intending to generate revenue from online ads on Nupedia.com.[12] Initially the project used a homegrown license, the Nupedia Open Content License. In January 2001, it switched to the GNU Free Documentation License at the urging of Richard Stallman and the Free Software Foundation.[13] Also in January 2001, Nupedia started Wikipedia as a side-project to allow collaboration on articles before entering the peer review process.[14] This attracted interest from both sides, as it provided the less bureaucratic structure favored by advocates of the GNE encyclopedia. As a result, GNE never really developed, and the threat of competition between the projects was averted. As Wikipedia grew and attracted contributors, it quickly developed a life of its own and began to function largely independently of Nupedia, although Sanger initially led activity on Wikipedia by virtue of his position as Nupedia's editor-in-chief.\n",
       "\n",
       "Besides leading to discontinuation of the GNE project, Wikipedia also led to the gradual demise of Nupedia. Due to the collapse of the internet economy at that time, Jimmy Wales decided to discontinue funding for a salaried editor-in-chief in December 2001,[2] and Sanger resigned from both projects shortly thereafter.[15] After Sanger's departure, Nupedia increasingly became an afterthought to Wikipedia; of the Nupedia articles that completed the review process, only two did so after 2001. As Nupedia dwindled into inactivity, the idea of converting it into a stable version of approved Wikipedia articles was occasionally broached, but never implemented. Nupedia's server crashed in September 2003.[16][17] Nupedia's encyclopedic content was assimilated into Wikipedia.[18]\n",
       "\n",
       "Editorial process\n",
       "\n",
       "Nupedia had a seven-step editorial process, consisting of:\n",
       "\n",
       "Assignment\n",
       "Finding a lead reviewer\n",
       "Lead review\n",
       "Open review\n",
       "Lead copyediting\n",
       "Open copyediting\n",
       "Final approval and markup\n",
       "Authors were expected to have expert knowledge (although the definition of expert allowed for a degree of flexibility, and it was acknowledged that some articles could be written by a good writer, rather than an expert per se)[19] and the editors approving articles for publication were expected \"to be true experts in their fields and (with few exceptions) [to] possess PhDs\".[20]\n",
       "\n",
       "Ruth Ifcher was someone Sanger depended upon and worked closely with on Nupedia's early policies and procedures. Ifcher, holding several higher degrees, was a computer programmer and former copy editor and agreed to be volunteer chief copy editor.[21]\n",
       "\n",
       "Software development\n",
       "\n",
       "Nupedia was powered by NupeCode collaborative software. NupeCode is free/open source software (released under the GNU General Public License) designed for large peer review projects. The code was available via Nupedia's CVS repository. One of the problems experienced by Nupedia during much of its existence was that the software lacked functionality. Much of the missing functionality had been mocked-up using underlined blocks of text which appeared to be hyperlinks, but actually were not.[citation needed]\n",
       "\n",
       "As part of the project, a new version of the original software (called \"NuNupedia\") was under development. NuNupedia was implemented for testing at SourceForge, but never reached a sufficient stage of development to replace the original software.[22]\n",
       "\n",
       "See also\n",
       "\n",
       "iconInternet portal\n",
       "List of online encyclopedias\n",
       "List of wikis\n",
       "Scholarpedia\n",
       "Encyclopedia Britannica\n",
       "Wikipedia:Nupedia and Wikipedia § Articles copied to Wikipedia\n",
       "Notes\n",
       "\n",
       "Wikipedia:Nupedia and Wikipedia § Articles copied to Wikipedia\n",
       "References\n",
       "\n",
       "\"Nupedia.com WHOIS, DNS, & DomainTools\". WHOIS. 2016. Archived from the original on 24 July 2017. Retrieved 6 March 2016.normal\n",
       "^ a b c Poe, Marshall (September 2006). \"Can thousands of Wikipedians be wrong? How an attempt to build an online encyclopedia touched off history's biggest experiment in collaborative knowledge\". The Hive. The Atlantic. Archived from the original on 26 October 2012. Retrieved 1 January 2007.normal\n",
       "^ a b Sanger, Larry (18 April 2005). \"The Early History of Nupedia and Wikipedia: A Memoir\". Slashdot. Archived from the original on 25 May 2009. Retrieved 26 May 2012.normal\n",
       "Lih, Andrew (2009). The Wikipedia Revolution: How a Bunch of Nobodies Created the World's Greatest Encyclopedia. London: Aurum. p. 38. ISBN 9781845134730. OCLC 280430641. His academic roots compelled Sanger to insist on one rigid requirement for his editors: a pedigree. \"We wish editors to be true experts in their fields and (with a few exceptions) possess Ph.Ds.\" read the Nupedia policy.normal\n",
       "Craig 2013, p. 84\n",
       "Ayers 2008\n",
       "Myers 2006, p. 163\n",
       "\"When Wikipedia was young: the early years\". VatorNews. 13 June 2017. Archived from the original on 26 December 2018. Retrieved 25 July 2018.normal\n",
       "\"Wikipedia founder forks Wikipedia\". Archived from the original on 26 December 2018. Retrieved 7 August 2018.normal\n",
       "\"NuPedia.com WHOIS, DNS, & Domain Info - DomainTools\". WHOIS. Archived from the original on 24 July 2017. Retrieved 6 July 2016.normal\n",
       "^ a b Gouthro, Liane (10 March 2000). \"Building the world's biggest encyclopedia\". PC World. Archived from the original on 19 July 2009. Retrieved 19 January 2008.normal\n",
       "^ a b Frauenfelder, Mark (21 November 2000). \"The next generation of online encyclopedias\". The Industry Standard/CNN. Archived from the original on 14 August 2004. Retrieved 14 February 2019.normal\n",
       "jwales (17 January 2001). \"Re:GNUPedia = Nupedia?\". GNUPedia Project Starting. Slashdot. Archived from the original on 26 June 2013. Retrieved 25 May 2008.normal\n",
       "Larry Sanger (10 January 2001). \"Let's make a wiki\". Nupedia-l mailing list. Internet Archive. Archived from the original on 14 April 2003.normal\n",
       "Sanger, Larry. \"My Resignation\". Wikipedia-L. Bomis, Inc. Archived from the original on 24 December 2019. Retrieved 24 December 2019.normal\n",
       "\"1 Nazis and Norms\". reagle.org. Archived from the original on 30 April 2020. Retrieved 25 April 2020.normal\n",
       "Reagle, p. 6\n",
       "Waters 2010, pp. 179–180\n",
       "\"Nupedia.com Editorial Policy Guidelines (Version 3.31)\". Nupedia. 16 November 2000. Archived from the original on 31 March 2001. Retrieved 3 June 2010. The rule of thumb an editor should bear in mind is: would an article on this topic be of significantly greater quality if it were written by an expert on the subject? If yes, we will require that the writer be an expert on the subject. If no, nonspecialists (who are good writers) are more than welcome.normal\n",
       "\"How to be an editor or peer reviewer for Nupedia\". Nupedia. Archived from the original on 10 April 2001. Retrieved 3 June 2010.normal\n",
       "Lih, Andrew (2009). The Wikipedia Revolution. New York: Hyperion. p. 37. ISBN 9781401303716.normal\n",
       "\"NuNupedia\". SourceForge. Archived from the original on 28 October 2018. Retrieved 16 February 2017.normal\n",
       "Further reading\n",
       "\n",
       "Larry Sanger, The Early History of Nupedia and Wikipedia: A Memoir Part 1 and Part 2. Slashdot, April 2005.\n",
       "Larry Sanger, \"Nupedia.com Statement of Editorial Policy, Version 2.1\", Printable Version dated 10 May 2000.\n",
       "Larry Sanger, \"Nupedia.com Statement of Editorial Policy, Version 3.2\", Printable Version dated 23 June 2000.\n",
       "External links\n",
       "\n",
       "Earlier versions of Nupedia (from the Internet Archive)\n",
       "v\n",
       "t\n",
       "e\n",
       "Wikipedia\n",
       "Overview\n",
       "(outline)\t\n",
       "Censorship\n",
       "Conflict-of-interest editing\n",
       "political editing incidents\n",
       "Criticism\n",
       "Biases\n",
       "gender\n",
       "geographical\n",
       "ideological\n",
       "racial\n",
       "Deletion of articles\n",
       "deletionism and inclusionism\n",
       "notability\n",
       "\"Ignore all rules\"\n",
       "MediaWiki\n",
       "Plagiarism\n",
       "Predictions of the project's end\n",
       "Reliability\n",
       "Fact-checking\n",
       "Citation needed\n",
       "Vandalism\n",
       "Community\n",
       "(Wikipedians)\t\n",
       "Administrators\n",
       "AfroCrowd\n",
       "Arbitration Committee\n",
       "Art+Feminism\n",
       "Bots\n",
       "Lsjbot\n",
       "Edit count\n",
       "List of Wikipedias\n",
       "The Signpost\n",
       "Wikimedian of the Year\n",
       "Wikipedian in residence\n",
       "WikiProject\n",
       "Women in Red\n",
       "Events\t\n",
       "Edit-a-thon\n",
       "WikiConference India\n",
       "Wiki Indaba\n",
       "WikiConference North America\n",
       "Wikimania\n",
       "Wiki Loves\t\n",
       "Earth\n",
       "Folklore\n",
       "Monuments\n",
       "Pride\n",
       "Science\n",
       "People\n",
       "(list)\t\n",
       "Esra'a Al Shafei\n",
       "Florence Devouard\n",
       "Sue Gardner\n",
       "James Heilman\n",
       "Maryana Iskander\n",
       "Dariusz Jemielniak\n",
       "Rebecca MacKinnon\n",
       "Katherine Maher\n",
       "Magnus Manske\n",
       "Ira Brad Matetsky\n",
       "Erik Möller\n",
       "Jason Moore\n",
       "Raju Narisetti\n",
       "Steven Pruitt\n",
       "Annie Rauwerda\n",
       "Larry Sanger\n",
       "María Sefidari\n",
       "Lisa Seitz-Gruwell\n",
       "Rosie Stephenson-Goodknight\n",
       "Lila Tretikov\n",
       "Jimmy Wales\n",
       "History\t\n",
       "Bomis\n",
       "Nupedia\n",
       "First edit\n",
       "Logo\n",
       "Internet Watch Foundation\n",
       "Scientology\n",
       "Hillsborough disaster Wikipedia posts\n",
       "VisualEditor\n",
       "#1Lib1Ref\n",
       "2021 Wikimedia Foundation actions on the Chinese Wikipedia\n",
       "Controversies\t\n",
       "Essjay controversy\n",
       "Henryk Batuta hoax\n",
       "Jar'Edo Wens hoax\n",
       "Seigenthaler biography incident\n",
       "Star Trek Into Darkness debate\n",
       "United States congressional staff edits\n",
       "Zhemao hoaxes\n",
       "Coverage\t\n",
       "American politics\n",
       "Donald Trump\n",
       "COVID-19 pandemic\n",
       "Death\n",
       "Israeli–Palestinian conflict\n",
       "Russian invasion of Ukraine\n",
       "Honors\t\n",
       "274301 Wikipedia\n",
       "Viola angustifolia\n",
       "Wikipedia Monument\n",
       "References\n",
       "and analysis\t\n",
       "Academic studies\n",
       "Bibliography\n",
       "Cultural\n",
       "Films\n",
       "Listen to Wikipedia\n",
       "Wikipediocracy\n",
       "Mobile\t\n",
       "Apps\n",
       "QRpedia\n",
       "Wapedia\n",
       "Wikipedia Zero\n",
       "WikiReader\n",
       "Wikiwand\n",
       "Content use\t\n",
       "DBpedia\n",
       "Depths of Wikipedia\n",
       "Google and Wikipedia\n",
       "Health information\n",
       "Kiwix\n",
       "Science information\n",
       "Wikimedia Enterprise\n",
       "Related\t\n",
       "The Iraq War: A Historiography of Wikipedia Changelogs\n",
       "LGBT and Wikipedia\n",
       "Magna Carta (An Embroidery)\n",
       "People imprisoned for editing Wikipedia\n",
       "Print Wikipedia\n",
       "Wiki rabbit hole\n",
       "Wikimedia Foundation\n",
       "Wikimedia movement\n",
       "Wikipedia for World Heritage\n",
       "Wikipedia in India\n",
       "Wikiracing\n",
       "List of online encyclopedias\n",
       "List of wikis\n",
       "\n",
       "###### Header 6\n",
       "####### Header 7\n",
       "######## Header 8"
      ]
     },
     {
      "cell_type": "markdown",
      "metadata": {},
      "source": [
       "# Header 1\n",
       "## Header 2\n",
       "### Header 3\n",
       "#### Header 4\n",
       "##### Header 5\n",
       "Nupedia\n",
       "This article is about the predecessor of Wikipedia. For the online encyclopedia originally known as GNUpedia, see GNE (encyclopedia).\n",
       "Nupedia was an English-language online encyclopedia whose articles were written by volunteer contributors with appropriate subject matter expertise, reviewed by expert editors before publication, and licensed as free content. It was founded by Jimmy Wales and underwritten by Bomis, with Larry Sanger as editor-in-chief. Nupedia operated from October 1999[1][2] until September 2003. It is best known today as the predecessor of Wikipedia. Nupedia had a seven-step approval process to control content of articles before being posted, rather than live wiki-based updating. Nupedia was designed by a committee of experts who predefined the rules. It had only 21 articles in its first year,[a] compared with Wikipedia having 200 articles in the first month, and 18,000 in the first year.[3]\n",
       "\n",
       "Unlike Wikipedia, Nupedia was not a wiki; it was instead characterized by an extensive peer-review process, designed to make its articles of a quality comparable to that of professional encyclopedias. Nupedia wanted scholars (ideally with PhDs) to volunteer content.[4] Before it ceased operating, Nupedia produced 24 approved articles[5][6][7] that had completed its review process and another 150 articles were in progress.[8] Wales preferred Wikipedia's easier posting of articles, while Sanger preferred the peer-reviewed approach used by Nupedia[3] and later founded Citizendium in 2006 as an expert-reviewed alternative to Wikipedia.[9]\n",
       "\n",
       "History\n",
       "\n",
       "In October 1999,[10] Jimmy Wales began thinking about an online encyclopedia built by volunteers and, in January 2000, hired Larry Sanger to oversee its development.[2] The project officially went online on 9 March 2000.[11] By November 2000, however, only two full-length articles had been published.[12]\n",
       "\n",
       "From its beginning, Nupedia was a free content encyclopedia,[11] with Bomis intending to generate revenue from online ads on Nupedia.com.[12] Initially the project used a homegrown license, the Nupedia Open Content License. In January 2001, it switched to the GNU Free Documentation License at the urging of Richard Stallman and the Free Software Foundation.[13] Also in January 2001, Nupedia started Wikipedia as a side-project to allow collaboration on articles before entering the peer review process.[14] This attracted interest from both sides, as it provided the less bureaucratic structure favored by advocates of the GNE encyclopedia. As a result, GNE never really developed, and the threat of competition between the projects was averted. As Wikipedia grew and attracted contributors, it quickly developed a life of its own and began to function largely independently of Nupedia, although Sanger initially led activity on Wikipedia by virtue of his position as Nupedia's editor-in-chief.\n",
       "\n",
       "Besides leading to discontinuation of the GNE project, Wikipedia also led to the gradual demise of Nupedia. Due to the collapse of the internet economy at that time, Jimmy Wales decided to discontinue funding for a salaried editor-in-chief in December 2001,[2] and Sanger resigned from both projects shortly thereafter.[15] After Sanger's departure, Nupedia increasingly became an afterthought to Wikipedia; of the Nupedia articles that completed the review process, only two did so after 2001. As Nupedia dwindled into inactivity, the idea of converting it into a stable version of approved Wikipedia articles was occasionally broached, but never implemented. Nupedia's server crashed in September 2003.[16][17] Nupedia's encyclopedic content was assimilated into Wikipedia.[18]\n",
       "\n",
       "Editorial process\n",
       "\n",
       "Nupedia had a seven-step editorial process, consisting of:\n",
       "\n",
       "Assignment\n",
       "Finding a lead reviewer\n",
       "Lead review\n",
       "Open review\n",
       "Lead copyediting\n",
       "Open copyediting\n",
       "Final approval and markup\n",
       "Authors were expected to have expert knowledge (although the definition of expert allowed for a degree of flexibility, and it was acknowledged that some articles could be written by a good writer, rather than an expert per se)[19] and the editors approving articles for publication were expected \"to be true experts in their fields and (with few exceptions) [to] possess PhDs\".[20]\n",
       "\n",
       "Ruth Ifcher was someone Sanger depended upon and worked closely with on Nupedia's early policies and procedures. Ifcher, holding several higher degrees, was a computer programmer and former copy editor and agreed to be volunteer chief copy editor.[21]\n",
       "\n",
       "Software development\n",
       "\n",
       "Nupedia was powered by NupeCode collaborative software. NupeCode is free/open source software (released under the GNU General Public License) designed for large peer review projects. The code was available via Nupedia's CVS repository. One of the problems experienced by Nupedia during much of its existence was that the software lacked functionality. Much of the missing functionality had been mocked-up using underlined blocks of text which appeared to be hyperlinks, but actually were not.[citation needed]\n",
       "\n",
       "As part of the project, a new version of the original software (called \"NuNupedia\") was under development. NuNupedia was implemented for testing at SourceForge, but never reached a sufficient stage of development to replace the original software.[22]\n",
       "\n",
       "See also\n",
       "\n",
       "iconInternet portal\n",
       "List of online encyclopedias\n",
       "List of wikis\n",
       "Scholarpedia\n",
       "Encyclopedia Britannica\n",
       "Wikipedia:Nupedia and Wikipedia § Articles copied to Wikipedia\n",
       "Notes\n",
       "\n",
       "Wikipedia:Nupedia and Wikipedia § Articles copied to Wikipedia\n",
       "References\n",
       "\n",
       "\"Nupedia.com WHOIS, DNS, & DomainTools\". WHOIS. 2016. Archived from the original on 24 July 2017. Retrieved 6 March 2016.normal\n",
       "^ a b c Poe, Marshall (September 2006). \"Can thousands of Wikipedians be wrong? How an attempt to build an online encyclopedia touched off history's biggest experiment in collaborative knowledge\". The Hive. The Atlantic. Archived from the original on 26 October 2012. Retrieved 1 January 2007.normal\n",
       "^ a b Sanger, Larry (18 April 2005). \"The Early History of Nupedia and Wikipedia: A Memoir\". Slashdot. Archived from the original on 25 May 2009. Retrieved 26 May 2012.normal\n",
       "Lih, Andrew (2009). The Wikipedia Revolution: How a Bunch of Nobodies Created the World's Greatest Encyclopedia. London: Aurum. p. 38. ISBN 9781845134730. OCLC 280430641. His academic roots compelled Sanger to insist on one rigid requirement for his editors: a pedigree. \"We wish editors to be true experts in their fields and (with a few exceptions) possess Ph.Ds.\" read the Nupedia policy.normal\n",
       "Craig 2013, p. 84\n",
       "Ayers 2008\n",
       "Myers 2006, p. 163\n",
       "\"When Wikipedia was young: the early years\". VatorNews. 13 June 2017. Archived from the original on 26 December 2018. Retrieved 25 July 2018.normal\n",
       "\"Wikipedia founder forks Wikipedia\". Archived from the original on 26 December 2018. Retrieved 7 August 2018.normal\n",
       "\"NuPedia.com WHOIS, DNS, & Domain Info - DomainTools\". WHOIS. Archived from the original on 24 July 2017. Retrieved 6 July 2016.normal\n",
       "^ a b Gouthro, Liane (10 March 2000). \"Building the world's biggest encyclopedia\". PC World. Archived from the original on 19 July 2009. Retrieved 19 January 2008.normal\n",
       "^ a b Frauenfelder, Mark (21 November 2000). \"The next generation of online encyclopedias\". The Industry Standard/CNN. Archived from the original on 14 August 2004. Retrieved 14 February 2019.normal\n",
       "jwales (17 January 2001). \"Re:GNUPedia = Nupedia?\". GNUPedia Project Starting. Slashdot. Archived from the original on 26 June 2013. Retrieved 25 May 2008.normal\n",
       "Larry Sanger (10 January 2001). \"Let's make a wiki\". Nupedia-l mailing list. Internet Archive. Archived from the original on 14 April 2003.normal\n",
       "Sanger, Larry. \"My Resignation\". Wikipedia-L. Bomis, Inc. Archived from the original on 24 December 2019. Retrieved 24 December 2019.normal\n",
       "\"1 Nazis and Norms\". reagle.org. Archived from the original on 30 April 2020. Retrieved 25 April 2020.normal\n",
       "Reagle, p. 6\n",
       "Waters 2010, pp. 179–180\n",
       "\"Nupedia.com Editorial Policy Guidelines (Version 3.31)\". Nupedia. 16 November 2000. Archived from the original on 31 March 2001. Retrieved 3 June 2010. The rule of thumb an editor should bear in mind is: would an article on this topic be of significantly greater quality if it were written by an expert on the subject? If yes, we will require that the writer be an expert on the subject. If no, nonspecialists (who are good writers) are more than welcome.normal\n",
       "\"How to be an editor or peer reviewer for Nupedia\". Nupedia. Archived from the original on 10 April 2001. Retrieved 3 June 2010.normal\n",
       "Lih, Andrew (2009). The Wikipedia Revolution. New York: Hyperion. p. 37. ISBN 9781401303716.normal\n",
       "\"NuNupedia\". SourceForge. Archived from the original on 28 October 2018. Retrieved 16 February 2017.normal\n",
       "Further reading\n",
       "\n",
       "Larry Sanger, The Early History of Nupedia and Wikipedia: A Memoir Part 1 and Part 2. Slashdot, April 2005.\n",
       "Larry Sanger, \"Nupedia.com Statement of Editorial Policy, Version 2.1\", Printable Version dated 10 May 2000.\n",
       "Larry Sanger, \"Nupedia.com Statement of Editorial Policy, Version 3.2\", Printable Version dated 23 June 2000.\n",
       "External links\n",
       "\n",
       "Earlier versions of Nupedia (from the Internet Archive)\n",
       "v\n",
       "t\n",
       "e\n",
       "Wikipedia\n",
       "Overview\n",
       "(outline)\t\n",
       "Censorship\n",
       "Conflict-of-interest editing\n",
       "political editing incidents\n",
       "Criticism\n",
       "Biases\n",
       "gender\n",
       "geographical\n",
       "ideological\n",
       "racial\n",
       "Deletion of articles\n",
       "deletionism and inclusionism\n",
       "notability\n",
       "\"Ignore all rules\"\n",
       "MediaWiki\n",
       "Plagiarism\n",
       "Predictions of the project's end\n",
       "Reliability\n",
       "Fact-checking\n",
       "Citation needed\n",
       "Vandalism\n",
       "Community\n",
       "(Wikipedians)\t\n",
       "Administrators\n",
       "AfroCrowd\n",
       "Arbitration Committee\n",
       "Art+Feminism\n",
       "Bots\n",
       "Lsjbot\n",
       "Edit count\n",
       "List of Wikipedias\n",
       "The Signpost\n",
       "Wikimedian of the Year\n",
       "Wikipedian in residence\n",
       "WikiProject\n",
       "Women in Red\n",
       "Events\t\n",
       "Edit-a-thon\n",
       "WikiConference India\n",
       "Wiki Indaba\n",
       "WikiConference North America\n",
       "Wikimania\n",
       "Wiki Loves\t\n",
       "Earth\n",
       "Folklore\n",
       "Monuments\n",
       "Pride\n",
       "Science\n",
       "People\n",
       "(list)\t\n",
       "Esra'a Al Shafei\n",
       "Florence Devouard\n",
       "Sue Gardner\n",
       "James Heilman\n",
       "Maryana Iskander\n",
       "Dariusz Jemielniak\n",
       "Rebecca MacKinnon\n",
       "Katherine Maher\n",
       "Magnus Manske\n",
       "Ira Brad Matetsky\n",
       "Erik Möller\n",
       "Jason Moore\n",
       "Raju Narisetti\n",
       "Steven Pruitt\n",
       "Annie Rauwerda\n",
       "Larry Sanger\n",
       "María Sefidari\n",
       "Lisa Seitz-Gruwell\n",
       "Rosie Stephenson-Goodknight\n",
       "Lila Tretikov\n",
       "Jimmy Wales\n",
       "History\t\n",
       "Bomis\n",
       "Nupedia\n",
       "First edit\n",
       "Logo\n",
       "Internet Watch Foundation\n",
       "Scientology\n",
       "Hillsborough disaster Wikipedia posts\n",
       "VisualEditor\n",
       "#1Lib1Ref\n",
       "2021 Wikimedia Foundation actions on the Chinese Wikipedia\n",
       "Controversies\t\n",
       "Essjay controversy\n",
       "Henryk Batuta hoax\n",
       "Jar'Edo Wens hoax\n",
       "Seigenthaler biography incident\n",
       "Star Trek Into Darkness debate\n",
       "United States congressional staff edits\n",
       "Zhemao hoaxes\n",
       "Coverage\t\n",
       "American politics\n",
       "Donald Trump\n",
       "COVID-19 pandemic\n",
       "Death\n",
       "Israeli–Palestinian conflict\n",
       "Russian invasion of Ukraine\n",
       "Honors\t\n",
       "274301 Wikipedia\n",
       "Viola angustifolia\n",
       "Wikipedia Monument\n",
       "References\n",
       "and analysis\t\n",
       "Academic studies\n",
       "Bibliography\n",
       "Cultural\n",
       "Films\n",
       "Listen to Wikipedia\n",
       "Wikipediocracy\n",
       "Mobile\t\n",
       "Apps\n",
       "QRpedia\n",
       "Wapedia\n",
       "Wikipedia Zero\n",
       "WikiReader\n",
       "Wikiwand\n",
       "Content use\t\n",
       "DBpedia\n",
       "Depths of Wikipedia\n",
       "Google and Wikipedia\n",
       "Health information\n",
       "Kiwix\n",
       "Science information\n",
       "Wikimedia Enterprise\n",
       "Related\t\n",
       "The Iraq War: A Historiography of Wikipedia Changelogs\n",
       "LGBT and Wikipedia\n",
       "Magna Carta (An Embroidery)\n",
       "People imprisoned for editing Wikipedia\n",
       "Print Wikipedia\n",
       "Wiki rabbit hole\n",
       "Wikimedia Foundation\n",
       "Wikimedia movement\n",
       "Wikipedia for World Heritage\n",
       "Wikipedia in India\n",
       "Wikiracing\n",
       "List of online encyclopedias\n",
       "List of wikis\n",
       "\n",
       "###### Header 6\n",
       "####### Header 7\n",
       "######## Header 8"
      ]
     },
     {
      "cell_type": "markdown",
      "metadata": {},
      "source": [
       "# Header 1\n",
       "## Header 2\n",
       "### Header 3\n",
       "#### Header 4\n",
       "##### Header 5\n",
       "Nupedia\n",
       "This article is about the predecessor of Wikipedia. For the online encyclopedia originally known as GNUpedia, see GNE (encyclopedia).\n",
       "Nupedia was an English-language online encyclopedia whose articles were written by volunteer contributors with appropriate subject matter expertise, reviewed by expert editors before publication, and licensed as free content. It was founded by Jimmy Wales and underwritten by Bomis, with Larry Sanger as editor-in-chief. Nupedia operated from October 1999[1][2] until September 2003. It is best known today as the predecessor of Wikipedia. Nupedia had a seven-step approval process to control content of articles before being posted, rather than live wiki-based updating. Nupedia was designed by a committee of experts who predefined the rules. It had only 21 articles in its first year,[a] compared with Wikipedia having 200 articles in the first month, and 18,000 in the first year.[3]\n",
       "\n",
       "Unlike Wikipedia, Nupedia was not a wiki; it was instead characterized by an extensive peer-review process, designed to make its articles of a quality comparable to that of professional encyclopedias. Nupedia wanted scholars (ideally with PhDs) to volunteer content.[4] Before it ceased operating, Nupedia produced 24 approved articles[5][6][7] that had completed its review process and another 150 articles were in progress.[8] Wales preferred Wikipedia's easier posting of articles, while Sanger preferred the peer-reviewed approach used by Nupedia[3] and later founded Citizendium in 2006 as an expert-reviewed alternative to Wikipedia.[9]\n",
       "\n",
       "History\n",
       "\n",
       "In October 1999,[10] Jimmy Wales began thinking about an online encyclopedia built by volunteers and, in January 2000, hired Larry Sanger to oversee its development.[2] The project officially went online on 9 March 2000.[11] By November 2000, however, only two full-length articles had been published.[12]\n",
       "\n",
       "From its beginning, Nupedia was a free content encyclopedia,[11] with Bomis intending to generate revenue from online ads on Nupedia.com.[12] Initially the project used a homegrown license, the Nupedia Open Content License. In January 2001, it switched to the GNU Free Documentation License at the urging of Richard Stallman and the Free Software Foundation.[13] Also in January 2001, Nupedia started Wikipedia as a side-project to allow collaboration on articles before entering the peer review process.[14] This attracted interest from both sides, as it provided the less bureaucratic structure favored by advocates of the GNE encyclopedia. As a result, GNE never really developed, and the threat of competition between the projects was averted. As Wikipedia grew and attracted contributors, it quickly developed a life of its own and began to function largely independently of Nupedia, although Sanger initially led activity on Wikipedia by virtue of his position as Nupedia's editor-in-chief.\n",
       "\n",
       "Besides leading to discontinuation of the GNE project, Wikipedia also led to the gradual demise of Nupedia. Due to the collapse of the internet economy at that time, Jimmy Wales decided to discontinue funding for a salaried editor-in-chief in December 2001,[2] and Sanger resigned from both projects shortly thereafter.[15] After Sanger's departure, Nupedia increasingly became an afterthought to Wikipedia; of the Nupedia articles that completed the review process, only two did so after 2001. As Nupedia dwindled into inactivity, the idea of converting it into a stable version of approved Wikipedia articles was occasionally broached, but never implemented. Nupedia's server crashed in September 2003.[16][17] Nupedia's encyclopedic content was assimilated into Wikipedia.[18]\n",
       "\n",
       "Editorial process\n",
       "\n",
       "Nupedia had a seven-step editorial process, consisting of:\n",
       "\n",
       "Assignment\n",
       "Finding a lead reviewer\n",
       "Lead review\n",
       "Open review\n",
       "Lead copyediting\n",
       "Open copyediting\n",
       "Final approval and markup\n",
       "Authors were expected to have expert knowledge (although the definition of expert allowed for a degree of flexibility, and it was acknowledged that some articles could be written by a good writer, rather than an expert per se)[19] and the editors approving articles for publication were expected \"to be true experts in their fields and (with few exceptions) [to] possess PhDs\".[20]\n",
       "\n",
       "Ruth Ifcher was someone Sanger depended upon and worked closely with on Nupedia's early policies and procedures. Ifcher, holding several higher degrees, was a computer programmer and former copy editor and agreed to be volunteer chief copy editor.[21]\n",
       "\n",
       "Software development\n",
       "\n",
       "Nupedia was powered by NupeCode collaborative software. NupeCode is free/open source software (released under the GNU General Public License) designed for large peer review projects. The code was available via Nupedia's CVS repository. One of the problems experienced by Nupedia during much of its existence was that the software lacked functionality. Much of the missing functionality had been mocked-up using underlined blocks of text which appeared to be hyperlinks, but actually were not.[citation needed]\n",
       "\n",
       "As part of the project, a new version of the original software (called \"NuNupedia\") was under development. NuNupedia was implemented for testing at SourceForge, but never reached a sufficient stage of development to replace the original software.[22]\n",
       "\n",
       "See also\n",
       "\n",
       "iconInternet portal\n",
       "List of online encyclopedias\n",
       "List of wikis\n",
       "Scholarpedia\n",
       "Encyclopedia Britannica\n",
       "Wikipedia:Nupedia and Wikipedia § Articles copied to Wikipedia\n",
       "Notes\n",
       "\n",
       "Wikipedia:Nupedia and Wikipedia § Articles copied to Wikipedia\n",
       "References\n",
       "\n",
       "\"Nupedia.com WHOIS, DNS, & DomainTools\". WHOIS. 2016. Archived from the original on 24 July 2017. Retrieved 6 March 2016.normal\n",
       "^ a b c Poe, Marshall (September 2006). \"Can thousands of Wikipedians be wrong? How an attempt to build an online encyclopedia touched off history's biggest experiment in collaborative knowledge\". The Hive. The Atlantic. Archived from the original on 26 October 2012. Retrieved 1 January 2007.normal\n",
       "^ a b Sanger, Larry (18 April 2005). \"The Early History of Nupedia and Wikipedia: A Memoir\". Slashdot. Archived from the original on 25 May 2009. Retrieved 26 May 2012.normal\n",
       "Lih, Andrew (2009). The Wikipedia Revolution: How a Bunch of Nobodies Created the World's Greatest Encyclopedia. London: Aurum. p. 38. ISBN 9781845134730. OCLC 280430641. His academic roots compelled Sanger to insist on one rigid requirement for his editors: a pedigree. \"We wish editors to be true experts in their fields and (with a few exceptions) possess Ph.Ds.\" read the Nupedia policy.normal\n",
       "Craig 2013, p. 84\n",
       "Ayers 2008\n",
       "Myers 2006, p. 163\n",
       "\"When Wikipedia was young: the early years\". VatorNews. 13 June 2017. Archived from the original on 26 December 2018. Retrieved 25 July 2018.normal\n",
       "\"Wikipedia founder forks Wikipedia\". Archived from the original on 26 December 2018. Retrieved 7 August 2018.normal\n",
       "\"NuPedia.com WHOIS, DNS, & Domain Info - DomainTools\". WHOIS. Archived from the original on 24 July 2017. Retrieved 6 July 2016.normal\n",
       "^ a b Gouthro, Liane (10 March 2000). \"Building the world's biggest encyclopedia\". PC World. Archived from the original on 19 July 2009. Retrieved 19 January 2008.normal\n",
       "^ a b Frauenfelder, Mark (21 November 2000). \"The next generation of online encyclopedias\". The Industry Standard/CNN. Archived from the original on 14 August 2004. Retrieved 14 February 2019.normal\n",
       "jwales (17 January 2001). \"Re:GNUPedia = Nupedia?\". GNUPedia Project Starting. Slashdot. Archived from the original on 26 June 2013. Retrieved 25 May 2008.normal\n",
       "Larry Sanger (10 January 2001). \"Let's make a wiki\". Nupedia-l mailing list. Internet Archive. Archived from the original on 14 April 2003.normal\n",
       "Sanger, Larry. \"My Resignation\". Wikipedia-L. Bomis, Inc. Archived from the original on 24 December 2019. Retrieved 24 December 2019.normal\n",
       "\"1 Nazis and Norms\". reagle.org. Archived from the original on 30 April 2020. Retrieved 25 April 2020.normal\n",
       "Reagle, p. 6\n",
       "Waters 2010, pp. 179–180\n",
       "\"Nupedia.com Editorial Policy Guidelines (Version 3.31)\". Nupedia. 16 November 2000. Archived from the original on 31 March 2001. Retrieved 3 June 2010. The rule of thumb an editor should bear in mind is: would an article on this topic be of significantly greater quality if it were written by an expert on the subject? If yes, we will require that the writer be an expert on the subject. If no, nonspecialists (who are good writers) are more than welcome.normal\n",
       "\"How to be an editor or peer reviewer for Nupedia\". Nupedia. Archived from the original on 10 April 2001. Retrieved 3 June 2010.normal\n",
       "Lih, Andrew (2009). The Wikipedia Revolution. New York: Hyperion. p. 37. ISBN 9781401303716.normal\n",
       "\"NuNupedia\". SourceForge. Archived from the original on 28 October 2018. Retrieved 16 February 2017.normal\n",
       "Further reading\n",
       "\n",
       "Larry Sanger, The Early History of Nupedia and Wikipedia: A Memoir Part 1 and Part 2. Slashdot, April 2005.\n",
       "Larry Sanger, \"Nupedia.com Statement of Editorial Policy, Version 2.1\", Printable Version dated 10 May 2000.\n",
       "Larry Sanger, \"Nupedia.com Statement of Editorial Policy, Version 3.2\", Printable Version dated 23 June 2000.\n",
       "External links\n",
       "\n",
       "Earlier versions of Nupedia (from the Internet Archive)\n",
       "v\n",
       "t\n",
       "e\n",
       "Wikipedia\n",
       "Overview\n",
       "(outline)\t\n",
       "Censorship\n",
       "Conflict-of-interest editing\n",
       "political editing incidents\n",
       "Criticism\n",
       "Biases\n",
       "gender\n",
       "geographical\n",
       "ideological\n",
       "racial\n",
       "Deletion of articles\n",
       "deletionism and inclusionism\n",
       "notability\n",
       "\"Ignore all rules\"\n",
       "MediaWiki\n",
       "Plagiarism\n",
       "Predictions of the project's end\n",
       "Reliability\n",
       "Fact-checking\n",
       "Citation needed\n",
       "Vandalism\n",
       "Community\n",
       "(Wikipedians)\t\n",
       "Administrators\n",
       "AfroCrowd\n",
       "Arbitration Committee\n",
       "Art+Feminism\n",
       "Bots\n",
       "Lsjbot\n",
       "Edit count\n",
       "List of Wikipedias\n",
       "The Signpost\n",
       "Wikimedian of the Year\n",
       "Wikipedian in residence\n",
       "WikiProject\n",
       "Women in Red\n",
       "Events\t\n",
       "Edit-a-thon\n",
       "WikiConference India\n",
       "Wiki Indaba\n",
       "WikiConference North America\n",
       "Wikimania\n",
       "Wiki Loves\t\n",
       "Earth\n",
       "Folklore\n",
       "Monuments\n",
       "Pride\n",
       "Science\n",
       "People\n",
       "(list)\t\n",
       "Esra'a Al Shafei\n",
       "Florence Devouard\n",
       "Sue Gardner\n",
       "James Heilman\n",
       "Maryana Iskander\n",
       "Dariusz Jemielniak\n",
       "Rebecca MacKinnon\n",
       "Katherine Maher\n",
       "Magnus Manske\n",
       "Ira Brad Matetsky\n",
       "Erik Möller\n",
       "Jason Moore\n",
       "Raju Narisetti\n",
       "Steven Pruitt\n",
       "Annie Rauwerda\n",
       "Larry Sanger\n",
       "María Sefidari\n",
       "Lisa Seitz-Gruwell\n",
       "Rosie Stephenson-Goodknight\n",
       "Lila Tretikov\n",
       "Jimmy Wales\n",
       "History\t\n",
       "Bomis\n",
       "Nupedia\n",
       "First edit\n",
       "Logo\n",
       "Internet Watch Foundation\n",
       "Scientology\n",
       "Hillsborough disaster Wikipedia posts\n",
       "VisualEditor\n",
       "#1Lib1Ref\n",
       "2021 Wikimedia Foundation actions on the Chinese Wikipedia\n",
       "Controversies\t\n",
       "Essjay controversy\n",
       "Henryk Batuta hoax\n",
       "Jar'Edo Wens hoax\n",
       "Seigenthaler biography incident\n",
       "Star Trek Into Darkness debate\n",
       "United States congressional staff edits\n",
       "Zhemao hoaxes\n",
       "Coverage\t\n",
       "American politics\n",
       "Donald Trump\n",
       "COVID-19 pandemic\n",
       "Death\n",
       "Israeli–Palestinian conflict\n",
       "Russian invasion of Ukraine\n",
       "Honors\t\n",
       "274301 Wikipedia\n",
       "Viola angustifolia\n",
       "Wikipedia Monument\n",
       "References\n",
       "and analysis\t\n",
       "Academic studies\n",
       "Bibliography\n",
       "Cultural\n",
       "Films\n",
       "Listen to Wikipedia\n",
       "Wikipediocracy\n",
       "Mobile\t\n",
       "Apps\n",
       "QRpedia\n",
       "Wapedia\n",
       "Wikipedia Zero\n",
       "WikiReader\n",
       "Wikiwand\n",
       "Content use\t\n",
       "DBpedia\n",
       "Depths of Wikipedia\n",
       "Google and Wikipedia\n",
       "Health information\n",
       "Kiwix\n",
       "Science information\n",
       "Wikimedia Enterprise\n",
       "Related\t\n",
       "The Iraq War: A Historiography of Wikipedia Changelogs\n",
       "LGBT and Wikipedia\n",
       "Magna Carta (An Embroidery)\n",
       "People imprisoned for editing Wikipedia\n",
       "Print Wikipedia\n",
       "Wiki rabbit hole\n",
       "Wikimedia Foundation\n",
       "Wikimedia movement\n",
       "Wikipedia for World Heritage\n",
       "Wikipedia in India\n",
       "Wikiracing\n",
       "List of online encyclopedias\n",
       "List of wikis\n",
       "\n",
       "###### Header 6\n",
       "####### Header 7\n",
       "######## Header 8"
      ]
     },
     {
      "cell_type": "markdown",
      "metadata": {},
      "source": [
       "# Header 1\n",
       "## Header 2\n",
       "### Header 3\n",
       "#### Header 4\n",
       "##### Header 5\n",
       "Nupedia\n",
       "This article is about the predecessor of Wikipedia. For the online encyclopedia originally known as GNUpedia, see GNE (encyclopedia).\n",
       "Nupedia was an English-language online encyclopedia whose articles were written by volunteer contributors with appropriate subject matter expertise, reviewed by expert editors before publication, and licensed as free content. It was founded by Jimmy Wales and underwritten by Bomis, with Larry Sanger as editor-in-chief. Nupedia operated from October 1999[1][2] until September 2003. It is best known today as the predecessor of Wikipedia. Nupedia had a seven-step approval process to control content of articles before being posted, rather than live wiki-based updating. Nupedia was designed by a committee of experts who predefined the rules. It had only 21 articles in its first year,[a] compared with Wikipedia having 200 articles in the first month, and 18,000 in the first year.[3]\n",
       "\n",
       "Unlike Wikipedia, Nupedia was not a wiki; it was instead characterized by an extensive peer-review process, designed to make its articles of a quality comparable to that of professional encyclopedias. Nupedia wanted scholars (ideally with PhDs) to volunteer content.[4] Before it ceased operating, Nupedia produced 24 approved articles[5][6][7] that had completed its review process and another 150 articles were in progress.[8] Wales preferred Wikipedia's easier posting of articles, while Sanger preferred the peer-reviewed approach used by Nupedia[3] and later founded Citizendium in 2006 as an expert-reviewed alternative to Wikipedia.[9]\n",
       "\n",
       "History\n",
       "\n",
       "In October 1999,[10] Jimmy Wales began thinking about an online encyclopedia built by volunteers and, in January 2000, hired Larry Sanger to oversee its development.[2] The project officially went online on 9 March 2000.[11] By November 2000, however, only two full-length articles had been published.[12]\n",
       "\n",
       "From its beginning, Nupedia was a free content encyclopedia,[11] with Bomis intending to generate revenue from online ads on Nupedia.com.[12] Initially the project used a homegrown license, the Nupedia Open Content License. In January 2001, it switched to the GNU Free Documentation License at the urging of Richard Stallman and the Free Software Foundation.[13] Also in January 2001, Nupedia started Wikipedia as a side-project to allow collaboration on articles before entering the peer review process.[14] This attracted interest from both sides, as it provided the less bureaucratic structure favored by advocates of the GNE encyclopedia. As a result, GNE never really developed, and the threat of competition between the projects was averted. As Wikipedia grew and attracted contributors, it quickly developed a life of its own and began to function largely independently of Nupedia, although Sanger initially led activity on Wikipedia by virtue of his position as Nupedia's editor-in-chief.\n",
       "\n",
       "Besides leading to discontinuation of the GNE project, Wikipedia also led to the gradual demise of Nupedia. Due to the collapse of the internet economy at that time, Jimmy Wales decided to discontinue funding for a salaried editor-in-chief in December 2001,[2] and Sanger resigned from both projects shortly thereafter.[15] After Sanger's departure, Nupedia increasingly became an afterthought to Wikipedia; of the Nupedia articles that completed the review process, only two did so after 2001. As Nupedia dwindled into inactivity, the idea of converting it into a stable version of approved Wikipedia articles was occasionally broached, but never implemented. Nupedia's server crashed in September 2003.[16][17] Nupedia's encyclopedic content was assimilated into Wikipedia.[18]\n",
       "\n",
       "Editorial process\n",
       "\n",
       "Nupedia had a seven-step editorial process, consisting of:\n",
       "\n",
       "Assignment\n",
       "Finding a lead reviewer\n",
       "Lead review\n",
       "Open review\n",
       "Lead copyediting\n",
       "Open copyediting\n",
       "Final approval and markup\n",
       "Authors were expected to have expert knowledge (although the definition of expert allowed for a degree of flexibility, and it was acknowledged that some articles could be written by a good writer, rather than an expert per se)[19] and the editors approving articles for publication were expected \"to be true experts in their fields and (with few exceptions) [to] possess PhDs\".[20]\n",
       "\n",
       "Ruth Ifcher was someone Sanger depended upon and worked closely with on Nupedia's early policies and procedures. Ifcher, holding several higher degrees, was a computer programmer and former copy editor and agreed to be volunteer chief copy editor.[21]\n",
       "\n",
       "Software development\n",
       "\n",
       "Nupedia was powered by NupeCode collaborative software. NupeCode is free/open source software (released under the GNU General Public License) designed for large peer review projects. The code was available via Nupedia's CVS repository. One of the problems experienced by Nupedia during much of its existence was that the software lacked functionality. Much of the missing functionality had been mocked-up using underlined blocks of text which appeared to be hyperlinks, but actually were not.[citation needed]\n",
       "\n",
       "As part of the project, a new version of the original software (called \"NuNupedia\") was under development. NuNupedia was implemented for testing at SourceForge, but never reached a sufficient stage of development to replace the original software.[22]\n",
       "\n",
       "See also\n",
       "\n",
       "iconInternet portal\n",
       "List of online encyclopedias\n",
       "List of wikis\n",
       "Scholarpedia\n",
       "Encyclopedia Britannica\n",
       "Wikipedia:Nupedia and Wikipedia § Articles copied to Wikipedia\n",
       "Notes\n",
       "\n",
       "Wikipedia:Nupedia and Wikipedia § Articles copied to Wikipedia\n",
       "References\n",
       "\n",
       "\"Nupedia.com WHOIS, DNS, & DomainTools\". WHOIS. 2016. Archived from the original on 24 July 2017. Retrieved 6 March 2016.normal\n",
       "^ a b c Poe, Marshall (September 2006). \"Can thousands of Wikipedians be wrong? How an attempt to build an online encyclopedia touched off history's biggest experiment in collaborative knowledge\". The Hive. The Atlantic. Archived from the original on 26 October 2012. Retrieved 1 January 2007.normal\n",
       "^ a b Sanger, Larry (18 April 2005). \"The Early History of Nupedia and Wikipedia: A Memoir\". Slashdot. Archived from the original on 25 May 2009. Retrieved 26 May 2012.normal\n",
       "Lih, Andrew (2009). The Wikipedia Revolution: How a Bunch of Nobodies Created the World's Greatest Encyclopedia. London: Aurum. p. 38. ISBN 9781845134730. OCLC 280430641. His academic roots compelled Sanger to insist on one rigid requirement for his editors: a pedigree. \"We wish editors to be true experts in their fields and (with a few exceptions) possess Ph.Ds.\" read the Nupedia policy.normal\n",
       "Craig 2013, p. 84\n",
       "Ayers 2008\n",
       "Myers 2006, p. 163\n",
       "\"When Wikipedia was young: the early years\". VatorNews. 13 June 2017. Archived from the original on 26 December 2018. Retrieved 25 July 2018.normal\n",
       "\"Wikipedia founder forks Wikipedia\". Archived from the original on 26 December 2018. Retrieved 7 August 2018.normal\n",
       "\"NuPedia.com WHOIS, DNS, & Domain Info - DomainTools\". WHOIS. Archived from the original on 24 July 2017. Retrieved 6 July 2016.normal\n",
       "^ a b Gouthro, Liane (10 March 2000). \"Building the world's biggest encyclopedia\". PC World. Archived from the original on 19 July 2009. Retrieved 19 January 2008.normal\n",
       "^ a b Frauenfelder, Mark (21 November 2000). \"The next generation of online encyclopedias\". The Industry Standard/CNN. Archived from the original on 14 August 2004. Retrieved 14 February 2019.normal\n",
       "jwales (17 January 2001). \"Re:GNUPedia = Nupedia?\". GNUPedia Project Starting. Slashdot. Archived from the original on 26 June 2013. Retrieved 25 May 2008.normal\n",
       "Larry Sanger (10 January 2001). \"Let's make a wiki\". Nupedia-l mailing list. Internet Archive. Archived from the original on 14 April 2003.normal\n",
       "Sanger, Larry. \"My Resignation\". Wikipedia-L. Bomis, Inc. Archived from the original on 24 December 2019. Retrieved 24 December 2019.normal\n",
       "\"1 Nazis and Norms\". reagle.org. Archived from the original on 30 April 2020. Retrieved 25 April 2020.normal\n",
       "Reagle, p. 6\n",
       "Waters 2010, pp. 179–180\n",
       "\"Nupedia.com Editorial Policy Guidelines (Version 3.31)\". Nupedia. 16 November 2000. Archived from the original on 31 March 2001. Retrieved 3 June 2010. The rule of thumb an editor should bear in mind is: would an article on this topic be of significantly greater quality if it were written by an expert on the subject? If yes, we will require that the writer be an expert on the subject. If no, nonspecialists (who are good writers) are more than welcome.normal\n",
       "\"How to be an editor or peer reviewer for Nupedia\". Nupedia. Archived from the original on 10 April 2001. Retrieved 3 June 2010.normal\n",
       "Lih, Andrew (2009). The Wikipedia Revolution. New York: Hyperion. p. 37. ISBN 9781401303716.normal\n",
       "\"NuNupedia\". SourceForge. Archived from the original on 28 October 2018. Retrieved 16 February 2017.normal\n",
       "Further reading\n",
       "\n",
       "Larry Sanger, The Early History of Nupedia and Wikipedia: A Memoir Part 1 and Part 2. Slashdot, April 2005.\n",
       "Larry Sanger, \"Nupedia.com Statement of Editorial Policy, Version 2.1\", Printable Version dated 10 May 2000.\n",
       "Larry Sanger, \"Nupedia.com Statement of Editorial Policy, Version 3.2\", Printable Version dated 23 June 2000.\n",
       "External links\n",
       "\n",
       "Earlier versions of Nupedia (from the Internet Archive)\n",
       "v\n",
       "t\n",
       "e\n",
       "Wikipedia\n",
       "Overview\n",
       "(outline)\t\n",
       "Censorship\n",
       "Conflict-of-interest editing\n",
       "political editing incidents\n",
       "Criticism\n",
       "Biases\n",
       "gender\n",
       "geographical\n",
       "ideological\n",
       "racial\n",
       "Deletion of articles\n",
       "deletionism and inclusionism\n",
       "notability\n",
       "\"Ignore all rules\"\n",
       "MediaWiki\n",
       "Plagiarism\n",
       "Predictions of the project's end\n",
       "Reliability\n",
       "Fact-checking\n",
       "Citation needed\n",
       "Vandalism\n",
       "Community\n",
       "(Wikipedians)\t\n",
       "Administrators\n",
       "AfroCrowd\n",
       "Arbitration Committee\n",
       "Art+Feminism\n",
       "Bots\n",
       "Lsjbot\n",
       "Edit count\n",
       "List of Wikipedias\n",
       "The Signpost\n",
       "Wikimedian of the Year\n",
       "Wikipedian in residence\n",
       "WikiProject\n",
       "Women in Red\n",
       "Events\t\n",
       "Edit-a-thon\n",
       "WikiConference India\n",
       "Wiki Indaba\n",
       "WikiConference North America\n",
       "Wikimania\n",
       "Wiki Loves\t\n",
       "Earth\n",
       "Folklore\n",
       "Monuments\n",
       "Pride\n",
       "Science\n",
       "People\n",
       "(list)\t\n",
       "Esra'a Al Shafei\n",
       "Florence Devouard\n",
       "Sue Gardner\n",
       "James Heilman\n",
       "Maryana Iskander\n",
       "Dariusz Jemielniak\n",
       "Rebecca MacKinnon\n",
       "Katherine Maher\n",
       "Magnus Manske\n",
       "Ira Brad Matetsky\n",
       "Erik Möller\n",
       "Jason Moore\n",
       "Raju Narisetti\n",
       "Steven Pruitt\n",
       "Annie Rauwerda\n",
       "Larry Sanger\n",
       "María Sefidari\n",
       "Lisa Seitz-Gruwell\n",
       "Rosie Stephenson-Goodknight\n",
       "Lila Tretikov\n",
       "Jimmy Wales\n",
       "History\t\n",
       "Bomis\n",
       "Nupedia\n",
       "First edit\n",
       "Logo\n",
       "Internet Watch Foundation\n",
       "Scientology\n",
       "Hillsborough disaster Wikipedia posts\n",
       "VisualEditor\n",
       "#1Lib1Ref\n",
       "2021 Wikimedia Foundation actions on the Chinese Wikipedia\n",
       "Controversies\t\n",
       "Essjay controversy\n",
       "Henryk Batuta hoax\n",
       "Jar'Edo Wens hoax\n",
       "Seigenthaler biography incident\n",
       "Star Trek Into Darkness debate\n",
       "United States congressional staff edits\n",
       "Zhemao hoaxes\n",
       "Coverage\t\n",
       "American politics\n",
       "Donald Trump\n",
       "COVID-19 pandemic\n",
       "Death\n",
       "Israeli–Palestinian conflict\n",
       "Russian invasion of Ukraine\n",
       "Honors\t\n",
       "274301 Wikipedia\n",
       "Viola angustifolia\n",
       "Wikipedia Monument\n",
       "References\n",
       "and analysis\t\n",
       "Academic studies\n",
       "Bibliography\n",
       "Cultural\n",
       "Films\n",
       "Listen to Wikipedia\n",
       "Wikipediocracy\n",
       "Mobile\t\n",
       "Apps\n",
       "QRpedia\n",
       "Wapedia\n",
       "Wikipedia Zero\n",
       "WikiReader\n",
       "Wikiwand\n",
       "Content use\t\n",
       "DBpedia\n",
       "Depths of Wikipedia\n",
       "Google and Wikipedia\n",
       "Health information\n",
       "Kiwix\n",
       "Science information\n",
       "Wikimedia Enterprise\n",
       "Related\t\n",
       "The Iraq War: A Historiography of Wikipedia Changelogs\n",
       "LGBT and Wikipedia\n",
       "Magna Carta (An Embroidery)\n",
       "People imprisoned for editing Wikipedia\n",
       "Print Wikipedia\n",
       "Wiki rabbit hole\n",
       "Wikimedia Foundation\n",
       "Wikimedia movement\n",
       "Wikipedia for World Heritage\n",
       "Wikipedia in India\n",
       "Wikiracing\n",
       "List of online encyclopedias\n",
       "List of wikis\n",
       "\n",
       "###### Header 6\n",
       "####### Header 7\n",
       "######## Header 8"
      ]
     },
     {
      "cell_type": "markdown",
      "metadata": {},
      "source": [
       "# Header 1\n",
       "## Header 2\n",
       "### Header 3\n",
       "#### Header 4\n",
       "##### Header 5\n",
       "Nupedia\n",
       "This article is about the predecessor of Wikipedia. For the online encyclopedia originally known as GNUpedia, see GNE (encyclopedia).\n",
       "Nupedia was an English-language online encyclopedia whose articles were written by volunteer contributors with appropriate subject matter expertise, reviewed by expert editors before publication, and licensed as free content. It was founded by Jimmy Wales and underwritten by Bomis, with Larry Sanger as editor-in-chief. Nupedia operated from October 1999[1][2] until September 2003. It is best known today as the predecessor of Wikipedia. Nupedia had a seven-step approval process to control content of articles before being posted, rather than live wiki-based updating. Nupedia was designed by a committee of experts who predefined the rules. It had only 21 articles in its first year,[a] compared with Wikipedia having 200 articles in the first month, and 18,000 in the first year.[3]\n",
       "\n",
       "Unlike Wikipedia, Nupedia was not a wiki; it was instead characterized by an extensive peer-review process, designed to make its articles of a quality comparable to that of professional encyclopedias. Nupedia wanted scholars (ideally with PhDs) to volunteer content.[4] Before it ceased operating, Nupedia produced 24 approved articles[5][6][7] that had completed its review process and another 150 articles were in progress.[8] Wales preferred Wikipedia's easier posting of articles, while Sanger preferred the peer-reviewed approach used by Nupedia[3] and later founded Citizendium in 2006 as an expert-reviewed alternative to Wikipedia.[9]\n",
       "\n",
       "History\n",
       "\n",
       "In October 1999,[10] Jimmy Wales began thinking about an online encyclopedia built by volunteers and, in January 2000, hired Larry Sanger to oversee its development.[2] The project officially went online on 9 March 2000.[11] By November 2000, however, only two full-length articles had been published.[12]\n",
       "\n",
       "From its beginning, Nupedia was a free content encyclopedia,[11] with Bomis intending to generate revenue from online ads on Nupedia.com.[12] Initially the project used a homegrown license, the Nupedia Open Content License. In January 2001, it switched to the GNU Free Documentation License at the urging of Richard Stallman and the Free Software Foundation.[13] Also in January 2001, Nupedia started Wikipedia as a side-project to allow collaboration on articles before entering the peer review process.[14] This attracted interest from both sides, as it provided the less bureaucratic structure favored by advocates of the GNE encyclopedia. As a result, GNE never really developed, and the threat of competition between the projects was averted. As Wikipedia grew and attracted contributors, it quickly developed a life of its own and began to function largely independently of Nupedia, although Sanger initially led activity on Wikipedia by virtue of his position as Nupedia's editor-in-chief.\n",
       "\n",
       "Besides leading to discontinuation of the GNE project, Wikipedia also led to the gradual demise of Nupedia. Due to the collapse of the internet economy at that time, Jimmy Wales decided to discontinue funding for a salaried editor-in-chief in December 2001,[2] and Sanger resigned from both projects shortly thereafter.[15] After Sanger's departure, Nupedia increasingly became an afterthought to Wikipedia; of the Nupedia articles that completed the review process, only two did so after 2001. As Nupedia dwindled into inactivity, the idea of converting it into a stable version of approved Wikipedia articles was occasionally broached, but never implemented. Nupedia's server crashed in September 2003.[16][17] Nupedia's encyclopedic content was assimilated into Wikipedia.[18]\n",
       "\n",
       "Editorial process\n",
       "\n",
       "Nupedia had a seven-step editorial process, consisting of:\n",
       "\n",
       "Assignment\n",
       "Finding a lead reviewer\n",
       "Lead review\n",
       "Open review\n",
       "Lead copyediting\n",
       "Open copyediting\n",
       "Final approval and markup\n",
       "Authors were expected to have expert knowledge (although the definition of expert allowed for a degree of flexibility, and it was acknowledged that some articles could be written by a good writer, rather than an expert per se)[19] and the editors approving articles for publication were expected \"to be true experts in their fields and (with few exceptions) [to] possess PhDs\".[20]\n",
       "\n",
       "Ruth Ifcher was someone Sanger depended upon and worked closely with on Nupedia's early policies and procedures. Ifcher, holding several higher degrees, was a computer programmer and former copy editor and agreed to be volunteer chief copy editor.[21]\n",
       "\n",
       "Software development\n",
       "\n",
       "Nupedia was powered by NupeCode collaborative software. NupeCode is free/open source software (released under the GNU General Public License) designed for large peer review projects. The code was available via Nupedia's CVS repository. One of the problems experienced by Nupedia during much of its existence was that the software lacked functionality. Much of the missing functionality had been mocked-up using underlined blocks of text which appeared to be hyperlinks, but actually were not.[citation needed]\n",
       "\n",
       "As part of the project, a new version of the original software (called \"NuNupedia\") was under development. NuNupedia was implemented for testing at SourceForge, but never reached a sufficient stage of development to replace the original software.[22]\n",
       "\n",
       "See also\n",
       "\n",
       "iconInternet portal\n",
       "List of online encyclopedias\n",
       "List of wikis\n",
       "Scholarpedia\n",
       "Encyclopedia Britannica\n",
       "Wikipedia:Nupedia and Wikipedia § Articles copied to Wikipedia\n",
       "Notes\n",
       "\n",
       "Wikipedia:Nupedia and Wikipedia § Articles copied to Wikipedia\n",
       "References\n",
       "\n",
       "\"Nupedia.com WHOIS, DNS, & DomainTools\". WHOIS. 2016. Archived from the original on 24 July 2017. Retrieved 6 March 2016.normal\n",
       "^ a b c Poe, Marshall (September 2006). \"Can thousands of Wikipedians be wrong? How an attempt to build an online encyclopedia touched off history's biggest experiment in collaborative knowledge\". The Hive. The Atlantic. Archived from the original on 26 October 2012. Retrieved 1 January 2007.normal\n",
       "^ a b Sanger, Larry (18 April 2005). \"The Early History of Nupedia and Wikipedia: A Memoir\". Slashdot. Archived from the original on 25 May 2009. Retrieved 26 May 2012.normal\n",
       "Lih, Andrew (2009). The Wikipedia Revolution: How a Bunch of Nobodies Created the World's Greatest Encyclopedia. London: Aurum. p. 38. ISBN 9781845134730. OCLC 280430641. His academic roots compelled Sanger to insist on one rigid requirement for his editors: a pedigree. \"We wish editors to be true experts in their fields and (with a few exceptions) possess Ph.Ds.\" read the Nupedia policy.normal\n",
       "Craig 2013, p. 84\n",
       "Ayers 2008\n",
       "Myers 2006, p. 163\n",
       "\"When Wikipedia was young: the early years\". VatorNews. 13 June 2017. Archived from the original on 26 December 2018. Retrieved 25 July 2018.normal\n",
       "\"Wikipedia founder forks Wikipedia\". Archived from the original on 26 December 2018. Retrieved 7 August 2018.normal\n",
       "\"NuPedia.com WHOIS, DNS, & Domain Info - DomainTools\". WHOIS. Archived from the original on 24 July 2017. Retrieved 6 July 2016.normal\n",
       "^ a b Gouthro, Liane (10 March 2000). \"Building the world's biggest encyclopedia\". PC World. Archived from the original on 19 July 2009. Retrieved 19 January 2008.normal\n",
       "^ a b Frauenfelder, Mark (21 November 2000). \"The next generation of online encyclopedias\". The Industry Standard/CNN. Archived from the original on 14 August 2004. Retrieved 14 February 2019.normal\n",
       "jwales (17 January 2001). \"Re:GNUPedia = Nupedia?\". GNUPedia Project Starting. Slashdot. Archived from the original on 26 June 2013. Retrieved 25 May 2008.normal\n",
       "Larry Sanger (10 January 2001). \"Let's make a wiki\". Nupedia-l mailing list. Internet Archive. Archived from the original on 14 April 2003.normal\n",
       "Sanger, Larry. \"My Resignation\". Wikipedia-L. Bomis, Inc. Archived from the original on 24 December 2019. Retrieved 24 December 2019.normal\n",
       "\"1 Nazis and Norms\". reagle.org. Archived from the original on 30 April 2020. Retrieved 25 April 2020.normal\n",
       "Reagle, p. 6\n",
       "Waters 2010, pp. 179–180\n",
       "\"Nupedia.com Editorial Policy Guidelines (Version 3.31)\". Nupedia. 16 November 2000. Archived from the original on 31 March 2001. Retrieved 3 June 2010. The rule of thumb an editor should bear in mind is: would an article on this topic be of significantly greater quality if it were written by an expert on the subject? If yes, we will require that the writer be an expert on the subject. If no, nonspecialists (who are good writers) are more than welcome.normal\n",
       "\"How to be an editor or peer reviewer for Nupedia\". Nupedia. Archived from the original on 10 April 2001. Retrieved 3 June 2010.normal\n",
       "Lih, Andrew (2009). The Wikipedia Revolution. New York: Hyperion. p. 37. ISBN 9781401303716.normal\n",
       "\"NuNupedia\". SourceForge. Archived from the original on 28 October 2018. Retrieved 16 February 2017.normal\n",
       "Further reading\n",
       "\n",
       "Larry Sanger, The Early History of Nupedia and Wikipedia: A Memoir Part 1 and Part 2. Slashdot, April 2005.\n",
       "Larry Sanger, \"Nupedia.com Statement of Editorial Policy, Version 2.1\", Printable Version dated 10 May 2000.\n",
       "Larry Sanger, \"Nupedia.com Statement of Editorial Policy, Version 3.2\", Printable Version dated 23 June 2000.\n",
       "External links\n",
       "\n",
       "Earlier versions of Nupedia (from the Internet Archive)\n",
       "v\n",
       "t\n",
       "e\n",
       "Wikipedia\n",
       "Overview\n",
       "(outline)\t\n",
       "Censorship\n",
       "Conflict-of-interest editing\n",
       "political editing incidents\n",
       "Criticism\n",
       "Biases\n",
       "gender\n",
       "geographical\n",
       "ideological\n",
       "racial\n",
       "Deletion of articles\n",
       "deletionism and inclusionism\n",
       "notability\n",
       "\"Ignore all rules\"\n",
       "MediaWiki\n",
       "Plagiarism\n",
       "Predictions of the project's end\n",
       "Reliability\n",
       "Fact-checking\n",
       "Citation needed\n",
       "Vandalism\n",
       "Community\n",
       "(Wikipedians)\t\n",
       "Administrators\n",
       "AfroCrowd\n",
       "Arbitration Committee\n",
       "Art+Feminism\n",
       "Bots\n",
       "Lsjbot\n",
       "Edit count\n",
       "List of Wikipedias\n",
       "The Signpost\n",
       "Wikimedian of the Year\n",
       "Wikipedian in residence\n",
       "WikiProject\n",
       "Women in Red\n",
       "Events\t\n",
       "Edit-a-thon\n",
       "WikiConference India\n",
       "Wiki Indaba\n",
       "WikiConference North America\n",
       "Wikimania\n",
       "Wiki Loves\t\n",
       "Earth\n",
       "Folklore\n",
       "Monuments\n",
       "Pride\n",
       "Science\n",
       "People\n",
       "(list)\t\n",
       "Esra'a Al Shafei\n",
       "Florence Devouard\n",
       "Sue Gardner\n",
       "James Heilman\n",
       "Maryana Iskander\n",
       "Dariusz Jemielniak\n",
       "Rebecca MacKinnon\n",
       "Katherine Maher\n",
       "Magnus Manske\n",
       "Ira Brad Matetsky\n",
       "Erik Möller\n",
       "Jason Moore\n",
       "Raju Narisetti\n",
       "Steven Pruitt\n",
       "Annie Rauwerda\n",
       "Larry Sanger\n",
       "María Sefidari\n",
       "Lisa Seitz-Gruwell\n",
       "Rosie Stephenson-Goodknight\n",
       "Lila Tretikov\n",
       "Jimmy Wales\n",
       "History\t\n",
       "Bomis\n",
       "Nupedia\n",
       "First edit\n",
       "Logo\n",
       "Internet Watch Foundation\n",
       "Scientology\n",
       "Hillsborough disaster Wikipedia posts\n",
       "VisualEditor\n",
       "#1Lib1Ref\n",
       "2021 Wikimedia Foundation actions on the Chinese Wikipedia\n",
       "Controversies\t\n",
       "Essjay controversy\n",
       "Henryk Batuta hoax\n",
       "Jar'Edo Wens hoax\n",
       "Seigenthaler biography incident\n",
       "Star Trek Into Darkness debate\n",
       "United States congressional staff edits\n",
       "Zhemao hoaxes\n",
       "Coverage\t\n",
       "American politics\n",
       "Donald Trump\n",
       "COVID-19 pandemic\n",
       "Death\n",
       "Israeli–Palestinian conflict\n",
       "Russian invasion of Ukraine\n",
       "Honors\t\n",
       "274301 Wikipedia\n",
       "Viola angustifolia\n",
       "Wikipedia Monument\n",
       "References\n",
       "and analysis\t\n",
       "Academic studies\n",
       "Bibliography\n",
       "Cultural\n",
       "Films\n",
       "Listen to Wikipedia\n",
       "Wikipediocracy\n",
       "Mobile\t\n",
       "Apps\n",
       "QRpedia\n",
       "Wapedia\n",
       "Wikipedia Zero\n",
       "WikiReader\n",
       "Wikiwand\n",
       "Content use\t\n",
       "DBpedia\n",
       "Depths of Wikipedia\n",
       "Google and Wikipedia\n",
       "Health information\n",
       "Kiwix\n",
       "Science information\n",
       "Wikimedia Enterprise\n",
       "Related\t\n",
       "The Iraq War: A Historiography of Wikipedia Changelogs\n",
       "LGBT and Wikipedia\n",
       "Magna Carta (An Embroidery)\n",
       "People imprisoned for editing Wikipedia\n",
       "Print Wikipedia\n",
       "Wiki rabbit hole\n",
       "Wikimedia Foundation\n",
       "Wikimedia movement\n",
       "Wikipedia for World Heritage\n",
       "Wikipedia in India\n",
       "Wikiracing\n",
       "List of online encyclopedias\n",
       "List of wikis\n",
       "\n",
       "###### Header 6\n",
       "####### Header 7\n",
       "######## Header 8"
      ]
     }
    ],
    "metadata": {
     "language_info": {
      "name": "python"
     }
    },
    "nbformat": 4,
    "nbformat_minor": 2
   }
