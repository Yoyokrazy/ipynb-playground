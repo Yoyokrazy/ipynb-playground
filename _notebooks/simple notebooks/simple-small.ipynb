{
 "cells": [
  {
   "cell_type": "code",
   "execution_count": 1,
   "metadata": {},
   "outputs": [
    {
     "name": "stdout",
     "output_type": "stream",
     "text": [
      "test123   hello\n",
      "test123   hello\n",
      "test123   hello\n"
     ]
    }
   ],
   "source": [
    "print(\"test123   hello\")\n",
    "print(\"test123   hello\")\n",
    "\n",
    "if 1 == 1:\n",
    "\n",
    "\n",
    "\n",
    "    print(\"test123   hello\")\n"
   ]
  },
  {
   "cell_type": "code",
   "execution_count": null,
   "metadata": {},
   "outputs": [],
   "source": [
    "print(\"test123   hello\")\n"
   ]
  }
 ],
 "metadata": {
  "kernelspec": {
   "display_name": ".venv",
   "language": "python",
   "name": "python3"
  },
  "language_info": {
   "codemirror_mode": {
    "name": "ipython",
    "version": 3
   },
   "file_extension": ".py",
   "mimetype": "text/x-python",
   "name": "python",
   "nbconvert_exporter": "python",
   "pygments_lexer": "ipython3",
   "version": "3.12.6"
  }
 },
 "nbformat": 4,
 "nbformat_minor": 2
}
