{
    "cells": [
        {
            "cell_type": "code",
            "execution_count": null,
            "metadata": {},
            "outputs": [],
            "source": [
                "print('hello world')"
            ]
        },
        {
            "cell_type": "markdown",
            "metadata": {},
            "source": [
                "# 1 Main Section (h1)\n",
                "\n",
                "Short description of the section."
            ]
        },
        {
            "cell_type": "markdown",
            "metadata": {},
            "source": [
                "New cell with information about the section coming next."
            ]
        },
        {
            "cell_type": "code",
            "execution_count": 1,
            "metadata": {
                "metadata": {}
            },
            "outputs": [
                {
                    "name": "stdout",
                    "output_type": "stream",
                    "text": [
                        "other indent\n",
                        "0\n",
                        "1\n",
                        "2\n",
                        "3\n",
                        "4\n",
                        "5\n",
                        "6\n",
                        "7\n",
                        "8\n",
                        "9\n"
                    ]
                }
            ],
            "source": [
                "import time\n",
                "\n",
                "if True:\n",
                "\tprint(\"other indent\")\n",
                "\n",
                "for i in range(10):\n",
                "\tprint(i)\n",
                "\ttime.sleep(0.5)  # Sleep for 0.5 second"
            ]
        },
        {
            "cell_type": "markdown",
            "metadata": {},
            "source": [
                "## 1.1 Sub-Section (h2)"
            ]
        },
        {
            "cell_type": "markdown",
            "metadata": {},
            "source": [
                "info about the section to come"
            ]
        },
        {
            "cell_type": "code",
            "execution_count": 2,
            "metadata": {
                "metadata": {}
            },
            "outputs": [
                {
                    "name": "stdout",
                    "output_type": "stream",
                    "text": [
                        "0\n",
                        "1\n",
                        "2\n",
                        "3\n",
                        "4\n",
                        "  x1  x2  x3 x4  x5\n",
                        "0  y  16   1  a  30\n",
                        "1  x  17   2  b  29\n",
                        "2  y  18   3  c  28\n",
                        "3  x  19   4  d  27\n",
                        "4  x  20   5  e  26\n",
                        "5  y  21   6  f  25\n",
                        "nice\n"
                    ]
                }
            ],
            "source": [
                "import pandas as pd\n",
                "\n",
                "data = pd.DataFrame({\n",
                "\t\"x1\": [\"y\", \"x\", \"y\", \"x\", \"x\", \"y\"],  # Construct a pandas DataFrame\n",
                "\t\"x2\": range(16, 22),\n",
                "\t\"x3\": range(1, 7),\n",
                "\t\"x4\": [\"a\", \"b\", \"c\", \"d\", \"e\", \"f\"],\n",
                "\t\"x5\": range(30, 24, -1),\n",
                "})\n",
                "\n",
                "for i in range(5):\n",
                "\tprint(i)\n",
                "\ttime.sleep(0.5)  # Sleep for 0.5 second\n",
                "\n",
                "print(data)\n",
                "\n",
                "# error = 5 + \"string\"\n",
                "\n",
                "def test(var):\n",
                "\tif True:\n",
                "\t\tprint(var)\n",
                "\n",
                "if True:\n",
                "\tprint(\"nice\")\n"
            ]
        },
        {
            "cell_type": "markdown",
            "metadata": {},
            "source": [
                "# 2 Final Section (h1)"
            ]
        },
        {
            "cell_type": "code",
            "execution_count": 3,
            "metadata": {},
            "outputs": [
                {
                    "name": "stdout",
                    "output_type": "stream",
                    "text": [
                        "hello world\n",
                        "hi\n"
                    ]
                }
            ],
            "source": [
                "print('hello world')\n",
                "if True:\n",
                "\tprint('hi')"
            ]
        },
        {
            "cell_type": "code",
            "execution_count": 4,
            "metadata": {},
            "outputs": [
                {
                    "name": "stdout",
                    "output_type": "stream",
                    "text": [
                        "bye\n"
                    ]
                }
            ],
            "source": [
                "if 1:\n",
                "\tprint('bye')"
            ]
        },
        {
            "cell_type": "markdown",
            "metadata": {},
            "source": [
                "### 2.1 (h3)"
            ]
        },
        {
            "cell_type": "code",
            "execution_count": 5,
            "metadata": {
                "metadata": {}
            },
            "outputs": [
                {
                    "name": "stdout",
                    "output_type": "stream",
                    "text": [
                        "0\n",
                        "1\n",
                        "2\n",
                        "3\n",
                        "4\n",
                        "5\n",
                        "6\n",
                        "7\n",
                        "8\n",
                        "9\n"
                    ]
                }
            ],
            "source": [
                "for i in range(10):\n",
                "    print(i)\n",
                "    time.sleep(0.5)"
            ]
        }
    ],
    "metadata": {
        "kernelspec": {
            "display_name": ".venv",
            "language": "python",
            "name": "python3"
        },
        "language_info": {
            "codemirror_mode": {
                "name": "ipython",
                "version": 3
            },
            "file_extension": ".py",
            "mimetype": "text/x-python",
            "name": "python",
            "nbconvert_exporter": "python",
            "pygments_lexer": "ipython3",
            "version": "3.12.3"
        },
        "orig_nbformat": 4
    },
    "nbformat": 4,
    "nbformat_minor": 2
}
