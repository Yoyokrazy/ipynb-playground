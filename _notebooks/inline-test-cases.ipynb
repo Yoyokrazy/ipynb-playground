{
 "cells": [
  {
   "cell_type": "markdown",
   "metadata": {},
   "source": [
    "# Inline Values Test Cases\n",
    "\n",
    "This notebook contains various test cases for inline value display functionality."
   ]
  },
  {
   "cell_type": "markdown",
   "metadata": {},
   "source": [
    "## Test Case 1: Commented Variables\n",
    "\n",
    "Verify that variables in comments are not picked up for inline value display."
   ]
  },
  {
   "cell_type": "code",
   "execution_count": null,
   "metadata": {},
   "outputs": [
    {
     "name": "stdout",
     "output_type": "stream",
     "text": [
      "42\n"
     ]
    }
   ],
   "source": [
    "x = 42\n",
    "# y = x + 1 # Should not show value for x here\n",
    "# x should be 42\n",
    "\n",
    "print(x)"
   ]
  },
  {
   "cell_type": "code",
   "execution_count": 16,
   "metadata": {},
   "outputs": [
    {
     "name": "stdout",
     "output_type": "stream",
     "text": [
      "42\n"
     ]
    }
   ],
   "source": [
    "x = 42\n",
    "# y = x + 1 # Should not show value for x here\n",
    "# x should be 42\n",
    "print(x)"
   ]
  },
  {
   "cell_type": "markdown",
   "metadata": {},
   "source": [
    "## Test Case 2: Python Keywords\n",
    "\n",
    "Ensure Python keywords are not mistaken for variables."
   ]
  },
  {
   "cell_type": "code",
   "execution_count": 1,
   "metadata": {},
   "outputs": [
    {
     "name": "stdout",
     "output_type": "stream",
     "text": [
      "Greater than 5\n"
     ]
    }
   ],
   "source": [
    "value = 10\n",
    "if value > 5:\n",
    "    print('Greater than 5')  # 'if' should not be treated as a variable\n",
    "for i in range(3):\n",
    "    pass  # 'for' should not be treated as a variable"
   ]
  },
  {
   "cell_type": "markdown",
   "metadata": {},
   "source": [
    "## Test Case 3: Substring Variable Names\n",
    "\n",
    "Test that variables with similar names don't trigger incorrect matches."
   ]
  },
  {
   "cell_type": "code",
   "execution_count": 2,
   "metadata": {},
   "outputs": [
    {
     "name": "stdout",
     "output_type": "stream",
     "text": [
      "100 200\n"
     ]
    }
   ],
   "source": [
    "foo = 42\n",
    "foo_bar = 100  # Should only show foo_bar's value, not foo's\n",
    "bar_foo = 200  # Should not show foo's\n",
    "print(foo_bar, bar_foo)"
   ]
  },
  {
   "cell_type": "markdown",
   "metadata": {},
   "source": [
    "## Test Case 4: Class Variables\n",
    "\n",
    "Verify correct handling of variables within class contexts."
   ]
  },
  {
   "cell_type": "code",
   "execution_count": 3,
   "metadata": {},
   "outputs": [
    {
     "name": "stdout",
     "output_type": "stream",
     "text": [
      "30 50\n"
     ]
    }
   ],
   "source": [
    "class TestClass:\n",
    "    class_var = 50\n",
    "# x value should NOT show here\n",
    "    def __init__(self):\n",
    "        self.instance_var = 30\n",
    "\n",
    "    def method(self):\n",
    "        local_var = 20\n",
    "        return local_var\n",
    "\n",
    "obj = TestClass()\n",
    "result = obj.method()\n",
    "print(obj.instance_var, TestClass.class_var)"
   ]
  },
  {
   "cell_type": "markdown",
   "metadata": {},
   "source": [
    "## Test Case 5: Nested Function Variables\n",
    "\n",
    "Test handling of variables in nested function scopes."
   ]
  },
  {
   "cell_type": "code",
   "execution_count": 4,
   "metadata": {},
   "outputs": [
    {
     "name": "stdout",
     "output_type": "stream",
     "text": [
      "15\n"
     ]
    }
   ],
   "source": [
    "def outer():\n",
    "    outer_var = 10\n",
    "# x value should NOT show here\n",
    "    def inner():\n",
    "        inner_var = 5\n",
    "        return inner_var + outer_var\n",
    "\n",
    "    return inner()\n",
    "\n",
    "result = outer()\n",
    "print(result)"
   ]
  },
  {
   "cell_type": "markdown",
   "metadata": {},
   "source": [
    "## Test Case 6: Function Detection Edge Cases\n",
    "\n",
    "Test cases that might confuse the function detection logic."
   ]
  },
  {
   "cell_type": "code",
   "execution_count": 5,
   "metadata": {},
   "outputs": [
    {
     "name": "stdout",
     "output_type": "stream",
     "text": [
      "42\n",
      "42\n"
     ]
    }
   ],
   "source": [
    "x = 42\n",
    "# Function-like but not a function\n",
    "my_string = \"def fake_function():\"\n",
    "print(x)  # x value should show here\n",
    "\n",
    "# Real function\n",
    "def real_function():\n",
    "    y = x  # x value should NOT show here\n",
    "    return y\n",
    "\n",
    "# Indentation trap\n",
    "if True:\n",
    "    def nested_func():\n",
    "        z = x  # x value should NOT show here\n",
    "    print(x)  # x value should show here"
   ]
  },
  {
   "cell_type": "markdown",
   "metadata": {},
   "source": [
    "## Test Case 7: Lambda Functions\n",
    "\n",
    "Test handling of lambda functions and variable scope."
   ]
  },
  {
   "cell_type": "code",
   "execution_count": 6,
   "metadata": {},
   "outputs": [
    {
     "name": "stdout",
     "output_type": "stream",
     "text": [
      "100\n"
     ]
    }
   ],
   "source": [
    "value = 100\n",
    "lambda_func = lambda x: x + value  # value should NOT show here\n",
    "print(value)  # value should show here\n",
    "\n",
    "# Multiple lambdas on one line\n",
    "funcs = [lambda x: x + value, lambda y: y * value]  # value should NOT show here at all"
   ]
  },
  {
   "cell_type": "markdown",
   "metadata": {},
   "source": [
    "## Test Case 8: Decorators and Complex Function Declarations\n",
    "\n",
    "Test handling of decorated functions and complex function declarations."
   ]
  },
  {
   "cell_type": "code",
   "execution_count": 7,
   "metadata": {},
   "outputs": [
    {
     "name": "stdout",
     "output_type": "stream",
     "text": [
      "42\n"
     ]
    }
   ],
   "source": [
    "result = 42\n",
    "\n",
    "def decorator(func):\n",
    "    return func\n",
    "\n",
    "@decorator\n",
    "def test_func():  # This is still a function, result should NOT show inside\n",
    "    print(result)\n",
    "\n",
    "# Async function\n",
    "async def async_func():  # Should be detected as a function\n",
    "    print(result)\n",
    "\n",
    "print(result)  # result should show here"
   ]
  },
  {
   "cell_type": "markdown",
   "metadata": {},
   "source": [
    "## Test Case 9: Complex Lambda Scenarios\n",
    "\n",
    "Test more complex lambda function patterns and nested scopes."
   ]
  },
  {
   "cell_type": "code",
   "execution_count": 8,
   "metadata": {},
   "outputs": [
    {
     "name": "stdout",
     "output_type": "stream",
     "text": [
      "Counter: 0, Result: 42\n"
     ]
    }
   ],
   "source": [
    "counter = 0\n",
    "result = 42\n",
    "\n",
    "# Nested lambda functions\n",
    "nested_lambda = lambda x: (lambda y: x + y + counter)  # counter should NOT show here\n",
    "\n",
    "# Lambda with default arguments\n",
    "default_lambda = lambda x, y=result: x + y  # result should NOT show here\n",
    "\n",
    "# Lambda in list comprehension\n",
    "funcs = [lambda x=n: x + counter for n in range(3)]  # counter should NOT show here\n",
    "\n",
    "# Lambda as keyword argument\n",
    "sorted([1,2,3], key=lambda x: x + result)  # result should NOT show here\n",
    "\n",
    "print(f\"Counter: {counter}, Result: {result}\")  # both values should show here"
   ]
  },
  {
   "cell_type": "code",
   "execution_count": 9,
   "metadata": {},
   "outputs": [
    {
     "name": "stdout",
     "output_type": "stream",
     "text": [
      "Hello, User! Welcome to Python programming!\n",
      "Hello, Student! Welcome to John programming!\n",
      "Numbers stats - Min: 1, Max: 5, Average: 3.00\n",
      "Squared numbers: [1, 4, 9, 16, 25]\n"
     ]
    }
   ],
   "source": [
    "# Function with default parameters\n",
    "def greet(name=\"User\", language=\"Python\"):\n",
    "    return f\"Hello, {name}! Welcome to {language} programming!\"\n",
    "\n",
    "# Function with multiple return values\n",
    "def analyze_list(numbers_list):\n",
    "    return min(numbers_list), max(numbers_list), sum(numbers_list)/len(numbers_list)\n",
    "\n",
    "# Lambda function\n",
    "square = lambda x: x**2\n",
    "\n",
    "name = \"John\"\n",
    "numbers = [1, 2, 3, 4, 5]\n",
    "\n",
    "print(greet())\n",
    "print(greet(\"Student\", name))\n",
    "\n",
    "min_num, max_num, avg = analyze_list(numbers)\n",
    "print(f\"Numbers stats - Min: {min_num}, Max: {max_num}, Average: {avg:.2f}\")\n",
    "\n",
    "# Map lambda function to list\n",
    "squared_numbers = list(map(square, numbers))\n",
    "print(f\"Squared numbers: {squared_numbers}\")"
   ]
  }
 ],
 "metadata": {
  "kernelspec": {
   "display_name": ".venv",
   "language": "python",
   "name": "python3"
  },
  "language_info": {
   "codemirror_mode": {
    "name": "ipython",
    "version": 3
   },
   "file_extension": ".py",
   "mimetype": "text/x-python",
   "name": "python",
   "nbconvert_exporter": "python",
   "pygments_lexer": "ipython3",
   "version": "3.13.0"
  }
 },
 "nbformat": 4,
 "nbformat_minor": 2
}
