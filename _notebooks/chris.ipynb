{
 "cells": [
  {
   "cell_type": "markdown",
   "metadata": {},
   "source": [
    "# Python Programming Fundamentals\n",
    "This notebook demonstrates key Python features, building concepts progressively."
   ]
  },
  {
   "cell_type": "markdown",
   "metadata": {},
   "source": [
    "## 1. Variables and Basic Data Types"
   ]
  },
  {
   "cell_type": "code",
   "execution_count": null,
   "metadata": {},
   "outputs": [
    {
     "name": "stdout",
     "output_type": "stream",
     "text": [
      "Name: Python (Type: <class 'str'>)\n",
      "Version: 3.9 (Type: <class 'float'>)\n",
      "Is Awesome?: True (Type: <class 'bool'>)\n",
      "Pi: 3.14159 (Type: <class 'float'>)\n"
     ]
    }
   ],
   "source": [
    "# Basic variable assignments\n",
    "name = \"Python\"\n",
    "version = 3.9\n",
    "is_testing = True\n",
    "pi = 3.14159\n",
    "\n",
    "# Print variables with different types\n",
    "print(f\"Name: {name} (Type: {type(name)})\")\n",
    "print(f\"Version: {version} (Type: {type(version)})\")\n",
    "print(f\"Is testing?: {is_testing} (Type: {type(is_testing)})\")\n",
    "print(f\"Pi: {pi} (Type: {type(pi)})\")"
   ]
  },
  {
   "cell_type": "code",
   "execution_count": 18,
   "metadata": {},
   "outputs": [
    {
     "name": "stdout",
     "output_type": "stream",
     "text": [
      "Language: JavaScript (Type: <class 'str'>)\n",
      "Release Year: 2015 (Type: <class 'int'>)\n",
      "Is Popular?: True (Type: <class 'bool'>)\n",
      "Golden Ratio: 1.61803 (Type: <class 'float'>)\n"
     ]
    }
   ],
   "source": [
    "# Basic variable assignments with different values\n",
    "language = \"JavaScript\"\n",
    "release = 2015\n",
    "is_popular = True\n",
    "golden_ratio = 1.61803\n",
    "\n",
    "# Print variables with different types\n",
    "print(f\"Language: {language} (Type: {type(language)})\")\n",
    "print(f\"Release Year: {release} (Type: {type(release)})\")\n",
    "print(f\"Is Popular?: {is_popular} (Type: {type(is_popular)})\")\n",
    "print(f\"Golden Ratio: {golden_ratio} (Type: {type(golden_ratio)})\")"
   ]
  },
  {
   "cell_type": "markdown",
   "metadata": {},
   "source": [
    "## 2. Lists and List Operations"
   ]
  },
  {
   "cell_type": "code",
   "execution_count": 19,
   "metadata": {},
   "outputs": [
    {
     "name": "stdout",
     "output_type": "stream",
     "text": [
      "First three numbers: [1, 2, 3]\n",
      "Last two fruits: ['banana', 'orange']\n"
     ]
    }
   ],
   "source": [
    "# Create and manipulate lists\n",
    "numbers = [1, 2, 3, 4, 5]\n",
    "fruits = [\"apple\", \"banana\", \"orange\"]\n",
    "\n",
    "# List operations\n",
    "numbers.append(6)\n",
    "fruits.insert(1, \"grape\")\n",
    "\n",
    "# List slicing\n",
    "print(f\"First three numbers: {numbers[:3]}\")\n",
    "print(f\"Last two fruits: {fruits[-2:]}\")\n",
    "# print(f\"Reversed numbers: {numbers[::-1]}\")"
   ]
  },
  {
   "cell_type": "code",
   "execution_count": 20,
   "metadata": {},
   "outputs": [
    {
     "name": "stdout",
     "output_type": "stream",
     "text": [
      "First three ages: [18, 25, 30]\n",
      "Last two colors: ['green', 'blue']\n",
      "Reversed ages: [60, 50, 42, 30, 25, 18]\n"
     ]
    }
   ],
   "source": [
    "# Create and manipulate different lists\n",
    "ages = [18, 25, 30, 42, 50]\n",
    "colors = [\"red\", \"green\", \"blue\"]\n",
    "\n",
    "# List operations\n",
    "ages.append(60)\n",
    "colors.insert(1, \"yellow\")\n",
    "\n",
    "# List slicing\n",
    "print(f\"First three ages: {ages[:3]}\")\n",
    "print(f\"Last two colors: {colors[-2:]}\")\n",
    "print(f\"Reversed ages: {ages[::-1]}\")"
   ]
  },
  {
   "cell_type": "markdown",
   "metadata": {},
   "source": [
    "## 3. String Manipulation"
   ]
  },
  {
   "cell_type": "code",
   "execution_count": 21,
   "metadata": {},
   "outputs": [
    {
     "name": "stdout",
     "output_type": "stream",
     "text": [
      "Uppercase: LEARNING PYTHON PROGRAMMING\n",
      "Lowercase: learning python programming\n",
      "Split words: ['Learning', 'Python', 'Programming']\n",
      "Replace: Mastering Python Programming\n",
      "Welcome to Python version 3.9\n"
     ]
    }
   ],
   "source": [
    "# Using the name variable from cell 1\n",
    "message = f\"Learning {name} Programming\"\n",
    "\n",
    "# String methods\n",
    "print(f\"Uppercase: {message.upper()}\")\n",
    "print(f\"Lowercase: {message.lower()}\")\n",
    "print(f\"Split words: {message.split()}\")\n",
    "print(f\"Replace: {message.replace('Learning', 'Mastering')}\")\n",
    "\n",
    "# String formatting\n",
    "template = \"Welcome to {} version {}\"\n",
    "formatted_message = template.format(name, version)\n",
    "print(formatted_message)"
   ]
  },
  {
   "cell_type": "code",
   "execution_count": 22,
   "metadata": {},
   "outputs": [
    {
     "name": "stdout",
     "output_type": "stream",
     "text": [
      "Uppercase: WELCOME TO JAVASCRIPT DEVELOPMENT\n",
      "Lowercase: welcome to javascript development\n",
      "Split words: ['Welcome', 'to', 'JavaScript', 'Development']\n",
      "Replace: Introduction to JavaScript Development\n",
      "Learn JavaScript released in 2015\n"
     ]
    }
   ],
   "source": [
    "# Using the language variable from duplicate cell 1\n",
    "greeting = f\"Welcome to {language} Development\"\n",
    "\n",
    "# String methods\n",
    "print(f\"Uppercase: {greeting.upper()}\")\n",
    "print(f\"Lowercase: {greeting.lower()}\")\n",
    "print(f\"Split words: {greeting.split()}\")\n",
    "print(f\"Replace: {greeting.replace('Welcome', 'Introduction')}\")\n",
    "\n",
    "# String formatting\n",
    "template = \"Learn {} released in {}\"\n",
    "formatted_greeting = template.format(language, release)\n",
    "print(formatted_greeting)"
   ]
  },
  {
   "cell_type": "markdown",
   "metadata": {},
   "source": [
    "## 4. Dictionaries"
   ]
  },
  {
   "cell_type": "code",
   "execution_count": null,
   "metadata": {},
   "outputs": [
    {
     "name": "stdout",
     "output_type": "stream",
     "text": [
      "Keys: dict_keys(['name', 'version', 'features', 'types_example'])\n",
      "Values: dict_values(['Python', 3.9, ['easy to learn', 'readable', 'versatile'], {'string': 'Python', 'float': 3.14159, 'boolean': True}])\n",
      "Features: ['easy to learn', 'readable', 'versatile']\n"
     ]
    }
   ],
   "source": [
    "# Create a dictionary using variables from previous cells\n",
    "language_info = {\n",
    "    \"name\": name,\n",
    "    \"version\": version,\n",
    "    \"features\": [\"easy to learn\", \"readable\", \"versatile\"],\n",
    "    \"types_example\": {\n",
    "        \"string\": name,\n",
    "        \"float\": pi,\n",
    "        \"boolean\": is_testing\n",
    "    }\n",
    "}\n",
    "\n",
    "# Dictionary operations\n",
    "print(f\"Keys: {language_info.keys()}\")\n",
    "print(f\"Values: {language_info.values()}\")\n",
    "print(f\"Features: {language_info['features']}\")\n",
    "\n",
    "# Add new key-value pair\n",
    "language_info['popular'] = True"
   ]
  },
  {
   "cell_type": "code",
   "execution_count": 24,
   "metadata": {},
   "outputs": [
    {
     "name": "stdout",
     "output_type": "stream",
     "text": [
      "Keys: dict_keys(['name', 'year', 'advantages', 'examples'])\n",
      "Values: dict_values(['JavaScript', 2015, ['interactive', 'widely adopted', 'flexible'], {'string': 'JavaScript', 'float': 1.61803, 'boolean': True}])\n",
      "Advantages: ['interactive', 'widely adopted', 'flexible']\n"
     ]
    }
   ],
   "source": [
    "# Create a different dictionary using variables from duplicate cells\n",
    "tech_info = {\n",
    "    \"name\": language,\n",
    "    \"year\": release,\n",
    "    \"advantages\": [\"interactive\", \"widely adopted\", \"flexible\"],\n",
    "    \"examples\": {\n",
    "        \"string\": language,\n",
    "        \"float\": golden_ratio,\n",
    "        \"boolean\": is_popular\n",
    "    }\n",
    "}\n",
    "\n",
    "# Dictionary operations\n",
    "print(f\"Keys: {tech_info.keys()}\")\n",
    "print(f\"Values: {tech_info.values()}\")\n",
    "print(f\"Advantages: {tech_info['advantages']}\")\n",
    "\n",
    "# Add new key-value pair\n",
    "tech_info['web_friendly'] = True"
   ]
  },
  {
   "cell_type": "markdown",
   "metadata": {},
   "source": [
    "## 5. Control Flow: If-Else Statements"
   ]
  },
  {
   "cell_type": "code",
   "execution_count": 25,
   "metadata": {},
   "outputs": [
    {
     "name": "stdout",
     "output_type": "stream",
     "text": [
      "You're using a recent version!\n",
      "We have apples!\n",
      "We need to buy mangoes!\n"
     ]
    }
   ],
   "source": [
    "# Using variables from previous cells\n",
    "def check_version(ver):\n",
    "    if ver >= 3.9:\n",
    "        return \"You're using a recent version!\"\n",
    "    elif ver >= 3.0:\n",
    "        return \"You're using Python 3!\"\n",
    "    else:\n",
    "        return \"Please upgrade to Python 3!\"\n",
    "\n",
    "print(check_version(version))\n",
    "\n",
    "# Check if fruits list contains specific items\n",
    "if \"apple\" in fruits:\n",
    "    print(\"We have apples!\")\n",
    "if \"mango\" not in fruits:\n",
    "    print(\"We need to buy mangoes!\")"
   ]
  },
  {
   "cell_type": "code",
   "execution_count": 26,
   "metadata": {},
   "outputs": [
    {
     "name": "stdout",
     "output_type": "stream",
     "text": [
      "This is from the last decade!\n",
      "We have red!\n",
      "We need to add purple!\n"
     ]
    }
   ],
   "source": [
    "# Using variables from duplicate cells\n",
    "def check_year(year):\n",
    "    if year >= 2020:\n",
    "        return \"This is very recent!\"\n",
    "    elif year >= 2010:\n",
    "        return \"This is from the last decade!\"\n",
    "    else:\n",
    "        return \"This is quite old!\"\n",
    "\n",
    "print(check_year(release))\n",
    "\n",
    "# Check if colors list contains specific items\n",
    "if \"red\" in colors:\n",
    "    print(\"We have red!\")\n",
    "if \"purple\" not in colors:\n",
    "    print(\"We need to add purple!\")"
   ]
  },
  {
   "cell_type": "markdown",
   "metadata": {},
   "source": [
    "## 6. Loops"
   ]
  },
  {
   "cell_type": "code",
   "execution_count": 27,
   "metadata": {},
   "outputs": [
    {
     "name": "stdout",
     "output_type": "stream",
     "text": [
      "Fruits inventory:\n",
      "1. apple\n",
      "2. grape\n",
      "3. banana\n",
      "4. orange\n",
      "Sum of numbers: 21\n",
      "name: Python\n",
      "version: 3.9\n",
      "features: ['easy to learn', 'readable', 'versatile']\n",
      "types_example: {'string': 'Python', 'float': 3.14159, 'boolean': True}\n",
      "popular: True\n"
     ]
    }
   ],
   "source": [
    "# For loop with list\n",
    "print(\"Fruits inventory:\")\n",
    "for i, fruit in enumerate(fruits, 1):\n",
    "    print(f\"{i}. {fruit}\")\n",
    "\n",
    "# While loop with list from cell 2\n",
    "sum_numbers = 0\n",
    "i = 0\n",
    "while i < len(numbers):\n",
    "    sum_numbers += numbers[i]\n",
    "    i += 1\n",
    "print(f\"Sum of numbers: {sum_numbers}\")\n",
    "\n",
    "# Dictionary iteration\n",
    "for key, value in language_info.items():\n",
    "    print(f\"{key}: {value}\")"
   ]
  },
  {
   "cell_type": "code",
   "execution_count": 28,
   "metadata": {},
   "outputs": [
    {
     "name": "stdout",
     "output_type": "stream",
     "text": [
      "Colors available:\n",
      "1. red\n",
      "2. yellow\n",
      "3. green\n",
      "4. blue\n",
      "Product of ages: 1701000000\n",
      "name: JavaScript\n",
      "year: 2015\n",
      "advantages: ['interactive', 'widely adopted', 'flexible']\n",
      "examples: {'string': 'JavaScript', 'float': 1.61803, 'boolean': True}\n",
      "web_friendly: True\n"
     ]
    }
   ],
   "source": [
    "# For loop with list\n",
    "print(\"Colors available:\")\n",
    "for i, color in enumerate(colors, 1):\n",
    "    print(f\"{i}. {color}\")\n",
    "\n",
    "# While loop with list from duplicate cell 2\n",
    "product_ages = 1\n",
    "i = 0\n",
    "while i < len(ages):\n",
    "    product_ages *= ages[i]\n",
    "    i += 1\n",
    "print(f\"Product of ages: {product_ages}\")\n",
    "\n",
    "# Dictionary iteration\n",
    "for key, value in tech_info.items():\n",
    "    print(f\"{key}: {value}\")"
   ]
  },
  {
   "cell_type": "markdown",
   "metadata": {},
   "source": [
    "## 7. Functions and Parameters"
   ]
  },
  {
   "cell_type": "code",
   "execution_count": 29,
   "metadata": {},
   "outputs": [
    {
     "name": "stdout",
     "output_type": "stream",
     "text": [
      "Hello, User! Welcome to Python programming!\n",
      "Hello, Student! Welcome to Python programming!\n",
      "Numbers stats - Min: 1, Max: 6, Average: 3.50\n",
      "Squared numbers: [1, 4, 9, 16, 25, 36]\n"
     ]
    }
   ],
   "source": [
    "# Function with default parameters\n",
    "def greet(name=\"User\", language=\"Python\"):\n",
    "    return f\"Hello, {name}! Welcome to {language} programming!\"\n",
    "\n",
    "# Function with multiple return values\n",
    "def analyze_list(numbers_list):\n",
    "    return min(numbers_list), max(numbers_list), sum(numbers_list)/len(numbers_list)\n",
    "\n",
    "# Lambda function\n",
    "square = lambda x: x**2\n",
    "\n",
    "print(greet())\n",
    "print(greet(\"Student\", name))\n",
    "\n",
    "min_num, max_num, avg = analyze_list(numbers)\n",
    "print(f\"Numbers stats - Min: {min_num}, Max: {max_num}, Average: {avg:.2f}\")\n",
    "\n",
    "# Map lambda function to list\n",
    "squared_numbers = list(map(square, numbers))\n",
    "print(f\"Squared numbers: {squared_numbers}\")"
   ]
  },
  {
   "cell_type": "code",
   "execution_count": 30,
   "metadata": {},
   "outputs": [
    {
     "name": "stdout",
     "output_type": "stream",
     "text": [
      "Hi, Guest! Welcome to the world of Programming!\n",
      "Hi, Developer! Welcome to the world of JavaScript!\n",
      "Ages stats - Total: 225, Count: 6, Average: 37.50\n",
      "Cubed ages: [5832, 15625, 27000, 74088, 125000, 216000]\n"
     ]
    }
   ],
   "source": [
    "# Function with default parameters\n",
    "def welcome(user=\"Guest\", tech=\"Programming\"):\n",
    "    return f\"Hi, {user}! Welcome to the world of {tech}!\"\n",
    "\n",
    "# Function with multiple return values\n",
    "def analyze_data(numbers_list):\n",
    "    return sum(numbers_list), len(numbers_list), sum(numbers_list)/len(numbers_list)\n",
    "\n",
    "# Lambda function\n",
    "cube = lambda x: x**3\n",
    "\n",
    "print(welcome())\n",
    "print(welcome(\"Developer\", language))\n",
    "\n",
    "total, count, avg = analyze_data(ages)\n",
    "print(f\"Ages stats - Total: {total}, Count: {count}, Average: {avg:.2f}\")\n",
    "\n",
    "# Map lambda function to list\n",
    "cubed_ages = list(map(cube, ages))\n",
    "print(f\"Cubed ages: {cubed_ages}\")"
   ]
  },
  {
   "cell_type": "markdown",
   "metadata": {},
   "source": [
    "## 8. List Comprehensions"
   ]
  },
  {
   "cell_type": "code",
   "execution_count": 31,
   "metadata": {},
   "outputs": [
    {
     "name": "stdout",
     "output_type": "stream",
     "text": [
      "Even numbers: [2, 4, 6]\n",
      "Matrix:\n",
      "[[0, 1, 2], [1, 2, 3], [2, 3, 4]]\n",
      "Number squares: {1: 1, 2: 4, 3: 9, 4: 16, 5: 25, 6: 36}\n"
     ]
    }
   ],
   "source": [
    "# Using numbers list from previous cells\n",
    "# Basic list comprehension\n",
    "even_numbers = [n for n in numbers if n % 2 == 0]\n",
    "print(f\"Even numbers: {even_numbers}\")\n",
    "\n",
    "# Nested list comprehension\n",
    "matrix = [[i+j for j in range(3)] for i in range(3)]\n",
    "print(f\"Matrix:\\n{matrix}\")\n",
    "\n",
    "# Dictionary comprehension\n",
    "number_squares = {n: n**2 for n in numbers}\n",
    "print(f\"Number squares: {number_squares}\")"
   ]
  },
  {
   "cell_type": "code",
   "execution_count": 32,
   "metadata": {},
   "outputs": [
    {
     "name": "stdout",
     "output_type": "stream",
     "text": [
      "Odd ages: [25]\n",
      "Multiplication grid:\n",
      "[[1, 2, 3], [2, 4, 6], [3, 6, 9]]\n",
      "Age cubes: {18: 5832, 25: 15625, 30: 27000, 42: 74088, 50: 125000, 60: 216000}\n"
     ]
    }
   ],
   "source": [
    "# Using ages list from duplicate cells\n",
    "# Basic list comprehension\n",
    "odd_ages = [n for n in ages if n % 2 != 0]\n",
    "print(f\"Odd ages: {odd_ages}\")\n",
    "\n",
    "# Nested list comprehension\n",
    "grid = [[i*j for j in range(1, 4)] for i in range(1, 4)]\n",
    "print(f\"Multiplication grid:\\n{grid}\")\n",
    "\n",
    "# Dictionary comprehension\n",
    "age_cubes = {n: n**3 for n in ages}\n",
    "print(f\"Age cubes: {age_cubes}\")"
   ]
  },
  {
   "cell_type": "markdown",
   "metadata": {},
   "source": [
    "## 9. Error Handling"
   ]
  },
  {
   "cell_type": "code",
   "execution_count": 33,
   "metadata": {},
   "outputs": [
    {
     "name": "stdout",
     "output_type": "stream",
     "text": [
      "Division operation attempted\n",
      "5.0\n",
      "Division operation attempted\n",
      "Error: Division by zero!\n",
      "Division operation attempted\n",
      "Error: Invalid input types!\n"
     ]
    }
   ],
   "source": [
    "def divide_numbers(a, b):\n",
    "    try:\n",
    "        result = a / b\n",
    "        return result\n",
    "    except ZeroDivisionError:\n",
    "        return \"Error: Division by zero!\"\n",
    "    except TypeError:\n",
    "        return \"Error: Invalid input types!\"\n",
    "    finally:\n",
    "        print(\"Division operation attempted\")\n",
    "\n",
    "# Test error handling\n",
    "print(divide_numbers(10, 2))\n",
    "print(divide_numbers(10, 0))\n",
    "print(divide_numbers(10, \"2\"))"
   ]
  },
  {
   "cell_type": "code",
   "execution_count": 34,
   "metadata": {},
   "outputs": [
    {
     "name": "stdout",
     "output_type": "stream",
     "text": [
      "Percentage calculation attempted\n",
      "25.0%\n",
      "Percentage calculation attempted\n",
      "Error: Total cannot be zero!\n",
      "Percentage calculation attempted\n",
      "Error: Please provide numeric values!\n"
     ]
    }
   ],
   "source": [
    "def calculate_percentage(part, whole):\n",
    "    try:\n",
    "        percentage = (part / whole) * 100\n",
    "        return f\"{percentage:.1f}%\"\n",
    "    except ZeroDivisionError:\n",
    "        return \"Error: Total cannot be zero!\"\n",
    "    except TypeError:\n",
    "        return \"Error: Please provide numeric values!\"\n",
    "    finally:\n",
    "        print(\"Percentage calculation attempted\")\n",
    "\n",
    "# Test error handling\n",
    "print(calculate_percentage(25, 100))\n",
    "print(calculate_percentage(10, 0))\n",
    "print(calculate_percentage(\"half\", 100))"
   ]
  },
  {
   "cell_type": "markdown",
   "metadata": {},
   "source": [
    "## 10. Classes and Objects"
   ]
  },
  {
   "cell_type": "code",
   "execution_count": 35,
   "metadata": {},
   "outputs": [
    {
     "name": "stdout",
     "output_type": "stream",
     "text": [
      "Python version 3.9\n",
      "Updated features: ['easy to learn', 'readable', 'versatile', 'object-oriented']\n"
     ]
    }
   ],
   "source": [
    "class ProgrammingLanguage:\n",
    "    def __init__(self, name, version, features):\n",
    "        self.name = name\n",
    "        self.version = version\n",
    "        self.features = features\n",
    "\n",
    "    def get_info(self):\n",
    "        return f\"{self.name} version {self.version}\"\n",
    "\n",
    "    def add_feature(self, feature):\n",
    "        self.features.append(feature)\n",
    "        return self.features\n",
    "\n",
    "# Create instance using variables from previous cells\n",
    "python = ProgrammingLanguage(name, version, language_info['features'])\n",
    "print(python.get_info())\n",
    "python.add_feature(\"object-oriented\")\n",
    "print(f\"Updated features: {python.features}\")"
   ]
  },
  {
   "cell_type": "code",
   "execution_count": 36,
   "metadata": {},
   "outputs": [
    {
     "name": "stdout",
     "output_type": "stream",
     "text": [
      "JavaScript introduced in 2015\n",
      "Updated advantages: ['interactive', 'widely adopted', 'flexible', 'client-side scripting']\n"
     ]
    }
   ],
   "source": [
    "class Technology:\n",
    "    def __init__(self, name, year, advantages):\n",
    "        self.name = name\n",
    "        self.year = year\n",
    "        self.advantages = advantages\n",
    "\n",
    "    def get_description(self):\n",
    "        return f\"{self.name} introduced in {self.year}\"\n",
    "\n",
    "    def add_advantage(self, advantage):\n",
    "        self.advantages.append(advantage)\n",
    "        return self.advantages\n",
    "\n",
    "# Create instance using variables from duplicate cells\n",
    "js = Technology(language, release, tech_info['advantages'])\n",
    "print(js.get_description())\n",
    "js.add_advantage(\"client-side scripting\")\n",
    "print(f\"Updated advantages: {js.advantages}\")"
   ]
  },
  {
   "cell_type": "markdown",
   "metadata": {},
   "source": [
    "## 11. Working with Sets"
   ]
  },
  {
   "cell_type": "code",
   "execution_count": 37,
   "metadata": {},
   "outputs": [
    {
     "name": "stdout",
     "output_type": "stream",
     "text": [
      "Union: {1, 2, 3, 4, 5, 6, 7, 8}\n",
      "Intersection: {4, 5, 6}\n",
      "Difference: {8, 7}\n",
      "Symmetric difference: {1, 2, 3, 7, 8}\n"
     ]
    }
   ],
   "source": [
    "# Create sets from existing lists\n",
    "numbers_set = set(numbers)\n",
    "more_numbers = {4, 5, 6, 7, 8}\n",
    "\n",
    "# Set operations\n",
    "print(f\"Union: {numbers_set | more_numbers}\")\n",
    "print(f\"Intersection: {numbers_set & more_numbers}\")\n",
    "print(f\"Difference: {more_numbers - numbers_set}\")\n",
    "print(f\"Symmetric difference: {numbers_set ^ more_numbers}\")"
   ]
  },
  {
   "cell_type": "code",
   "execution_count": 38,
   "metadata": {},
   "outputs": [
    {
     "name": "stdout",
     "output_type": "stream",
     "text": [
      "Union: {65, 70, 42, 18, 50, 25, 60, 30}\n",
      "Intersection: {50, 42, 30}\n",
      "Difference: {65, 70}\n",
      "Symmetric difference: {65, 18, 70, 25, 60}\n"
     ]
    }
   ],
   "source": [
    "# Create sets from duplicate lists\n",
    "ages_set = set(ages)\n",
    "more_ages = {30, 42, 50, 65, 70}\n",
    "\n",
    "# Set operations\n",
    "print(f\"Union: {ages_set | more_ages}\")\n",
    "print(f\"Intersection: {ages_set & more_ages}\")\n",
    "print(f\"Difference: {more_ages - ages_set}\")\n",
    "print(f\"Symmetric difference: {ages_set ^ more_ages}\")"
   ]
  },
  {
   "cell_type": "markdown",
   "metadata": {},
   "source": [
    "## 12. File Handling"
   ]
  },
  {
   "cell_type": "code",
   "execution_count": 39,
   "metadata": {},
   "outputs": [
    {
     "name": "stdout",
     "output_type": "stream",
     "text": [
      "File contents:\n",
      "Language: Python version 3.9\n",
      "Features: easy to learn, readable, versatile, object-oriented\n",
      "\n"
     ]
    }
   ],
   "source": [
    "# Writing to a file\n",
    "with open('python_info.txt', 'w') as f:\n",
    "    f.write(f\"Language: {python.get_info()}\\n\")\n",
    "    f.write(f\"Features: {', '.join(python.features)}\\n\")\n",
    "\n",
    "# Reading from a file\n",
    "with open('python_info.txt', 'r') as f:\n",
    "    content = f.read()\n",
    "print(\"File contents:\")\n",
    "print(content)"
   ]
  },
  {
   "cell_type": "code",
   "execution_count": 40,
   "metadata": {},
   "outputs": [
    {
     "name": "stdout",
     "output_type": "stream",
     "text": [
      "File contents:\n",
      "Technology: JavaScript introduced in 2015\n",
      "Advantages: interactive, widely adopted, flexible, client-side scripting\n",
      "\n"
     ]
    }
   ],
   "source": [
    "# Writing to a different file\n",
    "with open('tech_info.txt', 'w') as f:\n",
    "    f.write(f\"Technology: {js.get_description()}\\n\")\n",
    "    f.write(f\"Advantages: {', '.join(js.advantages)}\\n\")\n",
    "\n",
    "# Reading from the file\n",
    "with open('tech_info.txt', 'r') as f:\n",
    "    content = f.read()\n",
    "print(\"File contents:\")\n",
    "print(content)"
   ]
  },
  {
   "cell_type": "markdown",
   "metadata": {},
   "source": [
    "## 13. Generator Functions"
   ]
  },
  {
   "cell_type": "code",
   "execution_count": 41,
   "metadata": {},
   "outputs": [
    {
     "name": "stdout",
     "output_type": "stream",
     "text": [
      "First 10 Fibonacci numbers: [0, 1, 1, 2, 3, 5, 8, 13, 21, 34]\n",
      "Squared Fibonacci numbers: [0, 1, 1, 4, 9, 25, 64, 169, 441, 1156]\n"
     ]
    }
   ],
   "source": [
    "def fibonacci(n):\n",
    "    a, b = 0, 1\n",
    "    for _ in range(n):\n",
    "        yield a\n",
    "        a, b = b, a + b\n",
    "\n",
    "# Generate first 10 Fibonacci numbers\n",
    "fib_numbers = list(fibonacci(10))\n",
    "print(f\"First 10 Fibonacci numbers: {fib_numbers}\")\n",
    "\n",
    "# Generator expression\n",
    "squared_fib = (x**2 for x in fib_numbers)\n",
    "print(f\"Squared Fibonacci numbers: {list(squared_fib)}\")"
   ]
  },
  {
   "cell_type": "code",
   "execution_count": 42,
   "metadata": {},
   "outputs": [
    {
     "name": "stdout",
     "output_type": "stream",
     "text": [
      "First 8 square numbers: [1, 4, 9, 16, 25, 36, 49, 64]\n",
      "Doubled square numbers: [2, 8, 18, 32, 50, 72, 98, 128]\n"
     ]
    }
   ],
   "source": [
    "def squared_numbers(limit):\n",
    "    n = 1\n",
    "    while n <= limit:\n",
    "        yield n**2\n",
    "        n += 1\n",
    "\n",
    "# Generate first 8 square numbers\n",
    "squares = list(squared_numbers(8))\n",
    "print(f\"First 8 square numbers: {squares}\")\n",
    "\n",
    "# Generator expression\n",
    "doubled_squares = (x*2 for x in squares)\n",
    "print(f\"Doubled square numbers: {list(doubled_squares)}\")"
   ]
  },
  {
   "cell_type": "markdown",
   "metadata": {},
   "source": [
    "## 14. Using Built-in Functions"
   ]
  },
  {
   "cell_type": "code",
   "execution_count": 43,
   "metadata": {},
   "outputs": [
    {
     "name": "stdout",
     "output_type": "stream",
     "text": [
      "Even Fibonacci numbers: [0, 2, 8, 34]\n",
      "Product of numbers: 720\n",
      "Zipped lists: [(1, 'apple'), (2, 'grape'), (3, 'banana')]\n",
      "Fruits sorted by length: ['apple', 'grape', 'banana', 'orange']\n"
     ]
    }
   ],
   "source": [
    "# Using various built-in functions with our existing data\n",
    "# Filter\n",
    "even_fib = list(filter(lambda x: x % 2 == 0, fib_numbers))\n",
    "print(f\"Even Fibonacci numbers: {even_fib}\")\n",
    "\n",
    "# Reduce (need to import)\n",
    "from functools import reduce\n",
    "product = reduce(lambda x, y: x * y, numbers)\n",
    "print(f\"Product of numbers: {product}\")\n",
    "\n",
    "# Zip\n",
    "combined = list(zip(numbers[:3], fruits[:3]))\n",
    "print(f\"Zipped lists: {combined}\")\n",
    "\n",
    "# Sort with key function\n",
    "sorted_fruits = sorted(fruits, key=len)\n",
    "print(f\"Fruits sorted by length: {sorted_fruits}\")"
   ]
  },
  {
   "cell_type": "code",
   "execution_count": 44,
   "metadata": {},
   "outputs": [
    {
     "name": "stdout",
     "output_type": "stream",
     "text": [
      "Ages divisible by 5: [25, 30, 50, 60]\n",
      "Sum of ages: 225\n",
      "Zipped lists: [(18, 'red'), (25, 'yellow'), (30, 'green')]\n",
      "Colors sorted alphabetically: ['blue', 'green', 'red', 'yellow']\n"
     ]
    }
   ],
   "source": [
    "# Using various built-in functions with our duplicate data\n",
    "# Filter\n",
    "multiples_of_5 = list(filter(lambda x: x % 5 == 0, ages))\n",
    "print(f\"Ages divisible by 5: {multiples_of_5}\")\n",
    "\n",
    "# Reduce (need to import)\n",
    "from functools import reduce\n",
    "sum_ages = reduce(lambda x, y: x + y, ages)\n",
    "print(f\"Sum of ages: {sum_ages}\")\n",
    "\n",
    "# Zip\n",
    "combined = list(zip(ages[:3], colors[:3]))\n",
    "print(f\"Zipped lists: {combined}\")\n",
    "\n",
    "# Sort with key function\n",
    "sorted_colors = sorted(colors, key=str.lower)\n",
    "print(f\"Colors sorted alphabetically: {sorted_colors}\")"
   ]
  },
  {
   "cell_type": "markdown",
   "metadata": {},
   "source": [
    "## 15. Final Summary"
   ]
  },
  {
   "cell_type": "code",
   "execution_count": 45,
   "metadata": {},
   "outputs": [
    {
     "name": "stdout",
     "output_type": "stream",
     "text": [
      "Python Learning Summary:\n",
      "Language: Python version 3.9\n",
      "Features Count: 7\n",
      "Data Structures: ['lists', 'dictionaries', 'sets', 'tuples']\n",
      "Concepts Covered: ['variables', 'control flow', 'functions', 'classes', 'file handling', 'generators', 'error handling', 'comprehensions']\n"
     ]
    }
   ],
   "source": [
    "# Create a summary of what we've learned using our ProgrammingLanguage class\n",
    "python.features.extend([\"list comprehension\", \"generators\", \"error handling\"])\n",
    "\n",
    "summary = {\n",
    "    \"language\": python.get_info(),\n",
    "    \"features_count\": len(python.features),\n",
    "    \"data_structures\": [\"lists\", \"dictionaries\", \"sets\", \"tuples\"],\n",
    "    \"concepts_covered\": [\n",
    "        \"variables\", \"control flow\", \"functions\",\n",
    "        \"classes\", \"file handling\", \"generators\",\n",
    "        \"error handling\", \"comprehensions\"\n",
    "    ]\n",
    "}\n",
    "\n",
    "print(\"Python Learning Summary:\")\n",
    "for key, value in summary.items():\n",
    "    print(f\"{key.replace('_', ' ').title()}: {value}\")"
   ]
  },
  {
   "cell_type": "code",
   "execution_count": 46,
   "metadata": {},
   "outputs": [
    {
     "name": "stdout",
     "output_type": "stream",
     "text": [
      "Technology Learning Summary:\n",
      "Technology: JavaScript introduced in 2015\n",
      "Advantages Count: 7\n",
      "Key Concepts: ['objects', 'functions', 'events', 'DOM']\n",
      "Topics Covered: ['variables', 'conditionals', 'functions', 'classes', 'file operations', 'generators', 'error handling', 'list processing']\n"
     ]
    }
   ],
   "source": [
    "# Create a summary with our Technology class\n",
    "js.advantages.extend([\"DOM manipulation\", \"asynchronous\", \"event-driven\"])\n",
    "\n",
    "tech_summary = {\n",
    "    \"technology\": js.get_description(),\n",
    "    \"advantages_count\": len(js.advantages),\n",
    "    \"key_concepts\": [\"objects\", \"functions\", \"events\", \"DOM\"],\n",
    "    \"topics_covered\": [\n",
    "        \"variables\", \"conditionals\", \"functions\",\n",
    "        \"classes\", \"file operations\", \"generators\",\n",
    "        \"error handling\", \"list processing\"\n",
    "    ]\n",
    "}\n",
    "\n",
    "print(\"Technology Learning Summary:\")\n",
    "for key, value in tech_summary.items():\n",
    "    print(f\"{key.replace('_', ' ').title()}: {value}\")"
   ]
  },
  {
   "cell_type": "code",
   "execution_count": 47,
   "metadata": {},
   "outputs": [
    {
     "name": "stdout",
     "output_type": "stream",
     "text": [
      "{'value': 5, 'pie': 3.14}\n"
     ]
    },
    {
     "data": {
      "text/plain": [
       "105"
      ]
     },
     "execution_count": 47,
     "metadata": {},
     "output_type": "execute_result"
    }
   ],
   "source": [
    "a = {'value': 5}\n",
    "\n",
    "b = 'world'\n",
    "\n",
    "c = 10\n",
    "\n",
    "def local_fn():\n",
    "    a = 5\n",
    "    b = 100\n",
    "\n",
    "    c = a + b\n",
    "\n",
    "    return c\n",
    "\n",
    "\n",
    "result = local_fn()\n",
    "\n",
    "a['pie'] = 3.14\n",
    "\n",
    "test = 'hello'\n",
    "\n",
    "print(a)\n",
    "\n",
    "local_fn()"
   ]
  },
  {
   "cell_type": "code",
   "execution_count": 48,
   "metadata": {},
   "outputs": [
    {
     "name": "stdout",
     "output_type": "stream",
     "text": [
      "{'count': 10, 'e': 2.718}\n"
     ]
    },
    {
     "data": {
      "text/plain": [
       "215"
      ]
     },
     "execution_count": 48,
     "metadata": {},
     "output_type": "execute_result"
    }
   ],
   "source": [
    "x = {'count': 10}\n",
    "\n",
    "y = 'python'\n",
    "\n",
    "z = 42\n",
    "\n",
    "def sample_fn():\n",
    "    x = 15\n",
    "    y = 200\n",
    "\n",
    "    z = x + y\n",
    "\n",
    "    return z\n",
    "\n",
    "\n",
    "output = sample_fn()\n",
    "\n",
    "x['e'] = 2.718\n",
    "\n",
    "greeting = 'goodbye'\n",
    "\n",
    "print(x)\n",
    "\n",
    "sample_fn()"
   ]
  }
 ],
 "metadata": {
  "kernelspec": {
   "display_name": ".venv",
   "language": "python",
   "name": "python3"
  },
  "language_info": {
   "codemirror_mode": {
    "name": "ipython",
    "version": 3
   },
   "file_extension": ".py",
   "mimetype": "text/x-python",
   "name": "python",
   "nbconvert_exporter": "python",
   "pygments_lexer": "ipython3",
   "version": "3.13.0"
  }
 },
 "nbformat": 4,
 "nbformat_minor": 4
}
