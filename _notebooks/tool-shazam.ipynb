{
 "cells": [
  {
   "cell_type": "markdown",
   "id": "d1717e66",
   "metadata": {},
   "source": [
    "# A Tutorial Notebook Demonstrating Core Python Language Features\n",
    "This notebook provides a comprehensive tutorial on core Python language features."
   ]
  },
  {
   "cell_type": "markdown",
   "id": "5e46cd3f",
   "metadata": {},
   "source": [
    "## Basic Data Types\n",
    "Examples and explanations of numbers, strings, lists, and dictionaries in Python."
   ]
  },
  {
   "cell_type": "code",
   "execution_count": null,
   "id": "4c695d4e",
   "metadata": {},
   "outputs": [],
   "source": [
    "# Numbers\n",
    "a = 10\n",
    "b = 3.14\n",
    "print(a, b)"
   ]
  },
  {
   "cell_type": "code",
   "execution_count": null,
   "id": "777d477f",
   "metadata": {},
   "outputs": [],
   "source": [
    "# Strings\n",
    "s = \"Hello, World!\"\n",
    "print(s)"
   ]
  },
  {
   "cell_type": "code",
   "execution_count": null,
   "id": "bd50c5df",
   "metadata": {},
   "outputs": [],
   "source": [
    "# Lists\n",
    "lst = [1, 2, 3, 4, 5]\n",
    "print(lst)"
   ]
  },
  {
   "cell_type": "code",
   "execution_count": null,
   "id": "8f4b69f8",
   "metadata": {},
   "outputs": [],
   "source": [
    "# Dictionaries\n",
    "d = {\"name\": \"Alice\", \"age\": 25}\n",
    "print(d)"
   ]
  },
  {
   "cell_type": "markdown",
   "id": "06b06774",
   "metadata": {},
   "source": [
    "## Control Structures\n",
    "Examples and explanations of if/else statements and loops (for and while) in Python."
   ]
  },
  {
   "cell_type": "code",
   "execution_count": null,
   "id": "9486047e",
   "metadata": {},
   "outputs": [],
   "source": [
    "# If/Else Statements\n",
    "x = 10\n",
    "if x > 5:\n",
    "    print(\"x is greater than 5\")\n",
    "else:\n",
    "    print(\"x is 5 or less\")"
   ]
  },
  {
   "cell_type": "code",
   "execution_count": null,
   "id": "dd15f940",
   "metadata": {},
   "outputs": [],
   "source": [
    "# For Loop\n",
    "for i in range(5):\n",
    "    print(i)"
   ]
  },
  {
   "cell_type": "code",
   "execution_count": null,
   "id": "5016e5f9",
   "metadata": {},
   "outputs": [],
   "source": [
    "# While Loop\n",
    "count = 0\n",
    "while count < 5:\n",
    "    print(count)\n",
    "    count += 1"
   ]
  },
  {
   "cell_type": "markdown",
   "id": "f33dd71b",
   "metadata": {},
   "source": [
    "## Functions and Lambda Expressions\n",
    "Examples and explanations of defining functions and using lambda expressions in Python."
   ]
  },
  {
   "cell_type": "code",
   "execution_count": null,
   "id": "6e092fcb",
   "metadata": {},
   "outputs": [],
   "source": [
    "# Defining Functions\n",
    "def greet(name):\n",
    "    return f\"Hello, {name}!\"\n",
    "\n",
    "print(greet(\"Alice\"))"
   ]
  },
  {
   "cell_type": "code",
   "execution_count": null,
   "id": "e067253d",
   "metadata": {},
   "outputs": [],
   "source": [
    "# Lambda Expressions\n",
    "square = lambda x: x * x\n",
    "print(square(5))"
   ]
  },
  {
   "cell_type": "markdown",
   "id": "12a4b887",
   "metadata": {},
   "source": [
    "## Classes and Object-Oriented Programming\n",
    "Examples and explanations of defining classes, creating objects, and using object-oriented programming concepts in Python."
   ]
  },
  {
   "cell_type": "code",
   "execution_count": null,
   "id": "98562f6b",
   "metadata": {},
   "outputs": [],
   "source": [
    "# Defining Classes\n",
    "class Dog:\n",
    "    def __init__(self, name, age):\n",
    "        self.name = name\n",
    "        self.age = age\n",
    "\n",
    "    def bark(self):\n",
    "        return \"Woof!\"\n",
    "\n",
    "dog = Dog(\"Buddy\", 3)\n",
    "print(dog.name, dog.age)\n",
    "print(dog.bark())"
   ]
  },
  {
   "cell_type": "markdown",
   "id": "0466ca20",
   "metadata": {},
   "source": [
    "## List Comprehensions and Generators\n",
    "Examples and explanations of list comprehensions and generators in Python."
   ]
  },
  {
   "cell_type": "code",
   "execution_count": null,
   "id": "e05dfb8e",
   "metadata": {},
   "outputs": [],
   "source": [
    "# List Comprehensions\n",
    "squares = [x * x for x in range(10)]\n",
    "print(squares)"
   ]
  },
  {
   "cell_type": "code",
   "execution_count": null,
   "id": "87b51fe9",
   "metadata": {},
   "outputs": [],
   "source": [
    "# Generators\n",
    "def generate_numbers(n):\n",
    "    for i in range(n):\n",
    "        yield i\n",
    "\n",
    "gen = generate_numbers(5)\n",
    "for num in gen:\n",
    "    print(num)"
   ]
  },
  {
   "cell_type": "markdown",
   "id": "7a5d8b31",
   "metadata": {},
   "source": [
    "## Exception Handling\n",
    "Examples and explanations of try/except blocks and handling exceptions in Python."
   ]
  },
  {
   "cell_type": "code",
   "execution_count": null,
   "id": "3d331e11",
   "metadata": {},
   "outputs": [],
   "source": [
    "# Try/Except Blocks\n",
    "try:\n",
    "    result = 10 / 0\n",
    "except ZeroDivisionError:\n",
    "    print(\"Cannot divide by zero!\")"
   ]
  },
  {
   "cell_type": "markdown",
   "id": "c1b5f461",
   "metadata": {},
   "source": [
    "## File Operations\n",
    "Examples and explanations of reading from and writing to files in Python."
   ]
  },
  {
   "cell_type": "code",
   "execution_count": null,
   "id": "90358110",
   "metadata": {},
   "outputs": [],
   "source": [
    "# Writing to a File\n",
    "with open(\"example.txt\", \"w\") as file:\n",
    "    file.write(\"Hello, World!\")\n",
    "\n",
    "# Reading from a File\n",
    "with open(\"example.txt\", \"r\") as file:\n",
    "    content = file.read()\n",
    "    print(content)"
   ]
  }
 ],
 "metadata": {
  "language_info": {
   "name": "python"
  }
 },
 "nbformat": 4,
 "nbformat_minor": 5
}
