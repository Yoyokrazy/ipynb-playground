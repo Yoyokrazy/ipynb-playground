{
 "cells": [
  {
   "cell_type": "code",
   "execution_count": 1,
   "metadata": {},
   "outputs": [
    {
     "name": "stdout",
     "output_type": "stream",
     "text": [
      "hello\n"
     ]
    }
   ],
   "source": [
    "import raiser\n",
    "\n",
    "def myfunc():\n",
    "    raiser.raiseError(1)"
   ]
  },
  {
   "cell_type": "code",
   "execution_count": 8,
   "metadata": {},
   "outputs": [
    {
     "name": "stdout",
     "output_type": "stream",
     "text": [
      "Expected type `str`, but received type `<class 'int'>`\n"
     ]
    },
    {
     "ename": "TypeError",
     "evalue": "Expected type `str`, but received type `<class 'int'>`",
     "output_type": "error",
     "traceback": [
      "\u001b[1;31m---------------------------------------------------------------------------\u001b[0m",
      "\u001b[1;31mTypeError\u001b[0m                                 Traceback (most recent call last)",
      "Cell \u001b[1;32mIn[8], line 1\u001b[0m\n\u001b[1;32m----> 1\u001b[0m myfunc()\n",
      "Cell \u001b[1;32mIn[7], line 4\u001b[0m, in \u001b[0;36mmyfunc\u001b[1;34m()\u001b[0m\n\u001b[0;32m      3\u001b[0m \u001b[39mdef\u001b[39;00m \u001b[39mmyfunc\u001b[39m():\n\u001b[1;32m----> 4\u001b[0m     raiser\u001b[39m.\u001b[39;49mraiseError(\u001b[39m1\u001b[39;49m)\n",
      "File \u001b[1;32mc:\\src\\test\\ws1\\raiser.py:5\u001b[0m, in \u001b[0;36mraiseError\u001b[1;34m(name)\u001b[0m\n\u001b[0;32m      3\u001b[0m error \u001b[39m=\u001b[39m \u001b[39mf\u001b[39m\u001b[39m\"\u001b[39m\u001b[39mExpected type `str`, but received type `\u001b[39m\u001b[39m{\u001b[39;00m\u001b[39mtype\u001b[39m(name)\u001b[39m}\u001b[39;00m\u001b[39m`\u001b[39m\u001b[39m\"\u001b[39m\n\u001b[0;32m      4\u001b[0m \u001b[39mprint\u001b[39m(error) \u001b[39m# Works fine\u001b[39;00m\n\u001b[1;32m----> 5\u001b[0m \u001b[39mraise\u001b[39;00m \u001b[39mTypeError\u001b[39;00m(error)\n",
      "\u001b[1;31mTypeError\u001b[0m: Expected type `str`, but received type `<class 'int'>`"
     ]
    }
   ],
   "source": [
    "myfunc()\n"
   ]
  },
  {
   "cell_type": "code",
   "execution_count": null,
   "metadata": {},
   "outputs": [],
   "source": [
    "import IPython\n",
    "import ipykernel\n",
    "\n",
    "print(\"IPython\", IPython.__version__)\n",
    "print(\"ipykernel\", ipykernel.__version__)\n",
    "myfunc()\n"
   ]
  },
  {
   "cell_type": "code",
   "execution_count": null,
   "metadata": {},
   "outputs": [],
   "source": [
    "%pip install IPython==8.5.0\n"
   ]
  },
  {
   "cell_type": "code",
   "execution_count": null,
   "metadata": {},
   "outputs": [],
   "source": [
    "import IPython\n",
    "import ipykernel\n",
    "print('IPython', IPython.__version__)\n",
    "print('ipykernel', ipykernel.__version__)\n",
    "myfunc()\n"
   ]
  },
  {
   "cell_type": "code",
   "execution_count": null,
   "metadata": {},
   "outputs": [],
   "source": [
    "import IPython\n",
    "import ipykernel\n",
    "print('IPython', IPython.__version__)\n",
    "print('ipykernel', ipykernel.__version__)\n",
    "myfunc()\n"
   ]
  },
  {
   "cell_type": "code",
   "execution_count": null,
   "metadata": {},
   "outputs": [],
   "source": []
  }
 ],
 "metadata": {
  "kernelspec": {
   "display_name": ".venv2",
   "language": "python",
   "name": "python3"
  },
  "language_info": {
   "codemirror_mode": {
    "name": "ipython",
    "version": 3
   },
   "file_extension": ".py",
   "mimetype": "text/x-python",
   "name": "python",
   "nbconvert_exporter": "python",
   "pygments_lexer": "ipython3",
   "version": "3.10.11"
  }
 },
 "nbformat": 4,
 "nbformat_minor": 2
}
