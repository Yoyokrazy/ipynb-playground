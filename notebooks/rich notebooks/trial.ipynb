{
 "cells": [
  {
   "cell_type": "code",
   "execution_count": null,
   "id": "9ed36c9d",
   "metadata": {},
   "outputs": [
    {
     "name": "stdout",
     "output_type": "stream",
     "text": [
      "goodbye!\n"
     ]
    }
   ],
   "source": [
    "# Print a goodbye message\n",
    "print(\"goodbye!\")"
   ]
  },
  {
   "cell_type": "code",
   "execution_count": null,
   "id": "8aafaf3f",
   "metadata": {},
   "outputs": [
    {
     "name": "stdout",
     "output_type": "stream",
     "text": [
      "hello! welcome to this notebook, this is the ith iteration\n",
      "hello! welcome to this notebook, this is the ith iteration\n",
      "hello! welcome to this notebook, this is the ith iteration\n",
      "hello! welcome to this notebook, this is the ith iteration\n",
      "hello! welcome to this notebook, this is the ith iteration\n",
      "hello! welcome to this notebook, this is the ith iteration\n",
      "hello! welcome to this notebook, this is the ith iteration\n",
      "hello! welcome to this notebook, this is the ith iteration\n",
      "hello! welcome to this notebook, this is the ith iteration\n",
      "hello! welcome to this notebook, this is the ith iteration\n",
      "hello! welcome to this notebook, this is the ith iteration\n",
      "hello! welcome to this notebook, this is the ith iteration\n",
      "hello! welcome to this notebook, this is the ith iteration\n",
      "hello! welcome to this notebook, this is the ith iteration\n",
      "hello! welcome to this notebook, this is the ith iteration\n",
      "hello! welcome to this notebook, this is the ith iteration\n",
      "hello! welcome to this notebook, this is the ith iteration\n",
      "hello! welcome to this notebook, this is the ith iteration\n",
      "hello! welcome to this notebook, this is the ith iteration\n",
      "hello! welcome to this notebook, this is the ith iteration\n",
      "hello! welcome to this notebook, this is the ith iteration\n",
      "hello! welcome to this notebook, this is the ith iteration\n",
      "hello! welcome to this notebook, this is the ith iteration\n",
      "hello! welcome to this notebook, this is the ith iteration\n",
      "hello! welcome to this notebook, this is the ith iteration\n",
      "hello! welcome to this notebook, this is the ith iteration\n",
      "hello! welcome to this notebook, this is the ith iteration\n",
      "hello! welcome to this notebook, this is the ith iteration\n",
      "hello! welcome to this notebook, this is the ith iteration\n",
      "hello! welcome to this notebook, this is the ith iteration\n",
      "hello! welcome to this notebook, this is the ith iteration\n",
      "hello! welcome to this notebook, this is the ith iteration\n",
      "hello! welcome to this notebook, this is the ith iteration\n",
      "hello! welcome to this notebook, this is the ith iteration\n",
      "hello! welcome to this notebook, this is the ith iteration\n",
      "hello! welcome to this notebook, this is the ith iteration\n",
      "hello! welcome to this notebook, this is the ith iteration\n",
      "hello! welcome to this notebook, this is the ith iteration\n",
      "hello! welcome to this notebook, this is the ith iteration\n",
      "hello! welcome to this notebook, this is the ith iteration\n",
      "hello! welcome to this notebook, this is the ith iteration\n",
      "hello! welcome to this notebook, this is the ith iteration\n",
      "hello! welcome to this notebook, this is the ith iteration\n",
      "hello! welcome to this notebook, this is the ith iteration\n",
      "hello! welcome to this notebook, this is the ith iteration\n",
      "hello! welcome to this notebook, this is the ith iteration\n",
      "hello! welcome to this notebook, this is the ith iteration\n",
      "hello! welcome to this notebook, this is the ith iteration\n",
      "hello! welcome to this notebook, this is the ith iteration\n",
      "hello! welcome to this notebook, this is the ith iteration\n",
      "hello! welcome to this notebook, this is the ith iteration\n",
      "hello! welcome to this notebook, this is the ith iteration\n",
      "hello! welcome to this notebook, this is the ith iteration\n",
      "hello! welcome to this notebook, this is the ith iteration\n",
      "hello! welcome to this notebook, this is the ith iteration\n",
      "hello! welcome to this notebook, this is the ith iteration\n",
      "hello! welcome to this notebook, this is the ith iteration\n",
      "hello! welcome to this notebook, this is the ith iteration\n",
      "hello! welcome to this notebook, this is the ith iteration\n",
      "hello! welcome to this notebook, this is the ith iteration\n",
      "hello! welcome to this notebook, this is the ith iteration\n",
      "hello! welcome to this notebook, this is the ith iteration\n",
      "hello! welcome to this notebook, this is the ith iteration\n",
      "hello! welcome to this notebook, this is the ith iteration\n",
      "hello! welcome to this notebook, this is the ith iteration\n",
      "hello! welcome to this notebook, this is the ith iteration\n",
      "hello! welcome to this notebook, this is the ith iteration\n",
      "hello! welcome to this notebook, this is the ith iteration\n",
      "hello! welcome to this notebook, this is the ith iteration\n",
      "hello! welcome to this notebook, this is the ith iteration\n",
      "hello! welcome to this notebook, this is the ith iteration\n",
      "hello! welcome to this notebook, this is the ith iteration\n",
      "hello! welcome to this notebook, this is the ith iteration\n",
      "hello! welcome to this notebook, this is the ith iteration\n",
      "hello! welcome to this notebook, this is the ith iteration\n",
      "hello! welcome to this notebook, this is the ith iteration\n",
      "hello! welcome to this notebook, this is the ith iteration\n",
      "hello! welcome to this notebook, this is the ith iteration\n",
      "hello! welcome to this notebook, this is the ith iteration\n",
      "hello! welcome to this notebook, this is the ith iteration\n",
      "hello! welcome to this notebook, this is the ith iteration\n",
      "hello! welcome to this notebook, this is the ith iteration\n",
      "hello! welcome to this notebook, this is the ith iteration\n",
      "hello! welcome to this notebook, this is the ith iteration\n",
      "hello! welcome to this notebook, this is the ith iteration\n",
      "hello! welcome to this notebook, this is the ith iteration\n",
      "hello! welcome to this notebook, this is the ith iteration\n",
      "hello! welcome to this notebook, this is the ith iteration\n",
      "hello! welcome to this notebook, this is the ith iteration\n",
      "hello! welcome to this notebook, this is the ith iteration\n",
      "hello! welcome to this notebook, this is the ith iteration\n",
      "hello! welcome to this notebook, this is the ith iteration\n",
      "hello! welcome to this notebook, this is the ith iteration\n",
      "hello! welcome to this notebook, this is the ith iteration\n",
      "hello! welcome to this notebook, this is the ith iteration\n",
      "hello! welcome to this notebook, this is the ith iteration\n",
      "hello! welcome to this notebook, this is the ith iteration\n",
      "hello! welcome to this notebook, this is the ith iteration\n",
      "hello! welcome to this notebook, this is the ith iteration\n",
      "hello! welcome to this notebook, this is the ith iteration\n"
     ]
    }
   ],
   "source": [
    "# Print a welcome message in a loop\n",
    "for i in range(100):\n",
    "    print(\"hello! welcome to this notebook, this is the ith iteration\")"
   ]
  }
 ],
 "metadata": {
  "kernelspec": {
   "display_name": ".venv (3.11.9)",
   "language": "python",
   "name": "python3"
  },
  "language_info": {
   "codemirror_mode": {
    "name": "ipython",
    "version": 3
   },
   "file_extension": ".py",
   "mimetype": "text/x-python",
   "name": "python",
   "nbconvert_exporter": "python",
   "pygments_lexer": "ipython3",
   "version": "3.11.9"
  }
 },
 "nbformat": 4,
 "nbformat_minor": 5
}
