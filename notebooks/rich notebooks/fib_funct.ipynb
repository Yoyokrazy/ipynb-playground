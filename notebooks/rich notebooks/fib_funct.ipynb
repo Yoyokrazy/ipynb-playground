{
 "cells": [
  {
   "cell_type": "code",
   "execution_count": 1,
   "metadata": {},
   "outputs": [
    {
     "name": "stdout",
     "output_type": "stream",
     "text": [
      "{46: 2116, 22: 484, 51: 2601, 48: 2304, 24: 576, 91: 8281, 87: 7569, 12: 144, 76: 5776, 57: 3249}\n",
      "[97336, 10648, 132651, 110592, 13824, 753571, 658503, 1728, 438976, 185193]\n"
     ]
    }
   ],
   "source": [
    "# Import the random module and generate random numbers\n",
    "import random\n",
    "random_numbers = random.sample(range(1, 100), 10)\n",
    "# Calculate squares of the random numbers\n",
    "squares = {num: num ** 2 for num in random_numbers}\n",
    "print(squares)\n",
    "\n",
    "# Calculate cubes of the random numbers\n",
    "cubes = [num ** 3 for num in random_numbers]\n",
    "print(cubes)\n"
   ]
  },
  {
   "cell_type": "code",
   "execution_count": null,
   "metadata": {},
   "outputs": [],
   "source": [
    "# Print index, number, square, and cube for each random number\n",
    "for (i, num) in enumerate(random_numbers):\n",
    "    print(f\"Index: {i}, Number: {num}, Square: {squares[num]}, Cube: {cubes[i]}\")\n"
   ]
  },
  {
   "cell_type": "code",
   "execution_count": null,
   "metadata": {},
   "outputs": [],
   "source": [
    "# Filter numbers larger than 50\n",
    "larger_than_50 = [num for num in random_numbers if num > 50]\n",
    "print(\"Numbers larger than 50:\", larger_than_50)"
   ]
  },
  {
   "cell_type": "code",
   "execution_count": null,
   "metadata": {},
   "outputs": [],
   "source": [
    "# Find the largest square and the corresponding number\n",
    "largest_square = max(squares.values())\n",
    "largest_square_number = max(squares, key=squares.get)\n",
    "print(\"Largest square:\", largest_square)\n",
    "print(\"Number with the largest square:\", largest_square_number)\n",
    "# Sort numbers in descending order\n",
    "sorted_numbers = sorted(random_numbers, reverse=True)\n",
    "print(\"Numbers in descending order:\", sorted_numbers)"
   ]
  },
  {
   "cell_type": "code",
   "execution_count": null,
   "metadata": {},
   "outputs": [],
   "source": [
    "# Print numbers from 1 to 10 with their squares and cubes\n",
    "for i in range(1, 11):\n",
    "    print(f\"Number: {i}, Square: {i ** 2}, Cube: {i ** 3}\")"
   ]
  }
 ],
 "metadata": {
  "kernelspec": {
   "display_name": ".venv (3.11.9)",
   "language": "python",
   "name": "python3"
  },
  "language_info": {
   "codemirror_mode": {
    "name": "ipython",
    "version": 3
   },
   "file_extension": ".py",
   "mimetype": "text/x-python",
   "name": "python",
   "nbconvert_exporter": "python",
   "pygments_lexer": "ipython3",
   "version": "3.11.9"
  }
 },
 "nbformat": 4,
 "nbformat_minor": 2
}
