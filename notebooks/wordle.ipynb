{
 "cells": [
  {
   "cell_type": "markdown",
   "metadata": {},
   "source": [
    "## Wordle\n",
    "\n",
    "Basic EDA for a daily sample of Wordle results [tweets](https://www.kaggle.com/datasets/benhamner/wordle-tweets). Make sure to download the tweets data, and save the unzipped csv file into this repo's data folder (i.e. `./data/tweets.csv`) before running this notebook. Any new Wordle words need to be mapped for analyses."
   ]
  },
  {
   "cell_type": "code",
   "execution_count": 1,
   "metadata": {},
   "outputs": [
    {
     "data": {
      "text/html": [
       "<img src=\"image/wordle.png\" width=\"300\"/>"
      ],
      "text/plain": [
       "<IPython.core.display.Image object>"
      ]
     },
     "execution_count": 1,
     "metadata": {},
     "output_type": "execute_result"
    }
   ],
   "source": [
    "from IPython.display import Image\n",
    "\n",
    "Image(url=\"image/wordle.png\", width=300)\n",
    "# can also insert as markdown: ![wordle](image/wordle.png)"
   ]
  },
  {
   "cell_type": "markdown",
   "metadata": {},
   "source": [
    "### Imports"
   ]
  },
  {
   "cell_type": "code",
   "execution_count": 2,
   "metadata": {},
   "outputs": [],
   "source": [
    "import pandas as pd\n",
    "from collections import Counter\n",
    "import numpy as np\n",
    "import matplotlib.pyplot as plt\n",
    "import re"
   ]
  },
  {
   "cell_type": "markdown",
   "metadata": {},
   "source": [
    "### Read in data"
   ]
  },
  {
   "cell_type": "code",
   "execution_count": 3,
   "metadata": {},
   "outputs": [
    {
     "ename": "FileNotFoundError",
     "evalue": "[Errno 2] No such file or directory: 'data/tweets.csv'",
     "output_type": "error",
     "traceback": [
      "\u001b[1;31m---------------------------------------------------------------------------\u001b[0m",
      "\u001b[1;31mFileNotFoundError\u001b[0m                         Traceback (most recent call last)",
      "Cell \u001b[1;32mIn[3], line 1\u001b[0m\n\u001b[1;32m----> 1\u001b[0m df_tweets \u001b[39m=\u001b[39m pd\u001b[39m.\u001b[39;49mread_csv(\u001b[39m'\u001b[39;49m\u001b[39mdata/tweets.csv\u001b[39;49m\u001b[39m'\u001b[39;49m)\n\u001b[0;32m      2\u001b[0m df_tweets\u001b[39m.\u001b[39minfo()\n",
      "File \u001b[1;32mc:\\Users\\milively\\Documents\\_dev_work\\playground\\.venv\\lib\\site-packages\\pandas\\io\\parsers\\readers.py:912\u001b[0m, in \u001b[0;36mread_csv\u001b[1;34m(filepath_or_buffer, sep, delimiter, header, names, index_col, usecols, dtype, engine, converters, true_values, false_values, skipinitialspace, skiprows, skipfooter, nrows, na_values, keep_default_na, na_filter, verbose, skip_blank_lines, parse_dates, infer_datetime_format, keep_date_col, date_parser, date_format, dayfirst, cache_dates, iterator, chunksize, compression, thousands, decimal, lineterminator, quotechar, quoting, doublequote, escapechar, comment, encoding, encoding_errors, dialect, on_bad_lines, delim_whitespace, low_memory, memory_map, float_precision, storage_options, dtype_backend)\u001b[0m\n\u001b[0;32m    899\u001b[0m kwds_defaults \u001b[39m=\u001b[39m _refine_defaults_read(\n\u001b[0;32m    900\u001b[0m     dialect,\n\u001b[0;32m    901\u001b[0m     delimiter,\n\u001b[1;32m   (...)\u001b[0m\n\u001b[0;32m    908\u001b[0m     dtype_backend\u001b[39m=\u001b[39mdtype_backend,\n\u001b[0;32m    909\u001b[0m )\n\u001b[0;32m    910\u001b[0m kwds\u001b[39m.\u001b[39mupdate(kwds_defaults)\n\u001b[1;32m--> 912\u001b[0m \u001b[39mreturn\u001b[39;00m _read(filepath_or_buffer, kwds)\n",
      "File \u001b[1;32mc:\\Users\\milively\\Documents\\_dev_work\\playground\\.venv\\lib\\site-packages\\pandas\\io\\parsers\\readers.py:577\u001b[0m, in \u001b[0;36m_read\u001b[1;34m(filepath_or_buffer, kwds)\u001b[0m\n\u001b[0;32m    574\u001b[0m _validate_names(kwds\u001b[39m.\u001b[39mget(\u001b[39m\"\u001b[39m\u001b[39mnames\u001b[39m\u001b[39m\"\u001b[39m, \u001b[39mNone\u001b[39;00m))\n\u001b[0;32m    576\u001b[0m \u001b[39m# Create the parser.\u001b[39;00m\n\u001b[1;32m--> 577\u001b[0m parser \u001b[39m=\u001b[39m TextFileReader(filepath_or_buffer, \u001b[39m*\u001b[39m\u001b[39m*\u001b[39mkwds)\n\u001b[0;32m    579\u001b[0m \u001b[39mif\u001b[39;00m chunksize \u001b[39mor\u001b[39;00m iterator:\n\u001b[0;32m    580\u001b[0m     \u001b[39mreturn\u001b[39;00m parser\n",
      "File \u001b[1;32mc:\\Users\\milively\\Documents\\_dev_work\\playground\\.venv\\lib\\site-packages\\pandas\\io\\parsers\\readers.py:1407\u001b[0m, in \u001b[0;36mTextFileReader.__init__\u001b[1;34m(self, f, engine, **kwds)\u001b[0m\n\u001b[0;32m   1404\u001b[0m     \u001b[39mself\u001b[39m\u001b[39m.\u001b[39moptions[\u001b[39m\"\u001b[39m\u001b[39mhas_index_names\u001b[39m\u001b[39m\"\u001b[39m] \u001b[39m=\u001b[39m kwds[\u001b[39m\"\u001b[39m\u001b[39mhas_index_names\u001b[39m\u001b[39m\"\u001b[39m]\n\u001b[0;32m   1406\u001b[0m \u001b[39mself\u001b[39m\u001b[39m.\u001b[39mhandles: IOHandles \u001b[39m|\u001b[39m \u001b[39mNone\u001b[39;00m \u001b[39m=\u001b[39m \u001b[39mNone\u001b[39;00m\n\u001b[1;32m-> 1407\u001b[0m \u001b[39mself\u001b[39m\u001b[39m.\u001b[39m_engine \u001b[39m=\u001b[39m \u001b[39mself\u001b[39;49m\u001b[39m.\u001b[39;49m_make_engine(f, \u001b[39mself\u001b[39;49m\u001b[39m.\u001b[39;49mengine)\n",
      "File \u001b[1;32mc:\\Users\\milively\\Documents\\_dev_work\\playground\\.venv\\lib\\site-packages\\pandas\\io\\parsers\\readers.py:1661\u001b[0m, in \u001b[0;36mTextFileReader._make_engine\u001b[1;34m(self, f, engine)\u001b[0m\n\u001b[0;32m   1659\u001b[0m     \u001b[39mif\u001b[39;00m \u001b[39m\"\u001b[39m\u001b[39mb\u001b[39m\u001b[39m\"\u001b[39m \u001b[39mnot\u001b[39;00m \u001b[39min\u001b[39;00m mode:\n\u001b[0;32m   1660\u001b[0m         mode \u001b[39m+\u001b[39m\u001b[39m=\u001b[39m \u001b[39m\"\u001b[39m\u001b[39mb\u001b[39m\u001b[39m\"\u001b[39m\n\u001b[1;32m-> 1661\u001b[0m \u001b[39mself\u001b[39m\u001b[39m.\u001b[39mhandles \u001b[39m=\u001b[39m get_handle(\n\u001b[0;32m   1662\u001b[0m     f,\n\u001b[0;32m   1663\u001b[0m     mode,\n\u001b[0;32m   1664\u001b[0m     encoding\u001b[39m=\u001b[39;49m\u001b[39mself\u001b[39;49m\u001b[39m.\u001b[39;49moptions\u001b[39m.\u001b[39;49mget(\u001b[39m\"\u001b[39;49m\u001b[39mencoding\u001b[39;49m\u001b[39m\"\u001b[39;49m, \u001b[39mNone\u001b[39;49;00m),\n\u001b[0;32m   1665\u001b[0m     compression\u001b[39m=\u001b[39;49m\u001b[39mself\u001b[39;49m\u001b[39m.\u001b[39;49moptions\u001b[39m.\u001b[39;49mget(\u001b[39m\"\u001b[39;49m\u001b[39mcompression\u001b[39;49m\u001b[39m\"\u001b[39;49m, \u001b[39mNone\u001b[39;49;00m),\n\u001b[0;32m   1666\u001b[0m     memory_map\u001b[39m=\u001b[39;49m\u001b[39mself\u001b[39;49m\u001b[39m.\u001b[39;49moptions\u001b[39m.\u001b[39;49mget(\u001b[39m\"\u001b[39;49m\u001b[39mmemory_map\u001b[39;49m\u001b[39m\"\u001b[39;49m, \u001b[39mFalse\u001b[39;49;00m),\n\u001b[0;32m   1667\u001b[0m     is_text\u001b[39m=\u001b[39;49mis_text,\n\u001b[0;32m   1668\u001b[0m     errors\u001b[39m=\u001b[39;49m\u001b[39mself\u001b[39;49m\u001b[39m.\u001b[39;49moptions\u001b[39m.\u001b[39;49mget(\u001b[39m\"\u001b[39;49m\u001b[39mencoding_errors\u001b[39;49m\u001b[39m\"\u001b[39;49m, \u001b[39m\"\u001b[39;49m\u001b[39mstrict\u001b[39;49m\u001b[39m\"\u001b[39;49m),\n\u001b[0;32m   1669\u001b[0m     storage_options\u001b[39m=\u001b[39;49m\u001b[39mself\u001b[39;49m\u001b[39m.\u001b[39;49moptions\u001b[39m.\u001b[39;49mget(\u001b[39m\"\u001b[39;49m\u001b[39mstorage_options\u001b[39;49m\u001b[39m\"\u001b[39;49m, \u001b[39mNone\u001b[39;49;00m),\n\u001b[0;32m   1670\u001b[0m )\n\u001b[0;32m   1671\u001b[0m \u001b[39massert\u001b[39;00m \u001b[39mself\u001b[39m\u001b[39m.\u001b[39mhandles \u001b[39mis\u001b[39;00m \u001b[39mnot\u001b[39;00m \u001b[39mNone\u001b[39;00m\n\u001b[0;32m   1672\u001b[0m f \u001b[39m=\u001b[39m \u001b[39mself\u001b[39m\u001b[39m.\u001b[39mhandles\u001b[39m.\u001b[39mhandle\n",
      "File \u001b[1;32mc:\\Users\\milively\\Documents\\_dev_work\\playground\\.venv\\lib\\site-packages\\pandas\\io\\common.py:859\u001b[0m, in \u001b[0;36mget_handle\u001b[1;34m(path_or_buf, mode, encoding, compression, memory_map, is_text, errors, storage_options)\u001b[0m\n\u001b[0;32m    854\u001b[0m \u001b[39melif\u001b[39;00m \u001b[39misinstance\u001b[39m(handle, \u001b[39mstr\u001b[39m):\n\u001b[0;32m    855\u001b[0m     \u001b[39m# Check whether the filename is to be opened in binary mode.\u001b[39;00m\n\u001b[0;32m    856\u001b[0m     \u001b[39m# Binary mode does not support 'encoding' and 'newline'.\u001b[39;00m\n\u001b[0;32m    857\u001b[0m     \u001b[39mif\u001b[39;00m ioargs\u001b[39m.\u001b[39mencoding \u001b[39mand\u001b[39;00m \u001b[39m\"\u001b[39m\u001b[39mb\u001b[39m\u001b[39m\"\u001b[39m \u001b[39mnot\u001b[39;00m \u001b[39min\u001b[39;00m ioargs\u001b[39m.\u001b[39mmode:\n\u001b[0;32m    858\u001b[0m         \u001b[39m# Encoding\u001b[39;00m\n\u001b[1;32m--> 859\u001b[0m         handle \u001b[39m=\u001b[39m \u001b[39mopen\u001b[39;49m(\n\u001b[0;32m    860\u001b[0m             handle,\n\u001b[0;32m    861\u001b[0m             ioargs\u001b[39m.\u001b[39;49mmode,\n\u001b[0;32m    862\u001b[0m             encoding\u001b[39m=\u001b[39;49mioargs\u001b[39m.\u001b[39;49mencoding,\n\u001b[0;32m    863\u001b[0m             errors\u001b[39m=\u001b[39;49merrors,\n\u001b[0;32m    864\u001b[0m             newline\u001b[39m=\u001b[39;49m\u001b[39m\"\u001b[39;49m\u001b[39m\"\u001b[39;49m,\n\u001b[0;32m    865\u001b[0m         )\n\u001b[0;32m    866\u001b[0m     \u001b[39melse\u001b[39;00m:\n\u001b[0;32m    867\u001b[0m         \u001b[39m# Binary mode\u001b[39;00m\n\u001b[0;32m    868\u001b[0m         handle \u001b[39m=\u001b[39m \u001b[39mopen\u001b[39m(handle, ioargs\u001b[39m.\u001b[39mmode)\n",
      "\u001b[1;31mFileNotFoundError\u001b[0m: [Errno 2] No such file or directory: 'data/tweets.csv'"
     ]
    }
   ],
   "source": [
    "df_tweets = pd.read_csv('data/tweets.csv')\n",
    "df_tweets.info()"
   ]
  },
  {
   "cell_type": "code",
   "execution_count": null,
   "metadata": {},
   "outputs": [],
   "source": [
    "df_tweets['tweet_date'] = pd.to_datetime(df_tweets['tweet_date'])\n",
    "df_tweets['tweet_date_only'] = df_tweets['tweet_date'].dt.date\n",
    "df_tweets['n_attempts'] = df_tweets['tweet_text'].str[11].astype('int')\n",
    "\n",
    "# make each tweet consistent\n",
    "df_tweets['tweet_text'] = df_tweets['tweet_text'].str.replace('⬜','⬛')\n",
    "# parse each guess\n",
    "for n in range(6):\n",
    "    n += 1\n",
    "    # figure out if it even has a guess\n",
    "    df_tweets[f'has_guess{n}'] = \\\n",
    "        df_tweets['tweet_text'].str.split('\\n') \\\n",
    "            .str[n + 1].str.contains('|'.join(['🟨','⬛','🟩'])) \\\n",
    "            .fillna(False)\n",
    "    \n",
    "    # Add the text if it's a guess\n",
    "    df_tweets.loc[df_tweets[f'has_guess{n}'], f'guess{n}'] = \\\n",
    "        df_tweets['tweet_text'].str.split('\\n').str[n + 1].str[:5]\n",
    "    \n",
    "    df_tweets.loc[df_tweets[f'has_guess{n}'],\n",
    "               f'guess{n}_incorrect'] = df_tweets[f'guess{n}'].str.count('⬛')\n",
    "    df_tweets.loc[df_tweets[f'has_guess{n}'],\n",
    "               f'guess{n}_wrong_spot'] = df_tweets[f'guess{n}'].str.count('🟨')\n",
    "    df_tweets.loc[df_tweets[f'has_guess{n}'],\n",
    "               f'guess{n}_correct'] = df_tweets[f'guess{n}'].str.count('🟩')\n",
    "    df_tweets.loc[df_tweets[f'guess{n}_correct'] == 6, 'final_guess'] = n"
   ]
  },
  {
   "cell_type": "code",
   "execution_count": 4,
   "metadata": {},
   "outputs": [
    {
     "ename": "NameError",
     "evalue": "name 'df_tweets' is not defined",
     "output_type": "error",
     "traceback": [
      "\u001b[1;31m---------------------------------------------------------------------------\u001b[0m",
      "\u001b[1;31mNameError\u001b[0m                                 Traceback (most recent call last)",
      "Cell \u001b[1;32mIn[4], line 1\u001b[0m\n\u001b[1;32m----> 1\u001b[0m df_tweets\u001b[39m.\u001b[39mhead()\n",
      "\u001b[1;31mNameError\u001b[0m: name 'df_tweets' is not defined"
     ]
    }
   ],
   "source": [
    "df_tweets.head()"
   ]
  },
  {
   "cell_type": "markdown",
   "metadata": {},
   "source": [
    "#### Quick look at data"
   ]
  },
  {
   "cell_type": "code",
   "execution_count": null,
   "metadata": {},
   "outputs": [
    {
     "data": {
      "text/plain": [
       "wordle_id\n",
       "210    2837\n",
       "211    2894\n",
       "212    2399\n",
       "213    2119\n",
       "214    2703\n",
       "       ... \n",
       "299    3821\n",
       "300    3369\n",
       "301    3831\n",
       "302    3698\n",
       "303    3783\n",
       "Name: wordle_id, Length: 92, dtype: int64"
      ]
     },
     "execution_count": 7,
     "metadata": {},
     "output_type": "execute_result"
    }
   ],
   "source": [
    "df_tweets.groupby(\"wordle_id\")[\"wordle_id\"].count()"
   ]
  },
  {
   "cell_type": "code",
   "execution_count": null,
   "metadata": {},
   "outputs": [
    {
     "data": {
      "text/plain": [
       "<AxesSubplot:title={'center':'Wordle Tweets by Day'}>"
      ]
     },
     "execution_count": 8,
     "metadata": {},
     "output_type": "execute_result"
    },
    {
     "data": {
      "image/png": "[encoded data removed]",
      "text/plain": [
       "<Figure size 864x360 with 1 Axes>"
      ]
     },
     "metadata": {
      "needs_background": "light"
     },
     "output_type": "display_data"
    }
   ],
   "source": [
    "df_tweets['tweet_date_only'].value_counts().plot(figsize=(12, 5), title='Wordle Tweets by Day', color='orange')"
   ]
  },
  {
   "cell_type": "code",
   "execution_count": null,
   "metadata": {},
   "outputs": [],
   "source": [
    "df_tweets['day'] = df_tweets['tweet_date'].dt.day_name()\n",
    "df_tweets.groupby(['tweet_date_only','day'])['n_attempts'].value_counts().unstack().style.background_gradient(axis=1)"
   ]
  },
  {
   "cell_type": "code",
   "execution_count": null,
   "metadata": {},
   "outputs": [
    {
     "data": {
      "text/html": [
       "<style type=\"text/css\">\n",
       "#T_11e42_row0_col0, #T_11e42_row1_col0, #T_11e42_row2_col0, #T_11e42_row3_col0, #T_11e42_row4_col0, #T_11e42_row5_col0, #T_11e42_row6_col0 {\n",
       "  background-color: #fff7fb;\n",
       "  color: #000000;\n",
       "}\n",
       "#T_11e42_row0_col1 {\n",
       "  background-color: #3991c1;\n",
       "  color: #f1f1f1;\n",
       "}\n",
       "#T_11e42_row0_col2, #T_11e42_row1_col2, #T_11e42_row2_col2, #T_11e42_row3_col2, #T_11e42_row4_col2, #T_11e42_row5_col2, #T_11e42_row6_col2 {\n",
       "  background-color: #023858;\n",
       "  color: #f1f1f1;\n",
       "}\n",
       "#T_11e42_row0_col3 {\n",
       "  background-color: #0a73b2;\n",
       "  color: #f1f1f1;\n",
       "}\n",
       "#T_11e42_row0_col4 {\n",
       "  background-color: #c6cce3;\n",
       "  color: #000000;\n",
       "}\n",
       "#T_11e42_row1_col1 {\n",
       "  background-color: #2685bb;\n",
       "  color: #f1f1f1;\n",
       "}\n",
       "#T_11e42_row1_col3, #T_11e42_row6_col1 {\n",
       "  background-color: #2d8abd;\n",
       "  color: #f1f1f1;\n",
       "}\n",
       "#T_11e42_row1_col4 {\n",
       "  background-color: #e0deed;\n",
       "  color: #000000;\n",
       "}\n",
       "#T_11e42_row2_col1, #T_11e42_row4_col1, #T_11e42_row6_col3 {\n",
       "  background-color: #2a88bc;\n",
       "  color: #f1f1f1;\n",
       "}\n",
       "#T_11e42_row2_col3 {\n",
       "  background-color: #167bb6;\n",
       "  color: #f1f1f1;\n",
       "}\n",
       "#T_11e42_row2_col4 {\n",
       "  background-color: #d1d2e6;\n",
       "  color: #000000;\n",
       "}\n",
       "#T_11e42_row3_col1 {\n",
       "  background-color: #2c89bd;\n",
       "  color: #f1f1f1;\n",
       "}\n",
       "#T_11e42_row3_col3 {\n",
       "  background-color: #5ea0ca;\n",
       "  color: #f1f1f1;\n",
       "}\n",
       "#T_11e42_row3_col4 {\n",
       "  background-color: #f0eaf4;\n",
       "  color: #000000;\n",
       "}\n",
       "#T_11e42_row4_col3 {\n",
       "  background-color: #328dbf;\n",
       "  color: #f1f1f1;\n",
       "}\n",
       "#T_11e42_row4_col4 {\n",
       "  background-color: #dddbec;\n",
       "  color: #000000;\n",
       "}\n",
       "#T_11e42_row5_col1 {\n",
       "  background-color: #197db7;\n",
       "  color: #f1f1f1;\n",
       "}\n",
       "#T_11e42_row5_col3 {\n",
       "  background-color: #2f8bbe;\n",
       "  color: #f1f1f1;\n",
       "}\n",
       "#T_11e42_row5_col4 {\n",
       "  background-color: #e5e1ef;\n",
       "  color: #000000;\n",
       "}\n",
       "#T_11e42_row6_col4 {\n",
       "  background-color: #dcdaeb;\n",
       "  color: #000000;\n",
       "}\n",
       "</style>\n",
       "<table id=\"T_11e42\">\n",
       "  <thead>\n",
       "    <tr>\n",
       "      <th class=\"index_name level0\" >n_attempts</th>\n",
       "      <th id=\"T_11e42_level0_col0\" class=\"col_heading level0 col0\" >2</th>\n",
       "      <th id=\"T_11e42_level0_col1\" class=\"col_heading level0 col1\" >3</th>\n",
       "      <th id=\"T_11e42_level0_col2\" class=\"col_heading level0 col2\" >4</th>\n",
       "      <th id=\"T_11e42_level0_col3\" class=\"col_heading level0 col3\" >5</th>\n",
       "      <th id=\"T_11e42_level0_col4\" class=\"col_heading level0 col4\" >6</th>\n",
       "    </tr>\n",
       "    <tr>\n",
       "      <th class=\"index_name level0\" >day</th>\n",
       "      <th class=\"blank col0\" >&nbsp;</th>\n",
       "      <th class=\"blank col1\" >&nbsp;</th>\n",
       "      <th class=\"blank col2\" >&nbsp;</th>\n",
       "      <th class=\"blank col3\" >&nbsp;</th>\n",
       "      <th class=\"blank col4\" >&nbsp;</th>\n",
       "    </tr>\n",
       "  </thead>\n",
       "  <tbody>\n",
       "    <tr>\n",
       "      <th id=\"T_11e42_level0_row0\" class=\"row_heading level0 row0\" >Friday</th>\n",
       "      <td id=\"T_11e42_row0_col0\" class=\"data row0 col0\" >4968</td>\n",
       "      <td id=\"T_11e42_row0_col1\" class=\"data row0 col1\" >19506</td>\n",
       "      <td id=\"T_11e42_row0_col2\" class=\"data row0 col2\" >28421</td>\n",
       "      <td id=\"T_11e42_row0_col3\" class=\"data row0 col3\" >22193</td>\n",
       "      <td id=\"T_11e42_row0_col4\" class=\"data row0 col4\" >11534</td>\n",
       "    </tr>\n",
       "    <tr>\n",
       "      <th id=\"T_11e42_level0_row1\" class=\"row_heading level0 row1\" >Monday</th>\n",
       "      <td id=\"T_11e42_row1_col0\" class=\"data row1 col0\" >4127</td>\n",
       "      <td id=\"T_11e42_row1_col1\" class=\"data row1 col1\" >16482</td>\n",
       "      <td id=\"T_11e42_row1_col2\" class=\"data row1 col2\" >22699</td>\n",
       "      <td id=\"T_11e42_row1_col3\" class=\"data row1 col3\" >16143</td>\n",
       "      <td id=\"T_11e42_row1_col4\" class=\"data row1 col4\" >7458</td>\n",
       "    </tr>\n",
       "    <tr>\n",
       "      <th id=\"T_11e42_level0_row2\" class=\"row_heading level0 row2\" >Saturday</th>\n",
       "      <td id=\"T_11e42_row2_col0\" class=\"data row2 col0\" >3761</td>\n",
       "      <td id=\"T_11e42_row2_col1\" class=\"data row2 col1\" >12565</td>\n",
       "      <td id=\"T_11e42_row2_col2\" class=\"data row2 col2\" >17245</td>\n",
       "      <td id=\"T_11e42_row2_col3\" class=\"data row2 col3\" >13290</td>\n",
       "      <td id=\"T_11e42_row2_col4\" class=\"data row2 col4\" >7124</td>\n",
       "    </tr>\n",
       "    <tr>\n",
       "      <th id=\"T_11e42_level0_row3\" class=\"row_heading level0 row3\" >Sunday</th>\n",
       "      <td id=\"T_11e42_row3_col0\" class=\"data row3 col0\" >3959</td>\n",
       "      <td id=\"T_11e42_row3_col1\" class=\"data row3 col1\" >16905</td>\n",
       "      <td id=\"T_11e42_row3_col2\" class=\"data row3 col2\" >23852</td>\n",
       "      <td id=\"T_11e42_row3_col3\" class=\"data row3 col3\" >14807</td>\n",
       "      <td id=\"T_11e42_row3_col4\" class=\"data row3 col4\" >6022</td>\n",
       "    </tr>\n",
       "    <tr>\n",
       "      <th id=\"T_11e42_level0_row4\" class=\"row_heading level0 row4\" >Thursday</th>\n",
       "      <td id=\"T_11e42_row4_col0\" class=\"data row4 col0\" >3925</td>\n",
       "      <td id=\"T_11e42_row4_col1\" class=\"data row4 col1\" >14641</td>\n",
       "      <td id=\"T_11e42_row4_col2\" class=\"data row4 col2\" >20257</td>\n",
       "      <td id=\"T_11e42_row4_col3\" class=\"data row4 col3\" >14317</td>\n",
       "      <td id=\"T_11e42_row4_col4\" class=\"data row4 col4\" >7084</td>\n",
       "    </tr>\n",
       "    <tr>\n",
       "      <th id=\"T_11e42_level0_row5\" class=\"row_heading level0 row5\" >Tuesday</th>\n",
       "      <td id=\"T_11e42_row5_col0\" class=\"data row5 col0\" >4037</td>\n",
       "      <td id=\"T_11e42_row5_col1\" class=\"data row5 col1\" >14144</td>\n",
       "      <td id=\"T_11e42_row5_col2\" class=\"data row5 col2\" >18542</td>\n",
       "      <td id=\"T_11e42_row5_col3\" class=\"data row5 col3\" >13372</td>\n",
       "      <td id=\"T_11e42_row5_col4\" class=\"data row5 col4\" >6312</td>\n",
       "    </tr>\n",
       "    <tr>\n",
       "      <th id=\"T_11e42_level0_row6\" class=\"row_heading level0 row6\" >Wednesday</th>\n",
       "      <td id=\"T_11e42_row6_col0\" class=\"data row6 col0\" >4573</td>\n",
       "      <td id=\"T_11e42_row6_col1\" class=\"data row6 col1\" >16300</td>\n",
       "      <td id=\"T_11e42_row6_col2\" class=\"data row6 col2\" >22669</td>\n",
       "      <td id=\"T_11e42_row6_col3\" class=\"data row6 col3\" >16433</td>\n",
       "      <td id=\"T_11e42_row6_col4\" class=\"data row6 col4\" >8141</td>\n",
       "    </tr>\n",
       "  </tbody>\n",
       "</table>\n"
      ],
      "text/plain": [
       "<pandas.io.formats.style.Styler at 0x2522dd6b9d0>"
      ]
     },
     "execution_count": 10,
     "metadata": {},
     "output_type": "execute_result"
    }
   ],
   "source": [
    "df_tweets.groupby('day')['n_attempts'].value_counts().unstack().style.background_gradient(axis=1)"
   ]
  },
  {
   "cell_type": "markdown",
   "metadata": {},
   "source": [
    "#### Map to actual words"
   ]
  },
  {
   "cell_type": "code",
   "execution_count": null,
   "metadata": {},
   "outputs": [],
   "source": [
    "map_dict = {\n",
    "        '210' : 'PANIC',\n",
    "        '211' : 'SOLAR',\n",
    "        '212' : 'SHIRE',\n",
    "        '213' : 'PROXY',\n",
    "        '214' : 'POINT',\n",
    "        '215' : 'ROBOT',\n",
    "        '216' : 'PRICK'}"
   ]
  },
  {
   "cell_type": "markdown",
   "metadata": {},
   "source": [
    "##### h5- asdf"
   ]
  },
  {
   "cell_type": "code",
   "execution_count": null,
   "metadata": {},
   "outputs": [],
   "source": [
    "map_dict = {int(k):str(v) for k,v in map_dict.items()}\n",
    "\n",
    "df_tweets['answer'] = df_tweets['wordle_id'].map(map_dict)\n",
    "df_tweets.groupby('answer')['n_attempts'].value_counts().unstack().style.background_gradient(axis=1)\n"
   ]
  },
  {
   "cell_type": "markdown",
   "metadata": {},
   "source": [
    "###### h6- anothger"
   ]
  },
  {
   "cell_type": "code",
   "execution_count": null,
   "metadata": {},
   "outputs": [],
   "source": [
    "df_tweets.groupby('answer')['n_attempts'].value_counts().unstack().style.background_gradient(axis=1)\n"
   ]
  },
  {
   "cell_type": "markdown",
   "metadata": {},
   "source": [
    "### Analysis"
   ]
  },
  {
   "cell_type": "code",
   "execution_count": null,
   "metadata": {},
   "outputs": [
    {
     "data": {
      "text/plain": [
       "<AxesSubplot:title={'center':'Number of Attempts'}>"
      ]
     },
     "execution_count": 13,
     "metadata": {},
     "output_type": "execute_result"
    },
    {
     "data": {
      "image/png": "[encoded data removed]",
      "text/plain": [
       "<Figure size 432x288 with 1 Axes>"
      ]
     },
     "metadata": {
      "needs_background": "light"
     },
     "output_type": "display_data"
    }
   ],
   "source": [
    "df_tweets['n_attempts'].value_counts().sort_index().plot(kind='barh', title='Number of Attempts', color='purple')"
   ]
  },
  {
   "cell_type": "code",
   "execution_count": null,
   "metadata": {},
   "outputs": [
    {
     "data": {
      "text/plain": [
       "<AxesSubplot:title={'center':'Most Common Correct Guessed Letters on First Try'}>"
      ]
     },
     "execution_count": 14,
     "metadata": {},
     "output_type": "execute_result"
    },
    {
     "data": {
      "image/png": "[encoded data removed]",
      "text/plain": [
       "<Figure size 720x360 with 1 Axes>"
      ]
     },
     "metadata": {
      "needs_background": "light"
     },
     "output_type": "display_data"
    }
   ],
   "source": [
    "# count the correctly guessed first letters\n",
    "first_guess_correct = []\n",
    "for i, d in df_tweets.dropna(subset=['answer']).iterrows():\n",
    "    example_text = d['guess1']\n",
    "    example_solution = d['answer']\n",
    "    results =[x.span()[0] for x in re.finditer('🟩', example_text)]\n",
    "    first_guess_letters = [example_solution[i] for i in results]\n",
    "    first_guess_correct += first_guess_letters\n",
    "\n",
    "pd.Series(first_guess_correct).value_counts(ascending=True) \\\n",
    "    .plot(kind='barh', figsize=(10, 5), color='green',\n",
    "          title='Most Common Correct Guessed Letters on First Try')"
   ]
  },
  {
   "cell_type": "code",
   "execution_count": null,
   "metadata": {},
   "outputs": [
    {
     "data": {
      "image/png": "[encoded data removed]",
      "text/plain": [
       "<Figure size 864x360 with 3 Axes>"
      ]
     },
     "metadata": {
      "needs_background": "light"
     },
     "output_type": "display_data"
    }
   ],
   "source": [
    "color_pal = ['#2ca02c', '#fcd53f', '#000000']\n",
    "\n",
    "fig, axs = plt.subplots(1, 3, figsize=(12, 5), sharex=True)\n",
    "\n",
    "for i, x in enumerate(['_correct','_wrong_spot','_incorrect']):\n",
    "    col_subset = [c for c in df_tweets.columns if x in c]\n",
    "    guess_avg = df_tweets[col_subset].mean()\n",
    "    guess_avg.index = [f'Guess {i+1}' for i in range(6)]\n",
    "    guess_avg.sort_index(ascending=False).plot(kind='barh',\n",
    "              title=f'{x.strip(\"_\").replace(\"_\",\" \").title()}',\n",
    "              ax=axs[i], color=color_pal[i])\n",
    "    axs[i].set_xlabel('Average Number of Letters')\n",
    "fig.suptitle('Wordle Average Results by Guess Number', fontsize=18)\n",
    "plt.tight_layout()\n",
    "plt.show()"
   ]
  },
  {
   "cell_type": "code",
   "execution_count": null,
   "metadata": {},
   "outputs": [
    {
     "data": {
      "text/html": [
       "<style type=\"text/css\">\n",
       "#T_ae540_row0_col0, #T_ae540_row0_col1, #T_ae540_row0_col2, #T_ae540_row0_col3, #T_ae540_row0_col4 {\n",
       "  background-color: #023858;\n",
       "  color: #f1f1f1;\n",
       "}\n",
       "#T_ae540_row1_col0 {\n",
       "  background-color: #ede7f2;\n",
       "  color: #000000;\n",
       "}\n",
       "#T_ae540_row1_col1 {\n",
       "  background-color: #d5d5e8;\n",
       "  color: #000000;\n",
       "}\n",
       "#T_ae540_row1_col2 {\n",
       "  background-color: #dfddec;\n",
       "  color: #000000;\n",
       "}\n",
       "#T_ae540_row1_col3 {\n",
       "  background-color: #d7d6e9;\n",
       "  color: #000000;\n",
       "}\n",
       "#T_ae540_row1_col4 {\n",
       "  background-color: #eee9f3;\n",
       "  color: #000000;\n",
       "}\n",
       "#T_ae540_row2_col0, #T_ae540_row2_col1, #T_ae540_row2_col2, #T_ae540_row2_col3, #T_ae540_row2_col4 {\n",
       "  background-color: #fff7fb;\n",
       "  color: #000000;\n",
       "}\n",
       "</style>\n",
       "<table id=\"T_ae540\">\n",
       "  <thead>\n",
       "    <tr>\n",
       "      <th class=\"index_name level0\" >letter_loc</th>\n",
       "      <th id=\"T_ae540_level0_col0\" class=\"col_heading level0 col0\" >1</th>\n",
       "      <th id=\"T_ae540_level0_col1\" class=\"col_heading level0 col1\" >2</th>\n",
       "      <th id=\"T_ae540_level0_col2\" class=\"col_heading level0 col2\" >3</th>\n",
       "      <th id=\"T_ae540_level0_col3\" class=\"col_heading level0 col3\" >4</th>\n",
       "      <th id=\"T_ae540_level0_col4\" class=\"col_heading level0 col4\" >5</th>\n",
       "    </tr>\n",
       "    <tr>\n",
       "      <th class=\"index_name level0\" >result</th>\n",
       "      <th class=\"blank col0\" >&nbsp;</th>\n",
       "      <th class=\"blank col1\" >&nbsp;</th>\n",
       "      <th class=\"blank col2\" >&nbsp;</th>\n",
       "      <th class=\"blank col3\" >&nbsp;</th>\n",
       "      <th class=\"blank col4\" >&nbsp;</th>\n",
       "    </tr>\n",
       "  </thead>\n",
       "  <tbody>\n",
       "    <tr>\n",
       "      <th id=\"T_ae540_level0_row0\" class=\"row_heading level0 row0\" >⬛</th>\n",
       "      <td id=\"T_ae540_row0_col0\" class=\"data row0 col0\" >334465</td>\n",
       "      <td id=\"T_ae540_row0_col1\" class=\"data row0 col1\" >304259</td>\n",
       "      <td id=\"T_ae540_row0_col2\" class=\"data row0 col2\" >310049</td>\n",
       "      <td id=\"T_ae540_row0_col3\" class=\"data row0 col3\" >320553</td>\n",
       "      <td id=\"T_ae540_row0_col4\" class=\"data row0 col4\" >316362</td>\n",
       "    </tr>\n",
       "    <tr>\n",
       "      <th id=\"T_ae540_level0_row1\" class=\"row_heading level0 row1\" >🟨</th>\n",
       "      <td id=\"T_ae540_row1_col0\" class=\"data row1 col0\" >79619</td>\n",
       "      <td id=\"T_ae540_row1_col1\" class=\"data row1 col1\" >105911</td>\n",
       "      <td id=\"T_ae540_row1_col2\" class=\"data row1 col2\" >98156</td>\n",
       "      <td id=\"T_ae540_row1_col3\" class=\"data row1 col3\" >99816</td>\n",
       "      <td id=\"T_ae540_row1_col4\" class=\"data row1 col4\" >85048</td>\n",
       "    </tr>\n",
       "    <tr>\n",
       "      <th id=\"T_ae540_level0_row2\" class=\"row_heading level0 row2\" >🟩</th>\n",
       "      <td id=\"T_ae540_row2_col0\" class=\"data row2 col0\" >43724</td>\n",
       "      <td id=\"T_ae540_row2_col1\" class=\"data row2 col1\" >47638</td>\n",
       "      <td id=\"T_ae540_row2_col2\" class=\"data row2 col2\" >49603</td>\n",
       "      <td id=\"T_ae540_row2_col3\" class=\"data row2 col3\" >37439</td>\n",
       "      <td id=\"T_ae540_row2_col4\" class=\"data row2 col4\" >56398</td>\n",
       "    </tr>\n",
       "  </tbody>\n",
       "</table>\n"
      ],
      "text/plain": [
       "<pandas.io.formats.style.Styler at 0x252527d5d80>"
      ]
     },
     "execution_count": 16,
     "metadata": {},
     "output_type": "execute_result"
    }
   ],
   "source": [
    "guess1_split = df_tweets.set_index('tweet_id') \\\n",
    "    ['guess1'].str.split('', expand=True) \\\n",
    "    .drop([0, 6], axis=1)\n",
    "\n",
    "guess1_split = guess1_split.unstack().reset_index() \\\n",
    "    .rename(columns={'level_0':'letter_loc',\n",
    "                     0:'result'})\n",
    "\n",
    "guess1_split.groupby('letter_loc')['result'] \\\n",
    "    .value_counts().unstack().T \\\n",
    "    .style.background_gradient()"
   ]
  },
  {
   "cell_type": "code",
   "execution_count": null,
   "metadata": {},
   "outputs": [
    {
     "data": {
      "image/png": "[encoded data removed]",
      "text/plain": [
       "<Figure size 936x360 with 1 Axes>"
      ]
     },
     "metadata": {
      "needs_background": "light"
     },
     "output_type": "display_data"
    }
   ],
   "source": [
    "word_list = [*map_dict.values()]\n",
    "unique_word_list = np.unique(word_list)\n",
    "\n",
    "first_letter_list = [word[0] for word in list(unique_word_list)]\n",
    "count = Counter(first_letter_list)\n",
    "\n",
    "plt.rc(\"figure\", autolayout=True, figsize=(13, 5))\n",
    "ax = plt.bar(*zip(*count.most_common()), color='green')\n",
    "plt.title(\"First Letter Frequencies for Valid Answers\");"
   ]
  }
 ],
 "metadata": {
  "interpreter": {
   "hash": "862d14ab81ccfcaf0c988adcd9ecbb2c10a6849425b12f95546c43a1f81ae403"
  },
  "kernelspec": {
   "display_name": "Python 3.10.0 ('telemetry')",
   "language": "python",
   "name": "python3"
  },
  "language_info": {
   "codemirror_mode": {
    "name": "ipython",
    "version": 3
   },
   "file_extension": ".py",
   "mimetype": "text/x-python",
   "name": "python",
   "nbconvert_exporter": "python",
   "pygments_lexer": "ipython3",
   "version": "3.10.11"
  },
  "orig_nbformat": 4
 },
 "nbformat": 4,
 "nbformat_minor": 2
}
