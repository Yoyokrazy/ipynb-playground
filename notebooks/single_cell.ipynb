{
    "cells": [
        {
            "cell_type": "markdown",
            "metadata": {},
            "source": [
                "Attachment testing "
            ]
        },
        {
            "cell_type": "code",
            "execution_count": null,
            "metadata": {},
            "outputs": [],
            "source": [
                "import pandas as pd\n",
                "# %pip install pandas\n",
                "\n",
                "# this is the INCORRECT ordering. source.organizeImports should reverse these\n",
                "# from pandas import DataFrame\n",
                "# import pandas as pd\n",
                "\n",
                "from pandas import DataFrame\n",
                "import pandas as pd\n",
                "\n",
                "data = pd.DataFrame(\n",
                "    {\n",
                "        \"x1\": [\"y\", \"x\", \"y\", \"x\", \"x\", \"y\"],  # Construct a pandas DataFrame\n",
                "        \"x2\": range(16, 22),\n",
                "        \"x3\": range(1, 7),\n",
                "        \"x4\": [\"a\", \"b\", \"c\", \"d\", \"e\", \"f\"],\n",
                "        \"x5\": range(30, 24, -1),\n",
                "    } # type: ignore\n",
                ")\n",
                "print(data)\n",
                "\n",
                "# error = 5 + \"string\"\n",
                "\n",
                "def test(var):\n",
                "    print(var)\n"
            ]
        },
        {
            "cell_type": "code",
            "execution_count": null,
            "metadata": {},
            "outputs": [],
            "source": [
                "print(\"hello world\")\n",
                "print()\n"
            ]
        }
    ],
    "metadata": {
        "kernelspec": {
            "display_name": ".venv",
            "language": "python",
            "name": "python3"
        },
        "language_info": {
            "codemirror_mode": {
                "name": "ipython",
                "version": 3
            },
            "file_extension": ".py",
            "mimetype": "text/x-python",
            "name": "python",
            "nbconvert_exporter": "python",
            "pygments_lexer": "ipython3",
            "version": "3.10.11"
        },
        "orig_nbformat": 4
    },
    "nbformat": 4,
    "nbformat_minor": 2
}
