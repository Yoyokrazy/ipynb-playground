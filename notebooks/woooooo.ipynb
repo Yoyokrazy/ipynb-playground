{
    "cells": [
        {
            "cell_type": "code",
            "execution_count": null,
            "metadata": {},
            "outputs": [],
            "source": [
                "#cell0\n",
                "import pandas as pd\n",
                "import time\n",
                "import random\n",
                "import numpy as np\n",
                "\n",
                "def foo():\n",
                "    print(\"hello world\")\n"
            ]
        },
        {
            "attachments": {},
            "cell_type": "markdown",
            "metadata": {},
            "source": [
                "## Section 0"
            ]
        },
        {
            "cell_type": "code",
            "execution_count": null,
            "metadata": {},
            "outputs": [],
            "source": [
                "df = pd.read_csv(\n",
                "    \"https://raw.githubusercontent.com/plotly/datasets/master/2014_usa_states.csv\"\n",
                ")\n",
                "df.head()\n",
                "\n",
                "print(\"etst\")\n"
            ]
        },
        {
            "attachments": {},
            "cell_type": "markdown",
            "metadata": {},
            "source": [
                "some filler markdown text\n"
            ]
        },
        {
            "cell_type": "code",
            "execution_count": null,
            "metadata": {},
            "outputs": [],
            "source": [
                "import time\n",
                "if True:\n",
                "    print(\"testing\")\n",
                "\n",
                "# woahasdf\n"
            ]
        },
        {
            "attachments": {},
            "cell_type": "markdown",
            "metadata": {},
            "source": [
                "### Section 0.1\n",
                "\n",
                "\n",
                "random prints\n"
            ]
        },
        {
            "cell_type": "code",
            "execution_count": null,
            "metadata": {},
            "outputs": [],
            "source": [
                "import pandas as pd\n",
                "import time\n",
                "\n",
                "print(\"hello world\")\n",
                "    # test\n",
                "\n",
                "if True:\n",
                "    #  ooh scary codeasdfasdf\n",
                "    print(\"format this huh\")\n"
            ]
        },
        {
            "attachments": {
                "image.png": {
                    "image/png": "[encoded data removed]"
                }
            },
            "cell_type": "markdown",
            "metadata": {},
            "source": [
                "### Section 0.2\n",
                "\n",
                "![vsc](attachment:image.png)\n",
                "\n",
                "lets toss some more text in here\n"
            ]
        },
        {
            "cell_type": "markdown",
            "metadata": {},
            "source": [
                "#### Section 0.2.1\n"
            ]
        },
        {
            "cell_type": "code",
            "execution_count": null,
            "metadata": {},
            "outputs": [],
            "source": [
                "print(\"asdf\")\n"
            ]
        },
        {
            "cell_type": "markdown",
            "metadata": {},
            "source": [
                "##### Section 0.2.1.1\n"
            ]
        },
        {
            "cell_type": "code",
            "execution_count": null,
            "metadata": {},
            "outputs": [],
            "source": [
                "print(\"asdf\")\n"
            ]
        },
        {
            "cell_type": "markdown",
            "metadata": {},
            "source": [
                "###### Section 0.2.1.1.1\n"
            ]
        },
        {
            "cell_type": "code",
            "execution_count": null,
            "metadata": {},
            "outputs": [],
            "source": [
                "print(\"asdf\")\n"
            ]
        },
        {
            "cell_type": "code",
            "execution_count": null,
            "metadata": {},
            "outputs": [],
            "source": [
                "#before\n",
                "print(\"asdf\")\n"
            ]
        },
        {
            "attachments": {},
            "cell_type": "markdown",
            "metadata": {},
            "source": [
                "# 1.1 Format On Run\n"
            ]
        },
        {
            "cell_type": "code",
            "execution_count": null,
            "metadata": {},
            "outputs": [],
            "source": [
                "#after\n",
                "print(\"asdf\")\n"
            ]
        },
        {
            "cell_type": "code",
            "execution_count": null,
            "metadata": {},
            "outputs": [],
            "source": [
                "print(\"asdf\")\n"
            ]
        },
        {
            "cell_type": "markdown",
            "metadata": {},
            "source": [
                "## other header\n",
                "\n"
            ]
        },
        {
            "cell_type": "code",
            "execution_count": null,
            "metadata": {},
            "outputs": [],
            "source": [
                "%pip install pandas\n",
                "\n",
                "# this is the INCORRECT ordering. source.organizeImports should reverse these\n",
                "# from pandas import DataFrame\n",
                "# import pandas as pd\n",
                "\n",
                "import pandas as pd\n",
                "import time\n",
                "import random\n",
                "\n",
                "\n",
                "data = pd.DataFrame(\n",
                "    {\n",
                "        \"x1\": [\"y\", \"x\", \"y\", \"x\", \"x\", \"y\"],  # Construct a pandas DataFrame\n",
                "        \"x2\": range(16, 22),\n",
                "        \"x3\": range(1, 7),\n",
                "        \"x4\": [\"a\", \"b\", \"c\", \"d\", \"e\", \"f\"],\n",
                "        \"x5\": range(30, 24, -1),\n",
                "    }\n",
                ")\n",
                "# for i in range(1, 30):\n",
                "#     print(i)\n",
                "#     time.sleep(0.1)\n",
                "data\n"
            ]
        },
        {
            "cell_type": "code",
            "execution_count": null,
            "metadata": {},
            "outputs": [],
            "source": [
                "import pandas as pd\n",
                "import time\n",
                "\n",
                "time.sleep(4)\n",
                "\n",
                "for i in range(1, 11):\n",
                "    print(i)\n",
                "    time.sleep(0.1)\n",
                "print(\"done!\")\n",
                "\n",
                "for i in range(10, 0, -1):\n",
                "    time.sleep(0.1)\n",
                "    print(i)\n",
                "\n",
                "for i in range(1, 30):\n",
                "    print(i)\n",
                "    time.sleep(0.1)\n"
            ]
        },
        {
            "cell_type": "code",
            "execution_count": null,
            "metadata": {},
            "outputs": [],
            "source": [
                "import pandas as pd\n",
                "import pandas as pd\n",
                "\n",
                "data_med = data[\"x2\"].median()  # Calculate median\n",
                "print(data_med)  # Print median\n"
            ]
        },
        {
            "attachments": {},
            "cell_type": "markdown",
            "metadata": {},
            "source": [
                "### Section 1.2\n",
                "\n",
                "\n",
                "\n",
                "\n",
                "\n",
                "\n",
                "\n",
                "\n",
                "\n",
                "\n",
                "\n",
                "\n",
                "\n",
                "\n",
                "\n",
                "\n",
                "\n",
                "\n",
                "\n",
                "\n",
                "\n",
                "\n",
                "\n",
                "\n",
                "\n",
                "\n",
                "\n",
                "\n",
                "\n",
                "\n",
                "\n",
                "\n",
                "\n",
                "\n",
                "ascii 1\n"
            ]
        },
        {
            "cell_type": "code",
            "execution_count": null,
            "metadata": {},
            "outputs": [],
            "source": [
                "import pandas as pd\n",
                "import pandas as pd\n",
                "\n",
                "print(\n",
                "    \"\"\"\n",
                "    /\\\\_/\\\\\n",
                "   / o o \\\\\n",
                "  (   \"   )\n",
                "   \\\\~(*)~/\n",
                "    - ^ -\n",
                "\"\"\"\n",
                ")\n"
            ]
        },
        {
            "attachments": {},
            "cell_type": "markdown",
            "metadata": {},
            "source": [
                "### Section 1.3\n",
                "\n",
                "ascii 2\n"
            ]
        },
        {
            "cell_type": "code",
            "execution_count": null,
            "metadata": {},
            "outputs": [],
            "source": [
                "import pandas as pd\n",
                "import pandas as pd\n",
                "\n",
                "print(\n",
                "    \"\"\"\n",
                "    _____ _    _ _____  ______ _____\n",
                " / ____| |  | |  __ \\\\|  ____|  __ \\\n",
                "| |    | |__| | |__) | |__  | |__) |\n",
                "| |    |  __  |  ___/|  __| |  _  /\n",
                "| |____| |  | | |    | |____| | \\\\ \\\n",
                " \\\\_____|_|  |_|_|    |______|_|  \\\\_\\\n",
                "\"\"\"\n",
                ")\n"
            ]
        },
        {
            "cell_type": "markdown",
            "metadata": {},
            "source": [
                "#### Section 1.3.1\n"
            ]
        },
        {
            "cell_type": "code",
            "execution_count": null,
            "metadata": {},
            "outputs": [],
            "source": [
                "import pandas as pd\n",
                "import pandas as pd\n",
                "\n",
                "print(\n",
                "    \"\"\"\n",
                "    /\\\\_/\\\\\n",
                "   / o o \\\\\n",
                "  (   \"   )\n",
                "   \\\\~(*)~/\n",
                "    - ^ -\n",
                "\"\"\"\n",
                ")"
            ]
        },
        {
            "cell_type": "markdown",
            "metadata": {},
            "source": [
                "##### Section 1.3.1.1\n"
            ]
        },
        {
            "cell_type": "code",
            "execution_count": null,
            "metadata": {},
            "outputs": [],
            "source": [
                "# sadness\n",
                "import pandas as pd\n",
                "import pandas as pd\n",
                "\n",
                "print(\n",
                "    \"\"\"\n",
                "    /\\\\_/\\\\\n",
                "   / o o \\\\\n",
                "  (   \"   )\n",
                "   \\\\~(*)~/\n",
                "    - ^ -\n",
                "\"\"\"\n",
                ")\n"
            ]
        },
        {
            "attachments": {},
            "cell_type": "markdown",
            "metadata": {},
            "source": [
                "### Section 1.4\n",
                "\n",
                "joke loop\n",
                "\n",
                "\n",
                "\n",
                "\n",
                "\n",
                "\n",
                "\n",
                "\n",
                "\n",
                "\n",
                "\n",
                "\n",
                "\n",
                "\n",
                "\n",
                "\n",
                "\n",
                "\n",
                "\n",
                "\n",
                "\n",
                "\n",
                "\n",
                "\n",
                "\n"
            ]
        },
        {
            "cell_type": "code",
            "execution_count": null,
            "metadata": {},
            "outputs": [],
            "source": [
                "# TEST :)\n",
                "\n",
                "import pandas as pd\n",
                "import pandas as pd\n",
                "import time\n",
                "import random\n",
                "\n",
                "jokes = [\n",
                "    \"Why did the tomato turn red? Because it saw the salad dressing!\",\n",
                "    \"Why don't scientists trust atoms? Because they make up everything!\",\n",
                "    \"Why did the chicken cross the playground? To get to the other slide!\",\n",
                "    \"Why did the hipster burn gis tongue? He drank his coffee before it was cool.\",\n",
                "    \"Why did the cookie go to the doctor? Because it felt crummy.\",\n",
                "    \"Why did the golfer wear two pairs of pants? In case he got a hole in one.\",\n",
                "    \"Why did the scarecrow win an award? Because he was outstanding in his field.\",\n",
                "    \"Why did the banana go to the doctor? Because it wasn't peeling well.\",\n",
                "    \"Why did the math book look so sad? Because it had too many problems.\",\n",
                "    \"Why did the bicycle fall over? Because it was two-tired.\",\n",
                "]\n",
                "\n",
                "for i in range(50):\n",
                "    print(random.choice(jokes))\n",
                "    time.sleep(0.1)\n"
            ]
        },
        {
            "cell_type": "markdown",
            "metadata": {},
            "source": [
                "#"
            ]
        },
        {
            "cell_type": "code",
            "execution_count": null,
            "metadata": {},
            "outputs": [],
            "source": [
                "print('hello')\n"
            ]
        }
    ],
    "metadata": {
        "kernelspec": {
            "display_name": "Python 3 (ipykernel)",
            "language": "python",
            "name": "python3"
        },
        "language_info": {
            "codemirror_mode": {
                "name": "ipython",
                "version": 3
            },
            "file_extension": ".py",
            "mimetype": "text/x-python",
            "name": "python",
            "nbconvert_exporter": "python",
            "pygments_lexer": "ipython3",
            "version": "3.12.2"
        },
        "orig_nbformat": 4
    },
    "nbformat": 4,
    "nbformat_minor": 2
}
