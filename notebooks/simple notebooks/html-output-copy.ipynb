{
 "cells": [
  {
   "cell_type": "code",
   "execution_count": 1,
   "id": "2e120c72",
   "metadata": {},
   "outputs": [
    {
     "name": "stdout",
     "output_type": "stream",
     "text": [
      "hello world\n"
     ]
    }
   ],
   "source": [
    "print(\"hello world\")"
   ]
  },
  {
   "cell_type": "code",
   "execution_count": 2,
   "id": "1e03f4f3",
   "metadata": {},
   "outputs": [
    {
     "data": {
      "text/html": [
       "<b>this is HTML</b>"
      ],
      "text/plain": [
       "<IPython.core.display.HTML object>"
      ]
     },
     "metadata": {},
     "output_type": "display_data"
    }
   ],
   "source": [
    "from IPython.display import display, HTML\n",
    "\n",
    "display(HTML(\"<b>this is HTML</b>\"))"
   ]
  },
  {
   "cell_type": "markdown",
   "id": "235e2cb9",
   "metadata": {},
   "source": [
    "ctrl+c from print\n",
    "    hello world\n",
    "\n",
    "ctrl+c from HTML\n",
    "    this is HTML\n",
    "---\n",
    "alt+c from print\n",
    "    hello world\n",
    "\n",
    "alt+c from HTML\n",
    "    <!-- nothing copied -->\n"
   ]
  }
 ],
 "metadata": {
  "kernelspec": {
   "display_name": ".venv (3.12.10)",
   "language": "python",
   "name": "python3"
  },
  "language_info": {
   "codemirror_mode": {
    "name": "ipython",
    "version": 3
   },
   "file_extension": ".py",
   "mimetype": "text/x-python",
   "name": "python",
   "nbconvert_exporter": "python",
   "pygments_lexer": "ipython3",
   "version": "3.12.10"
  }
 },
 "nbformat": 4,
 "nbformat_minor": 5
}
