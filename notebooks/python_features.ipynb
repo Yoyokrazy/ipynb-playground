{
 "cells": [
  {
   "cell_type": "markdown",
   "id": "b62d9afa",
   "metadata": {},
   "source": [
    "# Python Language Features Tutorial\n",
    "\n",
    "This notebook demonstrates key features and concepts of the Python programming language. We'll cover everything from basic data types to advanced concepts like generators and context managers."
   ]
  },
  {
   "cell_type": "markdown",
   "id": "f928664f",
   "metadata": {},
   "source": [
    "## 1. Basic Imports\n",
    "\n",
    "First, let's import some commonly used modules that we'll need throughout this tutorial."
   ]
  },
  {
   "cell_type": "code",
   "execution_count": null,
   "id": "1ba77aad",
   "metadata": {},
   "outputs": [],
   "source": [
    "import math\n",
    "import os\n",
    "from datetime import datetime\n",
    "from typing import List, Dict, Optional  # For type hints\n",
    "\n",
    "print(\"Python version:\", os.sys.version)"
   ]
  },
  {
   "cell_type": "markdown",
   "id": "a43fadaf",
   "metadata": {},
   "source": [
    "## 2. Variables and Data Types\n",
    "\n",
    "Python is dynamically typed, meaning you don't need to declare variable types explicitly. Let's explore different data types."
   ]
  },
  {
   "cell_type": "code",
   "execution_count": null,
   "id": "d2345bad",
   "metadata": {},
   "outputs": [],
   "source": [
    "# Numeric types\n",
    "int_num = 42\n",
    "float_num = 3.14\n",
    "complex_num = 1 + 2j\n",
    "\n",
    "# String type\n",
    "text = \"Hello, Python!\"\n",
    "\n",
    "# Boolean type\n",
    "is_python = True\n",
    "\n",
    "# List (mutable)\n",
    "my_list = [1, 2, 3, \"four\", 5.0]\n",
    "\n",
    "# Tuple (immutable)\n",
    "my_tuple = (1, \"two\", 3.0)\n",
    "\n",
    "# Dictionary\n",
    "my_dict = {\"name\": \"Python\", \"version\": 3, \"is_awesome\": True}\n",
    "\n",
    "# Set\n",
    "my_set = {1, 2, 3, 3, 2, 1}  # Duplicates are removed\n",
    "\n",
    "# Modern f-strings\n",
    "print(f\"Numbers: {int_num}, {float_num:.2f}\")\n",
    "print(f\"List: {my_list}\")\n",
    "print(f\"Set (unique values): {my_set}\")"
   ]
  },
  {
   "cell_type": "markdown",
   "id": "f9f55fa0",
   "metadata": {},
   "source": [
    "## 3. Control Flow\n",
    "\n",
    "Python provides several structures for controlling the flow of your program."
   ]
  },
  {
   "cell_type": "code",
   "execution_count": null,
   "id": "451860f0",
   "metadata": {},
   "outputs": [],
   "source": [
    "# If-else statement\n",
    "age = 20\n",
    "if age >= 18:\n",
    "    print(\"Adult\")\n",
    "else:\n",
    "    print(\"Minor\")\n",
    "\n",
    "# For loop with range\n",
    "print(\"\\nCounting:\")\n",
    "for i in range(3):\n",
    "    print(f\"Number {i}\")\n",
    "\n",
    "# For loop with list\n",
    "print(\"\\nFruits:\")\n",
    "fruits = [\"apple\", \"banana\", \"orange\"]\n",
    "for fruit in fruits:\n",
    "    print(fruit.capitalize())\n",
    "\n",
    "# While loop with break\n",
    "print(\"\\nWhile loop:\")\n",
    "count = 0\n",
    "while True:\n",
    "    print(count)\n",
    "    count += 1\n",
    "    if count >= 3:\n",
    "        break"
   ]
  },
  {
   "cell_type": "markdown",
   "id": "7cc51383",
   "metadata": {},
   "source": [
    "## 4. Functions\n",
    "\n",
    "Python functions can have default arguments, keyword arguments, and type hints."
   ]
  },
  {
   "cell_type": "code",
   "execution_count": null,
   "id": "e6aae4d3",
   "metadata": {},
   "outputs": [],
   "source": [
    "# Basic function with type hints\n",
    "def greet(name: str) -> str:\n",
    "    return f\"Hello, {name}!\"\n",
    "\n",
    "# Function with default and keyword arguments\n",
    "def calculate_power(base: float, exponent: float = 2, *, verbose: bool = False) -> float:\n",
    "    result = base ** exponent\n",
    "    if verbose:\n",
    "        print(f\"{base} raised to {exponent} is {result}\")\n",
    "    return result\n",
    "\n",
    "# Lambda function\n",
    "square = lambda x: x * x\n",
    "\n",
    "# Testing the functions\n",
    "print(greet(\"Python\"))\n",
    "print(calculate_power(2, verbose=True))\n",
    "print(f\"Square of 5: {square(5)}\")"
   ]
  },
  {
   "cell_type": "markdown",
   "id": "cd5a70ca",
   "metadata": {},
   "source": [
    "## 5. Object-Oriented Programming\n",
    "\n",
    "Python is a powerful object-oriented programming language."
   ]
  },
  {
   "cell_type": "code",
   "execution_count": null,
   "id": "a6450d0c",
   "metadata": {},
   "outputs": [],
   "source": [
    "class Animal:\n",
    "    def __init__(self, name: str):\n",
    "        self.name = name\n",
    "    \n",
    "    def speak(self) -> str:\n",
    "        raise NotImplementedError(\"Subclass must implement speak()\")\n",
    "\n",
    "class Dog(Animal):\n",
    "    def speak(self) -> str:\n",
    "        return f\"{self.name} says Woof!\"\n",
    "\n",
    "class Cat(Animal):\n",
    "    def speak(self) -> str:\n",
    "        return f\"{self.name} says Meow!\"\n",
    "\n",
    "# Create and use objects\n",
    "dog = Dog(\"Rex\")\n",
    "cat = Cat(\"Whiskers\")\n",
    "\n",
    "print(dog.speak())\n",
    "print(cat.speak())"
   ]
  },
  {
   "cell_type": "markdown",
   "id": "c14f7dfb",
   "metadata": {},
   "source": [
    "## 6. Error Handling\n",
    "\n",
    "Python uses try-except blocks for error handling."
   ]
  },
  {
   "cell_type": "code",
   "execution_count": null,
   "id": "d364dce8",
   "metadata": {},
   "outputs": [],
   "source": [
    "def divide(a: float, b: float) -> float:\n",
    "    try:\n",
    "        return a / b\n",
    "    except ZeroDivisionError:\n",
    "        print(\"Cannot divide by zero!\")\n",
    "        return float('inf')\n",
    "    except TypeError as e:\n",
    "        print(f\"Type error: {e}\")\n",
    "        return 0.0\n",
    "    finally:\n",
    "        print(\"Division attempt completed\")\n",
    "\n",
    "# Test error handling\n",
    "print(divide(10, 2))    # Normal case\n",
    "print(divide(10, 0))    # Division by zero\n",
    "print(divide(10, '2'))  # Type error"
   ]
  },
  {
   "cell_type": "markdown",
   "id": "801b503c",
   "metadata": {},
   "source": [
    "## 7. List Comprehensions\n",
    "\n",
    "List comprehensions provide a concise way to create lists."
   ]
  },
  {
   "cell_type": "code",
   "execution_count": null,
   "id": "e3f7e72b",
   "metadata": {},
   "outputs": [],
   "source": [
    "# Basic list comprehension\n",
    "squares = [x**2 for x in range(5)]\n",
    "\n",
    "# List comprehension with condition\n",
    "even_squares = [x**2 for x in range(10) if x % 2 == 0]\n",
    "\n",
    "# Nested list comprehension\n",
    "matrix = [[i+j for j in range(3)] for i in range(3)]\n",
    "\n",
    "print(f\"Squares: {squares}\")\n",
    "print(f\"Even squares: {even_squares}\")\n",
    "print(f\"Matrix:\\n{matrix[0]}\\n{matrix[1]}\\n{matrix[2]}\")"
   ]
  },
  {
   "cell_type": "markdown",
   "id": "01b746c5",
   "metadata": {},
   "source": [
    "## 8. Generators\n",
    "\n",
    "Generators are memory-efficient iterators created using the `yield` keyword."
   ]
  },
  {
   "cell_type": "code",
   "execution_count": null,
   "id": "36faf622",
   "metadata": {},
   "outputs": [],
   "source": [
    "def fibonacci(n: int):\n",
    "    a, b = 0, 1\n",
    "    for _ in range(n):\n",
    "        yield a\n",
    "        a, b = b, a + b\n",
    "\n",
    "# Using the generator\n",
    "fib = fibonacci(10)\n",
    "print(\"Fibonacci sequence:\")\n",
    "for num in fib:\n",
    "    print(num, end=\" \")\n",
    "\n",
    "# Generator expression (similar to list comprehension)\n",
    "gen = (x**2 for x in range(5))\n",
    "print(\"\\n\\nGenerator expression results:\")\n",
    "for value in gen:\n",
    "    print(value, end=\" \")"
   ]
  }
 ],
 "metadata": {
  "language_info": {
   "name": "python"
  }
 },
 "nbformat": 4,
 "nbformat_minor": 5
}
