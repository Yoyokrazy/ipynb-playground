{
 "cells": [
  {
   "cell_type": "code",
   "execution_count": 1,
   "metadata": {},
   "outputs": [
    {
     "name": "stdout",
     "output_type": "stream",
     "text": [
      "  x1  x2  x3 x4  x5\n",
      "0  y  16   1  a  30\n",
      "1  x  17   2  b  29\n",
      "2  y  18   3  c  28\n",
      "3  x  19   4  d  27\n",
      "4  x  20   5  e  26\n",
      "5  y  21   6  f  25\n"
     ]
    }
   ],
   "source": [
    "# %pip install pandas\n",
    "\n",
    "# this is the INCORRECT ordering. source.organizeImports should reverse these\n",
    "# from pandas import DataFrame\n",
    "# import pandas as pd\n",
    "\n",
    "from pandas import DataFrame\n",
    "import pandas as pd\n",
    "\n",
    "data = pd.DataFrame(\n",
    "    {\n",
    "        \"x1\": [\"y\", \"x\", \"y\", \"x\", \"x\", \"y\"],  # Construct a pandas DataFrame\n",
    "        \"x2\": range(16, 22),\n",
    "        \"x3\": range(1, 7),\n",
    "        \"x4\": [\"a\", \"b\", \"c\", \"d\", \"e\", \"f\"],\n",
    "        \"x5\": range(30, 24, -1),\n",
    "    } # type: ignore\n",
    ")\n",
    "print(data) \n",
    "        \n",
    "# error = 5 + \"string\"\n",
    "\n",
    "def test(var):\n",
    "    print(var)"
   ]
  }
 ],
 "metadata": {
  "kernelspec": {
   "display_name": ".venv",
   "language": "python",
   "name": "python3"
  },
  "language_info": {
   "codemirror_mode": {
    "name": "ipython",
    "version": 3
   },
   "file_extension": ".py",
   "mimetype": "text/x-python",
   "name": "python",
   "nbconvert_exporter": "python",
   "pygments_lexer": "ipython3",
   "version": "3.10.11"
  },
  "orig_nbformat": 4
 },
 "nbformat": 4,
 "nbformat_minor": 2
}
